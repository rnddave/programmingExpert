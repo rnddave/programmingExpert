{
  "cells": [
    {
      "cell_type": "markdown",
      "metadata": {
        "id": "UW3olvYyf4_0"
      },
      "source": [
        "#Bicycle Gear Ratios\n",
        "This session focuses on *Bicycle Gear Ratios*. We will use some of the techniques covered in earlier sessions to create some data, calculate some results from that data, store the data in a dataframe, and then export the data to a spreadsheet file. \n",
        "\n",
        "You work for an engineering company that has been tasked with helping out a world-class cyclist with the selection of gear wheels on her new bicycle. She needs to know, for each of 10 gears on the bike, how many times she must make one full turn of the pedals in order to travel 1 km. A bicycle’s gear ratio is given as the ratio of the number of teeth on the chain wheel (the one the pedals are connected to) and the number of teeth on the gear wheel (the one attached to the rear wheel). The rear wheel has ten gear wheels all with a different number of teeth. The chain wheel has 36 teeth and the gear wheels have teeth as given in the following table.\n",
        "\n",
        "|Gear Wheel |Number of Teeth|\n",
        "|-----------|---------------|\n",
        "| 1 |\t36 |\n",
        "| 2\t| 34 | \n",
        "| 3\t| 32 | \n",
        "| 4\t| 30 | \n",
        "| 5\t| 28 |\n",
        "| 6\t| 26 |\n",
        "| 7\t| 24 |\n",
        "| 8\t| 22 |\n",
        "| 9\t| 20 |\n",
        "| 10| 18 | \n",
        "\n",
        "Thus, the gear ratio of gear 1 is 1 as the chain wheel $\\div$ gear wheel $=$ 36$\\div$36. The ratio of gear 5 is 1.2857, and so on. The diameter of the wheels on the bike is 27 inches.\n",
        "\n",
        "For more details on how bicycle gear ratios work, check out [this useful page](http://www.pedalsaddle.com/gears-ratios-bicycle/ \"Bike gear ratios\").\n",
        "\n",
        "1. Design an algorithm to calculate the gear ratios of all ten gears.\n",
        "2. Extend your solution to find out how pedal turns are needed to travel 1 km in each gear. You may assume that no freewheeling is allowed. Think about how far the bicycle will travel for each full turn of the pedals. Note, you will need to do some conversion between imperial measurements (the diameter of the wheel) and metric measurements (the distance travelled in km).\n",
        "\n",
        "For task 1 you should construct a list that holds all the tooth numbers and iterate over that list to calculate the required outputs.\n",
        "\n",
        "**Hint** If you get stuck, click on the text '4 cells hidden' to reveal a hint on how to to do this. \n"
      ]
    },
    {
      "cell_type": "code",
      "execution_count": null,
      "metadata": {
        "id": "eHBBweccnsh4"
      },
      "outputs": [],
      "source": [
        "teeth = [36, 34, 32, 30, 28, 26, 24, 22, 20, 18]"
      ]
    },
    {
      "cell_type": "markdown",
      "metadata": {
        "id": "iG3tM2rropla"
      },
      "source": [
        "#### Do it really Pythonically\n",
        "You may recall we used Python's powerful 'list comprehension' feature in a previous session. We can use this to create the list above like this:"
      ]
    },
    {
      "cell_type": "code",
      "execution_count": null,
      "metadata": {
        "id": "neb28bjlouwP"
      },
      "outputs": [],
      "source": [
        "teeth = [36-x*2 for x in range(10)]"
      ]
    },
    {
      "cell_type": "markdown",
      "metadata": {
        "id": "h-CAfstoppFE"
      },
      "source": [
        "The above says `teeth` is to be the list created by the list comprehension `[36-x*2 for x in range(10)]`.\n",
        "\n",
        "The syntax for a list comprehension is as follows:\n",
        "````\n",
        "newlist = [expression for item in iterable if condition == True]\n",
        "````\n",
        "The `if` clause is optional. What we want is a list of ten numbers starting at 36 and decreasing by 2 each time. In the abobe code we have an iterator `for x in range(10)` that generates the values 0..9 in turn. The *expression* to be returned is `36-x*2`. In other words, for each value of x (0..9) multiply it by two, subract the result from 36, and return that value. You will see if you display the `teeth` list that it does, indeed, contain the values we want.\n",
        "\n",
        "You should practise using these features of Python wherever possible as they are the mark of true p'Pythonic' programming](https://programming.vip/docs/15-pythonic-code-examples.html \"15 Pythonic code examples\"). See also the [Zen of Python](https://www.python.org/dev/peps/pep-0020/). "
      ]
    },
    {
      "cell_type": "markdown",
      "metadata": {
        "id": "olgE7LFUr64-"
      },
      "source": [
        "## Calculate the ratios\n",
        "Store the calcuated ratios in a list. Try using a list comprehension to do this where `x` iterates over the `teeth` list. Only reveal the code below if you absolutely can't do it, or you want to compare your solution. In any case, if you got it right, your list of ratios should look like this:\n",
        "````\n",
        "[1.0,\n",
        " 1.0588235294117647,\n",
        " 1.125,\n",
        " 1.2,\n",
        " 1.2857142857142858,\n",
        " 1.3846153846153846,\n",
        " 1.5,\n",
        " 1.6363636363636365,\n",
        " 1.8,\n",
        " 2.0]\n",
        "````"
      ]
    },
    {
      "cell_type": "code",
      "execution_count": null,
      "metadata": {
        "id": "3bVCL3PGscIF"
      },
      "outputs": [],
      "source": [
        "ratios = [36/x for x in teeth]\n"
      ]
    },
    {
      "cell_type": "markdown",
      "metadata": {
        "id": "perUI4CNeR0A"
      },
      "source": [
        "# Try it yourself"
      ]
    },
    {
      "cell_type": "code",
      "execution_count": null,
      "metadata": {
        "id": "V2O3mY4YeUYi"
      },
      "outputs": [],
      "source": []
    },
    {
      "cell_type": "markdown",
      "metadata": {
        "id": "UgwHCoF0uXsO"
      },
      "source": [
        "## Calculate the distances\n",
        "To calculate how many rotations the bicyle wheel will make for each full turn of the pedals, we need to know the gear ratios. The relationship is simple: for each full turn of the pedals, the rear wheel will turn the gear ratio number of times. So, in gear 1, the ratio is 1 so one turn of the pedals results in one full turn of the wheel. In gear 10 the ratio is 2, so a single turn of the pedals results in two full turns of the wheel. \n",
        "\n",
        "Next, we need to know the circumference of the bicycle's wheels as that equates to the distance travelled per revolution. The circumference of a circle is given by the formula: $\\text{circumference}= \\pi \\times\\text{diameter}$.\n",
        "\n",
        "The diamter of the wheel is 27 inches. We need our distances in km, so it makes sense first to calculate the wheel's diameter in mm. Recall that 1 inch = 25.4 mm.\n",
        "\n",
        "To use $\\pi$ in Python we need to import the `math` library:\n",
        "\n"
      ]
    },
    {
      "cell_type": "code",
      "execution_count": null,
      "metadata": {
        "id": "ek4Ea2DYwOos"
      },
      "outputs": [],
      "source": [
        "import math\n",
        "print (math.pi)"
      ]
    },
    {
      "cell_type": "markdown",
      "metadata": {
        "id": "BEi3i2R0wyOg"
      },
      "source": [
        "## Put it together\n",
        "1. Now that you know how to use $pi$ and you know how to caculate the number of turns of the wheel per full pedal turn per gear, put it all together to calculate the distance travelled per pedal turn per gear and then the number of pedal turns needed to travel 1 km. I suggest storing each intermediate set of values in a separate list. For example, `distances` to store the distance travelled per pedal turn per gear, and `turns` to store the number of pedal turns needed per gear to travel 1 km.\n",
        "\n",
        "2. Before creating the new lists, first calculate the circumference of the wheel and then convert that length in mm to metres for each of calculation later.\n",
        "\n",
        "Recall, there are 1000 mm in 1 m, and 1000 m in 1 km.\n",
        "\n",
        "3. If all has gone to plan, your list `turns` should hold the following values:\n",
        "````\n",
        "[464.14389936394093,\n",
        " 438.3581271770553,\n",
        " 412.57235499016974,\n",
        " 386.7865828032841,\n",
        " 361.0008106163985,\n",
        " 335.2150384295129,\n",
        " 309.4292662426273,\n",
        " 283.64349405574166,\n",
        " 257.85772186885606,\n",
        " 232.07194968197047]\n",
        " ````\n",
        "\n",
        " To keep things simple, it would be better to round everything up to the next whole turn. For example, 464.1 turns should become 465. You can do this with the `math.ceil()` function. Store these new values in a new list called `wholeturns`."
      ]
    },
    {
      "cell_type": "code",
      "execution_count": null,
      "metadata": {
        "id": "9tefJG_sy1sd"
      },
      "outputs": [],
      "source": [
        "diameter = 27 # inches\n",
        "diameter = 27 *25.4 # mm\n",
        "circumference = (math.pi * diameter) ## mm\n",
        "circumference /= 1000 # metres\n"
      ]
    },
    {
      "cell_type": "code",
      "execution_count": null,
      "metadata": {
        "id": "tdslRSFu1yLl"
      },
      "outputs": [],
      "source": [
        "distances = [x * circumference for x in ratios]\n",
        "turns = [1000/x for x in distances]\n",
        "wholeturns =[math.ceil(x) for x in turns]"
      ]
    },
    {
      "cell_type": "markdown",
      "metadata": {
        "id": "mKU9OgfSeaQi"
      },
      "source": [
        "# Try it yourself"
      ]
    },
    {
      "cell_type": "code",
      "execution_count": null,
      "metadata": {
        "id": "CopGOn-heddc"
      },
      "outputs": [],
      "source": []
    },
    {
      "cell_type": "markdown",
      "metadata": {
        "id": "AnP-pIyx3yMM"
      },
      "source": [
        "## Put everything into a dataframe and save it\n",
        "Now we have five lists, `teeth`, `ratios`, `distances`, `turns`, and `wholeturns` we should put them all into a single dataframe and then save this as a CSV or Excel file.\n",
        "\n",
        "First we must import the Pandas library."
      ]
    },
    {
      "cell_type": "code",
      "execution_count": null,
      "metadata": {
        "id": "yqhtL29lxynI"
      },
      "outputs": [],
      "source": [
        "import pandas as pd"
      ]
    },
    {
      "cell_type": "markdown",
      "metadata": {
        "id": "gzttUkNH4Kta"
      },
      "source": [
        "Next, we should create an empty dataframe:"
      ]
    },
    {
      "cell_type": "code",
      "execution_count": null,
      "metadata": {
        "id": "oVxsZvRtyNbg"
      },
      "outputs": [],
      "source": [
        "df = pd.DataFrame()"
      ]
    },
    {
      "cell_type": "markdown",
      "metadata": {
        "id": "p951nEzt4UVU"
      },
      "source": [
        "## Adding the columns\n",
        "We can add a new column to a dataframe very simply as follows\n",
        "`df['Column name'] = list`\n",
        "where `Column name` is the name we want to give to the column, and `list` is the name of a list variable. Add the five lists you have made to the dataframe `df`. If you get stuck, here's my solution but please try to do it yourself first:"
      ]
    },
    {
      "cell_type": "code",
      "execution_count": null,
      "metadata": {
        "id": "fnuuG2-M4SW9"
      },
      "outputs": [],
      "source": [
        "df['Teeth'] = teeth\n",
        "df['Ratios'] = ratios\n",
        "df['Distances'] = distances\n",
        "df['Turns'] = turns\n",
        "df['Whole Turns'] = wholeturns"
      ]
    },
    {
      "cell_type": "markdown",
      "metadata": {
        "id": "B0GLOq5oc-tb"
      },
      "source": [
        "## Try it yourself"
      ]
    },
    {
      "cell_type": "code",
      "execution_count": null,
      "metadata": {
        "id": "Mw7kqaJ8c6N9"
      },
      "outputs": [],
      "source": []
    },
    {
      "cell_type": "markdown",
      "metadata": {
        "id": "TEg7cB4D41-9"
      },
      "source": [
        "## Saving it\n",
        "Saving a datrame to a csv or Excel spreadsheet file is very simple.\n",
        "\n",
        "*   To csv: `df.to_excel(\"path\\file_name.xlsx\")`\n",
        "*   To Excel: `df.to_excel(\"path\\file_name.xlsx\")`\n"
      ]
    },
    {
      "cell_type": "code",
      "execution_count": null,
      "metadata": {
        "id": "B0BKubX051HX"
      },
      "outputs": [],
      "source": [
        "df.to_csv(\"bicycles.csv\")\n",
        "df.to_excel(\"bicycles.xlsx\")"
      ]
    },
    {
      "cell_type": "markdown",
      "metadata": {
        "id": "0nL3yzpY6wic"
      },
      "source": [
        "## Try it yourself."
      ]
    },
    {
      "cell_type": "code",
      "execution_count": null,
      "metadata": {
        "id": "o2F3zO0V61Xy"
      },
      "outputs": [],
      "source": []
    },
    {
      "cell_type": "markdown",
      "metadata": {
        "id": "9TR19Dqs63EJ"
      },
      "source": [
        "## Removing the index column\n",
        "If you download the files you created and open them up in a spreadsheet program you will find that the index values (0..9) have been stored in the first column. If you don't want those values in your spreadsheet, you can add the argument `index=False` to the `to_csv()` and `to_excel()` function calls:\n",
        "\n",
        "````df.to_excel(\"path\\file_name.xlsx\", index=False)````"
      ]
    },
    {
      "cell_type": "markdown",
      "metadata": {
        "id": "S6MClMKm7iW6"
      },
      "source": [
        "# Recap\n",
        "To recap what we have done.\n",
        "\n",
        "\n",
        "1.   We created a list holding the number of teeth on ten gears.\n",
        "2.   We created a list holding the ratios of those gears based on a front cog of 36 teeth.\n",
        "3.  We created a list holding the distances travelled per pedal turn per gear.\n",
        "4.  We created a list holding the number of pedal turns needed per gear to travel 1km.\n",
        "5.  We created another list rounding up the number of pedal turns to whole turns.\n",
        "6.  We created a dataframe containing all the individual lists.\n",
        "7.  We exported the dataframe to a spreadsheet file.\n",
        "\n"
      ]
    },
    {
      "cell_type": "markdown",
      "metadata": {
        "id": "IdMLnReLayRl"
      },
      "source": [
        "# My full solution\n",
        "If you have got really stuck and need to see a full solution to the problem, or you just want to compare your working solution with mine, I present a complete program below."
      ]
    },
    {
      "cell_type": "code",
      "execution_count": 1,
      "metadata": {
        "id": "ELyIfWA3a-hW"
      },
      "outputs": [
        {
          "ename": "ModuleNotFoundError",
          "evalue": "No module named 'openpyxl'",
          "output_type": "error",
          "traceback": [
            "\u001b[0;31m---------------------------------------------------------------------------\u001b[0m",
            "\u001b[0;31mModuleNotFoundError\u001b[0m                       Traceback (most recent call last)",
            "\u001b[1;32m/Users/dickinsd/Github/ds-bootcamp-unn/gears.ipynb Cell 32\u001b[0m in \u001b[0;36m<cell line: 44>\u001b[0;34m()\u001b[0m\n\u001b[1;32m     <a href='vscode-notebook-cell:/Users/dickinsd/Github/ds-bootcamp-unn/gears.ipynb#ch0000031?line=41'>42</a>\u001b[0m \u001b[39m# Export the dataframe to two spreadsheet file formats\u001b[39;00m\n\u001b[1;32m     <a href='vscode-notebook-cell:/Users/dickinsd/Github/ds-bootcamp-unn/gears.ipynb#ch0000031?line=42'>43</a>\u001b[0m df\u001b[39m.\u001b[39mto_csv(\u001b[39m\"\u001b[39m\u001b[39mbicycles.csv\u001b[39m\u001b[39m\"\u001b[39m, index\u001b[39m=\u001b[39m\u001b[39mFalse\u001b[39;00m)\n\u001b[0;32m---> <a href='vscode-notebook-cell:/Users/dickinsd/Github/ds-bootcamp-unn/gears.ipynb#ch0000031?line=43'>44</a>\u001b[0m df\u001b[39m.\u001b[39;49mto_excel(\u001b[39m\"\u001b[39;49m\u001b[39mbicycles.xlsx\u001b[39;49m\u001b[39m\"\u001b[39;49m, index\u001b[39m=\u001b[39;49m\u001b[39mFalse\u001b[39;49;00m)\n\u001b[1;32m     <a href='vscode-notebook-cell:/Users/dickinsd/Github/ds-bootcamp-unn/gears.ipynb#ch0000031?line=45'>46</a>\u001b[0m \u001b[39m# Display the entire dataframe\u001b[39;00m\n\u001b[1;32m     <a href='vscode-notebook-cell:/Users/dickinsd/Github/ds-bootcamp-unn/gears.ipynb#ch0000031?line=46'>47</a>\u001b[0m display(df)\n",
            "File \u001b[0;32m~/miniforge3/lib/python3.9/site-packages/pandas/core/generic.py:2345\u001b[0m, in \u001b[0;36mNDFrame.to_excel\u001b[0;34m(self, excel_writer, sheet_name, na_rep, float_format, columns, header, index, index_label, startrow, startcol, engine, merge_cells, encoding, inf_rep, verbose, freeze_panes, storage_options)\u001b[0m\n\u001b[1;32m   2332\u001b[0m \u001b[39mfrom\u001b[39;00m \u001b[39mpandas\u001b[39;00m\u001b[39m.\u001b[39;00m\u001b[39mio\u001b[39;00m\u001b[39m.\u001b[39;00m\u001b[39mformats\u001b[39;00m\u001b[39m.\u001b[39;00m\u001b[39mexcel\u001b[39;00m \u001b[39mimport\u001b[39;00m ExcelFormatter\n\u001b[1;32m   2334\u001b[0m formatter \u001b[39m=\u001b[39m ExcelFormatter(\n\u001b[1;32m   2335\u001b[0m     df,\n\u001b[1;32m   2336\u001b[0m     na_rep\u001b[39m=\u001b[39mna_rep,\n\u001b[0;32m   (...)\u001b[0m\n\u001b[1;32m   2343\u001b[0m     inf_rep\u001b[39m=\u001b[39minf_rep,\n\u001b[1;32m   2344\u001b[0m )\n\u001b[0;32m-> 2345\u001b[0m formatter\u001b[39m.\u001b[39;49mwrite(\n\u001b[1;32m   2346\u001b[0m     excel_writer,\n\u001b[1;32m   2347\u001b[0m     sheet_name\u001b[39m=\u001b[39;49msheet_name,\n\u001b[1;32m   2348\u001b[0m     startrow\u001b[39m=\u001b[39;49mstartrow,\n\u001b[1;32m   2349\u001b[0m     startcol\u001b[39m=\u001b[39;49mstartcol,\n\u001b[1;32m   2350\u001b[0m     freeze_panes\u001b[39m=\u001b[39;49mfreeze_panes,\n\u001b[1;32m   2351\u001b[0m     engine\u001b[39m=\u001b[39;49mengine,\n\u001b[1;32m   2352\u001b[0m     storage_options\u001b[39m=\u001b[39;49mstorage_options,\n\u001b[1;32m   2353\u001b[0m )\n",
            "File \u001b[0;32m~/miniforge3/lib/python3.9/site-packages/pandas/io/formats/excel.py:888\u001b[0m, in \u001b[0;36mExcelFormatter.write\u001b[0;34m(self, writer, sheet_name, startrow, startcol, freeze_panes, engine, storage_options)\u001b[0m\n\u001b[1;32m    884\u001b[0m     need_save \u001b[39m=\u001b[39m \u001b[39mFalse\u001b[39;00m\n\u001b[1;32m    885\u001b[0m \u001b[39melse\u001b[39;00m:\n\u001b[1;32m    886\u001b[0m     \u001b[39m# error: Cannot instantiate abstract class 'ExcelWriter' with abstract\u001b[39;00m\n\u001b[1;32m    887\u001b[0m     \u001b[39m# attributes 'engine', 'save', 'supported_extensions' and 'write_cells'\u001b[39;00m\n\u001b[0;32m--> 888\u001b[0m     writer \u001b[39m=\u001b[39m ExcelWriter(  \u001b[39m# type: ignore[abstract]\u001b[39;49;00m\n\u001b[1;32m    889\u001b[0m         writer, engine\u001b[39m=\u001b[39;49mengine, storage_options\u001b[39m=\u001b[39;49mstorage_options\n\u001b[1;32m    890\u001b[0m     )\n\u001b[1;32m    891\u001b[0m     need_save \u001b[39m=\u001b[39m \u001b[39mTrue\u001b[39;00m\n\u001b[1;32m    893\u001b[0m \u001b[39mtry\u001b[39;00m:\n",
            "File \u001b[0;32m~/miniforge3/lib/python3.9/site-packages/pandas/io/excel/_openpyxl.py:49\u001b[0m, in \u001b[0;36mOpenpyxlWriter.__init__\u001b[0;34m(self, path, engine, date_format, datetime_format, mode, storage_options, if_sheet_exists, engine_kwargs, **kwargs)\u001b[0m\n\u001b[1;32m     36\u001b[0m \u001b[39mdef\u001b[39;00m \u001b[39m__init__\u001b[39m(\n\u001b[1;32m     37\u001b[0m     \u001b[39mself\u001b[39m,\n\u001b[1;32m     38\u001b[0m     path,\n\u001b[0;32m   (...)\u001b[0m\n\u001b[1;32m     47\u001b[0m ):\n\u001b[1;32m     48\u001b[0m     \u001b[39m# Use the openpyxl module as the Excel writer.\u001b[39;00m\n\u001b[0;32m---> 49\u001b[0m     \u001b[39mfrom\u001b[39;00m \u001b[39mopenpyxl\u001b[39;00m\u001b[39m.\u001b[39;00m\u001b[39mworkbook\u001b[39;00m \u001b[39mimport\u001b[39;00m Workbook\n\u001b[1;32m     51\u001b[0m     engine_kwargs \u001b[39m=\u001b[39m combine_kwargs(engine_kwargs, kwargs)\n\u001b[1;32m     53\u001b[0m     \u001b[39msuper\u001b[39m()\u001b[39m.\u001b[39m\u001b[39m__init__\u001b[39m(\n\u001b[1;32m     54\u001b[0m         path,\n\u001b[1;32m     55\u001b[0m         mode\u001b[39m=\u001b[39mmode,\n\u001b[0;32m   (...)\u001b[0m\n\u001b[1;32m     58\u001b[0m         engine_kwargs\u001b[39m=\u001b[39mengine_kwargs,\n\u001b[1;32m     59\u001b[0m     )\n",
            "\u001b[0;31mModuleNotFoundError\u001b[0m: No module named 'openpyxl'"
          ]
        }
      ],
      "source": [
        "# Import the necessary libraries\n",
        "import pandas as pd\n",
        "import math\n",
        "\n",
        "# Set the wheel diameter and convert to mm\n",
        "diameter = 27 # inches\n",
        "diameter = diameter * 25.4 # mm\n",
        "\n",
        "# Calculate the wheel circumference in mm\n",
        "circumference = (math.pi * diameter) ## mm\n",
        "\n",
        "# Now divide by 1000 to get the circumference in metres\n",
        "circumference /= 1000 # metres\n",
        "\n",
        "\n",
        "# Set up the list holding number of teeth per gear\n",
        "teeth = [36-x*2 for x in range(10)]\n",
        "\n",
        "# Calculate the gear ratios\n",
        "ratios = [36/x for x in teeth]\n",
        "\n",
        "# Calculate the distance travelled per turn of the pedals per gear in metres\n",
        "distances = [x * circumference for x in ratios]\n",
        "\n",
        "# Calculate the number of turns of the pedal needed to travel 1km (1000 m) per gear\n",
        "turns = [1000/x for x in distances]\n",
        "\n",
        "# Convert the fractional numbers of turns into the next whole integer\n",
        "wholeturns =[math.ceil(x) for x in turns]\n",
        "\n",
        "\n",
        "# Create an empty dataframe\n",
        "df = pd.DataFrame()\n",
        "\n",
        "# Add all the lists as columns to the dataframe\n",
        "df['Teeth'] = teeth\n",
        "df['Ratios'] = ratios\n",
        "df['Distances'] = distances\n",
        "df['Turns'] = turns\n",
        "df['Whole Turns'] = wholeturns\n",
        "\n",
        "# Export the dataframe to two spreadsheet file formats\n",
        "df.to_csv(\"bicycles.csv\", index=False)\n",
        "df.to_excel(\"bicycles.xlsx\", index=False)\n",
        "\n",
        "# Display the entire dataframe\n",
        "display(df)"
      ]
    }
  ],
  "metadata": {
    "colab": {
      "collapsed_sections": [
        "UW3olvYyf4_0",
        "iG3tM2rropla",
        "olgE7LFUr64-",
        "BEi3i2R0wyOg",
        "p951nEzt4UVU",
        "TEg7cB4D41-9",
        "IdMLnReLayRl"
      ],
      "name": "gears.ipynb",
      "provenance": []
    },
    "kernelspec": {
      "display_name": "Python 3.9.13 ('base')",
      "language": "python",
      "name": "python3"
    },
    "language_info": {
      "codemirror_mode": {
        "name": "ipython",
        "version": 3
      },
      "file_extension": ".py",
      "mimetype": "text/x-python",
      "name": "python",
      "nbconvert_exporter": "python",
      "pygments_lexer": "ipython3",
      "version": "3.9.13"
    },
    "vscode": {
      "interpreter": {
        "hash": "29ba88fc74c30cfb08fb6ce3b25c2ccd724cd11e96a643650e6c772fb9859a2d"
      }
    }
  },
  "nbformat": 4,
  "nbformat_minor": 0
}
