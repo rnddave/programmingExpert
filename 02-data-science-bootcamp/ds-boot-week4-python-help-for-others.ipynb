{
 "cells": [
  {
   "cell_type": "markdown",
   "metadata": {},
   "source": [
    "working through the problem that Norma is having from the discord group, her starting code follows"
   ]
  },
  {
   "cell_type": "code",
   "execution_count": 4,
   "metadata": {},
   "outputs": [
    {
     "name": "stdout",
     "output_type": "stream",
     "text": [
      "<class 'int'>\n",
      "<class 'list'>\n"
     ]
    },
    {
     "ename": "TypeError",
     "evalue": "unsupported operand type(s) for +: 'int' and 'list'",
     "output_type": "error",
     "traceback": [
      "\u001b[0;31m---------------------------------------------------------------------------\u001b[0m",
      "\u001b[0;31mTypeError\u001b[0m                                 Traceback (most recent call last)",
      "\u001b[1;32m/Users/dickinsd/Github/ds-bootcamp-unn/httlap-python-trying-things.ipynb Cell 2\u001b[0m in \u001b[0;36m<cell line: 15>\u001b[0;34m()\u001b[0m\n\u001b[1;32m     <a href='vscode-notebook-cell:/Users/dickinsd/Github/ds-bootcamp-unn/httlap-python-trying-things.ipynb#ch0000001?line=13'>14</a>\u001b[0m \u001b[39m## loading van \u001b[39;00m\n\u001b[1;32m     <a href='vscode-notebook-cell:/Users/dickinsd/Github/ds-bootcamp-unn/httlap-python-trying-things.ipynb#ch0000001?line=14'>15</a>\u001b[0m \u001b[39mwhile\u001b[39;00m (parcelWeight \u001b[39m>\u001b[39m \u001b[39m0\u001b[39m):\n\u001b[1;32m     <a href='vscode-notebook-cell:/Users/dickinsd/Github/ds-bootcamp-unn/httlap-python-trying-things.ipynb#ch0000001?line=15'>16</a>\u001b[0m     \u001b[39m# process vans\u001b[39;00m\n\u001b[0;32m---> <a href='vscode-notebook-cell:/Users/dickinsd/Github/ds-bootcamp-unn/httlap-python-trying-things.ipynb#ch0000001?line=16'>17</a>\u001b[0m     \u001b[39mwhile\u001b[39;00m ((payload \u001b[39m+\u001b[39;49m parcelWeight \u001b[39m<\u001b[39m\u001b[39m=\u001b[39m capacity) \u001b[39mand\u001b[39;00m (parcelWeight \u001b[39m>\u001b[39m \u001b[39m0\u001b[39m)):\n\u001b[1;32m     <a href='vscode-notebook-cell:/Users/dickinsd/Github/ds-bootcamp-unn/httlap-python-trying-things.ipynb#ch0000001?line=17'>18</a>\u001b[0m         \u001b[39m# load a single van\u001b[39;00m\n\u001b[1;32m     <a href='vscode-notebook-cell:/Users/dickinsd/Github/ds-bootcamp-unn/httlap-python-trying-things.ipynb#ch0000001?line=18'>19</a>\u001b[0m         payload \u001b[39m+\u001b[39m\u001b[39m=\u001b[39m parcelWeight\n\u001b[1;32m     <a href='vscode-notebook-cell:/Users/dickinsd/Github/ds-bootcamp-unn/httlap-python-trying-things.ipynb#ch0000001?line=19'>20</a>\u001b[0m         parcelWeight \u001b[39m=\u001b[39m parcels [\u001b[39m1\u001b[39m:]\n",
      "\u001b[0;31mTypeError\u001b[0m: unsupported operand type(s) for +: 'int' and 'list'"
     ]
    }
   ],
   "source": [
    "# Van loading - put your solution here\n",
    "\n",
    "# initialize variables \n",
    "parcels = [50, 90, 120, 110, 40, 30, 85, 85, 110, 100, 100, 100, 100, 120, 90, 50, 85, 120, 40, 0]\n",
    "capacity = 750\n",
    "numberofVans = 0\n",
    "heaviestVan = 0 \n",
    "payload = 0 \n",
    "\n",
    "# getting first parcel weight \n",
    "parcelWeight = parcels.pop(0)\n",
    "print(type(parcelWeight))\n",
    "\n",
    "## loading van \n",
    "while (parcelWeight > 0):\n",
    "    # process vans\n",
    "    while ((payload + parcelWeight <= capacity) and (parcelWeight > 0)):\n",
    "        # load a single van\n",
    "        payload += parcelWeight\n",
    "        parcelWeight = parcels [1:]\n",
    "        print(type(parcelWeight))\n",
    "    print('Van despatched', payload)\n",
    "    # check whether this is the heaviest van \n",
    "    if (payload > heaviestVan):\n",
    "        heaviestVan = payload \n",
    "    print('The number of vans despatched is ', numberofVans)\n",
    "    print('The payload of the heaviest van is ', heaviestVan)"
   ]
  },
  {
   "cell_type": "markdown",
   "metadata": {},
   "source": [
    "I think the data type is the issue, but I first tried adding some print statements on either side of the while loop (second while loop)"
   ]
  },
  {
   "cell_type": "code",
   "execution_count": 5,
   "metadata": {},
   "outputs": [
    {
     "name": "stdout",
     "output_type": "stream",
     "text": [
      "<class 'int'>\n",
      "outside loop\n",
      "inside loop\n",
      "<class 'list'>\n"
     ]
    },
    {
     "ename": "TypeError",
     "evalue": "unsupported operand type(s) for +: 'int' and 'list'",
     "output_type": "error",
     "traceback": [
      "\u001b[0;31m---------------------------------------------------------------------------\u001b[0m",
      "\u001b[0;31mTypeError\u001b[0m                                 Traceback (most recent call last)",
      "\u001b[1;32m/Users/dickinsd/Github/ds-bootcamp-unn/httlap-python-trying-things.ipynb Cell 4\u001b[0m in \u001b[0;36m<cell line: 15>\u001b[0;34m()\u001b[0m\n\u001b[1;32m     <a href='vscode-notebook-cell:/Users/dickinsd/Github/ds-bootcamp-unn/httlap-python-trying-things.ipynb#ch0000005?line=14'>15</a>\u001b[0m \u001b[39mwhile\u001b[39;00m (parcelWeight \u001b[39m>\u001b[39m \u001b[39m0\u001b[39m):\n\u001b[1;32m     <a href='vscode-notebook-cell:/Users/dickinsd/Github/ds-bootcamp-unn/httlap-python-trying-things.ipynb#ch0000005?line=15'>16</a>\u001b[0m     \u001b[39m# process vans\u001b[39;00m\n\u001b[1;32m     <a href='vscode-notebook-cell:/Users/dickinsd/Github/ds-bootcamp-unn/httlap-python-trying-things.ipynb#ch0000005?line=16'>17</a>\u001b[0m     \u001b[39mprint\u001b[39m(\u001b[39m'\u001b[39m\u001b[39moutside loop\u001b[39m\u001b[39m'\u001b[39m)\n\u001b[0;32m---> <a href='vscode-notebook-cell:/Users/dickinsd/Github/ds-bootcamp-unn/httlap-python-trying-things.ipynb#ch0000005?line=17'>18</a>\u001b[0m     \u001b[39mwhile\u001b[39;00m ((payload \u001b[39m+\u001b[39;49m parcelWeight \u001b[39m<\u001b[39m\u001b[39m=\u001b[39m capacity) \u001b[39mand\u001b[39;00m (parcelWeight \u001b[39m>\u001b[39m \u001b[39m0\u001b[39m)):\n\u001b[1;32m     <a href='vscode-notebook-cell:/Users/dickinsd/Github/ds-bootcamp-unn/httlap-python-trying-things.ipynb#ch0000005?line=18'>19</a>\u001b[0m         \u001b[39mprint\u001b[39m(\u001b[39m'\u001b[39m\u001b[39minside loop\u001b[39m\u001b[39m'\u001b[39m)\n\u001b[1;32m     <a href='vscode-notebook-cell:/Users/dickinsd/Github/ds-bootcamp-unn/httlap-python-trying-things.ipynb#ch0000005?line=19'>20</a>\u001b[0m         \u001b[39m# load a single van\u001b[39;00m\n",
      "\u001b[0;31mTypeError\u001b[0m: unsupported operand type(s) for +: 'int' and 'list'"
     ]
    }
   ],
   "source": [
    "# Van loading - put your solution here\n",
    "\n",
    "# initialize variables \n",
    "parcels = [50, 90, 120, 110, 40, 30, 85, 85, 110, 100, 100, 100, 100, 120, 90, 50, 85, 120, 40, 0]\n",
    "capacity = 750\n",
    "numberofVans = 0\n",
    "heaviestVan = 0 \n",
    "payload = 0 \n",
    "\n",
    "# getting first parcel weight \n",
    "parcelWeight = parcels.pop(0)\n",
    "print(type(parcelWeight))\n",
    "\n",
    "## loading van \n",
    "while (parcelWeight > 0):\n",
    "    # process vans\n",
    "    print('outside loop')\n",
    "    while ((payload + parcelWeight <= capacity) and (parcelWeight > 0)):\n",
    "        print('inside loop')\n",
    "        # load a single van\n",
    "        payload += parcelWeight\n",
    "        parcelWeight = parcels [1:]\n",
    "        print(type(parcelWeight))\n",
    "    print('Van despatched', payload)\n",
    "    # check whether this is the heaviest van \n",
    "    if (payload > heaviestVan):\n",
    "        heaviestVan = payload \n",
    "    print('The number of vans despatched is ', numberofVans)\n",
    "    print('The payload of the heaviest van is ', heaviestVan)"
   ]
  },
  {
   "cell_type": "markdown",
   "metadata": {},
   "source": [
    "the loop is running once, so what happens in the loop?\n",
    "\n",
    "I see that she changes the parcel weight back to a list: parcelWeight = parcels [1:]\n",
    "\n",
    "therefore the next loop datatype is incorrect"
   ]
  },
  {
   "cell_type": "code",
   "execution_count": null,
   "metadata": {},
   "outputs": [],
   "source": [
    "# Van loading - put your solution here\n",
    "\n",
    "# initialize variables \n",
    "parcels = [50, 90, 120, 110, 40, 30, 85, 85, 110, 100, 100, 100, 100, 120, 90, 50, 85, 120, 40, 0]\n",
    "capacity = 750\n",
    "numberofVans = 0\n",
    "heaviestVan = 0 \n",
    "payload = 0 \n",
    "\n",
    "# getting first parcel weight \n",
    "parcelWeight = parcels.pop(0)\n",
    "print(type(parcelWeight))\n",
    "\n",
    "## loading van \n",
    "while (parcelWeight > 0):\n",
    "    # process vans\n",
    "    print('outside loop')\n",
    "    while ((payload + parcelWeight <= capacity) and (parcelWeight > 0)):\n",
    "        print('inside loop')\n",
    "        # load a single van\n",
    "        payload += parcelWeight\n",
    "        parcelWeight = parcels.pop(0)\n",
    "    print('Van despatched', payload)\n",
    "    # check whether this is the heaviest van \n",
    "    if (payload > heaviestVan):\n",
    "        heaviestVan = payload \n",
    "    print('The number of vans despatched is ', numberofVans)\n",
    "    print('The payload of the heaviest van is ', heaviestVan)"
   ]
  },
  {
   "cell_type": "markdown",
   "metadata": {},
   "source": [
    "norma asked me how we can do a per/element loop for items in the list, I have proposed this"
   ]
  },
  {
   "cell_type": "code",
   "execution_count": 17,
   "metadata": {},
   "outputs": [
    {
     "name": "stdout",
     "output_type": "stream",
     "text": [
      "90 <class 'int'>\n",
      "120 <class 'int'>\n",
      "110 <class 'int'>\n",
      "40 <class 'int'>\n",
      "30 <class 'int'>\n",
      "85 <class 'int'>\n",
      "85 <class 'int'>\n",
      "110 <class 'int'>\n",
      "100 <class 'int'>\n",
      "100 <class 'int'>\n",
      "100 <class 'int'>\n",
      "100 <class 'int'>\n",
      "120 <class 'int'>\n",
      "90 <class 'int'>\n",
      "50 <class 'int'>\n",
      "85 <class 'int'>\n",
      "120 <class 'int'>\n",
      "40 <class 'int'>\n",
      "0 <class 'int'>\n"
     ]
    }
   ],
   "source": [
    "parcels = [50, 90, 120, 110, 40, 30, 85, 85, 110, 100, 100, 100, 100, 120, 90, 50, 85, 120, 40, 0]\n",
    "parcelWeight = parcels [1:]\n",
    "for i in parcelWeight:\n",
    "    parcelWeight = i\n",
    "    print(parcelWeight, type(parcelWeight))"
   ]
  },
  {
   "cell_type": "code",
   "execution_count": 7,
   "metadata": {},
   "outputs": [
    {
     "name": "stdout",
     "output_type": "stream",
     "text": [
      "\n",
      "boo\n",
      "boo\n",
      "booboo\n",
      "booboo\n",
      "boobooboo\n",
      "boobooboo\n",
      "booboobooboo\n",
      "booboobooboo\n"
     ]
    }
   ],
   "source": [
    "def stringy(str, n):\n",
    "    result = ''\n",
    "    for i in range(n):\n",
    "        print(result)\n",
    "        result = result + str\n",
    "        print(result)\n",
    "    return result \n",
    "\n",
    "\n",
    "print(stringy('boo',4))"
   ]
  },
  {
   "cell_type": "code",
   "execution_count": 6,
   "metadata": {},
   "outputs": [
    {
     "name": "stdout",
     "output_type": "stream",
     "text": [
      "bingbingbingbing\n"
     ]
    }
   ],
   "source": [
    "\n",
    "\n",
    "def stringy2(str,n):\n",
    "    return str*n\n",
    "\n",
    "print(stringy2('bing',4))"
   ]
  },
  {
   "cell_type": "code",
   "execution_count": 8,
   "metadata": {},
   "outputs": [
    {
     "ename": "TypeError",
     "evalue": "can only concatenate str (not \"int\") to str",
     "output_type": "error",
     "traceback": [
      "\u001b[0;31m---------------------------------------------------------------------------\u001b[0m",
      "\u001b[0;31mTypeError\u001b[0m                                 Traceback (most recent call last)",
      "\u001b[1;32m/Users/dickinsd/Github/ds-bootcamp-unn/ds-boot-week4-python-help-for-others.ipynb Cell 11\u001b[0m in \u001b[0;36m<cell line: 4>\u001b[0;34m()\u001b[0m\n\u001b[1;32m      <a href='vscode-notebook-cell:/Users/dickinsd/Github/ds-bootcamp-unn/ds-boot-week4-python-help-for-others.ipynb#ch0000012?line=0'>1</a>\u001b[0m \u001b[39mdef\u001b[39;00m \u001b[39mstringy2\u001b[39m(\u001b[39mstr\u001b[39m,n):\n\u001b[1;32m      <a href='vscode-notebook-cell:/Users/dickinsd/Github/ds-bootcamp-unn/ds-boot-week4-python-help-for-others.ipynb#ch0000012?line=1'>2</a>\u001b[0m     \u001b[39mreturn\u001b[39;00m \u001b[39mstr\u001b[39m\u001b[39m+\u001b[39mn\n\u001b[0;32m----> <a href='vscode-notebook-cell:/Users/dickinsd/Github/ds-bootcamp-unn/ds-boot-week4-python-help-for-others.ipynb#ch0000012?line=3'>4</a>\u001b[0m \u001b[39mprint\u001b[39m(stringy2(\u001b[39m'\u001b[39;49m\u001b[39mbing\u001b[39;49m\u001b[39m'\u001b[39;49m,\u001b[39m4\u001b[39;49m))\n",
      "\u001b[1;32m/Users/dickinsd/Github/ds-bootcamp-unn/ds-boot-week4-python-help-for-others.ipynb Cell 11\u001b[0m in \u001b[0;36mstringy2\u001b[0;34m(str, n)\u001b[0m\n\u001b[1;32m      <a href='vscode-notebook-cell:/Users/dickinsd/Github/ds-bootcamp-unn/ds-boot-week4-python-help-for-others.ipynb#ch0000012?line=0'>1</a>\u001b[0m \u001b[39mdef\u001b[39;00m \u001b[39mstringy2\u001b[39m(\u001b[39mstr\u001b[39m,n):\n\u001b[0;32m----> <a href='vscode-notebook-cell:/Users/dickinsd/Github/ds-bootcamp-unn/ds-boot-week4-python-help-for-others.ipynb#ch0000012?line=1'>2</a>\u001b[0m     \u001b[39mreturn\u001b[39;00m \u001b[39mstr\u001b[39;49m\u001b[39m+\u001b[39;49mn\n",
      "\u001b[0;31mTypeError\u001b[0m: can only concatenate str (not \"int\") to str"
     ]
    }
   ],
   "source": [
    "\n",
    "\n",
    "def stringy2(str,n):\n",
    "    return str+n\n",
    "\n",
    "print(stringy2('bing',4))"
   ]
  }
 ],
 "metadata": {
  "kernelspec": {
   "display_name": "Python 3.9.13 ('base')",
   "language": "python",
   "name": "python3"
  },
  "language_info": {
   "codemirror_mode": {
    "name": "ipython",
    "version": 3
   },
   "file_extension": ".py",
   "mimetype": "text/x-python",
   "name": "python",
   "nbconvert_exporter": "python",
   "pygments_lexer": "ipython3",
   "version": "3.9.13"
  },
  "orig_nbformat": 4,
  "vscode": {
   "interpreter": {
    "hash": "29ba88fc74c30cfb08fb6ce3b25c2ccd724cd11e96a643650e6c772fb9859a2d"
   }
  }
 },
 "nbformat": 4,
 "nbformat_minor": 2
}
