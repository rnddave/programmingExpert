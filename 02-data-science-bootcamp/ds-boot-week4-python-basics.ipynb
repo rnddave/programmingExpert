{
  "cells": [
    {
      "cell_type": "markdown",
      "metadata": {
        "id": "RzGCbF3YrVtl"
      },
      "source": [
        "#Before you begin\n",
        "Before doing anything else please do the following:\n",
        "\n",
        "\n",
        "1. Click on the Edit menu and select 'Clear all outputs'. This will ensure that any previous interactions with the code will be wiped and everything will work as if from scratch.\n",
        "\n",
        "\n",
        "#From HTTLAP to Python\n",
        "In *How to Think Like a Programmer* we introduced a number of control and data abstractions that we used to build algorithms in pseudocode. In this workbook we will show how to implement those HTTLAP pseudocode abstractions in Python so that we can make executable code (code that runs). \n",
        "\n",
        "##The Google Colab environment\n",
        "A particularly nice feature of this Google Colab environment is that we can run individual lines of code without having to run all the other code in the Python script at the same time. This is really good when trying out different ways of doing things. If you want to do something similar offline, then you can install the [Jupyter Lab environment](https://jupyter.org/) on your own machine. It's a very similar look and feel, but there are a few differences. You can download these Colab worksheets as .ipynb files and open them in Jupyter Lab on your own machine via File | Download | Download .ipynb\n",
        "\n",
        "##Getting Started\n",
        "\n",
        "Let's begin by looking at some data abstractions. We will used these later on with some control abstractions.\n",
        "\n"
      ]
    },
    {
      "cell_type": "markdown",
      "metadata": {
        "id": "moT8a7Wksjhy"
      },
      "source": [
        "#Integers & Real Numbers\n",
        "Recall that integers are whole numbers. In the *HTTLAP* pseudocode we introduced four different kinds of integer (see Chapter 9):\n",
        "\n",
        "\n",
        "|Type|Representation|Range of values|\n",
        "|----|--------------|---------------|\n",
        "|byte|Signed 8-bit|-128 ... 127|\n",
        "|shortint|Signed 16-bit|-32,768 ... 32,767|\n",
        "|integer|Signed 32-bit||-2,147,483,648 ... 2,147,483,647|\n",
        "|longint|Signed 64-bit|-9,223,372,036,854,775,808 ... +9,223,372,036,854,775,807|\n",
        "\n",
        "Real numbers are those values that are not whole numbers, such as 1.5, 3.14159, 0.0009, and so on. In *HTTLAP* we have the following real number types:\n",
        "\n",
        "|Type|Size|Range of values|Significant digits|\n",
        "|----|----|---------------|------------------|\n",
        "|real|32-bit|1.40239846E-45 ... 3.40282347E+38|7-8|\n",
        "|doublereal|64-bit|4.94065645841246544E-324 ... 1.79769313486231570E+308|15-16|\n",
        "\n",
        "## Numbers in Python\n",
        "Python does support the explicit use of integer and real numbers. In fact, it also supports [complex numbers](https://www.mathsisfun.com/numbers/complex-numbers.htmlcomplex \"what are complex numbers?\") (numbers with both real and imaginary components) as well as numbers in [non-decimal bases](https://www.tutorialsteacher.com/python/python-number-type \"Numeric types in Python\") (such as binary, octal, and hexadecimal). \n",
        "\n",
        "But, Python allows us to defer choices about whether to handle numbers as reals, integers, and simply lets us declare variables to hold numbers of any kind. \n",
        "\n",
        "Consider the examples below."
      ]
    },
    {
      "cell_type": "code",
      "execution_count": 1,
      "metadata": {
        "id": "DvG1AU7iq_rv"
      },
      "outputs": [
        {
          "name": "stdout",
          "output_type": "stream",
          "text": [
            "3\n",
            "4\n",
            "1.5\n",
            "9.7\n"
          ]
        }
      ],
      "source": [
        "# Here are some numbers holding integers\n",
        "a = 3\n",
        "b = 4\n",
        "\n",
        "# And here are some real (floating point) numbers\n",
        "c = 1.5\n",
        "d = 9.7\n",
        "\n",
        "print (a)\n",
        "print (b)\n",
        "print (c)\n",
        "print (d)"
      ]
    },
    {
      "cell_type": "markdown",
      "metadata": {
        "id": "Cx8LB7o3xqk_"
      },
      "source": [
        "The lines beginning with a '#' are comments -- they contain text to help the person reading the program but are ignored by Python.\n",
        "\n",
        "The lines with an '=' sign are *assignment statements* which assign numeric values to the variables a, b, c, and d. In *HTTLAP* we would have written them like this:\n",
        "\n",
        "$a \\leftarrow 3$\n",
        "\n",
        "$b \\leftarrow 4$\n",
        "\n",
        "$c \\leftarrow 1.5$\n",
        "\n",
        "$d \\leftarrow 9.7$\n",
        "\n",
        "The four lines with the word ````print```` in them call the Python function called ````print()```` which displays the values of its arguments (the things inside the parentheses) in the output box.\n",
        "\n",
        "Execute the code above by pressing the 'play' button in the left corner of the cell. You should see a box appear below the code with the result of the four ````print```` statements. To clear the output hover over the box with your mouse and click the $\\times$ symbol."
      ]
    },
    {
      "cell_type": "markdown",
      "metadata": {
        "id": "u6lpEpdzzLep"
      },
      "source": [
        "##Numeric Operators\n",
        "In *HTTLAP* we did arithmetic by using the numeric operators $+,-,\\times,\\div$. The numeric operators available to us in  Python :\n",
        "\n",
        "|Operator|Meaning|Example|\n",
        "|--------|-------|-------|\n",
        "|`+`      | Addition| `a+b`|\n",
        "|`-`       | Subtraction|`24-d`|\n",
        "|`*`       | Multiplication|`c*d`|\n",
        "|`**` | Exponentiation -- raise to a power| `2**4` (raise 2 to the power of 4)|\n",
        "| `/`      | Floating point division|`17/9` (result is 1.8888888888888888)|\n",
        "| `//`     | Integer divison|`17//9` (result is 1)\n",
        "| `%`      | Modulus -- gives the remainder of integer division|`17%9`(result is 8)|\n",
        "\n",
        "Try these examples out in the code box below. To to this, simply type in an expression (such as ``a+b`) and then either hit CTRL+Enter to run the code, or hit the play button in the corner of the code box. The result will appear immediatelty below the code box. To enter a different expression, just delete the one that's already there and run the code box again.\n"
      ]
    },
    {
      "cell_type": "code",
      "execution_count": 5,
      "metadata": {
        "id": "wFNEdloQ1WwR"
      },
      "outputs": [
        {
          "name": "stdout",
          "output_type": "stream",
          "text": [
            "9.7\n",
            "14.3\n"
          ]
        }
      ],
      "source": [
        "# Enter some numeric expressions here and run the code box.\n",
        "print(d)\n",
        "24-d\n",
        "print(24-d)"
      ]
    },
    {
      "cell_type": "markdown",
      "metadata": {
        "id": "N5buTa8t2wTh"
      },
      "source": [
        "##Operator Precedence\n",
        "Excute the code blocks below to see the effects of [operator precendence](https://introcs.cs.princeton.edu/python/appendix_precedence/ \"operator precendence reminder\")"
      ]
    },
    {
      "cell_type": "code",
      "execution_count": 6,
      "metadata": {
        "id": "FTCIsm7l3qwn"
      },
      "outputs": [
        {
          "data": {
            "text/plain": [
              "13.5"
            ]
          },
          "execution_count": 6,
          "metadata": {},
          "output_type": "execute_result"
        }
      ],
      "source": [
        "a * b + c"
      ]
    },
    {
      "cell_type": "code",
      "execution_count": 7,
      "metadata": {
        "id": "0JnjoJAM3y9U"
      },
      "outputs": [
        {
          "data": {
            "text/plain": [
              "16.5"
            ]
          },
          "execution_count": 7,
          "metadata": {},
          "output_type": "execute_result"
        }
      ],
      "source": [
        "a * (b + c)"
      ]
    },
    {
      "cell_type": "code",
      "execution_count": 8,
      "metadata": {
        "id": "gaMqQlnr382g"
      },
      "outputs": [
        {
          "data": {
            "text/plain": [
              "19"
            ]
          },
          "execution_count": 8,
          "metadata": {},
          "output_type": "execute_result"
        }
      ],
      "source": [
        "a + b**2"
      ]
    },
    {
      "cell_type": "code",
      "execution_count": 9,
      "metadata": {
        "id": "hmqIAwlZ4ARC"
      },
      "outputs": [
        {
          "data": {
            "text/plain": [
              "49"
            ]
          },
          "execution_count": 9,
          "metadata": {},
          "output_type": "execute_result"
        }
      ],
      "source": [
        "(a + b)**2"
      ]
    },
    {
      "cell_type": "markdown",
      "metadata": {
        "id": "SyvhijqM4Ifd"
      },
      "source": [
        "##Control abstractions\n",
        "That's enough to get us started so all we need now are the basic Python control abstractions. You will recall from Chapter of the book that in **HTTLAP** we have the `IF...THEN` and `IF...THEN...ELSE` abstractions for handling selection and the `WHILE...ENDWHILE`, `DO...WHILE`, and `FOR...ENDFOR` abstractions for handling iterations. Python offers us equivalents for these and, as we shall see later, Python's `for` loops can be very powerful.\n",
        "\n",
        "##<font color='blue'>Selection: `IF...THEN`</font>\n",
        "A simple selection in *HTTLAP* would look like this:\n",
        "````\n",
        "IF (a < b) THEN\n",
        "   Display (a is less than b)\n",
        "ENDIF\n",
        "````\n",
        "The following code block shows how we can do this in Python. "
      ]
    },
    {
      "cell_type": "code",
      "execution_count": 10,
      "metadata": {
        "id": "v8goS1-U6QSU"
      },
      "outputs": [
        {
          "name": "stdout",
          "output_type": "stream",
          "text": [
            "a is less than b\n"
          ]
        }
      ],
      "source": [
        "# Selection statement in Python\n",
        "if (a < b):\n",
        "  print (\"a is less than b\")"
      ]
    },
    {
      "cell_type": "markdown",
      "metadata": {
        "id": "0V-9F9Z26OnT"
      },
      "source": [
        "Note the colon at the end of the line containing the keyword `if`, the fact that the keyword is in lowercase, and also the indentation of the `print` statement. Indentation is mandatory in Python as it is used to show nesting, that is, what lines belong to what. For example, consider the following two code blocks. The indentation of the third line in the second example causes that line to be executed as part of the `if`'s action block. Execute both blocks, first time setting the age to 25 and second time setting the age to 17."
      ]
    },
    {
      "cell_type": "code",
      "execution_count": 13,
      "metadata": {
        "id": "IO97sifl6xyn"
      },
      "outputs": [
        {
          "name": "stdout",
          "output_type": "stream",
          "text": [
            "Please try again when you are an adult\n"
          ]
        }
      ],
      "source": [
        "# Indentation example 1\n",
        "age = 25\n",
        "if (age < 18):\n",
        "  print (\"Sorry, you are too young to vote\")\n",
        "print (\"Please try again when you are an adult\")"
      ]
    },
    {
      "cell_type": "code",
      "execution_count": 16,
      "metadata": {
        "id": "6Yh77nKv7EdJ"
      },
      "outputs": [],
      "source": [
        "# Indentation example 2\n",
        "age = 25\n",
        "if (age < 18):\n",
        "  print (\"Sorry, you are too young to vote\")\n",
        "  print (\"Please try again when you are an adult\")"
      ]
    },
    {
      "cell_type": "markdown",
      "metadata": {
        "id": "DxjOjyTu7RxX"
      },
      "source": [
        "See how when the age is 18 or over the first example still displays the message \"Please try again when you are an adult\" wherease the second one does not. This is why indentation is critical in Python. While some languages use pairs of brackets (`{...}`) or `BEGIN...END` keyword pairs to denote the start and end of an action block, Python relies on indentation. **This will be a common source of error as your begin learning Python.**"
      ]
    },
    {
      "cell_type": "markdown",
      "metadata": {
        "id": "zmD-V21H87Ed"
      },
      "source": [
        "##<font color='blue'>Selection: `IF...THEN...ELSE`</font>\n",
        "\n",
        "When we need to specify an alternative course of action, *HTTLAP* offers us the `ELSE` keyword. For example:\n",
        "````\n",
        "IF (a < 10)\n",
        "   Display ('High')\n",
        "ELSE\n",
        "   Display ('Low')\n",
        "ENDIF\n",
        "````\n",
        "\n",
        "In Python this would look like this:"
      ]
    },
    {
      "cell_type": "code",
      "execution_count": 17,
      "metadata": {
        "id": "AOBr4Qe87RU4"
      },
      "outputs": [
        {
          "name": "stdout",
          "output_type": "stream",
          "text": [
            "High\n"
          ]
        }
      ],
      "source": [
        "# IF..THEN...ELSE in Python\n",
        "\n",
        "if (a < 10):\n",
        "  print ('High')\n",
        "else:\n",
        "  print ('Low')"
      ]
    },
    {
      "cell_type": "markdown",
      "metadata": {
        "id": "0Ch5njaK9yqP"
      },
      "source": [
        "If you want to make the output display 'Low', just go back up to code box 3 near the top of this notebook and change the statement that assigns the value 3 to `a`. This demonstrates a neat feature of Jupypter notebooks which is that we can spread our programs across many code boxes but the results of earlier code boxes affect the behaviour of later ones. **Remember to change the value of `a` back to 3 once you're done so that everything will run as expected next time you come back to this notebook.**\n",
        "\n",
        "Remember the student grade calculator from Chapter 6 of the book (p. 147)? It looked like this:\n",
        "````\n",
        "IF (mark ≥ 80)\n",
        "   grade ← ‘A’ ;\n",
        "ELSE IF (mark ≥ 70) \n",
        "   grade ← ‘B’ ; \n",
        "ELSE IF (mark ≥ 60) \n",
        "   grade ← ‘C’ ;\n",
        "ELSE IF (mark ≥ 50) \n",
        "   grade ← ‘D’ ; \n",
        "ELSE IF (mark ≥ 40) \n",
        "   grade ← ‘E’ ;\n",
        "ELSE\n",
        "   grade ← ‘F’ ;\n",
        "ENDIF\n",
        "````\n",
        "The following code box implements this in Python. Try setting different values for the variable `mark` to convince yourself that it works. Note how the `ELSE IF` in *HTTLAP* becomes `elif` in Python.\n"
      ]
    },
    {
      "cell_type": "code",
      "execution_count": 18,
      "metadata": {
        "id": "mt0KJyke_MkF"
      },
      "outputs": [
        {
          "name": "stdout",
          "output_type": "stream",
          "text": [
            "Your grade is : F\n"
          ]
        }
      ],
      "source": [
        "# Grade calculator\n",
        "mark = 39\n",
        "if (mark >= 80):\n",
        "  grade = 'A'\n",
        "elif (mark >= 70):\n",
        "  grade = 'B'\n",
        "elif (mark >= 60):\n",
        "  grade = 'C'\n",
        "elif (mark >= 50):\n",
        "  grade = 'D'\n",
        "elif (mark >= 40):\n",
        "  grade = 'E'\n",
        "else:\n",
        "  grade = 'F'\n",
        "print ('Your grade is :', grade)"
      ]
    },
    {
      "cell_type": "markdown",
      "metadata": {
        "id": "zUZTeFHw__6C"
      },
      "source": [
        "##<font color='blue'>Relational operators</font>\n",
        "The example above introduced Python's relational operators, which we use to compare variables or expressions to each other. The table below shows the *HTTLAP* operators and the euivalent Python operator.\n",
        "\n",
        "|*HTTLAP*|Python|Meaning|\n",
        "|--------|------|-------|\n",
        "|$>$ | `>` |Greater than. True if the left operand is bigger than the right.|\n",
        "|$<$ | `<`| Less than. True if the left operand is smaller than the right.|\n",
        "|$=$ | `==`| Is equal: True if both operands have the same value.|\n",
        "|$\\ne$| `!=` | Is not equal: True if the operands have different values.|\n",
        "|$\\ge$ | `>=`| Greater than *or* equal. True if the left operand is bigger than or equal to the right.|\n",
        "|$\\le$ | `<=`| Less than *or* equal. True if the left operand is less than or equal to the right.|"
      ]
    },
    {
      "cell_type": "markdown",
      "metadata": {
        "id": "E43UYmb6B1BO"
      },
      "source": [
        "##<font color='blue'>Logical operators</font>\n",
        "In addition to the arithmetic and relational operators, the *HTTLAP* pseudocode also has *logical* operators for comparing the truth values of expressions. Python has equivalent operators as shown in the table below.\n",
        "\n",
        "|*HTTLAP*|Python|Meaning|Example|\n",
        "|--------|------|-------|-------|\n",
        "|AND| and |True if both operands are true| `a < 5 and b < 10`|\n",
        "|OR| or | True if either (or both) operand is true| `name == 'ZZZ' or mark == 0`|\n",
        "|NOT| not |A unary operator that gives the oppostite truth value to its operand| `NOT failed`|\n",
        "\n",
        "We will use these in some of the iteration examples below.\n"
      ]
    },
    {
      "cell_type": "markdown",
      "metadata": {
        "id": "MdoMJ6QMD-Pj"
      },
      "source": [
        "##<font color='blue'>Iterations: `WHILE...ENDWHILE`</font>\n",
        "The *HTTLAP* `WHILE` loop example from page 250 of the book looked like this\"\n",
        "\n",
        "````\n",
        "string: name;\n",
        "integer: mark,\n",
        "         total,\n",
        "         numberOfMarks;\n",
        "total ← 0;\n",
        "Get (name and mark from user);\n",
        "WHILE (name ≠ 'ZZZZZ') OR (mark ≠ 0)\n",
        "    total ← total + mark;\n",
        "    numberOfMarks ← numberOfMarks + 1;\n",
        "    Get (next name and mark from user);\n",
        "ENDWHILE\n",
        "````\n",
        "\n",
        "The following code block implements this algorithm in Python. It also shows how we can type numbers into our programs using the `input` function."
      ]
    },
    {
      "cell_type": "code",
      "execution_count": 20,
      "metadata": {
        "id": "0ZJj-SzvFl6c"
      },
      "outputs": [
        {
          "ename": "ValueError",
          "evalue": "invalid literal for int() with base 10: ''",
          "output_type": "error",
          "traceback": [
            "\u001b[0;31m---------------------------------------------------------------------------\u001b[0m",
            "\u001b[0;31mValueError\u001b[0m                                Traceback (most recent call last)",
            "\u001b[1;32m/Users/dickinsd/Github/ds-bootcamp-unn/HTTLAP_to_Python.ipynb Cell 25'\u001b[0m in \u001b[0;36m<cell line: 7>\u001b[0;34m()\u001b[0m\n\u001b[1;32m      <a href='vscode-notebook-cell:/Users/dickinsd/Github/ds-bootcamp-unn/HTTLAP_to_Python.ipynb#ch0000024?line=8'>9</a>\u001b[0m   numberOfMarks\u001b[39m+\u001b[39m\u001b[39m=\u001b[39m\u001b[39m1\u001b[39m\n\u001b[1;32m     <a href='vscode-notebook-cell:/Users/dickinsd/Github/ds-bootcamp-unn/HTTLAP_to_Python.ipynb#ch0000024?line=9'>10</a>\u001b[0m   name \u001b[39m=\u001b[39m \u001b[39minput\u001b[39m(\u001b[39m'\u001b[39m\u001b[39mEnter name: \u001b[39m\u001b[39m'\u001b[39m)\n\u001b[0;32m---> <a href='vscode-notebook-cell:/Users/dickinsd/Github/ds-bootcamp-unn/HTTLAP_to_Python.ipynb#ch0000024?line=10'>11</a>\u001b[0m   mark \u001b[39m=\u001b[39m \u001b[39mint\u001b[39;49m(\u001b[39minput\u001b[39;49m(\u001b[39m'\u001b[39;49m\u001b[39mEnter a mark:\u001b[39;49m\u001b[39m'\u001b[39;49m))\n\u001b[1;32m     <a href='vscode-notebook-cell:/Users/dickinsd/Github/ds-bootcamp-unn/HTTLAP_to_Python.ipynb#ch0000024?line=11'>12</a>\u001b[0m \u001b[39mprint\u001b[39m (\u001b[39m'\u001b[39m\u001b[39mNumber of marks: \u001b[39m\u001b[39m'\u001b[39m, numberOfMarks)\n\u001b[1;32m     <a href='vscode-notebook-cell:/Users/dickinsd/Github/ds-bootcamp-unn/HTTLAP_to_Python.ipynb#ch0000024?line=12'>13</a>\u001b[0m \u001b[39mprint\u001b[39m (\u001b[39m'\u001b[39m\u001b[39mMarks total:\u001b[39m\u001b[39m'\u001b[39m, total)\n",
            "\u001b[0;31mValueError\u001b[0m: invalid literal for int() with base 10: ''"
          ]
        }
      ],
      "source": [
        "# Student marks entry\n",
        "\n",
        "total = 0\n",
        "numberOfMarks = 0\n",
        "name = input('Enter name: ')\n",
        "mark = int(input('Enter a mark:'))\n",
        "while (name != 'ZZZZZ' or mark != 0):\n",
        "  total += mark\n",
        "  numberOfMarks+=1\n",
        "  name = input('Enter name: ')\n",
        "  mark = int(input('Enter a mark:'))\n",
        "print ('Number of marks: ', numberOfMarks)\n",
        "print ('Marks total:', total)\n",
        "print ('Average mark: ', total/numberOfMarks)"
      ]
    },
    {
      "cell_type": "markdown",
      "metadata": {
        "id": "J2HyMzbWHTLb"
      },
      "source": [
        "### Things to note\n",
        "\n",
        "\n",
        "1.   Note how the `while` loop, like the `if` statement uses a colon at the end aof the line and then indentation to denote the action block.\n",
        "2.   The line `name = input('Enter name: ')' calls the function `input` which allows you to enter some text. The text is stored in the variable `name`.\n",
        "3. The line `mark = int(input('Enter a mark:'))` is similar but note how it wraps the input expression in `int()`? This is because the `input` function always returns a string value. But as we are using it here to get a numeric value we use the `int()` notation to convert the result to an integer. If we forget to do this then the program will crash when we try to carry out arithmetic on the `mark` variable.\n",
        "4. The line `total += mark` adds the value of `mark` to the current value of `total`. This is equivalent to writing `total = total + mark`. The `+=` operator is a convenient short-hand for this.\n",
        "5. I have added `print` statements at the bottom to show the results. Note how the last one calculates the average mark and then displays it. Try running the program again, but this time enter a name of `ZZZZZ` and a mark of 0 the first time you are prompted. Why does the program crash at the end? *If you can't answer this, have a look at Solution 6.11 on page 161 of How to Think Like a Programmer.*\n",
        "\n"
      ]
    },
    {
      "cell_type": "markdown",
      "metadata": {
        "id": "yvwReZ3pJZM3"
      },
      "source": [
        "##<font color='blue'>Iterations: `DO...WHILE`</font>\n",
        "The ATM example from Chapter 6 (p. 157) looked like this:\n",
        "\n",
        "````\n",
        "DO\n",
        "   Display 'Please enter your PIN';\n",
        "   Get PIN;\n",
        "WHILE (pin ≠ storedPIN);\n",
        "````\n",
        "\n",
        "Unfortunately, Python doesn't have an equivalent control abstraction. Therefore, to implement an *at-least-once* iteration, we have to force the `while`'s continuing condition to be true at the first evaluation. Here's an example of how we could do this."
      ]
    },
    {
      "cell_type": "code",
      "execution_count": 22,
      "metadata": {
        "id": "5i21JiCQJ0mS"
      },
      "outputs": [
        {
          "name": "stdout",
          "output_type": "stream",
          "text": [
            "Pin successfully entered.\n"
          ]
        }
      ],
      "source": [
        "# ATM DO...WHILE example\n",
        "\n",
        "#Variable to hold the stored PIN\n",
        "storedPIN = 1234;\n",
        "PIN = -9999\n",
        "\n",
        "while (PIN != storedPIN):\n",
        "  PIN = int(input('Please enter your PIN '))\n",
        "print ('Pin successfully entered.')\n"
      ]
    },
    {
      "cell_type": "markdown",
      "metadata": {
        "id": "s4c2s51oLIae"
      },
      "source": [
        "Another way to do it is to put in a condition that is *always* true and then break out of the loop when the PIN is correctly input. The following example uses the `break` keyword to do just that. `break` tells the program to break out of whatever action block it is in and to proceed with the next one."
      ]
    },
    {
      "cell_type": "code",
      "execution_count": null,
      "metadata": {
        "id": "rl9TmttHLgkd"
      },
      "outputs": [],
      "source": [
        "# ATM example with a break out\n",
        "\n",
        "#Variable to hold the stored PIN\n",
        "storedPIN = 1234;\n",
        "\n",
        "while (True):  # This condition will ALWAYS be true as it effectively says while True == True.\n",
        "  PIN = int(input('Please enter your PIN '))\n",
        "  if (PIN == storedPIN):\n",
        "    break\n",
        "print ('Pin successfully entered.')"
      ]
    },
    {
      "cell_type": "markdown",
      "metadata": {
        "id": "q1tnUhLHL864"
      },
      "source": [
        "##<font color='blue'>Iterations: `FOR...ENDFOR`</font>\n",
        "A loop abstraction we will, perhaps, use most often in Python is the `for` loop. Recall, that our *HTTLAP* pseudocode offered us the following abstraction:\n",
        "\n",
        "````\n",
        "FOR variable GOES FROM startVal to endVal\n",
        "   Action block ;\n",
        "ENDFOR\n",
        "````\n",
        "\n",
        "Thus, we could calculate the average monthly rainfall in mm like this:\n",
        "\n",
        "````\n",
        "totalRainfall ← 0;\n",
        "FOR month GOES FROM 1 to 12\n",
        "    Display 'Enter monthly rainfall';\n",
        "    Get monthly rainfall;\n",
        "    totalRainfall ← totalRainfall + monthlyRainfall;\n",
        "ENDFOR\n",
        "Display 'Average monthly rainfall is ', totalRainfall ÷ 12, 'mm' ;\n",
        "````\n",
        "\n",
        "The code block below shows how we could do this in Python."
      ]
    },
    {
      "cell_type": "code",
      "execution_count": 23,
      "metadata": {
        "id": "qb_Ijy6rNaOL"
      },
      "outputs": [
        {
          "name": "stdout",
          "output_type": "stream",
          "text": [
            "Average monthly rainfall is  111296473.5 mm\n"
          ]
        }
      ],
      "source": [
        "# FOR loop for monthly rainfall\n",
        "\n",
        "totalRainfall = 0;\n",
        "for month in range (12):\n",
        "  monthlyRainfall = int(input('Enter monthly rainfall '))\n",
        "  totalRainfall += monthlyRainfall\n",
        "  #print (month)\n",
        "print ('Average monthly rainfall is ', totalRainfall/12, 'mm')"
      ]
    },
    {
      "cell_type": "markdown",
      "metadata": {
        "id": "XZH9KzHgOT1c"
      },
      "source": [
        "### Things to note\n",
        "\n",
        "1.   The line `for month in range (3):` is the equivalent of saying in *HTTLAP* pseudocode `FOR month GOES FROM 0 to 2`. This is because the `range` function generates a sequence of numbers from zero to one less than its argument. Thus, `range(3)` generates the numbers 0, 1, 2; `range(12)` generates 0, 1, 2, 3, 4, 5, 6, 7, 8, 9 10, 11, and so on. If we want to force the starting value to something other than zero so that we go from 1 to 12, we could do this like this: `for month in range (1, 13):`. To see the values `month` takes each time round the loop, uncomment the line `print (month)` by deleting the `#` character.\n",
        "2.   Experiment with different ranges to see the effects. \n",
        "\n"
      ]
    },
    {
      "cell_type": "markdown",
      "metadata": {
        "id": "dRo1BoujSOQI"
      },
      "source": [
        "#<font color='red'>CAUTION</font>\n",
        "Python's `for` abstraction is technically used for iterating over a sequence of things where that sequence could be a list, a tuple, a set, a dicitonary, or a string).  \n",
        "\n",
        "Thus, although it has the same name as the `for` loops in other languages (such as c and Java), it behaves quite differently. It really comes into its own when doing data science-type tasks when we want to iterate over collections of data and manipulate the values in some way.\n",
        "\n",
        "For example, the code block below creates a list of strings. The following code blocks iterate over that list in various ways. Make sure to run the list generation code block once before trying the others."
      ]
    },
    {
      "cell_type": "code",
      "execution_count": 24,
      "metadata": {
        "id": "AQFaT7LgTeds"
      },
      "outputs": [],
      "source": [
        "# Generate a list of strings.\n",
        "\n",
        "building = [\"Dining room\", \"Living room\", \"Kitchen\", \"Bathroom\", \"Bedroom 1\", \n",
        "            \"Bedroom 2\", \"Bedroom 3\"]"
      ]
    },
    {
      "cell_type": "code",
      "execution_count": 25,
      "metadata": {
        "id": "czhZcB-mTzm8"
      },
      "outputs": [
        {
          "name": "stdout",
          "output_type": "stream",
          "text": [
            "There are 7 rooms\n"
          ]
        }
      ],
      "source": [
        "# Count the number of rooms\n",
        "count = 0\n",
        "for x in building:\n",
        "  count +=1\n",
        "print ('There are', count, 'rooms')\n",
        "\n"
      ]
    },
    {
      "cell_type": "code",
      "execution_count": 26,
      "metadata": {
        "id": "DARxsOuMVjNv"
      },
      "outputs": [
        {
          "name": "stdout",
          "output_type": "stream",
          "text": [
            "There are 7 rooms\n"
          ]
        }
      ],
      "source": [
        "#Note, we could also achieve the same result like this:\n",
        "print ('There are', len (building), 'rooms')"
      ]
    },
    {
      "cell_type": "code",
      "execution_count": 27,
      "metadata": {
        "id": "m2pazzU8URKu"
      },
      "outputs": [
        {
          "name": "stdout",
          "output_type": "stream",
          "text": [
            "There are 3 bedrooms\n"
          ]
        }
      ],
      "source": [
        "# Count the number of bedrooms\n",
        "count = 0\n",
        "for x in building:\n",
        "  if 'Bedroom' in x:\n",
        "    count += 1\n",
        "print ('There are', count, 'bedrooms')"
      ]
    },
    {
      "cell_type": "markdown",
      "metadata": {
        "id": "-GPDuH-9YSYj"
      },
      "source": [
        "## A more interesting list\n",
        "The code block below creates a list of *tuples* in which each tuple contains two values: a string giving the name of the room and a number giving its size in square metres.\n",
        "\n",
        "A tuple is like a list, but it is said to be *immutable*, that is, its values cannot be changed. The individual elements of a list, tuple, etc are indexed, with the first element having index 0, the second an index of 1, and so on."
      ]
    },
    {
      "cell_type": "code",
      "execution_count": 28,
      "metadata": {
        "id": "5hgkqJP1Xmxt"
      },
      "outputs": [],
      "source": [
        "newBuilding = [('Dining room', 15.4), ('Living room', 16.0), ('Kitchen', 6.5), ('Bathroom', 5.4), \n",
        "               ('Bedroom 1', 20.0), ('Bedroom 2', 18.7), ('Bedroom 3', 7.5)]\n"
      ]
    },
    {
      "cell_type": "markdown",
      "metadata": {
        "id": "QviWAcreZFLd"
      },
      "source": [
        "The code block below iterates over all the rooms and, for each room reports on whether it is small or not, where small means it has an area of less than 8 square metres. Note how the area is given by accessing the tuple element of index 1 and the name of the room by index 0."
      ]
    },
    {
      "cell_type": "code",
      "execution_count": 29,
      "metadata": {
        "id": "BO8XfM68Y9uB"
      },
      "outputs": [
        {
          "name": "stdout",
          "output_type": "stream",
          "text": [
            "Kitchen is too small\n",
            "Bathroom is too small\n",
            "Bedroom 3 is too small\n"
          ]
        }
      ],
      "source": [
        "# Small room report\n",
        "for x in newBuilding:\n",
        "  if x[1]<8:\n",
        "    print (x[0], 'is too small')"
      ]
    },
    {
      "cell_type": "markdown",
      "metadata": {
        "id": "Iw_aJz4IbQtZ"
      },
      "source": [
        "Let's create a new list of all the rooms that are small."
      ]
    },
    {
      "cell_type": "code",
      "execution_count": 30,
      "metadata": {
        "id": "uwmiVqyXbZ7V"
      },
      "outputs": [
        {
          "name": "stdout",
          "output_type": "stream",
          "text": [
            "[('Kitchen', 6.5), ('Bathroom', 5.4), ('Bedroom 3', 7.5)]\n"
          ]
        }
      ],
      "source": [
        "smallRooms = []\n",
        "for x in newBuilding:\n",
        "  if x[1]<8:\n",
        "    smallRooms.append(x)\n",
        "print (smallRooms)"
      ]
    },
    {
      "cell_type": "markdown",
      "metadata": {
        "id": "bK6ZEjPnbHvV"
      },
      "source": [
        "Let's refine the code to report only on small bedrooms."
      ]
    },
    {
      "cell_type": "code",
      "execution_count": 31,
      "metadata": {
        "id": "4TvJ6kb6azTM"
      },
      "outputs": [
        {
          "name": "stdout",
          "output_type": "stream",
          "text": [
            "Bedroom 3 is too small\n"
          ]
        }
      ],
      "source": [
        "# Small bedroom report\n",
        "for x in newBuilding:\n",
        "  if 'Bedroom' in x[0] and x[1]<8:\n",
        "    print (x[0], 'is too small')"
      ]
    },
    {
      "cell_type": "markdown",
      "metadata": {
        "id": "rKrycRVAb_fH"
      },
      "source": [
        "Let's calculate the total area of the house as well as the total area of the small rooms and the other rooms separately"
      ]
    },
    {
      "cell_type": "code",
      "execution_count": 32,
      "metadata": {
        "id": "iTV7AjREcGkD"
      },
      "outputs": [
        {
          "name": "stdout",
          "output_type": "stream",
          "text": [
            "Total area of small rooms is 19.4\n",
            "Total area of other rooms is  70.1\n",
            "Total area if house is 89.5\n"
          ]
        }
      ],
      "source": [
        "smallRooms = 0\n",
        "otherRooms = 0\n",
        "for x in newBuilding:\n",
        "  if x[1]<8:\n",
        "    smallRooms += x[1]\n",
        "  else:\n",
        "    otherRooms += x[1]\n",
        "print ('Total area of small rooms is', smallRooms)\n",
        "print ('Total area of other rooms is ', otherRooms)\n",
        "print ('Total area if house is', smallRooms + otherRooms)\n"
      ]
    },
    {
      "cell_type": "markdown",
      "metadata": {
        "id": "zbovNx9sjJlY"
      },
      "source": [
        "#List and string manipulation\n",
        "Often we need to access parts of a list or a string (which is really like a list of characters).\n",
        "For example, consider the following list of two strings holding the given name and family name of a person:"
      ]
    },
    {
      "cell_type": "code",
      "execution_count": 33,
      "metadata": {
        "id": "EB9uqxXSje-U"
      },
      "outputs": [],
      "source": [
        "name = [\"Paul\", \"Vickers\"]"
      ]
    },
    {
      "cell_type": "markdown",
      "metadata": {
        "id": "nByXAyYLjicX"
      },
      "source": [
        "I can easily display the person's initials like this:"
      ]
    },
    {
      "cell_type": "code",
      "execution_count": 34,
      "metadata": {
        "id": "66L7VszWjnmk"
      },
      "outputs": [
        {
          "name": "stdout",
          "output_type": "stream",
          "text": [
            "P V\n"
          ]
        }
      ],
      "source": [
        "given = name[0]\n",
        "family = name[1]\n",
        "print (given[0], family[0])"
      ]
    },
    {
      "cell_type": "markdown",
      "metadata": {
        "id": "7jSbFyI3j5d7"
      },
      "source": [
        "Or, I could do it in one line of code:"
      ]
    },
    {
      "cell_type": "code",
      "execution_count": 35,
      "metadata": {
        "id": "RaI5rmwWj7uH"
      },
      "outputs": [
        {
          "name": "stdout",
          "output_type": "stream",
          "text": [
            "P V\n"
          ]
        }
      ],
      "source": [
        "print (name[0][0], name[1][0])"
      ]
    },
    {
      "cell_type": "markdown",
      "metadata": {
        "id": "e3O0ssDnkKBt"
      },
      "source": [
        "Consider the following string which holds a customer's address:\n"
      ]
    },
    {
      "cell_type": "code",
      "execution_count": 36,
      "metadata": {
        "id": "aTxjePQJkP1r"
      },
      "outputs": [],
      "source": [
        "address = '14, Acacia Avenue, Townsville'"
      ]
    },
    {
      "cell_type": "markdown",
      "metadata": {
        "id": "J_Xn3wZjHRWf"
      },
      "source": [
        "I can split the address into its constituent parts (where the commas are):"
      ]
    },
    {
      "cell_type": "code",
      "execution_count": 37,
      "metadata": {
        "id": "8IKbC5CIkbhf"
      },
      "outputs": [
        {
          "name": "stdout",
          "output_type": "stream",
          "text": [
            "['14', 'Acacia Avenue', 'Townsville']\n"
          ]
        }
      ],
      "source": [
        "addressPartsList = address.split(', ')\n",
        "print (addressPartsList)"
      ]
    },
    {
      "cell_type": "markdown",
      "metadata": {
        "id": "hXLBTkIck_dY"
      },
      "source": [
        "Imagine we have product codes in the following format:\n",
        "**`XXX123456789ZZ`** where the first three characters are letters denoting the product group, the middle nine characaters are a unique identifier, and the final two characters are used for warehouse location. If we want to extract characters from fixed positions in a string, or elements from fixed positions in a list, then there  some handy string *slice* operator that lets us achieve this.\n",
        "\n",
        "The code block below breaks the product code up into its three elements based on the lengths of the individual components. It uses the slice operator `[:]` which lets us specify which parts of a string or list we want to access."
      ]
    },
    {
      "cell_type": "code",
      "execution_count": 38,
      "metadata": {
        "id": "ubPxKsObqt3R"
      },
      "outputs": [
        {
          "name": "stdout",
          "output_type": "stream",
          "text": [
            "XXX 123456789 ZZ\n"
          ]
        }
      ],
      "source": [
        "# String slicing\n",
        "productCode = 'XXX123456789ZZ'\n",
        "group = productCode[0:3] # Copy the characters from position 0 to position 3 (not included)\n",
        "ident = productCode[3:12] # Copy the characters from position 3 (the first digit) to position 12\n",
        "warehouse = productCode[-2:] # Copy from position -2 to the end. When - is used, it means start the slice from the end of the string\n",
        "print (group, ident, warehouse)"
      ]
    },
    {
      "cell_type": "markdown",
      "metadata": {
        "id": "383Q39Up0tWW"
      },
      "source": [
        "#Exercise: Marathon Times\n",
        "\n",
        "Below is an exercise that will get you thinking about how to manipulate numbers. It is usual, when working with times, to convert real-world timings into a figure in seconds as this makes comparisons between two times much simpler. Given that there are 3600 seconds in an hour, write an algorithm that takes the start and finish times of a marathon runner in the form hh:mm:ss, converts them to a time in seconds, subtracts the start seconds from the finish seconds to give an elapsed time, and then converts this elapsed time in seconds back into a real world time of the form hh:mm:ss for display. For example, say I started a marathon at 09:05:45 and finished at 13:01:06, my start time would be 09 $\\times$ 3600 + 05 $\\times$ 60 + 45 = 32,400 + 300 + 45 = 32,745 seconds. My finish time would be 46,800 + 60 + 06 = 46,866 seconds. My race time would then be 46,866 - 32,745 = 14,121 seconds. This comes to 03:55:21. The real problem here is how did I get 03:55:21 from 14,121? The solution is related to the change-giving problem from Chapter 3 in the book.\n",
        "\n",
        "**Hint** You will need to use integer arithmetic here. Remember the `//` operator gives you the _whole_ number of times one value goes into another, and the `%` operator gives you the remainder of that divison. For example:\n",
        "````\n",
        "52 // 24 == 2\n",
        "52 % 24 == 4\n",
        "````\n",
        "Thus, a period of 52 hours is equal to 2 days and 4 hours."
      ]
    },
    {
      "cell_type": "code",
      "execution_count": 2,
      "metadata": {
        "id": "bZlzsGl71n8L"
      },
      "outputs": [
        {
          "name": "stdout",
          "output_type": "stream",
          "text": [
            "Well done, your marathon time is 14121 seconds, or 03:55:21\n"
          ]
        }
      ],
      "source": [
        "# Marathon times - put your code here\n",
        "\n",
        "# get some data\n",
        "startTime = input('Enter the start time in format HH:MM:SS : ')\n",
        "endTime = input('Enter the finish time in format HH:MM:SS : ')\n",
        "\n",
        "# convert those times to seconds\n",
        "startHours = startTime[0:2]\n",
        "startMins = startTime[3:5]\n",
        "startSec = startTime[6:]\n",
        "endHours = endTime[0:2]\n",
        "endMins = endTime[3:5]\n",
        "endSec = endTime[6:]\n",
        "\n",
        "# get those seconds: \n",
        "startTimeInSeconds = ((int(startHours) * 3600) + (int(startMins) * 60) + int(startSec))\n",
        "endTimeInSeconds = ((int(endHours) * 3600) + (int(endMins) * 60) + int(endSec))\n",
        "\n",
        "# total time to complete\n",
        "totalSeconds = (endTimeInSeconds - startTimeInSeconds)\n",
        "\n",
        "# convert those seconds back to HHMMSS \n",
        "print('Well done, your marathon time is ' + str(totalSeconds) + ' seconds, or ' + '{:02}:{:02}:{:02}'.format(totalSeconds//3600, totalSeconds%3600//60, totalSeconds%60) )\n"
      ]
    },
    {
      "cell_type": "markdown",
      "metadata": {
        "id": "1DaumUWdE9oT"
      },
      "source": [
        "#Exercise: Fertiliser Potency\n",
        "A University is testing a new fertilizer. They are interested in how long the fertilizer may be kept before its effectiveness is lost. They have done some calculations that indicate the fertilizer loses 6% of its potency every month. Design a Python algorithm that finds how many months it takes before the fertilizer has lost more than 50% of its effective power after which is must be thrown away. The first four months of potency figures would look like this:\n",
        "\n",
        "````\n",
        "Month 1, potency 100%\n",
        "Month 2, potency 94%\n",
        "Month 3, potency 88.36%\n",
        "Month 4, potency 83.0584%\n",
        "...\n",
        "Loses potency at month xx\n",
        "````\n",
        "\n",
        "The algorithm should produce summary messages for each month as above stopping after the potency has gone below 50%.\n",
        "\n",
        "*Note, you are removing 6% of the fertilizer’s remaining potency each month, not its original potency. That is why after month 3 the potency is 88.36% and not 88%.*"
      ]
    },
    {
      "cell_type": "code",
      "execution_count": 5,
      "metadata": {
        "id": "zBuiwnKlGpjB"
      },
      "outputs": [
        {
          "name": "stdout",
          "output_type": "stream",
          "text": [
            "Fertilizer is 1 month(s) old and has a potency of 100\n",
            "Fertilizer is 2 month(s) old and has a potency of 94.0\n",
            "Fertilizer is 3 month(s) old and has a potency of 88.36\n",
            "Fertilizer is 4 month(s) old and has a potency of 83.05839999999999\n",
            "Fertilizer is 5 month(s) old and has a potency of 78.07489599999998\n",
            "Fertilizer is 6 month(s) old and has a potency of 73.39040223999997\n",
            "Fertilizer is 7 month(s) old and has a potency of 68.98697810559997\n",
            "Fertilizer is 8 month(s) old and has a potency of 64.84775941926397\n",
            "Fertilizer is 9 month(s) old and has a potency of 60.956893854108124\n",
            "Fertilizer is 10 month(s) old and has a potency of 57.29948022286163\n",
            "Fertilizer is 11 month(s) old and has a potency of 53.86151140948993\n",
            "Fertilizer is 12 month(s) old and has a potency of 50.62982072492053\n",
            "Fertilizer is 13 month(s) old and has a potency of 47.592031481425295\n",
            "The fertilizer lasted 12 months before it was useless\n"
          ]
        }
      ],
      "source": [
        "# Potency test - put your code here\n",
        "\n",
        "# starting variables\n",
        "potency = 100\n",
        "monthsInStorage = 1\n",
        "\n",
        "print('Fertilizer is ' + str(monthsInStorage) + ' month(s) old and has a potency of ' + str(potency))\n",
        "# as long as potency is more than 50% then do the following \n",
        "while potency > 50:\n",
        "    # I want to know how many months it took to get to disposal stage\n",
        "    monthsInStorage = monthsInStorage ++ 1\n",
        "    # potency reduction\n",
        "    potency = (potency * 0.94)\n",
        "    # showing the per-month decrease\n",
        "    print('Fertilizer is ' + str(monthsInStorage) + ' month(s) old and has a potency of ' + str(potency))\n",
        "    # I don't know why the while loop counts to beyond it's TRUE state, therefore I need a -1 on the final month count ??\n",
        "\n",
        "# exit loop and give final count of months (-1) \n",
        "print('The fertilizer lasted ' + str(monthsInStorage -1) + ' months before it was useless')\n"
      ]
    },
    {
      "cell_type": "code",
      "execution_count": 100,
      "metadata": {},
      "outputs": [
        {
          "name": "stdout",
          "output_type": "stream",
          "text": [
            "Fertilizer is 1 month(s) old and has a potency of 100\n",
            "Fertilizer is 2 month(s) old and has a potency of 94.0\n",
            "Fertilizer is 3 month(s) old and has a potency of 88.36\n",
            "Fertilizer is 4 month(s) old and has a potency of 83.05839999999999\n",
            "Fertilizer is 5 month(s) old and has a potency of 78.07489599999998\n",
            "Fertilizer is 6 month(s) old and has a potency of 73.39040223999997\n",
            "Fertilizer is 7 month(s) old and has a potency of 68.98697810559997\n",
            "Fertilizer is 8 month(s) old and has a potency of 64.84775941926397\n",
            "Fertilizer is 9 month(s) old and has a potency of 60.956893854108124\n",
            "Fertilizer is 10 month(s) old and has a potency of 57.29948022286163\n",
            "Fertilizer is 11 month(s) old and has a potency of 53.86151140948993\n",
            "Fertilizer is 12 month(s) old and has a potency of 50.62982072492053\n",
            "The fertilizer lasted 12 months before it was useless\n"
          ]
        }
      ],
      "source": [
        "# Potency test - put your code here - AS A DO WHILE LOOP\n",
        "\n",
        "# starting variables\n",
        "potency = 100\n",
        "monthsInStorage = 0\n",
        "# creating a do-while loop\n",
        "while True:\n",
        "    # month counter was initialised to 0, so the first run will add 1 to that counter\n",
        "    monthsInStorage = monthsInStorage ++ 1\n",
        "    # at the start of the first run I should have 1 month @ 100%\n",
        "    print('Fertilizer is ' + str(monthsInStorage) + ' month(s) old and has a potency of ' + str(potency)) \n",
        "    # potency reduction\n",
        "    if (potency > 50) :\n",
        "        # if the potency is greater than 50, then reduce by 6%\n",
        "        potency = (potency * 0.94)\n",
        "    # however, if we get less than 50, then break the while loop\n",
        "    if (potency < 50) :\n",
        "            #break the while loop\n",
        "            break\n",
        "# at the end of the loop, give a final statement of months to disposal\n",
        "print('The fertilizer lasted ' + str(monthsInStorage) + ' months before it was useless')"
      ]
    },
    {
      "cell_type": "markdown",
      "metadata": {
        "id": "R-_nTovU_DRO"
      },
      "source": [
        "# Exercise: Van Loading\n",
        "\n",
        "The van loading solution from Chapter 5 involved some nested `WHILE` loops. If we use a list to hold the weights of all the packages on the conveyor belt like this, with the final element being 0 to denote the end of the data:\n",
        "\n"
      ]
    },
    {
      "cell_type": "code",
      "execution_count": null,
      "metadata": {
        "id": "WCJaDDDlBGe0"
      },
      "outputs": [],
      "source": [
        "parcels = [50, 90, 120, 110, 40, 30, 85, 85, 110, 100, 100, 100, 100, 120, 90, 50, 85, 120, 40, 0]"
      ]
    },
    {
      "cell_type": "markdown",
      "metadata": {
        "id": "bDkNMzwaBI31"
      },
      "source": [
        "then you should be able to implement the van-loading algorithm below in Python. \n",
        "##Tips\n",
        "\n",
        "1.   Each time we load a parcel, we can remove it from the `parcels` list using the slice operation like so: \n",
        "`parcels = parcels [1:]`\n",
        "That will take all but the first element in the `parcels` list and overwrite the old list, thus removing the first element.\n",
        "2.   For the 'conveyor not empty' condition, use the Python condition `parcelWeight > 0`.\n",
        "3. To 'get' a parcel weight, assign the first element of the parcels list (`parcels[0]`) to the variable `parcelWeight`.\n",
        "3. Make sure you either run the code block above or copy it into your code block to ensure that the `parcels` variable is initialised with the list of parcels to be loaded.\n",
        "\n",
        "## The pseudocode algorithm\n",
        "````\n",
        "# Initialise variables\n",
        "parcels ← [50, 90, 120, 110, 40, 30, 85, 85, 110, 100, 100, 100, 100, 120, 90, 50, 85, 120, 40, 0] ;\n",
        "capacity ← 750 ;\n",
        "numberOfVans ← 0 ;\n",
        "heaviestVan ← 0 ;\n",
        "\n",
        "Get first parcelWeight ;\n",
        "WHILE (conveyor not empty)\n",
        "   # Process vans\n",
        "   payload ← 0\n",
        "   WHILE (payload + parcelWeight <= capacity) AND (conveyor NOT empty)\n",
        "      # Load a single van\n",
        "      payload ← payload + parcelWeight ;\n",
        "      Get next parcelWeight ;\n",
        "   ENDWHILE\n",
        "   print 'Van despatched' and its payload ;\n",
        "   numberOfVans ← numberOfVans + 1 ;\n",
        "   # Check whether this is the heaviest van\n",
        "   IF (payload > heaviestVan) THEN\n",
        "      heaviestVan ← payload ;\n",
        "   ENDIF\n",
        "ENDWHILE\n",
        "print number of vans despatched ;\n",
        "print payload of heaviest van ;\n",
        "````\n",
        "\n",
        "\n"
      ]
    },
    {
      "cell_type": "code",
      "execution_count": 104,
      "metadata": {
        "id": "NTDNQc2U5PQP"
      },
      "outputs": [
        {
          "name": "stdout",
          "output_type": "stream",
          "text": [
            "20\n",
            "19\n",
            "Van dispatched, payload was 720\n",
            "Van dispatched, payload was 745\n"
          ]
        },
        {
          "ename": "IndexError",
          "evalue": "pop from empty list",
          "output_type": "error",
          "traceback": [
            "\u001b[0;31m---------------------------------------------------------------------------\u001b[0m",
            "\u001b[0;31mIndexError\u001b[0m                                Traceback (most recent call last)",
            "\u001b[1;32m/Users/dickinsd/Github/ds-bootcamp-unn/HTTLAP_to_Python.ipynb Cell 69'\u001b[0m in \u001b[0;36m<cell line: 13>\u001b[0;34m()\u001b[0m\n\u001b[1;32m     <a href='vscode-notebook-cell:/Users/dickinsd/Github/ds-bootcamp-unn/HTTLAP_to_Python.ipynb#ch0000067?line=17'>18</a>\u001b[0m     payload \u001b[39m=\u001b[39m payload \u001b[39m+\u001b[39m currentParcel\n\u001b[1;32m     <a href='vscode-notebook-cell:/Users/dickinsd/Github/ds-bootcamp-unn/HTTLAP_to_Python.ipynb#ch0000067?line=18'>19</a>\u001b[0m     \u001b[39m# get the next parcel\u001b[39;00m\n\u001b[0;32m---> <a href='vscode-notebook-cell:/Users/dickinsd/Github/ds-bootcamp-unn/HTTLAP_to_Python.ipynb#ch0000067?line=19'>20</a>\u001b[0m     currentParcel \u001b[39m=\u001b[39m parcels\u001b[39m.\u001b[39;49mpop(\u001b[39m0\u001b[39;49m)\n\u001b[1;32m     <a href='vscode-notebook-cell:/Users/dickinsd/Github/ds-bootcamp-unn/HTTLAP_to_Python.ipynb#ch0000067?line=20'>21</a>\u001b[0m \u001b[39mprint\u001b[39m(\u001b[39m'\u001b[39m\u001b[39mVan dispatched, payload was \u001b[39m\u001b[39m'\u001b[39m \u001b[39m+\u001b[39m \u001b[39mstr\u001b[39m(payload))\n\u001b[1;32m     <a href='vscode-notebook-cell:/Users/dickinsd/Github/ds-bootcamp-unn/HTTLAP_to_Python.ipynb#ch0000067?line=21'>22</a>\u001b[0m numberOfVans \u001b[39m=\u001b[39m numberOfVans \u001b[39m+\u001b[39m \u001b[39m1\u001b[39m\n",
            "\u001b[0;31mIndexError\u001b[0m: pop from empty list"
          ]
        }
      ],
      "source": [
        "# Van loading - put your solution here\n",
        "\n",
        "parcels = [50, 90, 120, 110, 40, 30, 85, 85, 110, 100, 100, 100, 100, 120, 90, 50, 85, 120, 40, 0]\n",
        "capacity = 750\n",
        "numberOfVans = 0\n",
        "heaviestVan = 0\n",
        "\n",
        "# I'm going to get the size of the conveyor belt (for own info, not needed as part of challenge)\n",
        "print(len(parcels))\n",
        "currentParcel = parcels.pop(0)\n",
        "#verify it does as I believe...\n",
        "print(len(parcels))\n",
        "while (len(parcels) > 0):\n",
        "    # set this vans initial payload\n",
        "    payload = 0\n",
        "    while (payload + currentParcel <= capacity):\n",
        "        # load the van\n",
        "        payload = payload + currentParcel\n",
        "        # get the next parcel\n",
        "        if (len(parcels) != 1):\n",
        "            currentParcel = parcels.pop(0)\n",
        "    print('Van dispatched, payload was ' + str(payload))\n",
        "    numberOfVans = numberOfVans + 1\n",
        "    # check if this is the heaviest van so far? \n",
        "    if (payload > heaviestVan): \n",
        "        heaviestVan = payload\n",
        "print('number of vans dispatched today is ' + str(numberOfVans))\n",
        "print('the payload of the heaviest van was ' + str(heaviestVan) + 'kg')\n",
        "\n",
        "\n"
      ]
    },
    {
      "cell_type": "code",
      "execution_count": 4,
      "metadata": {},
      "outputs": [
        {
          "name": "stdout",
          "output_type": "stream",
          "text": [
            "Van dispatched, payload was 720\n",
            "Van dispatched, payload was 745\n",
            "Van dispatched, payload was 120\n",
            "number of vans dispatched today is 3\n",
            "the payload of the heaviest van was 745kg\n"
          ]
        }
      ],
      "source": [
        "# Van loading - put your solution here\n",
        "\n",
        "parcels = [50, 90, 120, 110, 40, 30, 85, 85, 110, 100, 100, 100, 100, 120, 90, 50, 85, 120, 40, 0]\n",
        "capacity = 750\n",
        "numberOfVans = 0\n",
        "heaviestVan = 0\n",
        "\n",
        "# get the first parcel\n",
        "currentParcel = parcels.pop(0)\n",
        "# while loop will continue until the list has a single item remaining (the zero)\n",
        "while (len(parcels) != 1):\n",
        "    # set this vans initial payload\n",
        "    payload = 0\n",
        "    while ((payload + currentParcel <= capacity) and (len(parcels) != 1)):\n",
        "        # load the van\n",
        "        payload = payload + currentParcel\n",
        "        # get the next parcel\n",
        "        currentParcel = parcels.pop(0)\n",
        "    print('Van dispatched, payload was ' + str(payload))\n",
        "    numberOfVans = numberOfVans + 1\n",
        "    # check if this is the heaviest van so far? \n",
        "    if (payload > heaviestVan): \n",
        "        heaviestVan = payload\n",
        "print('number of vans dispatched today is ' + str(numberOfVans))\n",
        "print('the payload of the heaviest van was ' + str(heaviestVan) + 'kg')\n",
        "\n"
      ]
    },
    {
      "cell_type": "markdown",
      "metadata": {
        "id": "p-RfweV0rPWC"
      },
      "source": [
        "# Further Practice: Codingbat\n",
        "For the rest of this week we are going to tackle some exercises hosted at the [CodingBat](https://codingbat.com/python \"CodingBat Python practice\") website. Before we get to the details, there are two principal advantages of doing this to highlight:\n",
        "\n",
        "1.   Learning to program requires **LOTS** of repeated practice. You need to build up your repertoire of Python techniques so that you don't have to continually reach for your course notes to do basic things.\n",
        "2.   Secondly, employers are increasingly using exercises of the kind found on sites like CodingBat as part of their staff selection and recruitment process. There's no better way to see if someone has the basics of programming down pat than asking them to complete a series of small programming challenges. Therefore, engaging with the CodingBath exercises will help you to become familiar with the kinds of challenges you might face at a future job interview.\n",
        "\n",
        "## Functions\n",
        "For all exercises you will be writing the body of a Python function. We will look at functions in more detail in a later week. For now, the following should be sufficient to get you going.\n",
        "\n",
        "A function in Python is a sub-program, that is, a self-contained algorithm that carries out a specific task and which can be called (excecuted) from other parts of a program. Here is a function that returns (gives back) the square of a number n that is passed to it:"
      ]
    },
    {
      "cell_type": "code",
      "execution_count": 6,
      "metadata": {
        "id": "EGpWrDlipOsg"
      },
      "outputs": [
        {
          "name": "stdout",
          "output_type": "stream",
          "text": [
            "81\n"
          ]
        }
      ],
      "source": [
        "def square(n):\n",
        "  '''Takes a number n and returns its square'''\n",
        "  return n*n\n",
        "\n",
        "print(square(9))"
      ]
    },
    {
      "cell_type": "markdown",
      "metadata": {
        "id": "EG6IUeScpl30"
      },
      "source": [
        "Execute the cell containing the function in order to make it visible to the rest of the program. We could use the function in a program like this:"
      ]
    },
    {
      "cell_type": "code",
      "execution_count": 7,
      "metadata": {
        "id": "TEdoXATCp4VX"
      },
      "outputs": [
        {
          "name": "stdout",
          "output_type": "stream",
          "text": [
            "The square of 4 is 16.\n"
          ]
        }
      ],
      "source": [
        "number = 4\n",
        "number_squared = square(number)\n",
        "print (f\"The square of {number} is {number_squared}.\")"
      ]
    },
    {
      "cell_type": "markdown",
      "metadata": {
        "id": "bZ2F8gICp_64"
      },
      "source": [
        "Notice how the value of number is copied into 'n' inside the function. The function returns n multiplied by itself.\n",
        "\n",
        "In the exercises that follow the function's header line (the line starting with 'def') is provided. Any values or names inside the parentheses are the data that your function can work with. Complete the body of the function (remembering to indent each line) and press the 'Go' button to test your solution. Here's an example of how the CodingBat interface looks:\n",
        "![CodingBat Screen](https://drive.google.com/uc?id=1lmguKD2eZSe_BgEYN9m-LeH0iEFPYG_S)\n"
      ]
    },
    {
      "cell_type": "markdown",
      "metadata": {
        "id": "ebWVDoAft7vL"
      },
      "source": [
        "## Walkthrough example\n",
        "Before commencing the exercises, watch this walkthrough video demonstrating how I tackled one of the problems.\n",
        "<a href=\"https://youtu.be/AYtpnDRlrrg\" target=\"_blank\"><img alt='Thumbnail for CodingBat Wakthrough Example' src=\"data:image/png;base64,iVBORw0KGgoAAAANSUhEUgAAAlgAAAFhCAYAAACs+9QkAAAK3GlDQ1BJQ0MgUHJvZmlsZQAASImVlwdUU+kSgP97b3qhBSKd0DvSCSAlhBZAQTqISkgCCSXEhKAiNmRxBVcUFRFQV3RRQMHVFZC1IBZsi2LDviCLgrouFmyo7AUeYXffee+dN+fM/b8zd/75Z+bc/5y5AFCDuRJJJqwCQJY4RxoZ5MeIT0hk4J8APMAAVUAHBlyeTMKKiAgDqEytf5d3twE0vt6wHY/17+//q6jxBTIeAFASyil8GS8L5XZUn/Ek0hwAkAOo3XhxjmScr6GsLkUTRPm3cU6b5A/jnDLBGMqET3QkG2UGAAQKlytNA4Big9oZubw0NA5lvAZ7MV8kRjkfZW+ekMtH+TjKNllZ2eM8iLIF6i8BgIp2BzBT/hIz7W/xUxTxudw0BU/WNSEEf5FMksld+n+25n9LVqZ86gwzVClCaXDkeE/R/t3JyA5VsDhlTvgUi/iTfR9noTw4Zop5MnbiFPO5/qGKvZlzwqY4VRTIUcTJ4URPsUAWEDXF0uxIxVmpUjZrirnS6XPlGTEKu1DAUcTPE0bHTXGuKHbOFMsyokKnfdgKu1QeqchfIA7ymz43UFF7luwv9Yo4ir05wuhgRe3c6fwFYtZ0TFm8Ije+wD9g2idG4S/J8VOcJcmMUPgLMoMUdllulGJvDvpxTu+NUPQwnRsSMcWADURADAQgC3ABAwQDfwByBEtyxgthZ0uWSkVpwhwGC71tAgZHzLOzYTjaOzoCMH53Jz+HN3cm7iREJ0zb8jIA8L0AABwwbYtD70B9HQB03WmbyWf0CpUC0HaZJ5fmTtow4w8sIAFloA60gD4wBhbAFjgCV+AJfEEACAHhIBokgAWAB4Ro3lKwGOSD1aAIlICNYCuoBLvAHrAfHASHQQs4Dk6D8+AyuAZugfugFwyA52AYvAOjEAThISpEg7QgA8gUsoYcISbkDQVAYVAklAAlQ2mQGJJD+dAaqAQqgyqh3VAd9CN0DDoNXYS6obtQHzQEvYY+wQhMgdVhPdgMngkzYRYcCkfD8+E0eBGcBxfCG+AKuAY+ADfDp+HL8C24F34OjyAAISN0xBCxRZgIGwlHEpFURIqsQIqRcqQGaUTakE7kBtKLvEA+YnAYGoaBscV4YoIxMRgeZhFmBWY9phKzH9OMOYu5genDDGO+YqlYXaw11gPLwcZj07CLsUXYcmwt9ij2HPYWdgD7DofD0XHmODdcMC4Bl45bhluP24FrwrXjunH9uBE8Hq+Ft8Z74cPxXHwOvgi/HX8Afwp/HT+A/0AgEwwIjoRAQiJBTCgglBPqCScJ1wlPCaNEFaIp0YMYTuQTlxJLiXuJbcSrxAHiKEmVZE7yIkWT0kmrSRWkRtI50gPSGzKZbER2J88li8iryBXkQ+QL5D7yR4oaxYrCpiRR5JQNlH2UdspdyhsqlWpG9aUmUnOoG6h11DPUR9QPSjQlOyWOEl9ppVKVUrPSdaWXykRlU2WW8gLlPOVy5SPKV5VfqBBVzFTYKlyVFSpVKsdUelRGVGmqDqrhqlmq61XrVS+qDqrh1czUAtT4aoVqe9TOqPXTEJoxjU3j0dbQ9tLO0QbUcerm6hz1dPUS9YPqXerDGmoazhqxGks0qjROaPTSEboZnUPPpJfSD9Nv0z/N0JvBmiGYsW5G44zrM95r6mj6ago0izWbNG9pftJiaAVoZWht0mrReqiN0bbSnqu9WHun9jntFzrqOp46PJ1incM693RhXSvdSN1lunt0r+iO6OnrBelJ9LbrndF7oU/X99VP19+if1J/yIBm4G0gMthicMrgGUODwWJkMioYZxnDhrqGwYZyw92GXYajRuZGMUYFRk1GD41JxkzjVOMtxh3GwyYGJrNN8k0aTO6ZEk2ZpkLTbaadpu/NzM3izNaatZgNmmuac8zzzBvMH1hQLXwsFlnUWNy0xFkyLTMsd1hes4KtXKyEVlVWV61ha1drkfUO624brI27jdimxqbHlmLLss21bbDts6PbhdkV2LXYvZxpMjNx5qaZnTO/2rvYZ9rvtb/voOYQ4lDg0Obw2tHKkedY5XjTieoU6LTSqdXplbO1s8B5p/MdF5rLbJe1Lh0uX1zdXKWuja5DbiZuyW7Vbj1MdWYEcz3zgjvW3c99pftx948erh45Hoc9/vC09czwrPccnGU+SzBr76x+LyMvrtdur15vhney9/fevT6GPlyfGp/Hvsa+fN9a36csS1Y66wDrpZ+9n9TvqN97tgd7ObvdH/EP8i/27wpQC4gJqAx4FGgUmBbYEDgc5BK0LKg9GBscGrwpuIejx+Fx6jjDIW4hy0POhlJCo0IrQx+HWYVJw9pmw7NDZm+e/WCO6RzxnJZwEM4J3xz+MMI8YlHEz3NxcyPmVs19EukQmR/ZGUWLWhhVH/Uu2i+6NPp+jEWMPKYjVjk2KbYu9n2cf1xZXG/8zPjl8ZcTtBNECa2J+MTYxNrEkXkB87bOG0hySSpKuj3ffP6S+RcXaC/IXHBiofJC7sIjydjkuOT65M/ccG4NdySFk1KdMsxj87bxnvN9+Vv4QwIvQZngaapXalnqYJpX2ua0IaGPsFz4QsQWVYpepQen70p/nxGesS9jLDMusymLkJWcdUysJs4Qn83Wz16S3S2xlhRJehd5LNq6aFgaKq2VQbL5stYcdXRIuiK3kH8j78v1zq3K/bA4dvGRJapLxEuuLLVaum7p07zAvB+WYZbxlnXkG+avzu9bzlq+ewW0ImVFx0rjlYUrB1YFrdq/mrQ6Y/UvBfYFZQVv18StaSvUK1xV2P9N0DcNRUpF0qKetZ5rd32L+Vb0bdc6p3Xb130t5hdfKrEvKS/5vJ63/tJ3Dt9VfDe2IXVDV6lr6c6NuI3ijbc3+WzaX6ZallfWv3n25uYtjC3FW95uXbj1Yrlz+a5tpG3ybb0VYRWt2022b9z+uVJYeavKr6qpWrd6XfX7Hfwd13f67mzcpberZNen70Xf39kdtLu5xqymfA9uT+6eJ3tj93b+wPyhrla7tqT2yz7xvt79kfvP1rnV1dXr1pc2wA3yhqEDSQeuHfQ/2Npo27i7id5Ucggckh969mPyj7cPhx7uOMI80viT6U/VR2lHi5uh5qXNwy3Clt7WhNbuYyHHOto8247+bPfzvuOGx6tOaJwoPUk6WXhy7FTeqZF2SfuL02mn+zsWdtw/E3/m5tm5Z7vOhZ67cD7w/JlOVuepC14Xjl/0uHjsEvNSy2XXy81XXK4c/cXll6Ndrl3NV92utl5zv9bWPav75HWf66dv+N84f5Nz8/KtObe6b8fcvtOT1NN7h39n8G7m3Vf3cu+N3l/1APug+KHKw/JHuo9qfrX8tanXtfdEn3/flcdRj+/38/qf/yb77fNA4RPqk/KnBk/rBh0Hjw8FDl17Nu/ZwHPJ89EXRb+r/l790uLlT3/4/nFlOH544JX01djr9W+03ux76/y2YyRi5NG7rHej74s/aH3Y/5H5sfNT3Keno4s/4z9XfLH80vY19OuDsayxMQlXyp0YBRBU4dRUAF7vQ2fjBABo6FxOmjc5W08INPk/MEHgP/Hk/D0hrgDsaUdnEVRDUK1eBYApqjT0VYQvANG+AHZyUui/RJbq5DgZi9yCjiblY2Nv0NkRbwnAl56xsdGWsbEvtWiy9wBofzc5048LDp3lywxhyAE5U+AI/imT8/5favznCsYzcAb/XP8E7KUY7UI6IUwAAACWZVhJZk1NACoAAAAIAAUBEgADAAAAAQABAAABGgAFAAAAAQAAAEoBGwAFAAAAAQAAAFIBKAADAAAAAQACAACHaQAEAAAAAQAAAFoAAAAAAAAASAAAAAEAAABIAAAAAQADkoYABwAAABIAAACEoAIABAAAAAEAAAJYoAMABAAAAAEAAAFhAAAAAEFTQ0lJAAAAU2NyZWVuc2hvdHVVKZcAAAAJcEhZcwAACxMAAAsTAQCanBgAAAI+aVRYdFhNTDpjb20uYWRvYmUueG1wAAAAAAA8eDp4bXBtZXRhIHhtbG5zOng9ImFkb2JlOm5zOm1ldGEvIiB4OnhtcHRrPSJYTVAgQ29yZSA2LjAuMCI+CiAgIDxyZGY6UkRGIHhtbG5zOnJkZj0iaHR0cDovL3d3dy53My5vcmcvMTk5OS8wMi8yMi1yZGYtc3ludGF4LW5zIyI+CiAgICAgIDxyZGY6RGVzY3JpcHRpb24gcmRmOmFib3V0PSIiCiAgICAgICAgICAgIHhtbG5zOmV4aWY9Imh0dHA6Ly9ucy5hZG9iZS5jb20vZXhpZi8xLjAvIgogICAgICAgICAgICB4bWxuczp0aWZmPSJodHRwOi8vbnMuYWRvYmUuY29tL3RpZmYvMS4wLyI+CiAgICAgICAgIDxleGlmOlBpeGVsWURpbWVuc2lvbj45MjM8L2V4aWY6UGl4ZWxZRGltZW5zaW9uPgogICAgICAgICA8ZXhpZjpVc2VyQ29tbWVudD5TY3JlZW5zaG90PC9leGlmOlVzZXJDb21tZW50PgogICAgICAgICA8ZXhpZjpQaXhlbFhEaW1lbnNpb24+MTU2NzwvZXhpZjpQaXhlbFhEaW1lbnNpb24+CiAgICAgICAgIDx0aWZmOk9yaWVudGF0aW9uPjE8L3RpZmY6T3JpZW50YXRpb24+CiAgICAgIDwvcmRmOkRlc2NyaXB0aW9uPgogICA8L3JkZjpSREY+CjwveDp4bXBtZXRhPgrp0e+PAABAAElEQVR4Aex9B4BV1bX2N52ZoffeexGUKiACitgLxiRqXqImz8T0+qe9aEx8L77El2iiscQYNbFhwULsIkU6UqRI770PMMP0+de3zl13zhzuNBysa8O9u6299trfOfecb9beZ5+kY8eOlcGDI+AIOAKOgCPgCDgCjkCdIZBUJqHOtLkiR8ARcAQcAUfAEXAEHAGkkl8lJSWhap6VFIMqxMVYxKzFBqblLY6Vn9CH1CfJP+tX61VhTK/pqySmeoaQRUFB+NtssJh1sX7N9grjj8mZrUFsQ4z1FNVVJmOQf5RlYJr/GUyPaQhKg2+rs9jkGRsmVhbOR8us33A71ZnQDkrFAnFQ25kPDI7bEh5jSJ5ieswkEZc1deFzKN4+nlAps9UwZ2F0bDF1FfTH+4qpC+uhfCKbWMb/emwkUaEfreJxY4iNPSajfXF8bMxarQ5kmNe+maXu0N8mZqPFlLVgOtlVonqTk0rtMCyvdTTFTIil4zIUsDpJsjwoCgrLx2FCQYmepyoZapNgPDGRcr0hGa0L2aP9xurj45R6s4F2Rvu1cyF+nAKhAKdY2mwIx8H4tUcdf4Vxlw9Vm+h5rnZaRflxiLcTu81mK4vaG+4/dnrEi3SMofGZLhOwvMXRcuoznPS8CuEaPs+sncaVyFSwP0mNonLVH8c5dBzZrx0XbUuYRD5sh/UXl41BaX2VH0eRpG72x+tLrP/wuMNtVC+/YvLab+i4azvmGVTtiTrDutnexLWN5RkzxFSZnLVNaFPQIn5exLJBZHpDhabLdLMqqjcuE66LGaXYxs5Dto1jaucm5QTT8kEE+uNyWs+WsSCiiXTGqyPXbMoy6HGPCYXtZZHlLY6JBf3Isbb+rDwaazuzk/bF7p8mp+2lnnKBWPnv0mTCsdpMUcOI514sJLSRShnYt/yzsYb1BAKxep6/FI7oD+u2tMXWXm2Sr3KLUCp6SlVh7DodKGcHGiyOZSORKowAExGpVZaWldtRq6Yu7Ag4Ao6AI+AIOAKOwEeCQGlpKVKV0AlvKikpETJTiqRksrVSyQvRkmRKcmrIuKoJljK4UuNrIlu1eEjviUkaR32los/+6iLLDAjXibpJ7krF7kCGch+g8xPN8RJHwBFwBBwBR8ARcARqjECSEBllRHFCwlyIm5RJNUmX0aaoZoqS3BQXFwsvK0NqagqSU1JUzNpaG/NIhXWFuhJF+j9GoqxVeVwmpIsyamuMQFEXvaYkYSkxw0ulIyNiFfSXq/KUI+AIOAKOgCPgCDgCpwQB9WBxQjBF2MiODXswe85CrF+zDVnZaRg89DScMXQAshtmoKi4NEaaytSzlZyULHnOX4rXS8hMsni5Vq5cg1emvoqf/ezHWLZkORbOXYhrv3I1MrMzlXwlC0lLTk5BiZAwmYgUzxjbkywByUKMaEdZWbGUJ+PQoeOY/vpMHDx8UOpTxJ5MDB54Onr06aheqtLSEqSkJbMBSsRrVSg666WkY8uG7SgqLEb3Pp1RXFak3qzkpNQwXzwlQLpSR8ARcAQcAUfAEXAEwggIT0rCuqVbcEH3GzDn3yvQv/tQpJc2xpgJl2P2mwuEASUjLUUoUElAhNLFQ0VPUZJMIbKt+bbyDqRh2uRNEM6F5DLxYBWmq0cLkk8VkkNyRY9WsrThhzRL09RQVIqiAqFdMk0JKT+0Jx+TvvgQdr6Xh9LcdEx/diWuGPBzbN6wC8mpydK/6BfRsgLxmAm5SxGyR0/Vv5+bhhcfe0PHJ70pAXMPVvhwe9oRcAQcAUfAEXAEPgwEUvNzCnH7L+/H5755AX5x27eR2kS6LRuCi64crV4qupamv7EQzz7xHBo0bIArv3AZBg/rJ6wpGXt37MOj/3gCG1bvRxqao0d/8TAVAVn1GqJ5s9YSZ2HB7KVYv2IbSlIK8cobb+OCC8fjykkXI6txOo7sz8WUp1/FjNdmoUffnmjeNAtXfekyZKWn4VJ0wde/fi1anpaFK87Lw2lTrsfhw0fEuDZ4+smX8PqrM5EqXqvTh/TD1V+5EgeOHsWbz81H8+aNcdsP7sTwc3tjwoUTxckVeyKhEjTpxiMXSxYS+UEC+7FAncniibMQn361Ao8dAUfAEXAEHAFH4FONQPK+nYcw4+XtmHTNhUquSkqOCykpRKferdGhRyvMe2c5xp3/Y5xz9ngM6TscQ0Z/G6uXbERxTil++NXfYsOK/bjqiklo3jhDCNMRJBUDa97fgD/f+jRKJb1hzWZc+62v4uiufFx83qX48ldvx4KZy4EC4IH/fQIPfvtFXHP1tWhXvyNu/MmvcWRfPjKT01GEPDz36Et46cEZ+MMdD+KyUYPRu2N3FBcUoyg/CZecPwlXXXI1nvvlQjz5t+dQLykDLTq1QEZKI3Tv3VfIYAshTsE0pJIoOYwkQfoRRsXYyrnGjIv8rd6OuOWjMeujZSRR9kmRNWjUHZVh3oMj4Ag4Ao6AI+AIfPoRSM05eAT1kYGsBg11tCXCkErkX2lJGdIKMzDt8bfx0G9/gMuvP0+n5W7fsBlvvbEAeccL8dZrO7F49S1o06sZmrXOxG9/co+uqcpIz0CH3o0DfSVJuOWaX+CbP70WSBfytXIltu3YhAO7++DeO6bj5Xm/Ra/hXXBoRy4m3nqeTP6lB0RFUjuP7kfpniLxbNXHktnr8M6s2Tj3yjE4d+IYvDt/GTZvWodm/Rrg/SWr0fRb12DEmEHI25+HL35dbJUxFIs7LYVrsGSak6GCJ0nmDpnftm0bduzYgREjRqiMfZEMVZC3ilgcrcvJyVGSRnK1b98+dO/ePdIiyFanN2EjL3QEHAFHwBFwBByBTxQCqS1aNcUe7MeBvfvRVab5kmVROdddpQvpKhJPz4F9xzByVDsujZLV8EDXnq2xbOlGbNu+C5dd0R9NWwbELClVvEWpsjAqTZrLsvXiAlm3JSSmtLgQGS2lYaa0Fx3ZDeoJ6UkWgpaPVtJHiyZNFbAy2Q0it1CIXWmSEKNSHBcLbvr2dWgzIBvIB7p0fgt/ve8fGDCwP37z6ztxaN9RfO6a89FrYHsUFBzSab784wUoTeY6LqFXpbJ+q5Rrv1Ixd+5szJ+/ABMnTsT69etx8MBBTLpyElatWoW77roLEyZMQMeOHTF16lQMHDgQw4cPVx2LFi3CnDlzMHToULRq1QoLFi5Ah/YdcOjgIeTm5mL8OeNlcb8QRiFpR2WKcvPmzTjzzDORmZmp5OzZZ59V3ampqZg1axYuuOACdOnSRT1bUYKmHfqXI+AIOAKOgCPgCHwqEEhu3qYxrrvhTNx7579wZHe+bIyVidTCeliycDm2rNmOPkO6Ydrb8wCZ7hPWgzlvrUCvvt3RXgjJ/VPewZ7de5U47duag+R6srBdZsG4+Wlmg1TlZORlkP21uCidy51Qli5P/gGNGmRjM45g8fJVECaHTau2YpcwqRRZ25Uki9YzxJL8ImFWspi+RLaAyMnPQcf2XXWh+8In1uHu+3+LSddPxIBBXZF3rFAJFp9MPHb4mNqTVJqN9NRMbN22FU8++RQ+//nPg4Rpz549aNa8Gb773e9iyZIluPbaa5GXl4d77rlHydKUKVMg72dUEvTcc8+pJ2revHm49957lVg1aNAA69avw5Tnp+Af/3gYs2fPxrhx49CiZQucccYZ6NChA3bv3o2XXnpJCVVhYSFuueUWJV/Tpk0jGh4cAUfAEXAEHAFH4FOOQGpyZgq+8YOv4Ofn/xFXjP4OJnzhdOzZfgx3PvpnzH39JZx/6Vh06n8T0ppkoKSwCG8/tQI/ueVraCKeq+9eOAY3Xngzxl46DA//+XX0GSnrnmQ2rrCoCLtW5QRepbx8HD2cF4cxL+8Y9u4uRsPWGbj/kW/hos/dhavHPIespPqyfD1bnxLkvlZzsBO3/eYutOiSga2r9+KdV3fi+dduQ/tOrcWRloKf//w2tGnRHLfe8za+ef4QJXanD+iLYT/8JY7k52P42F64/HMX6pOKhQWF2LV7lzxtmIIjR47o+qhevXrplN7GDRuRm5eL7Oxs4XIl6N2rt8rR4GbNmuHgwYOaz8jIwLBhw9QzNX36dHTq1Em8Y1zjVabkKSszCxs3blTvVb70z77o2aLehg0bokmTJmjbtm0cB084Ao6AI+AIOAKOwKcXgaSC4oKy9KR0HNtRgHeXrcLOvbuQkVof/fv3RLc+LZCSnoKN7+3FouVLxKeULGuVBqNtV07rlSBnZz5mzORWDqXo2a0b8ktyMWhEP+zaegDbNu7CsHH9sfH9bcg7ko/+w3qgLLlM1kutk81I09DztC6yUL5E6vciWaYFc+UJwW9edAue3XgPmrdsgoWzViJPFtwXiwcrXRa99+3VBa06yroumW1cv3Y7Zs+cj3at2qJjm84oKD6KfkN6iJctCUsWrcaq9asxaHBP9B/UR6Yrk7DsvWWYO28uLrrwIp0i3L9/P6644gosWLAAGzZswNlnnw0SpGlvT0Pr1q1x1llnKQm7+eabkZ6ejhtuuEHzfDKwadOmIMEiseJ04Pbt22X6cb56q9atW6dy/fr10/oXXnhBdXPKcMaMGUrQ+vbtq3U+Rfjp/VH5yBwBR8ARcAQ+2wjwQbekkrIieR8nF3QLc6H7KRKiu7Gzmrum839CkiDlwmmCwCnBmErq4dxdkuyHpUGyk/81Be8tXI0Bp/XD32//Ny77xkh89VtfRGpaqu4IHwiWf5PUMCTqVxePB5Uqw6+q5ONClST4VOHy5cvRu3dv1KtXrxIpL3YEHAFHwBFwBBwBR6AiAkqwykqLhV0ZGSGBSSZ3kiLurx4wJSVUobZGcIzAhKq0jcnrm7JJikQNF7wrPZIv1nM3+PeXrcf8t9+Tnd5LdfH8yPFDkJHNneOLlWDFmgbqVUfMnhjRqtCvdKD6ucCLQYhdVXYGQom/rR1jjlHJGwcQCzZuk7PymsQn06Ymel3GEXAEHAFHwBFwBD4eCCjBktfOlIW4Q8gyYSjkKuW8IlRXw2SM60R1GD/SfinDj3YnTwGWyD7xQr7iRKQSHZVaUFv5ShWVE8EqRLzKEXAEHAFHwBFwBByBCgiQYMnmCNEQYlShZFSqRvkE7ZX/xMqLimVzT3nkMEnWNinbE5bF1+dUaFYhU4NeaytfhUp62Tw4Ao6AI+AIOAKOgCNQWwSqJli11VYD+TD/SZP3GjKQdNFrVYfOJ9XrX46AI+AIOAKOgCPgCHwUCMj2oAxh2vPhm2G9W/zhW+A9OgKOgCPgCDgCjoAjUHcIyHtkfBqs7uB0TY6AI+AIOAKOgCPgCMQ3UXAoHAFHwBFwBBwBR8ARcATqCgF3X9UVkq7HEXAEHAFHwBFwBByBGAJOsPxUcAQcAUfAEXAEHAFHoI4RcIJVx4C6OkfAEXAEHAFHwBFwBJxg+TngCDgCjoAj4Ag4Ao5AHSPgBKuOAXV1joAj4Ag4Ao6AI+AIOMHyc8ARcAQcAUfAEXAEHIE6RsAJVh0D6uocAUfAEXAEHAFHwBFwguXngCPgCDgCjoAj4Ag4AnWMgBOsOgbU1TkCjoAj4Ag4Ao6AI+AEy88BR8ARcAQcAUfAEXAE6hgBJ1h1DKircwQcAUfAEXAEHAFHwAmWnwOOgCPgCDgCjoAj4AjUMQJOsOoYUFfnCDgCjoAj4Ag4Ao6AEyw/BxwBR8ARcAQcAUfAEahjBJxg1TGgrs4RcAQcAUfAEXAEHAEnWH4OOAKOgCPgCDgCjoAjUMcIOMGqY0BdnSPgCDgCjoAj4Ag4Ak6w/BxwBBwBR8ARcAQcAUegjhFwglXHgLo6R8ARcAQcAUfAEXAEUstQhiT5V1ZWVndomKqkulN5spqSkmpnRJ3icLJGf8TtaovZR2yud+8IOAKOgCPgCHzsEEg1clWnN9XacZpTCooRphqNT4hhjeROqcUfvfJaYfbRm+sWOAKOgCPgCDgCHzsEUnkzJak4cOAA1qxZ84E9WSRsSaVAmZCssiRzZX244+Z4iouL0apVK/Ts2VM7r440GA4FBQXIyclBSkoKkpOSTx4PI5m1geBk2tQVtDxeci5kZ2cjPT1dtTrZrCtwXY8j4Ag4Ao7AZw2BOMFatHAhFi9ZgmHDhiE/Px/JybI8S8gBpxCjgTzAStUDJjnGLC0tKUZyqaR5w05NFvLGYpGWRDAdKexLZTktyUqR0ZZBKb9Fi5QwWC9cKmZpSUqDoD+qLi8nIWCetpMozZ49Gz/60Y+UMJSWlgZjotpIMHLFeMqUKdi6dStatGiBoqIibaN9cCBSb+OlioCASP/8HxtEYENpyC5pIW3j9pJ0qsk6iLhcUlIKykpLJF+q5C4YlgpGrA36tXrtjxJBQSAbs9UaBjapkBUFGIrRSoKlm9TUVOzcuRODBp2Oiy66MG5XeQNPOQKOgCPgCDgCjkBNEUg1wVK5QU+cOBFnnHGGFdVRXBLTQwbCD4PFQe5UfR85ckQ9WfTIkGRUF0iodu/ejS9+8Yto166dkjR6sgKCJa3Jd6jGeE88bYmYgGRTUoToSZ+lUlRcTAxINkkeAxJY0Rx63EqQmpKKtOQUFBYWIjlFKFky9VYMZgsJW0B+RUaOXUCiYoaZOda0qjybi5H16tXD2rVrlZSymemrCW7WjceOgCPgCDgCjoAjECAQJ1i8kRbkF2hpiXh7eE9mqO4Gqzf8QFSdKCuWvo8dG3eiQ+eO6D2oG5JShThwqk1kSktIBOiNIslgH1JKciBEgnqSk2lOCkqFbEhWSIbIUryWgTaXlJSAXqvq7A+rpmxWVhYyMzPVi8T0yQSONe9YHopLCsR7lib6slUNPXNJ8QEZ8UyROvHYZWTg8KFj2Ln3MDp1bofUDDsCJ2PBybXh9CCJlgdHwBFwBBwBR8AR+GAIxOmLeUaojrd2TrORcNT0kywkieSJ04svPj0ND93/VODpKU1F7pFCFBzn1Jd4kpCKpDKSilQhXJweTEdZsax3kri4oBQFeUVKQpK4kCtZPmJMTW2g3AcNJGb8MDAmLjX6iBeIxJBh97Y9+MoVP8a3vnQrvjDhG3j5qTeBIg4lWT1qxUXFIkXoU/Dv597E8ndXsRk2rNuA//71vUiJea7Yb3FhkdhB+fJAchqAW17GFOXpieSnRjbH5EhEGbhuzdJa4F+OgCPgCDgCjoAjcFIIxD1YbM1pp3CoCWEJy5SUFmH4qMHILG2KJ56aLCQtBc9Ofg3vzl6GjOwMXHjxOejUqQ2efmoKrv7SVWjRpjHeeWuRkLICtG7VDA8/NAX1sxqhe482uPwLE5HduJ4QBRKssFU1S4ftqlmLcilry9jS5bWVp3QdllRzii9nSxl+/+yPcfjwIfzshnuRVb8BOnRrjk7dOwmBSsaGNRtReLgMUx+bhWYdMoTYlKAwrxiNMppixrQFOHxsNwbLdG2HLu2RdyQfi96dh30H9+GMgYPRpXtHHNh/ALu278PBwwdw8NB+jBk9Bk1bNEGJkC8uzj8JyGo11spR8BpHwBFwBBwBR8ARiHuw6gIKWzKUc/Soen849de3d09cdeXF6N+9P3409g/ipSrC2gVbsXLxakBmJH930yPISKuPtm3aYNLFF2HiuWfjL994HkuXva8eH51brAvjTrUOMhpjNULM2nZuLuSoLXr174b2pzXBlvW78dNv/RaH9h9GQW4JbvneH7Dx/a1o1Kgh8g4nYeemXUg+noxFjyzDkrfew4KXVuL3N9+DwqNFmPzwC/jHba/gyPpCfPfs34mH7DC2bNqDAad/CUumb8K05xbg/jsfFg9abC2WmMJpSg+OgCPgCDgCjoAj8NEgUMGD9UFuy/Q02V2dT6SlpaXJIvFSrFu3GXPfWohWzdoiU9YjZWXUwxeuuxQz356DrPSGaNozA2cM7oNtm3Zi6gtvoWXbZug2uo14gWyNEhUbc/loQKpZr3S1BbQmRdaSrXxzA/74+wewcP4KDDy9D6758iWyiHw1li9cjwb16yMjpTkuuHQ81m3YjH6D+2LC5SOwZM4K9JzYHt+75Ws4djAfP/vmr7Fj624seGsxbr3zR+g4oCVyjx3H4lkL0bZjJ3z/6kn43i+/hG0b9uGXN92KgmMFyBCvH6cIT8rtV7OBupQj4Ag4Ao6AI+AIVINAhGDFiMzJzMkJu+KNnaurjsuUX3IasHXzdkz6wt+xfcXdQqYysXDyfBSUHMegof3w+INTcMvV9+H791+J9MxkfG7oT/H7f34PF142Er8/dh8Ki/MD02tpS22m9KrB5qSruf6p3YiW6N+3Ly669Dx0lmm+tCbJuHjSRPzr7heQUS8b1954JZIbAwfyD6IoOXi4oDS9DA3b1kdxmmCZWiRksxEK80uQkZWKps2CBffNWzbF0SMFKJP1ay1aN+BSNkG+BM1aNQkeCohZfbKUNIxfOH3SYHhDR8ARcAQcAUfgM4iA7oPFcXNxsy1wLpN0mawTIlHQYHfrWDZepo6S4Ik9bmcwb+48THtzOl59dDl+9t9fR4MGDTFhaAs8+fhkHDlWhKc2LMbtxUVo0DILQ8YMwH3PX4PHh96G1LRUXPWTUfj3lNewccsa/PSOu/Da+Ae0G9rEG324a/XOmG2BhRW+KW/jsTGZngqCklHdosvaxMccFaxB3tawFctatLycPJx97jDUb54hC9zFGyeL4PsP6IWiY0nYvns7hozsq+vcm7Zojvlz38PAQX2Re+A4cvYdRbKsaedC980bt6GJTCE2atEQTz76IsaOH4MHvz8Vf3znFzhecAw7Nu3VadbighJsWr9dFqmXyaMCJ+/vIwYMhoHF6kDkAQifB+E0G1meaQY7YCy3NMstb/LhOtZbSFRfWVuTZVvTFy4znYnqWGay4bS1YWztmDZZphnCdcyzPlxm+XC7RPWJ2rKMIaqD7cP6KGM6o+WsY4jWW5511qZCmRTyN2Z1lGMIywQlwbfJWT3zTIfLrczaWZ3mY5Xh9iy3vLWxONw23E+4jfVnsonktE6+Eo3V+oraUJm+sDxlrL9EscmG5awsLG9lFps882YH02ZjuIzlDKZPG8QETZ71YZ2WZ2ztorJWx5jB2lvf1i6oPVGPyVu9xXr9CXVmesKxyTI2PRaHy6Jyljf11oaxBauzvMUmW1k+Wh6WN/2mO1zHdlbPdFgmnGfa2lnMMoZw+6CkHO9EeevD2jJvOiwdjSlg91vr32LTE+7L0mGZsJzZwHoGyzMdbpOonjKVBZNnfXgMieRN1vqO5tnGzsewTFRvuB3TJsukYJZKYsTAKb30jGAHbyuzG64K8MuUWUEszylBhu49eqBICNRll12BPr37ycL2ZDzw5P/D8uUr0a5Ve1z7nxejdbtWKnvFly7AqPPWokm7hnyYDj/4+VexcNFCIWUNsPqyf6NZ86YqJwZqHO06GLxWJfyyaUqOi8HGlEjYxpkmU5gmn0iupmVZ2Vn48vfHy4Lz40Ks0lAqU4e0v0GjTHTr1xZj+pyBhi0y9Jy9/Irz8YA8cfnsk69h9KghmPQf58jjfOIJTEvBhKvGIbtRNr7+g+vw6IMv4YEHnsV3H/0iThvcWaZe12Pi50fKgQMat8jGF799iXgNg8XtH2RhHXEyPCzWcYcPQGXpMEBVyVRVF9bBdFg2mo/WReuZD4fq5BPVs31l5ZXVReVrk4/Kmv3h8nA6Ub2VheNom2iestGyGOEOqzlBpkJlREdYn6UtjrbTvFRG66P5RO2iMuF8ZWnqqVAXzkQ6qayqunKrryy2bqw+mo+WR+stz7gy2RPqYoJR+Wg+3K6qOsoxhGXC6XBduDycVgX2FaqwZDQ20VrrlgamK9zW9IXrrMziaF00H5WL1ofz4bS1YxwtrywfLQ/rqE5PtG04b+lorDqtMGRnqChuQrQsmq/OvprUxzurImH9WlyZaLQ+mudBCZdZ2mLTa3mLY+VJR48eLeNGnC+88AKaNm2Ks846K76TOxmYemWskbG3WGOtl4swY27SWa9eBjLSM2SBe6lMEwq5kNZpaRmyIUGq7lLOba6Kigtlf6hi3VSTN3O2KxP5FPFi1ZP1WdwrSybIpLwExfJknW7/EKaFNqBEMe0UG/kUHft49NFHddNQ7u/ELRcqEIZQe9rPbSn49N8DDzyAr3zlK2jdurV6wVhefSAwwVYHpdzFvjRZ9AUMNmgrOMqeXpvWbsPne/0Yz639Mzr0aCU2yVRqEvGS9mKDMDHx5hHPYIsI4lNcVIq0DPEmihOssKAQGfWFBMuTgqWCGW3T9Vb6+KL0K31yc9MKJ0T1xuvxIzZbtmzB66+/jquvvlpbEReGCrjRVPmnZayOYR7v08q0ZfBl50m8KCzDNAP1RENN5EwmFMftq0pftE7ycTtNV0QmXm/lJheLrV5jDijRmKwfqxQZa6dqTWdYrhI9ZkaN4pDecD8V+k7UJ9sxhGyIt4mMOxCU78rK4wKhMUftYnM57yqcc6F2NUmyPUOlOhLYF+8zbE+gpsLYa9J/BZmovhCOKheujzWM2xJWFLFFZeygRHWG2zFtfVgcK6vwO5G6Cnk2ix0HxgwV8AyK4tiYbLwvbVHNV9geikbzVTS3/ixOJBqvi9hqsvF6KwjH0qYCHmabxSIbbx8qMxVax+NjxyasL4G8tQvHcf0VCmMZ08tsVB/zDCYTqk9kV1wuaBXok3R8/NKeaQaeAxXsivbFdvb7DdWd0K9qi31RzmwNlzNtdeGY5VF5q7c2EZm4TVYfa1+hnHUMpstiFtmYVKDyL5NjrOlXXnmlbP369bprOcFr2LBhBTJCoZoE7gZeqvszceyy45MQCjYl2SIZSJHX5ui7/YSIKDHgNKTUkxDoQZM2JdxgVHgKiUWyyCuIIqQThLqAPIpqMPCofXYS8P2KzZo1Kz8pVKFJB2vGmOPJkyJbSnB/Kk4lXnf9dagvC9ENLGtRdSwbXaFY2sg+X1wYJePigQrQC24YG9duxfY1ezH6nMGysSgpWbGOjU9bUpz4JSXR4yZjjwXaQBKVlMz9wWTzVMWDfUgDbtqqW2JRv3j6WBT7p80lX5Ng4zx44CAee+wxPXb05NX02NekD5dxBBwBR8ARcAQ+SwgkycagZdxgklNqdkMlQaltIMEKiELAcKkr0EeWEdSFiQP1GxFSFhLrk23KvUZxhqLkobY2lRO5gOZE29t4w7bQm0eCV/vAzUAL5cO2JCcBcTQ97CuJ3i0JZTIFWCybqJIfJZfRCyWFyeJhSyFBSwvIEuWkDUkTA4kfiWASiaZOOUpj2bBVyWdseNwmI9gzn43kU4vjqH2JHnoUeT7YsdTO/csRcAQcAUfAEXAEaoyA3vPlK3Z7rnE7F6wUAXUnSS0JTrkXysQVau4+cUI1aZL8U+IUI0fWKBZXPEzsp6JceY4kjI3KS2IqqoxUvzTUplVKeqUj4Ag4Ao6AI+AIVIdAknhGyqIeK95s494l0RBORxXylhx4VmJxhVt0Re4WpnLRPsN6VY53+lADzcaEwm3DxEPpQYwhhMcQbhvuJ5oO643W1VneIInZWVO94XFW1+aDjCPcD/XQ3KiperxPKK3Oqsrr7VhVLiGnQgI7KB8tt1MmkfOuOrujuqL2VFdfa/mYQtpcmb0c4Ac5nhVsigwgkq0gWlUm3i6WiOcjjSorp1jVdXL9qeT8qu4Ymgk1kQvbEE6bjngsleV//MRLTzpRE9tOUE4DGaI/xqC01t92jTV1idSbnZWen9Io0Xlba2NOokFlNp2EqoRNiIdhk1BACuMy8US55AlFJxSUy9Y69UF1fcD21TW384bjisvGE7UerTYwnTW5V5zQQ6jvkz1vQipOUB8uMDnaqbbKF8s8OAKOgCPgCDgCjoAj4AjUAQKkVifOY9WBYlfhCDgCjoAj4Ag4Ao7AZxmBKglW2LkVThOwaL6mILLdybatqo+T1Rm2J6yDaV1YHrM3nA63CdsUbh8u97Qj4Ag4Ao6AI+AIfLYQSBJSUHGKUHI635locp11FJfJaV2fI+narg8Jd1fbtokODfXxo08eciTVTZyHlNiTjyyiDrMnnA6Jn5CknAWzwcpMl9V77Ag4Ao6AI+AIOAKfDQSUR8hXOUvguCXH/ZhKZZPPJNlHwLYs4KP7DCmxzS3LuGeTzDAqkYgRLqaj6gLGQ8omgSRG/sVy8e0Y+GqepNiGnrLmXvbGUjNQIuUWSKB0E00r0JhaA0bFTUK5E3tli2MrNJMMPVIMstEq8nLz0FxeWcMtCjiGzMxMHDp0SHZLX4fu3bvrpqir16xG1y5dZYf5Zjh48KDu+M49w6jHtpXgZqYcv2HmJEsh9i9HwBFwBBwBR+AzhYBygV9LCI+aXh1uErpp4xY88tBTGDx8CEplV/U/3HYnMmTzyQ6dO2DF4lX490uvY8jw0+P7JRm5YlzxExC1imWBDLcnLxUSZ8SptKxYyAo3zAzqlVSRWMmHVIoGk0AFBI3EKknIUT5mTpuDt1+fgTNOHyR7SQUkj/1VFqiHOimzaNEi3H///Rg3bhzuuecetGrVSvcE+/Z3vo0N6zco2Xr88cfx9vS3kZGRgSeffBJ33nknnn3uWbRv1x5dunZRYrZixQrVQ0LWuHHjwNYqbKjMNi93BBwBR8ARcAQcgU8+AsFLBBOMo3GDZnjp1pWYdNU+NMzIxC9/+zj+L78BRowajkUzlqIoPwP7du3HqlXvy8aZKfIewm5o36UVcg4cRk5Oru44nncsB02aNMLxY2XYu2MvGrTKRttWbbFh5WbZqR3oN6wPioTsbNu2HZ06tRKvUAo2btiI1iKTX3AcB/cdwaGDh2U7+CQMOqOvvCYmRYgLdzsXEkUPm5Cx2bMX4nsX/A2XXjUAZV8RUhW8TlFHRCJlZCo8RLbfuHGj9LsN8+fPD/SJbKdOnZRQTZ06FY8/JqTq7bexadMmPPHEE3jwwQfRrl07eR1QPX2VzuJ3F+N73/8e5s6dqx6tW2+9FVOmTME1114T7srTjoAj4Ag4Ao6AI/AZRCClggdL5/GEvMiGl1nyXsANO9ahUfN6QqYKULCqGNkt6qH/gD547cXZGH/ucOzetQdvvTIL+3fm4G9/mIxzzh2J/bsOoVv/K3FoxWGkFmZi9cIt+P4X7kZaagmeuONlzJu+FHt27sVt334a/cZ0RtMmjfHNq36GCyeNRWa9LHz1Cz/HqBHDsWrZGgwfcwM6NW6G//v6v9C6VxP0GdhdyRA9V5y+LCkrQJdOXTFs2EBslpcfj7v4TCSFCBaJFD+6QF08c/zHPF8NdNGFF6GgsABLFi9B+/btMWrUKH0PYb9+/bBkyRJMnz4dnTt3FgK5SqcL6TkbfdZoDBkyRN/ZKDvg47XXXsOXv/xlNG/eHCNHjsSGDRsw8byJ+noe9bZJXx4cAUfAEXAEHAFH4LOHQEUPlvABUgJdV5Sagn6ndcbmFQewt/5eXHTdUOw/kIMZb4rHZmeuTBW2Qb3MLBzZm4v9e3KwfMFO7Ny2D+lZ4uG5+Hz88e6fCnlqgL/e+Rhu+u1F+NZPr8Fzf38VG7duxY//+0YMGj0D7y16D4P69ke7Rq2RVCSvfRGC16RBY6SWZqD4eAn+95av4P/d/C1ccNk43PfXhzFkVD+8/Pqr2LvrOHr1a4vLrzxPpi0zkJIuL4cuzhfjyRADUmNEimuz+vbtq0eWa6QY6KG69kvX4le/+hXeeOMNPP300zplyHcXNmrUSAjbMFx//fW4+eabMXPWTNGYhN/89je67ortd+zYoUSLU4d8ZyFDVlaWviza1nZpoX85Ao6AI+AIOAKOwGcSgUq2aQiY1mlD+mDuc+9j2awtGDHmDLTp3BJP3T0XXXp0RgMhQn+77zEsW7YSw4cPw7nnD5FXEcvb+EqL0X9ILzTt1ABoWIaSjBI0admIr+dDg6aN0aJzM+VA6Rkp4iWTNx7Le/mSj6egfmqmrH1KQbbESSmyyF7WZ7Vp00LfONOybQvkFeUhKS0ZAwcOxgjxcHXu3F2IYHDMMjIzkJGVgaSMgFzRe8TA9yvOnDkT9913n3qtuPicBGjv3r0YNGiQyvDdg3yxMYORJaZZrkFUpWekx9dUkVz9+Cc/1rVYV199dbAaPybPNVpcIM9gNmjGvxwBR8ARcAQcAUfgM4VAJQQrwKBDl/ZYM28Vdq49iPYd26K1LOqevPTXGDS0p6xPL8Vd/z0Vg0f0R3r9ZNz36ipZK5UqTqQSbN+yA2X5wfvyjubm4FDOflWYX5An021BurAkHwf2H0A9efJv9+y9sth8CRZMW4Z7n5uHEtGdKuur3lu8DtvW7cA/H3kGffv1QIeObXDmqEE476KhGD7iNCE+2UqW1q5bg9Ur1mPN8rXIyzsem0YUTifEiZ6lxUsWY/fu3WoDF7cPGDAADz30ENasWYPXX38dhw8fVuLFdVl8kpDTf1u2bFF5esBYznYkV5xOTBHbunXrhgULFmDf/n0q/+677+Lll1/G4sWLZQ1ajsoHKPq3I+AIOAKOgCPgCHzWEKi4BstGL2uHuHwoQ7w4Lbs2Qe+hHdB7SFekp6ahWUoXnDVuEFr2aIphQ7rj6Yef1bVHF47pjSGyFio5PQkZ2Zxe7KHaDh/IRev2LdC1R0fdDqFR44biAesoJOQY0lPSMHBoL7QY2AwP3vM8CvJycdF5Q3HG0AFCvg7h+X+9g227tiE9LRVf/+aXkdWwHooLS8U7JFxO1lSlCumZPm0BFs5ahm6922H99nXo3a+neKKyte+1a9fqovQb//NGdO3aFdxqgkSpQ4cO6tGaPHkyGjZsgLFjx6FPnz7qderfv7+SrSZNmuCMM85Abm6uPhVIj9f27dtVX48ePbB06VJMmzZNpxNJwh5++GGMHz9e9XIxfNu2beNeL4PVY0fAEXAEHAFHwBH4bCBw4kajoXGXlQiTKRKmJU/uISU/2KuquJ6wGxGS2T2GY4dzZQF7GjLqyZSaiMrGC0pQUuWJQBIhrl/iC3lKkwtElyz5KpNtGDLkScBiKZSiZGkmDivkHT2O+vK0IsWTZFnTI/dPQeGxfHztm1ejTESTZRaPW0hwkyz51g/XXBUdl6L8JKTSqEypyRAvGg2jHk0wE1tXJuTKFp/TU0VvFz1cydQpTe0JRVsczzw74h5dXL9l+1uRqJkMCRt1GnkLl7Nf5j04Ao6AI+AIOAKOwGcHAeUa8kW+kjBoFfmBTPtBtkUgUUpKEoIkJIk7UpVJOfetogJZbSXVKiyiZGBcPy/5JNl8U0iXUBDhQ6nSJg2lKcVIS5JNQUWMbUuSisQbJbKlQpNkjVRKajIWL1opFcU4Y/hA6Z79J8ueWSLPLtTDRubDPmVxPCuKi8QseU4wSfqVfHIqNfMJQu7DxacHydACk2h3wHs4Bk5lMlBGBihj07VdtFug4fhIknQDVNqYIHBKkyTNyJRBavkETbzIEXAEHAFHwBFwBD6lCJAHVOrBYmU5URDOIt6jJJKRZLIU5Tgal4l7iRSNXh4SCj7IF/AYtg8WqwfkRcSFYNEJVZYsO6YLkUkRskbiFbQQcqOEjCSHxIYEjRxLSJToLRPyUyzMh5ugUkyfdBRbaBNNKpU2pWWym3sqpwdJiArkO0300xohd7pBFokeyZ9IiKHBGIPpUMqIFpHLkv5pV7DflhRoMLJkmASl1BMIRMtZb3Um67Ej4Ag4Ao6AI+AIfPoRICdISLC0IkYcToSBBEW8WBqEroiXKUXWUjEoCRO+QWKxd88ebN+xXdYxnS7lwWt2ysT9ZLLaQEiMusU0w3SMzUh8cO8BNG0pTxySkJE8SRkdTCtkX6pGjRqjQ7u2SqqSkwqlvlDImhAjsevwoYM4INtJdOveRco5lRcQNe1CyRVtZ18cR2B3UMdvlgspLKFMjHip98vsoowHR8ARcAQcAUfAEXAEKkeAvCXMPmKSwrqEIB3NOSLTdO/K/lJJOG3AQOzYtR2FRcVoJ4u3129cJbuttxPuUyZP1bUTQrMTWZnZaNmqeXyt0m4hWNOnzxSCNVgYEl91I+/ok4VUWzftwhp5x1+LFi3Qr19vrFy1Asfz8tChdUdZz3VMNu1shi1bt2Dqi1MxbuIYjBw9Mu614hTkQtl5vXuP7uikBEtMFluTkzKxbu1urF+7WaYLU/DGa/NxyaSRsvt7L+zdtw9bNm1Fn769UZifjNWrV8seXq3Qo0dXLJYn/wrzi3WfLJY3atwA/Qb0En30enlwBBwBR8ARcAQcAUfg5BCoQLBIK3QWUDxFG9duw6JZq9Grd0+89OSb2LxpI8aeOwZT3piJDUsPoP+IQ7KwvQh7Oh7Gxs0bMeGK0YEFMW7CLRLsaT66nmTSTuunvzoPOfvzsK2ZEKIlG7D4nQ0oPJ6Ei68txR7ZSmHhrKX40g2fQ720pmjaUN4LyL2r6GqLja9evQzZfiHYo6qsrEjWYKWrx+pfD72ESy+bKK/WOYoWzdti9fIDyM1bieyMTrjzv9Zg/Bd2oF5KJxSU5GDD5mOyxcJ68XblYsKEsZj8+FKsWrwf2dmF+NltbdBM9u2iZ07XZMV7jhngkSPgCDgCjoAj4Ag4AtUgIFQqCEquJMnJOIb09Gy0bt5ViE4D5B7NR9cuXTB2zAjUk4XofTv3QY9W3TFhzFjc/7V/okFmE9mjqoMSobL41GKwMJy6grVIwdqpkuOFGHf2CHSSPa02zN6JpimtMXLoSDTMbi7tS7Fz6xFkNmiABo2aIFVImuqL66S28hDYWqqvvDl6tBBNmzeUtfBFaNupPsac2wer1whJnL8JvcR7dfx4MvLFA3fORUPQqk0bbNx0QAhiNupLX0ePyqam7VvLa4D6i7EB50xK4hoss728T085Ao6AI+AIOAKOgCNQHQLxfbDoIeI0XhIXhMvi8/27D+HJh19Cv8GdMXbiEDRonoLWbVqjU482OJa6FY3apKFb3y7oMq4d+p/eCw0aZ8uaJ9EhirgonWuw3n//fXlH35lqA0kWP+myjULTVo2Q3TgDQ8YMQvPusnYq+6jk09G6Q3NMvHwMcgtz0bVXB2zbuUn3rOKO7CSAfFJv0aKF+q6/jrKXVSkXpifl6g7srVu3kl3ll6NN25bo2as9Gor+dh2byycbDVsexOBh3dG9ZyuZmsyWNVypGDV6gCygz8WuXbtw7gRulrpX7CpG527tZN8t8s4AB+lA7fcvR8ARcAQcAUfAEXAEaopAfJG7ebA4R5gsU3q7Nu/G4QPH0WdwF9El7/mjZ0uerpP30ZTrprNLfWB8Io8eH3n6jtN5QqS4c/quXbtx+unBK2mCRtaAMYmLLZg3EmPllifpk48+eihdpSRhxYrlQp4aomP7TvKy50Lpiwvok+Wf7M9Vq2B9RxsVhQqCxe5OskKQeNIRcAQcAUfAEXAEqkRAuZB8kcNo0ETAaIS4CHOSdJFsqok0IV1CsHRbBduWQQgSiVSJ/CMdIikLAveWIuEK9pAKKFKsShRyGjAgLGxLciRtZW+sZJEvlb2nSkSPaFCdXBzPjTyDNeemkwvmud0CA3umPvmWgiS6z/jUH//phlmBFLdmkKXwIhWzUab/lNyxWrkciSEJV7CvVyDHCq2U2MYmSQ+OgCPgCDgCjoAj4AhUgQA5UNyDFZWTOuFGnDSUIDyD036VhYCnaAMRYRtJs61EnNYLiIq1D8gKpRmslGkrY9pCUB/U0EumRostJHcBtTLJir2Ul55MykggPVgeHAFHwBFwBBwBR8ARqDkC5CoVniIMNyWfIq0JE6BwfTgdyIQlpaWSIEqFy8tbJSpNVBa0KKdeJFYWylNWUlcxNZ867XVlpetxBBwBR8ARcAQcgY8nApUSLJobJjO1MT+YjqtNi5rJRu05dRTo1Gmu2UhdyhFwBBwBR8ARcAQ+yQhUSbBqPzAjJuUep3IdVldeUvPUB2lb815c0hFwBBwBR8ARcAQcgbpAoI4JVlUmfRCS9EHaVmWT1zkCjoAj4Ag4Ao6AI1D3CJwCguVkqO4Pk2t0BBwBR8ARcAQcgU8SAqeAYHH4TrI+SSeB2+oIOAKOgCPgCDgCdYuAb/BUt3i6NkfAEXAEHAFHwBFwBHwHTT8HHAFHwBFwBBwBR8ARqGsEauTB4oZZ/DBYXNeGfNz01WacNZGtiUxNMKAe+9REvjYydWVjbfqsreypGntt7fig8tVhHa2P5qP9V1cflfe8I+AIOAKOwKlFoFqCVVrKdwwGO6fzIh7di4rmsTx8gQ+na1JvQwzrCafD9ZaOxtZnOE6kg+3CMpXp4ThNLtzG5MO6Tdbkw3WWrg43a2v6K+uTeuxDGR4f68N0WFyZDpYzhOWYt3EwzWD1jC0d1JR/h+vC6XD7culynZWVRXWE5Zi2sZucxVE55llXWbA6i03e8owtbTqkRJNWbjKWN7mwrkR1rOc4wnKaCX2F61kczbMs3D/rLW91jD04Ao6AI+AIfDQIVPqqHJrDC7Ze2Hlfia1bZxlv6vqOwNhFPXzxT5S2obEtg90MGJeUlKi+lJQULQ/XUTbcxvLWB/MMZmc4Zpo2htuH00HLE9uyvKgoeOFzWlraCe0T9V3M9zVKSE1NVXn2y2D9ES8Gs4c6wuOknOm1NHUaxqwzoltQUICMjAwUFhaCmOk7IGPHxnRYbLrYt9nCumi56Q/byHQiWZYzJKpjGUMi/VouBEVGXqFeG8TaMB3WYTYz5ljjIXY+2nnI8nCfleXj7SVRlf1hvdbG9EfjyvqycUTr2Z6B5z0DzxkG08u+LU0dpSV872ZwLjNvdlOGH+JibVSRfNl5Y3mPHQFHwBFwBD5cBPT6/GsJibq1i/yaNWvw6COPYtG7i1CvXj1s374dLVq0iN8YwjeSRGnqYbCbg8lYzJvDe++9p6QhOzs7Lrts2TLUr19fy619ODb7wmWmk/H+/fuxZcsWtGzZMn7TZrnJaEfyZXnGW7duxcGDB7Fv3z61qVu3bnG7w/0wbf2z3VtvvYVmzZohKysrri9czxvenDlzcPToUbRq1YrNVY7YcvwcpwXqY1sjFNOnT8fhw4dx5MgRbNy4Ea+88oqMayuWLFmMgQMHqhzbhD9hXeE0ZRgsDqfXrl2rY+7atWtcF+tp39IlS9G4SWOQcFo/4bbVpeNYxFh6uP94XWwM1MVg/RAj2taxY0clJS+99BIef/xxtGnTRnF76823kCTvu2zatGmchFp7VRT7Mn0WR2XCNtk52bhx4zhptvpwvG7dOhw/fhyNGjUKd1UB33A/NlaS53//+99o07oNMjMztW1YL/ufOnUqmjZpigYNG2Dx4sXYvXs32rZtG5el/LFjx7B+/Xqkp6freUGM+Bs1XRWM8owj4Ag4Ao7Ah4pASiKCxQs8ScHevXtx9913Y+LEiejUqZNeuHmzI3Fp0KCB3vA3bNiAt99+W28CaalpeG7Kc5g1axbat2+vNx7+pc6b4vPPP683xQULFuCJJ55Q/dRZUlyCOXPn6E1i2rRpePPNN0Gi9be//Q3btm1TEsEb0wsvvKA6eJOnbt5E7Ib1zjvv4LnnntOy1157TW86O3bswH333ac3HHp9eCN8f9X7WLVqFd544w3V/fLLL2Pnzp0gkaIngWTmL3/+s964Wcf+eRNcvWY17r33XrWLfdOrMGPGDDz88MN601v87mI8/MjDOl7ePNkvA71Md911l9pJLGkDyRLtXrp0qY5n+fLlaN68OZ5++mnwht2lSxcllZs3b8a9992L1197Hf3791fMeVNm20cffRRjxozBgf0H8I9//AMkAiSkPA7E+9lnn8WuXbs0/a9//QsrV65Eu3bt9LgQJ8rTfmLFsRPvjRs24he/+AWIFW/UixYtwjPPPAOO5y93/0XJIQkiiSuJ6IEDB0CMX3zxRSVAJN3UvXDhQtTLqIeXpr6kx5JEiOSHdr366qugPTyG7IOBBOGOO+5QckrC8Pe//13LOnfuDJ4Pt9xyC3r06IF+/fopnrSdGLz40os4c8SZuOeee9CiZQv06N5Dy6mT5wYJyT/+8RCIY87hHGzetBk7d+3U8vnz56stJCYkMsSd5/xjjz2mJJMk5Te/+Y2SV/abm5urddTFY0g5YsHznDayP/5eWM9+Sbjff/99rF69Ws9behk5Xsrxjwme24xPO+00xXjFihWKybbt21BWWqbH0s5pkiqS/p2CteFDMk+iTvyvuOIKPYY8XjNnzkSTJk20nwcffFB/nz179jyBJBIjD46AI+AIOAKnFoEqCdamTZuwZ88eXHDBBZg3b55OnfHGwr/YeXPmhf/dd9/VGzi9MCRfKakp6NChA+h5GDRoEHJycrQt87wpk9AMGzZMPTq8wdDrw5sDb+SHDh1SgsEbE8svvfRS9ZbRezNlyhSMGDECJD4jR45UQmYEa/LkyejVq5femHnTI/ljG8qRWJBYtWzREvPmz1MbWc6x9endB8tXLFd7SQJIHHgj5A2doXXr1jpOkr6GDRvqWE4//XQUFxVj7ty54I2RNpOgXHTRReJVWqKY8IZNYvHC8y/gwgsvVDJFHHhTpEz37t2ViNB7Mfbss+WGPE1vyHl5eejTp48SoHv/eq+SKNrAwJs8b6zjx4/X8fXq2Qt33nWneujMuzV27FglbSSGnEYk1iSEJI8kcLT1pptuUuyJI48ZdVJmw8YN6N27txJpEkQeS5vypJ1XXnmlHmuSA5JC3uyJNfsg6eF5wONI7Eky8vPz9ZiQSA4ePFjPHRKwUaNGKYHo27ev2kiiwbY8N4hRxw7iqRLSTXxJyi655BIlNZSnV4/kjf2QYBJHkthGDRuhsxCyMOkmiV+8eImeV4NOH4SnJj+lBIhkluTnxhtvBM8bElPazHOOJJGEhgScRJfHjuc6bSM5ZJ8kdDzvSMg4xvPPP1+JOMkafw8rV6xUTEaPHg2SpDPPPFPjUSNHKQb8g+Xiiy9W7ElGOS6eP08++SRaNG+h5ST6tJNys2fPVi8XCTPPQx4z9j1gwAA9J3he8HfCc5d9Ueec2XNw4OABJcscB48PA/Hx4Ag4Ao6AI/DhIJBwkXuS/DXOQO8Gb2D0ZNBTxYs4/4Kn54DeEhIGXtx5kSepatuurd6g6JniDZiB0228WfIva65t4g2CF33epEiqGFjOD6fzeKPkDYE3fpIRlvPGwHacvuJNkGSNU2XhQHJwxhlnqF7q4V/uvGnSjvUb1uPJp57UGxXtoCzjnr166hjMDrajV4BjZZrkhkSP5I1eDY6LpOPosaPqAaJNvOkzT1t54yMOLCMJ6Nyls5IHtuENmJ6btPQ09YCQTJH8LZZ2nH7jTZ54sz+G7j0CEkaPG+3jh3pJdkg8mrdorjdntiNBYkxyRgzYH3HkjZuEgZgRc5bTe0M8zQvCdgwsI9kgOTxbSB8JIm0m5uyXpK2leIpIHEg0WEbiTVuIFW3n+EgMWrdprTFt4LlhgfZQH2NixUACQbuoj8e6fYf2emxoFzGiV4bnHAO9a7/85S/xsHgOaS+JD0ke7WY/JHD0EDJwvLSfZJl/FPBYkiRTB2V5fHie8RjyPKY8SQzxJgkkzjx/GHiu8rgSX5JFjpnj4Ickmzr4e+B5npmVqceDY6d+O6bFJcXISM/Qc4hym8XbxfOQRJaY00tM0s/pT+JzTGzm1CBtJjbsg+cfz0MeG4b62fX190kPKwPtYX2XroEXlH8scBweHAFHwBFwBD58BCpd5G7eIRKU1e+vRv0G9fVGWlRYpFMynPLKzspGVnaWTkXwpkPSwqkSBrbnzZblvDlTD28MzPNmwTzlefPgX/4pybKIOSlY9EsZ3oBJdngTogynptiON2FOF7LtZZddpvpYR2LCmwnXKZEU8ma0Z/ce1MuspzL03vCGw/b0SvCmyza82fKGxg/rOP3JQAJCG2w8LKeXq307mSIsK1UvDXWSXJD8kHzyBseb+pbNW9Cufbv4TZoE4nkDWgAAQABJREFUiDc+hvzj+di1e5fe1BvUbwBOC/EGT13sn3bTLpIKelpoF71vRcUB0eQYiR3tI5kgtublYhkDCSL7s5sz7WM7jpnyvOmTvBw8cBAdOnbQcVEniSs9X/Sq8PjSE0USSDLDY0T9JFEMtJXHg+NmmoSCx4F6Kcc2lOU4aB+PKck21xTl5eYp+SCx4ripg+cKbWYb6mOaNpBEEVfqZDnXANJzRJx5DpgHjWPjHwI//elPlbCxPxIWnoccO4852zPQRnpm6QFjHxn1MrBu7Tqd2rv++usVH9pFfDt36oyS0hK1g8eafZMc6XGRPO2hbRx7akqq/jYKCwoV+0OHD2lMbLmeiuSaOokzSS9JGwkWseJ5Tl2HDx1Gm7Zt1Faec927dUd6RrrmOZadO3bGCSzb7ZD88XzBs1FjHSfto23URfnOclx4TD04Ao6AI+AIfHgI8PpbKcGiGWGCETZLG8rFnYE3MhKgRCEsV1k9ZYzEJJJhWVQPb/a8ifDGEbYxKleZvkTlHAdvWDWxpSY2J7I7Ub+JymoyjvC4TUeidonKTN7iqK5o3uRONqY+YsuPBa41UhxTEjpRTSweV2cTSROJDb2B1cnGlYYSJHIk2yTh0XPaMIyWh5pXm6QOhjAG1TaqQoBjZAifrzZui6to7lWOgCPgCDgCpxABvW/IV3DlT9CRVTG2dHBB57YB5cTKbjzhiz7lozcTu/CzLpymHPMsJ1ljWr0UaenIk7/O6elhvyynbFgvyxjsRqMy8lQZ/9EuaxfWbX1w7RKJGvOUo0y4jfVldaxnsP7NHiunHOvoMTIZi1nHcnptwsF0WJnJUyc/lrf6cGz9WpnJRsuj9ZZPFNOe8HiZDgfTbX2Z/ZYPyzJtY2C9pa2N1TOurL3JxOt5CISnmR2MeVhSUwOSb/azHdMWrP9w3tLUYeM020x/GIuoDmsft80KJGaZ9c+0yZjekGiQJPeUcbDeZFmRSD5az7zJWXuLbVxBJ/7tCDgCjoAj8GEgoNdg+QpYQ4IeWcUpLU6zcaqHT7FNmDBBp3coTq8Bp2pIGri2hR4lPpXFqRdOebA9bzJc98M1UZwGoj5OefDCb8SM0ztcWMypMp32kWmPtevWqm624Tov6mE/1Bm0S5Vpk0It4w2G0z+MOcXEeptmIqkxDxvrOT1DXVx8zTFde+212o+RIiNAnMrhGpzhw4cHuuWunpqWGr/5cbzpQgBpT3LIC1OQX6BTQRwfdbIvYsSn5e6//359KpILxjmNx+mt8847L35zpH21Cey7sjasi4aqZK2uKp2mryYyJltZTPN0uDSzdsOOqwyP0dIch42FglFbo3lTFm4flbE6yoZ1W9vK4qieyuRqUp5IV7gsbCP11cbOmvTvMo6AI+AIOAI1R4DX5IRPEdqFmwThmWefweSnJqNlq5a64JhPZ3HNCdfy/OUvf5F0U13vcfvtt+uaHK794EJhbtmQX5Cvi38feeQRfTKMC335FBan+Ei4SIa4x9Lvf/97JT5c70Miwie2SIoYc1E1t3bg+houGuaWD1ybRHJ05513Kpni9A71cs0QCdo/HnpIF49zLdM///lPXdDMdUVc10Nis+y9ZbqYmAuLaQdt/utf/6oLprkonOOjTi4y5lqcBx54QNfWsI7TUFwwT3u4/oxEjWuRuFibmFCW3jc+EcdH5bkOiuMi6aMNxIlPe1E/F+qfN+G8+M2wtjfFquSjddF8+DQJ14XTYZlwuiYyYflE6TiXPElyRZ1hO0hoLW9xVCZRnmUMbGPtLA5qyuui5VZfWVxb+cr0sDyRrnBZZemqdHqdI+AIOAKOwKlDoEqCRS8On9DasnWLEppWrYOnBrlFA0kYPVgkQiRAX/va13QLBd7ouDidXhs+CUbvFRd5n3PuObpnU8NGwZNcJBucxvuf2/8HX/nyV3SBLvWRnHAxMbdSaCpEp1g8U9xDq788lr5XFiZz4S8fn+e2AyQ27IeeJm79wMXt9BKNEAJDzxT3iOJCY5IbetW4SJ1PbHFcJFZ8xJ5eN+4Txb5ZRnLIrRhIAvnIO0ka9fNJQi5A53YG3DSUC+y5FxOndUiU6NHiWDnlSCLHp8u4DcVZo8+Su6M88SW2UjfJ1rnnnqv9khAOHTZUsaSni9jVZeBN1z51qffjpCs6vjDR+DjZ+WHYEsXiw+jT+3AEHAFHwBFIjEDCO7pNN3DqjnsU8eZP4pB7LFf34uHTTyQcnOLik1p8yoskg1N8fGKLG2OSPPzz0X/qE1l8Yop7J5G48IkqPlVG7xWf3hp55kj1VPHpP7YlYWId9zuic4MbPbK/dCkjOeGTiCRL3I6AXiJ6tfiEGL1LJHRDhgzBZnnKa7rsJUQbuckjPVLUy0BCSAJki+RZRmLD9tRvY+dTjZSlR4yP73NqkYF54kHvGm0nSaNXbdKkSbpPF23ieOm5op2cDqUebjfA7Q3YF584Ix7cpJP40VZ6whio24Mj4Ag4Ao6AI+AIfLIRqPIpQg6N3ih6hkiKOC3H6TR6eujx4TQXvVMkJSQKJCkkMiQR9ABRhvXcOPJwzmElOtRHIkWiRDnKbBJC1Eq8ViwnwaA+roViv7bRI0kJbWAbbhlBndydm/sOUYbl9FSRnHHxOj1KlKcd9Iq1ainkT2Q5BsqxD3qnSH6sjGlOi5KosT3754fThLSXpIyBtvAxf+6xxKnQnCMB0WMbbjnAcVAHx8A0PQskXqaT5ItrxGgXPVu0hfZzHEx/lr0wCrB/OQKOgCPgCDgCn2AE9F4uXyeuhv6QBlUTMlETmcrM5SttwgvQo7qY54fkJhxI8moy3cK2DJQ1YkiSFg7mkYr2EZaxdE37NXmPHQFHwBFwBBwBR+Djh4DyDfmqlGCxKkwQTNQ8LMxbOkwOWGayFYYtPXGTTpINa8fey6TM8hXkYxnqsr4oZ/qtT4pZWbg991rii4CtDeuidiVqFy4L9027LR+2x9KKlYyHfYaD6VM5TnzGqq2dyVKOwWIr99gRcAQcAUfAEXAEPjkI6P1dvqokWDac6m76pqY6OdNXm9h0s01Yf7i8Mn1h+cpkqiu3fqjL0tW1+SD1dWHzB+nf2zoCjoAj4Ag4Ao7AySNArlBxbiyiq7Y3+trKR7qrNGt6LTZBy4djpi1vcnUZR3Vbf1au+ZiXysqsf5NlPi5nlVYW82KFij3pCDgCjoAj4Ag4Ap8wBKpd5P4JG4+b6wg4Ao6AI+AIOAKOwEeKQLUerI/UOu/cEXAEHAFHwBFwBByBTygCVU4RfkLH5GY7Ao6AI+AIOAKOgCPwkSLgBOsjhd87dwQcAUfAEXAEHIFPIwJOsD6NR9XH5Ag4Ao6AI+AIOAIfKQJOsD5S+L1zR8ARcAQcAUfAEfg0IuAE69N4VH1MjoAj4Ag4Ao6AI/CRInBSBIuPH8Y/qHSfUh0Y5RIFK09cm6iFlzkCjoAj4Ag4Ao6AI/DJQCC1JmaSDHFjTCNV0ffqlcoraeQlNHEZ21DT2rEPvmCZ5RaY5qtl7PUz4TqTicZxUhazpyZtojo87wg4Ao6AI+AIOAKOwKlGoNqNRsOkJmyMkS3ZNx0pqSlKvsKEx8hVUVGREqvUVOFywsPsXYSmq6CgABkZGZY9ITY94QorM4IWrvO0I+AIOAKOgCPgCDgCHyUCylPkK+EsnRWTNO3duxfvv/8+mjZtisaNG2PO7Dmo36A+jh49quRpx44dGDRoEEaPHo21a9eCpGnw4MHYtWsXZs6ciUsuuQQrV65Ew4YN0atXL0yfPh0LFizAddddh3Xr1inBGjJkiHq5wi+CNnDUULEjJycHjz32GBo1aoQLLrhA7TEZjx0BR8ARcAQcAUfAEfg4IEDeknANlhEaep9effVV/Nd//Rc2bNigROvtt9/Gs889qyTpmWeeQYcOHZRY3XHHHdi1c5cSqZdfflnHN3XqVCVkWVlZeOqpp7B69WolVI888gjatm0L1rdq1QpTpkxBfn4+kpOSK7xMmR6q3Nzc+NQipxnHjBmjfc+aNUv7oIwHR8ARcAQcAUfAEXAEPk4IJFyDRdKSkpKi3qhlS5fha1/7mpKjQ4cOIT09HZ///Od1DPRSjRw5Ur1RV111FTp17oSk5CQUFhYqUaLHqU+fPipLL1busVwlVmPHjsWRI0dw8OBBdOzYEW3btcVO8YJ17dYNa9esxfr165GZmal6SMx++MMfYsCAAeqxom3UOWrkKNUbnpb8OAHrtjgCjoAj4Ag4Ao7AZxeBhB4sIy3169dHbl4u3l30LvLy8tTLRO9Wdla2Lk5v1qwZZkyfgeHDh4OyJFQrVqzAm2++if3798vqrCQUFxUrupwSfGvaW0hJTkHfvn3VezV06FCkpaXhSM4RZNSrp3LU07VrV3Tu3BmdOnXC2WefjQYNGmjdli1b0KJFCxQXFyO/IF/LzFbN+Jcj4Ag4Ao6AI+AIOAIfAwQqXeROIsXPmjVrlCyR8KSmpKqHinaT2HC9FKfw6IkqkycJO3TsAHq5mO/Xrx/mzJkDrs+69tprVQ+nHEmeWMZAr9T8+fPB6T56qeid0sXwWnviF0nb9u3bVa5Z02bqMbPpzBOlvcQRcAQcAUfAEXAEHIEPHwHlJvKVcJF7XZiTl5uHDRs36JReZcSJi9+bNGmiU4e2nioRaSKhi3qrKJ+ovC5sdx2OgCPgCDgCjoAj4AicDALVEix6pbitAqf6SkpL1GPFtVn0RBm5oRJO80X3s+KCdMqynh/WWxuSIiNTlGN7xpSxQBm2o1y0nDKmn2nKiYlqJ/MeHAFHwBFwBBwBR8AR+KgQIC+pdIowbBTXPnGqkOufsrOzdesFbrnA6UB6prZt3YbBQwZjwoQJ+hThsWPHdO3Upk2b8NZbb+kUIacCuWaL04Ise+WVV/D9739fF7STQPHpwKLCIqSmyTSkkKtEgWRr8eLFOh05dNhQbNu2DatWrcK4ceN08b0OqJK2ifR5mSPgCDgCjoAj4Ag4AnWNAPlIucsopF09QpKnp4pbKNx8883YunWrbtPwzjvvgJ9Fixbpdgncv2rSlZPwpz/9Cbt371bSw60cGF5//XVdc8UnArnwnU8Hcm+s2bNnY9SoUboFRPfu3UF5PmGYlp4WeKO0deClOnz4cNzbRSK2dOlSzJg5QyUOHDig+2Jx0bsHR8ARcAQcAUfAEXAEPi4IVEmwuLkoNw797ne/q9N93FiUT/RdeeWVOPPMM3W7hoEDB+oi+BuuvwGdZSE8t27o0qWLkiJ6srixKMO5556LevKkIL1erVu3xjnnnIMD+w/o+quWLVti3/59KkcS9sILLyj5eu2113CdbEbKJxMtjD17rLZhvn///jjrrLPiC+ONGJqsx46AI+AIOAKOgCPgCHwUCCQkWGYIp/SOHz+OadOm6Z5UXPdEEsNpQa6batyosXqmSJYyszL16cEF8xfgxRdfxL59+3TtFNszzJs7Tz1VnFrklg9/+MMf0LmLPJkouihL8sXQvHlznHbaaUqeevfuja9+9as6Nck6etTmL5ivfXJ3ee4Cz81OlyxZonZVNrXIth4cAUfAEXAEHAFHwBH4sBCodg0W11HR68Q9qRi4DoqL1xlIaPKFQB2TrRpYzjVa3NPq6LGj4NTf3Llz1QN2ww036Dqt4/nH1cvFrR24foreL0418vOd73ynwsJ17SDyxd3ed+7cqftxtWjZAqUlpWobd4pv165d3K5IM886Ao6AI+AIOAKOgCPwoSFAZ1SVBEsFhESdbKD3igvkO8vUoXmoSMRIzPih/o0bN+q7BektYz4arIzrr5i2Jwqpx9JsY3LuxYoi6HlHwBFwBBwBR8AR+DARICepEcGiIJ/wY+BTfnwVDgmOBdbzFTqc7iPBoWeJITklWb1STHMhOusox8DpRupg27TUNC3ja3aYDwfmjTQxZt8kVuzLyBrlTSbc1tOOgCPgCDgCjoAj4Ah82AiQuyR8FyENCRMbvuiZi905BcjpOG6z0KhRI52e46ttWH/66afjsssuw7vvBq/V4aJ2lvOJQz4x+Pjjj+uLnbmrO71afPHzFVdcgWlvT1NCdt555yl5InEyzxRtYNq8VfSI/fOf/9SnFb950zfRvEXzCnZ+2AB6f46AI+AIOAKOgCPgCCRCIOEidxIbfrhWioTmxz/+sS5E5wuaFy5aiOXLl+sC82XLlul+V1yI/re//U2JD7dO4CtyGLhNQ8+ePfWFzv/xH/+hi9y5potEiQvhuWh90MBBut0Dn1CMercKCgp0zRW9XQzcA4syfHqQ7zX04Ag4Ao6AI+AIOAKOwMcRgYQeLPMc0cvE9//deuut+qQeyVNWZhYuv/xynfLjS5579OiBl6ZOxY033qgL4dmWciRFJE3csoGkaPPmzTjn3HP0tTlcrM4nBSnDtVetWrXSfrgFBPvk04Fsw2nFO+64A//3f/8H7rfFdxySsNGTNn369I8jnm6TI+AIOAKOgCPgCDgCiTcatfVM3K+KJIn7UrGMH07ZcYuGlOQUcMsFeqkuveQSJUPcOmHhwoWYKoRrz549+lTf8bzjOr04fvx4XcfFlzVzGvGJJ57QBe5cU8VtGjjVyMA9sUimzjjjDH3K8Fe/+lX8CUZOQ7766qv485//rHWUJ6Hz4Ag4Ao6AI+AIOAKOwMcJgSoXudNQbotw7OgxtGnbRu0mySKpEboFLkrnNB5JEr1SfGkzp/+4z1WbNm2USL2/+n188QtfVKLGOspwTRWJG8kU97Dihqb/+Z//GV9rlQgg7VP6JkHj1GJneTKRwcigZvzLEXAEHAFHwBFwBByBjxgB5SzydcpcQCRfJEQkQ7Z3VnTMXJPVtGlTXTQffiowapYRO1sAH9XjeUfAEfhwEQj/Rk/VHzrah+wUwz/oahrMrlNlU03tcDlHwBH47CLA61C1Hiy7WFUGU4V6XgNDdI0XOLvIkTwxMB9uY4TJykze8too9GXl1i5U5UlHwBH4kBDg79B+q+zSfpfh7k3GfvOWN3nL87ds7a2MhKqktKTSP8zC/VSVNr1hmXgfci3y4Ag4Ao7AqUBArzPyFaJEte+muuasD19A7aLMcrvwslcrj1pg+iurj8p73hFwBE4tAvxNlpWWIe94ni4PYG/0QlcW7Ldu9eG87Y9XmYeb6zP5snhbo2k6EsXUy2UI9JxTH9eIenAEHAFH4KNAgNejhE8RRo2hID8MtSU6YRLF9qanqjTroiHcLlr3cc7XFq+P81jcNkeAv0Oe04dyDulL4PmGhgEDBugeeHwamPVcg8kHYUh2MjIydN0lt3jhh2szSX52796tTwrPnDlT13lef/31ugaTr+XiU8J8injXrl345S9+iWuuvQYTJkxQ3Yl+T2YTydpf/vIXzJo1S/fr+973vqf787Gcwdpy+xmzy4+oI+AIOAKnCoEqCZZduHhhsovTqTLE9ToCjsDHHwG7JnCLlffee08JTMeOHTFjxgzdHy87OxsdOnTA1q1b8cD9D+Ciiy/CD37wAzz22GO4/fbbMXnyZCVZ559/Pq666iolV3wSuXHjxli/fj1uueUW/P3Bv6NZ82b40Y9+pJsVX33N1TUChm+QWLlypT6BzM2MqY979vE9pSR3fBCHn9/c+hsMHzEcf733XrSXOhtTjTpxIUfAEXAEaohApWuwwhcd7sjObRdsqi9KtijrIYKAQNKxU0e9uEdqPOsIfGIRsOsC98e7+uqrccEFF+Ccc85B165ddQNgTstxE+Gbb75ZvVrcr4774u3YsUO3VqEHixsGT5o0CZ/73Ofwxz/+UffBoxds6NCh6hXjdeb555/H//7v/+qL4M866yxcIlvBWN9R8Kyc5In93nnXnbolDPfUmzJlCnr37q1eNXrHOOXIjYqffvpp7YtvmbA3RUT1et4RcAQcgZNFgNelSj1YRqL4FyDd+V26dFGCpYvYZW2oXdTYucmerCGfpnaGCy/2/Aufcbdu3Srg9Wka72dxLHaMGWuQ3wMXZcfLQ096JJVpZQWYZMI9ng+3Y6HpsLSoDXRLG8ra788UhOWt7IPE1MdPZYFkhK+zogfrzTffVLJCbxE3B27btq1O/82cOUun+Z599ll9ndbXv/51/PWvfwX3yRs8eLB6q+68807th6/cevDBB/Gd73wH48aNUyI2duxYJWeP/esxvPjSi/qqLdoTfso4bB/ttTVc9GD97n9+p9eshx56SInfn/70JyV5P/zhD3WzYpJAetq43YvpDeur6zSvj36NrGtUXZ8j8PFHIKEHy/6is3cGjhgxQkfCi6pdLOwibPHHf6gfnoXEhGtQuD/YggULcOaZZwb7f5WVIjkp4duJPjzjvKdThwB5iXCgE0K03PiLyUbrwwqiddE8ZWNl/N0y0AN0MoHnbW2IwJo1a5CTk6PrnbhmitN8JDr0Vt19993qseL7Sdu3b6/btfB6wulETtlx/zva2bdvX90Hj5sasy33xKNM8+bNdYNi/o46d+4MvuWhJsG2fWG7jRs3xqcriU2nTp1w9NhRNGoYvEeVC/NrqrcmfVclY9fUqmS8zhFwBD49COj1VL54ea4Q7EK7aNEicBFr2zZtcSz3mF4ASRC4waiFBM2t6tTFsRuK9W03hWj+1BlQtWbaQzJK7LgOhJur8hU/fpGtGrdPQi0XTBcXyaJp+QnY+ZbI7uAXIt/lP5WKYvars/pY3rxb6q2yFiJjfem5LrJxOTnXWEeywoXbDKyr0N701CCml2nvvr1UomQr6JcemMAG+62xP57fJEWU4bnNc55veCguLtLXZ/GNDFyPZSSM9hE/eo74ZCDbFeQXIC09Le5NIlGjHn4oTxn+ocI27Jv56PhYRnvoWSOx4lOELGN7tqOdDNRDOdpAO3lsWEbbbVyVQcQ+U1OCF9FTd00CdXIcrVq20jVlbFddPzXR6zKOgCPw8UeAv/dKpwhpvl0guB8NL0zM80LD/ww1vdAE0h/8m/3xw4soP7wwcgrOLlpqj1w0dVqmht3pmEQnQzhdw+YJxaiHttkUhE1fRIVtPCxnG35qGz6IDsUr1mFVfYf74HlQk8A2YZ3WV7QsnK9Mb6K2Ydnq6sOyHyTN48n3YdpxNdstpm49k2Lnk+ZDaeub9oZtZnvLMzZ91GVnBMkDy9k3jwE/YT3M2xsUsrKy4vrYp+mz/qNxuE++wmryU5MxavQo1VdZWzu/jZywf8pSF22lB4rrn/jEHn+rtJt1/C1QlsSG8sxThxI1QY8L1a1PkhOmqY8fto8GlqWnpSPnSI4upP/Sl76khIo6rT/qYZo6WM7+2d+8efN0KpNeND7xyHLrgwRVr3XSoZggBzYZc2bOw7vvLQBGSZ4PJvId9FGTLC8/kyyZhsybkYuXX/o3Lrj4QtEd0yXNPDgCjsCnH4EqCRYvRiQw9hckL0AW7GJq+VMd28WS/fB9h1wbxhdN852FvKHYBbiwoFA3KKScXSyZThQ4hvCFNCpTXfuofDhP7Kiffy1Xpkf716t30JJyhitjhmhbK7e6qnSogiq+wrpMH+NwudkULQurZZ3JWWzyifLWR1TGZBmbjJUxHy6vLG86WV9XwWwggSFR4LQSzzcG/ibsZm7Ey/q1dowtzTojGUyXyrRxUWFAmpi3l5wHOoG01BSkxIgB63k+sU8bJ+X4oZeGU3ZcfM6XsIf7Y7uaBnp/brvtNowbPy7u8aGucLB8vA8lICIhMX9PDLSJQYlTbPzMh+22fPi6EtZt9RazLt4nCyWwH2LGpxZ5TH73u9/pVCVxYl/8qE6zUe0TUiZtHn30Ud1fiwvuOe6wHYH28m8icO999+Hd1xdg9LhBOFS8R/TaORmMOZCOjV8yrcu6yNOVs1GaRiam8GjsX46AI/DZQKBKgkUI+NcfL1a8edjF0WLW2wWR6VMZ2A9d/vyr8yc/+Qm+8Y1v6GPfXLg6evRozJ49W20l4eJfzLT5VIbohT7aFy/8xMn+emY92xherDuw/wDmL5ivtvJppmbNmqmaML7htOlQIfli3eHDh/HOO+8oEebTVtyLiCHajmXhvpnnTYn2UQef4jLSEMjqt+rhWha+oLtnr57o36+/3jRZGw7WH8fNGxVt6tK5M9rLFBEDPRn88P2TDPQYLF26VAlyRnowFWQ6LKYc05y2IoGIbhzJOhLqd2a/g2HDhunNsrrjQp21DWYPfwM8t3hz5lohnnNcX2T7P3EB93HZfDNFppLYxm7Y4XOA5XyajW25dQAXdncWnPhHDG3nlgV8ms7GmiMyxIrkjjHrSAao0+wiiSHunIrm074fJFBPjCPpWKnL+gnrteMcLgunw8eBttJGhnB5WP6DpnlM2A+PT0BgU8TuqvsLj4vnvtmY2JYylJTla1V+ynEcLdsrnvI0diAAVSSgFCpLKsHxZPk9NxdSnBwspjdcE+v3UkfAEfi0IVAtwQpfhGzwvEhaCKetrK5juyjzBscbEPfHOe+88/Smy5vYM888o0808eLKdx9eccUV8b+g1T650Npf1nVtm04RiP5oYL/hD+stT5uZvuvPdyH3WC7Ov+B8JUhTp05VssMbNW9gXAzMG3lmvUxMnzEd3DuIj5zbzY148EkpLhCmV4Uv5qZ3j4uM+Vc519AxzUfj6dm48MILsW7tOrw9/W1cfPHFetPmS7d5w+eC3zdef0MXGI8dNzZ+c6XdfFqMN68VK1aot4VPYJEM7tktN3MZ+3R5FJ/TLGPGjNF227Zuw7Rp0/Q4kRBzoT/tYxmJMQkCFzxv274Npw86XXXw+HCDSD4FxnFu3rxZn8IcP3686uemkzfddBO4MSXJFr00c+bM0akoylIntww4lUHJh3RAMvT4448rsSJufPT/ySeexDnnnqNbFsydO1c3yTzttNP0HZskUvSyEmduacCx8zy+/PLL9Q+X+fPna/7SSy/VNXskU1y/xHYkqhzfyJEj9Sk9Ysi21113nS7iJr7cwoDnDP+oMJKQ6HdbU2x4bjJwvNRHYkzMmaZHm+dsalowZcdyBouZtvPzqLwkPlnWa/J8YaBe2kV9LOO5xzx3aWcbs9n610byxXJ+OD72T3mTMRt5ftIbyClGhnxO+f1/9s4DwK6qWv9ranohvcJMSIBQAqEGFOlNqQIi+Gh/mliwwbMX3hOfT32W9wRFmiJYUUG69BKQGkoSIIWEFAghvWfq//utc9fMmcudSQDfE2b2Tu49++y+19yzzrfXXnutikwvLd82edSNZ5A8AnOjDf626IcVhybUJMBJWrc1SyDVqNOhFZwQhQH4SVGuug1ewDNergTVqQSIEfL5WUr6ThRIFOjEFNgkwIKp8YH5BAP8v6ZHMESYIeNgtYltHfRFsPDMSwZjhgCsb33rWw6+kHYxbkIw6M0dN+XpM5h4e/U6Kkdd8nnxh2QIxdo4IEDe8ccf7yCIFw5SJEAENoR4sTJPXiQAIyRN1APIALBCMvLGkjds/vz5hhSPAJBhm4itU47BoweDVWxe+DU1NXbnnXf6yx1pFUCFFwlKyLwcr7nmGpcUTZ021XbdbVevyxh48fAyxHYRp7A4Vg/gOuyww2zyI5N9LIAtgB19YJKCNj70oQ/5i/QnP/mJXXLJJfbss886SGDst912mwEm+PtwvH/KM1NcsoUxSgAL6cy7trbW7rnnHn/5HnLwIX7yjG0dgBxlmO8nP/lJP4oPyD744IP9NxC0b+/v9k7SaZu/50c/+lEHhPwO+d0BkqHjz2S8kgMNSFKvuPIKl/gBkPRrsg/s+wH/u0JHJFdI5mgLSR7gl789Ej5O2I0dO9ZNDfD7oSy/BWxDkQ54vvnmm30aSO7uu+8+P7HHOP6Rgd8oY8eIKLaj+NsQZ9xVGne1njHmzG8X3ac1a9Z4/sc+9jH/3QP+Tz31VP9N8jvlROEjkx+xe++71w468CDr17+f/6bPPfdcp0P83QDbgKUAQcyJ3+JNN93kCw5oBX2jPPmMlcMHKMyvXrXarrv+Opf4HXP0Mbb12PbNpNAGgXkCXAHL/Db53dM/YBep4OFHHGZNgKcCgCoXqHItLUmviHlGXpKlZsuapFKxhtZbVSu4SyFRIFGga1BgkwALUMPLDEYPE/tnBRghoImXzbcEopBmAEwAE2yNXHfddc4UWc3z0oIxBhChbjDStzL+TdXJ0yMfp4/ok7FMnz7dxwqg4SXUs0dPW7psqb80amtr/WUJCELKgzQKUMSRd6R0nEK84oorHNwgEUHCw99j5513tv79+vsLmRcvUqpwEcIqnIAEbIcddvB+AFW82ABIvKx4KSBBoCySMGjL8Xj6gK4AH6QivGgoN3HiRAeASF+QIvCiZRzUY9sqJBv0y9xpl7r8fsjj5cyLCinOzrvs7G0juRkwcIDtt99+Dpgpz1YpYIIxAR7uvutuvcirbdXqVd4fY2QsgFBe+tAPQ7hsEUHr/83AvPhNMTaMWAJ2Aa0ATLZn+Q3wu4MuAIqjjjzK//YAqqefetrGjx/v40TKCmhlDtCROVEesAJgIw/aALi33XZbpxt/E34/9E06dKc/fv+A36B3zJ88xlv8u4z89q7UiQAQZn5sgwL85gqEMK5txm3jUtCvfOUr/jvEuOdLM2ZYbU2NP4eAT0Ajv2Vogz04pJ/Q6NpfX2snnXSS3Xb7bXbOOef4GNGn5G9K39E/v1Fo0k+/8f4CYtAUCSU0AGgFwIqxco3fG7Q55ZRT7Fe/+pWD9/YAFn3Fb+byyy93qW6N5vDrX//aFx4s3KAv82lS2cYySbvY6RQbBFyBpzJwFaNQBgESkslV0q4m6hEK2dlN+k4USBTo7BTY5BsJHReYNwyuBbDAXJzFwEEUdClm5M4ocwzFy+eYtzMm5bOy9zhN5cqTzn8PpCuODgrAApcbM8TQYfAACMbHS4k+edkzVj4xpmDahdbaXKJMPrFN3/mMoni+bj4exXhJMA4YPltEgADue/bqaRvrNnoxXj64DGGLjZcSAIc5ADJ4cSIRwlAjAAzgdfttt9suE3fxurTJSwpgxVYglrUBG4AY/LABbHhpA1r69ulrxx93vF162aUOsLCizcuFMlzZiuNljz7RFPW7SGAI+10AJIAeRiSRVLDC52UL/QFGHF2H9rw8B2yROfzlZXnppZe6XtfXv/51fymHdIm/1S677OL2wJDE0C60A4QghQRQMmekQFv038K3v6AbUi4AHy9sxrznHnv6FhCEQILD74B2+FuX+ls4wd7hF+3yEofujAWp3RnaqgPgQyeejwsvvNAlPEgdmTPlyGM7EMBBnLlhugDp4UdO+ojr4gEykAIB0Jgvf0cAGb+H0JWDxkhnZsyc4VbQKQtg5vcT4Cv/EL0dOjC++J0iqfzEJz7hEmJ+U/wmAb0AS7YI+Z2iS8bfbpK2bPlt85vgbwB4RNpG4G8DwOrTu4+dftrp9sijjzhApT1A8tKly7wcW9xsa0NHnpnf/e53tv/++9vpp5/u9wAuJKHQnJDxjlbpUAAsAPkLL77gi0IWZIRStMj/Vhgvfx83lloJijLXj6ytrXUaY56mAht24kXBu7wQX/pdFAe4WisDyxhZvr/i8uk+USBRoPNRoEOABUNAVA/jJASDcAaj+7g6LyniMc7Q4Cu59JbyNEZQXpu0fFnXa8iKeVFtkdE/Hxg8TBtGjGQNZhwShIbGBgdcUba1hTfHGCPl3m7I183HaY97xofkAVCIK5HmJrHdgg0xpAIEJEsReJlEoD5ABdrX1tb6hzS2opB4EHgZsg2IzlkEpFbFIRTLSWdbknYBXvlA29EO0qb3S5rmGFfpjJ3AC4gPgRd/BMaB7zjaAFQiTUN6wzYfL1A+BABFBMqGhXvq8HKETnzygXYJI0aO8Cvzoy4f6AvYii05L/C/8EVf/FagGQAQSSNAD4kKfx/mz4fAPPj71NTUOMgARFCGdH6rSAOJo0PGvAGcSCvZ6iYfcEMAvJDPh/YYA/HBQwbbsOHDfN4AOyRagGKkYkhKqUeIMfvNW/hinowX0M3fGKDM34/5AizpDzrwd0DKCaBCggXAB3x/61vf8t8RoBtJG4HtaLaK0ftDYgl4BBTyO2PM0IKAAVDoAH0YB/PjQwBMXnzxxX7F8DHPD1uiGd0zxgEt4QVIStlGPkNALAyP0l5x4PfDfAhIqdjepW/mBGD94X/90CWnSMLOOfdsPXDiFZJI8WBk7b25TXIjiHV60HGHSErXRIFEgS5EgZIAK5gzkhZWz7ww40UCY+FDGUIbxgW/yYOqPHaJPK9FxULZuOeaL5+P58soHkwxxkJ2bGHGeOJaVLXNbcyhTeI/6Ia2+QAAYOQEwGqZK3JkdIsy5LMaj/kz9nweL9aYD2CCQL7X05V8gpfxZrIXQNRpyVMkpFK8mKKfuNIObdYK0BEow32U9cRC+/Qf9bhGmRgTznSjjWinuE7c81KLslxpLx8oFyH6oQzj5YXKy9SDihXXjXrv5BptApYAGWwP8htk3AGeyiTdaBS4pywfxhy04xoh4oydMgAZ4syLOFfSY86RH+1ikw6gTt+UydMOySBSI9JjzNHv5l5RDGdOBMA4yvY8/wH8SK+qrHLQzVzmatuQbW9oA6hCUgWgB/iztQ0YQoKKfhlgCaDEQQcWFkjiAENswzHvHj17+HxEQX9WHCzqbxqAD4DFggWaBG2pF3HSAVn0g6QLiTdgOE9Pxh904xqBQwSjR432uXBalnagIfNmjEjyfX9Qam5NFfob6ZErA0Gx/ef6WDTM71YfrrKbVdGQ6cTJqEZ0k66JAokCXYgCJQEW84fpj6kdY7NmznImCsMMxpunz9tl5Pk23mq8pU/xRwcmaqAlrdCYv2TE2MiHYUc5sr1sgbfm0wtV3/GF9mH8rJ55OYUEIl6uMYb8mBkj/yPk8yKNq8+r8BLnnnK8WEqFKJvPI614HOTTTqRThhD3bcbiw8wNtPA3aFNGdaNv2oh2vNHCV+Tn00qVIz/fdqkyLW3lhpVv9x8Rpw8+SE/Ri+L5YCykEWKMxff/iL6L2+C3RX/0xTX/if6L62z2vaYDUCKw/ZiXVJZqAwCTD3lpKVu+SIKQNPEcEJDWsQ1HwEPEF7/4RS/Dff5v2+JSSn/TyvLs911KOht16AcwhHSNa01NDU12GCjLhwBQramtIeohDyhD2tytWwaYHOA1CQwKRAluOZiiUpnfKyKAJdm/lSGM7KvbTOzl6ZRLIVEgUaBrUKDkmxmmBRNntY5uzuOPPe7i/mDqedK8Y4aeb6wTxKEddCLwImEVTlq8kEmPfOJvNbyVuqXKlkorHsPmlGmpo6k6OGxJyCKbamNT+UXNdXj7j2yrw46UGeCmPVC7qfr/iPwAFcVtuYSUv0bh91ecvzn3AA50/7gibSLQXrQZoC6u0IPAmEiLdKEKBzrko29Ifr4MdRyoKB1pYHtzolyE6Iv7KE9aSJmQNKGPCOgLCRTjpmx+/IwRySfbvYA/nlMk4KS3tE2Ux1hXFmFs7bNgsuWy6TZ3g9U3SfLoBTLpZDNSLJdcqRIAS8l11dp+XKXfDOmQydun0RQSBRIFugIFSgIsJg5TgmFj8BDbPfgizDParkCctztHmD4rYgAqTJv7eCG83TZTvX8uBeJFHaMoBWb8RewvXd6l2cua8tQlj/8ez+VFe15Odb2cA6SsfJv0Qlv5OsTpy8eHEvY7DPxuOaWHwjnb27T7dkL87jFN4nTJtRNtoi/pvk1zedFXlIn7UtfoA6DGNiWAibEDDlnQ5Nsgnv+bUIdtRK64P0I6ny8f/fFXhAJcn3jqebNZsrGlhIqmbp7TXBh7ZrahQCvAlP4Uzb0LW4RI4PjTZFhUkRQSBRIFugIF2gVYTB7JBOAAxlO8FdAViPNO5xgMPYGrd0rJd0f9/AuYZ6M45NPyZSnneYUqxXn5dlrbUOFcF63p+dJZvKP23ly64xRAFUrreEd4L4QAQCjUc2IVVzmxxbmp8WMslq3FONyxqfI//MmP7MFb77HhBw6wpXWLpH4lY6vijWAs/1PF38sH1Ww92SO8XbhKYI8QB1w21U/KTxRIFOgcFOgYYBVWZ0w1wIJfPV1cBEaSQkkKxEsvrvlC0DCfHrSNNAQckDhfLsrQTmu5tu2QV6oO5Uu1SfkIxfnF91GOa3t95Mvk494WCYUXULRNEnF9t8yJO/9dtZTN8lr6pHwuj+JBD+JBp3wa6QRvg8qF+llq63dLH61JHttUmzSY/3tF+aJm/s9uS80dmhZLktobENIfQnv0aK9evnx78aibzy/8COgwstu/SrIu8VSWj6I/kidJoRrZZtRisLmQxxyyAwCatZrN0yTfN3FCXsqcz886Qvikf83a8uspczE9VtvqqoVW3oz+Fj8mFqFEQ0SlPssarEdTb89u0cFq53cXfaRrokCiQOeiQIcAi6nmGVPbe3GLxDDe1q+hfZpmzTmzLqJ9cZ22f4vWYeTLtY1H26X/aMV9Ft+39tD2N5HvI18mH4+2Ii1/n8WLxpS7jfbjmv/NtaRFw7qWSovsjvIo015+e+nFdaJcXKPfd8VVNO1IChZjBIQFwArpNbpYgBX0ldhKYzsOvSf0lpAAMV+kRlypyylH7GRh66u6qtpPB4aeVbnKrFX9Xr162+p1UjsQYOqtusCc9uhGnqsw6bpRIKqasSiOgYUGbUHi2KZJOlWrlN6oMRLKFY8+HWgJSDUUQFcAKK4BsOib+TA/5hJbhtQlXQpWGV10wJKTwBXN1QJYVdm4/Vud+iT0RbtlsgSPJXfS4kfr+dynkCiQKNAVKNAxwBKjaBRDa4RhiBq891AliOCqBsrAyjGcpD0GGeXjGgyO+3w88jvLdXPp0Vnmm+bRSoF4cbem/N/FNvW7Y8u6vW1rQFiMHXCB4jguZGpra930AtbNMcoJ6EA/E/0l4ud//HxbsXKF+7M859xzbN2qdfbzn//czjrrLHt6ytNu7gVDuI898bj9SH4bT5ENsVrZVHtIxm3PlNX17nX11iizCvCYZmxTOU/hBh1G1MnLbKWs3M+dNtXG77mXA6pHsLSucY0as7WVzZ9n2y5foet8k5Esu18W55dobCfK1MScRYvsNulmnShXPUPUJ8AxQsRRYL/+uuvdSOwZZ57hvAwQyZYp3guOPe5YVdHoYID6ZMIq8TwayrvIgVO6iXeuZOZC8X0uK0UTBRIFOh8FSgKsAD0vTH/Bbv/bHbbFwEFWJ6bRLEbXrQ7GIWOEYhaYdKrQqhArThWy6M0KEb7IoRlCMGoYPh/uYWgolnLPCpNVMemxao4y5GMl3BVhCy8E8vjA+FlhEoiTRvl3W9icMTH2UoG6m1O/VN2U9i6ggP9d9Zss9bMs9SePcuTl40yF+3w6adGG8op/QzxjpQAUaYChPn372PEfPt6VwUvVBcwQbpWrnHvlCxIPAoMHDXZL/ngbwNYWVuwxsYDJiq997Ws2a/YsNz568y03yyjnOfbsc89aTU2Ng7Jp06fZzBdetDUCKw/efIt9taqbNX793wSMxtiH737EGn/7J9s493VrevWFlqn6AHJfjEi7c7aDPkydp19uwl2StV5XzNF+3rawqr89Zev33M7G3HO7jbLBVv+D+SZNKZv6tzvtCPnHHKJyQTqXtIkXEfBxiX9E3OrgKgeTEDjaxsgqRkjRnyqv0CgkIPPnMiMRxPf62VcrcMslpmiiQKJAF6VASYAVtMCZcM1WNXaIHPuuq9sgVxFl1k3oqV6nf+orxWG0FdCtSVaX6yVeb5BT4+6Z0idcEiYP+IGpA4ackcOfZKSQe8AVp+xc/K4OWS3CuCgH6AJwkcdxatKI0xZlyOOkEAyyvkG6Fzo9hYwt6sf4nRHGzZuuLRxSOcRhlHHNFVayt00e2UVF4mXUtnae6ebaKo4W2mr7kssSOx57cUPpvitTwH+D+tnwm+G54/ng2cv/hviNsbBh2w7/gpgx4BkqDtTnWeT5vPfee9wVE26a8J2JDSss7YcXBWxkkYdLHwyKUgdXOjzfq1austraWm9+u222tecEsJqXLLVTb7/XBj85WY+RwM9jD1vvshHW+Mb9esZ6W1nvLSUd0mx6STlcc/GgZ94Dj5Si/mTpC4cI2pzMFMg1t7I1G637WlnVX73CTOBq5IAxVra2zjZe+DnD6tY3rZtVhdkJlScEzyCO1wFAFSYb4nmcNnWau7DCHphkfkpXQTCUrpQpI8GlV4Wx0lAKiQKJAokCBQp0CLDQj8AfXB/pJPBpFgN7/ukpNmG33YWIxFSoLX3TR//6d8Wbba9D5R+uW2aVm/YXSTSP+wyMDLKVwGp3hcT4t9xyi7u2QdeB7Qesk7PtwIuB00tYg8YlCz7OsCQ/ZcoU94eHvgeBNNxvHH744dZPjmBTSBRIFMgowIuf5wgwVSoAnli0AKQIDhQCzOieRUxIlnfYfge78sor3Wo7rnJok9PELIAwKPrSSy+5W5nvfOc7vo3GM/7tb3+7xTcizz/hSUm7/iD7VMfPkuFdgau1W423sqVrrbxqjDWukcX0bgJW9RrPOsmlADGrMj+dXtm/SCTkgYyb8sySPUtgi2LVMpLava/VLd8g8bbA2lY72MaBfW3A049awx//bPVfusgqCqAtFn9Uxzn01ddc7fPHdQ+85t+//e9uC+yaq6+xs845yxdyiM6aGtV3I4rtGdrKA1naajvOLCV9JwokCnQ9CpTmwjCqAi9r3ICLCK3w5r9ht1/7J1u7aIMN7jHK/v7XB22Ho3YVT1xjv/nsb+z8q88Xb2wSc25yBoyPse9///tuaBOmjDVzANZVV19l06ZNc8CEKB5bNDhkBVBddOFFvooEdGExG6b+gx/8wF1rwKxZefNywEkwbeKK44JPX6CtjFvd4nRNTY2/XGB4xS8On8S7/Quax7uEqC+Z3+2DTuN7t1CA3z3gKKTHXP1Z0I8qtsPIB4C1FwAddfXZM4+rHNwQBbiK9pAY458SKdnixYvdJQ3SaFzUzJ833y3AA8Dw7be3wMre8u33Oznw7jXxcBPssQqBKuNjAlcwmvrCeAo8R/txheHpYQjwF8+FS42iYCTmHpw6tVWnk4W026D8V163shVrraFSkqmvfdmaT/sXaxo9CmGYAFnmlojOcAk0buw4W79hvS8IcY3D89e9R3d3np4ZLlVB1o8hVMNVDg8sOhExJKVw34xKhYAYAfm6By75cllq+k4USBTopBRoH2Bpwhx7rpBvMsIj9z1kI4ePsYbu9Xbz7262ec/MEaOqti23G2Z7nT7eRo4bKr7I9l61S62QUiFhYsWMU1cYMQFGvP/++/sKmFXiYdp+RMcDUPWpT3/KdR5gZpxcQsEWh8Dbb7+9+zIjja1CjCDiFBarzWxd7Lrrri3uNmD67+mQGPB7+s/3zx58/P4BVvgVdKChQfHCJ5APiIpAuXwAfIUdKbbG+HQU8EGYD+GcGT2viy66yHpoQVQhiZdVd7P1dVJAHz6uAK7a9uttFHCIgxYS0HkizaVtufJvWni0VPRm2qCYMvW9cqOVjR0sI6GvWpUk6mUCWIRuGhMLNgJ8CkfaEZDSRYA/Ebp3lwRd7KVckryK+h7ij/AagSzR0K24e6nsq6mpwaqatNUp3+jBQ7PJ5OaRK5+iiQKJAp2PAqUBVoEHNIoPNxbiPSt72BvzpIi6rkngaJA17t5s20zYznptUWnDxo2yfqMHWEP9el/cwbRh1GztAX7YIrzhhhvceSx+vTh9xHbDQCnP77rrRFu4cKF99Stftf/64X/5ahG9jhUrVtjRRx/twAzABcObOHGirV612leWADbE9DB4thSRkBHek5Krzve7SjP6J1GA33+L5BPc0c77vBhYxXABHDy3gCwWNFGOa7RLnH/oMBFiuxHgli9DW9inWq9nfYRUC3hCG1SmbC0GFjYRKsV8GuSqp0qq7VtKhX3JGgEz5F9KZ07FmKq95rycJFWSSMHsXrntDntFepsyKmEvyGl3Ty3yUNjHMXQAT+ZA3OepuYbkbs7L86T3oGHMWWcbxBjLkZDpv4roKz+gbLtyY5nmqfJIygjgwnb+HJ6fvhIFEgU6FwU6BFiYcWkoMI7d951kc/q9bCO2HGW9tTp9YeqL0s/qa/2H9rHu75d+lpgNTKle2ws4hmZ7YdFri2z7Hbb31eFJJ51ka9euNfQbgmnvseceEsH3cAb235f+1Lc31q5fZxMFyuokqRo9erTh5f6yyy6zo446yoEZzG++jmKTdvIpJ7tEjPZi5d65/jxpNokCb40CPB8BePJgp7iVAEfF6Sx8MMXAliLbZdEGz1ejThGTHodKqBuginLEo2+Pa5ElFmKr1OYHJ//dahWvXytpkitLUbudgOQKcFU70mzOVGueu9DKhoyV9Ku/2czXhVQEWHA/s6l2cs03r6vz3b0VOgV5d49qG6YF28wZM1wfC+kVknHmCC8JQMWcuM9oUGazZ84R0BPAenGjyle5s2dgpgeVA21l0FOp5TrMkwnHZC8ry8sNJ0UTBRIFugAFSgOswsTLxccqC/oQ/UduYROH7uYScZjs7oftakjIm5sbrXe/vtYA8xXjq5Kki4DiOh8CDMtdb4gXoTslvuVlR0iyRYDZ77fvvh5nrTdyxMiWlR7bjBN2mmADBw10MEUhmPfZZ5/tUiuYHw6VuSI1S0DLyZi+EgVaFjKlSAEQKBWQ5Jx11lnu5B19rXieeOYIAaACeOSvEadccbyu+qe28aY/W/nwAWYrFqgE22ulgpjDqC0kanrVyvY+0qpu/5M13HyrNV70eTNpGZRts7MQm8DXomW60RZcAd+UasnTHNsI6EnRvW6p2fj37WPf/OwF4mtl1u+661xSh6scTj6G38Roqw3AUj/VFZfajetusGH7DbIlGxcKYDEHgSqONBYCvI27JmnD96rQNuOTKuH5mcwvyqVrokCiQOenQIcAS0JwN80AGTA4Cuco42SOasnwgjiHQM36Rlu2ZKX12aqnRPDl9uqMV6yhqsxGStIF4CrTqjBO7VBfwvqCkm2ZLdI2X7PaHTF8qK2SdedqrXS7d9eyT+XKxZQapfxaqa2C0VuO9r8EDI8PEjIfEyvkwqoZhh4vA89MX4kCXZwCPBMR2oCFSCxxBUBRlkD9+ETRAFqRn792FLd1WKtScLCRtZ8llPgu6H1KhGYV227jn8ZDD7b6q39pTT/5oQMYA2i9sUpgTScOC+Mt0RL4R0HgEKV1xZolVS8X3xBj8XnmFf4BSvwLCRYducQuJHNaRGI2vrH7RmusXCoVBdpQDceerbSGZs1ljVp0amxim01sBdC3irSW8qT0lSiQKNCJKZA9+R1MsMVbvIBVuWxfAa5c0VNHlAFUr7242F6e/LJ1b+xuC6a+an+48A+2au5qB1UVAkdNknYtlv2b2XPm2HJZenZ9KjG3+oYmmzvrDbv8x7fbow/Psmt+cas9dN8UGRctk5L8Upl1WCF3GxgRhUEh18oYfgAq0oLZc82/TLxw+koUSBR4yxTgOSp+rrBmznML8EKqhX4kki5sauE2h3g+xPO6TioBbL3VSTpUt3w5MEcrM4GUTcGMwF96rpsLbVdM2Mm6//D7Vj35USs77iRrnvGs2fI5knahhJ/xB5pvN2ix5uBGZmK0wntTMbZGGSvzYf4OMjUOFm0sLqnrkioHSeKDkl5pSSe8qGshzj2LUr8nrVkzXquKXKnvrXg0fSUKJAp0AQp0KMEqnn8LiBHjcbG3rq/Nec0Wz5Mmp3jW8088b009mmzQME7doI9QLia83L73ve+JeW2wfd+/v7xYjLIevbrbdtuPs23H19iD9z1rY8cPseoeu9mihWpHYer0562nTuy8b+9JaiXTg/CMwle8APJp7zyuySQG+M7JmFp4z1OgRT9LjwQuZB555BE3y4Ch0cfkggYdSPSWOHgCEEEZ/u6PP4MAAEAASURBVLzzzrPVq1fb3XffbaeffrqDFcywcEr47vsfsCNuuMlGS7V8w6sArU2u61ppKLDjQSANqVPlPpOs4je/tIZ7TreGMz5jzfNl/X3QGOlGaduw3edXqEgHYjysEeIpSLwATSHBwrbeb67/jS16fZGPn3kxxw0CeK/pNPNRRx7ph2qyRuAVhMLVJYWRpmTXWy1QEQ5LRwqUKET9Pn0lCiQKdG4KvAVOlyMEXAJuodpb77yVrXxDmp8CWKPGjbQ9TtrVho4bYhsLq0RWv+PGbWPHHfdh+SpbLqZcZn/84x9szuyFdt2v7rT3HbC7DR/Sz+p0ZLG+IRvOhJ12kmmGbdUFIO0fHRh4fGC6rGb5ECc9hUSBrksBgAVK7ISb/nqTXXLJJbZgwQKXWr2oU3dPPfWU61E+IB+C2Mj69Kc/7XkzpDDOAgzbdAROIg6VLaxx48bZiSccb4NOOErOmWVcdLj0qzZH4uSt5L4AWgAjpEmyQF/1oSOs+7znrPLa6wSuXpavHJ029O3HXJ18tACwmte3bikiaUNyRfjFL35h79/3/fav//qvdscddxhz/fGPf2yPSuF/b1mphy58nCG50nq+8VxcDMu5C4wr+GQh+x/Py3L9pmiiQKLAu44Cb0mClR99SLOqemu7r3GtLX9lsQ0cOtC6a9XHNmK9jjGjAoriaM1WW0pxfbgY9UKpYqy1L3z+Aqtb291WL6+yF2Ystcq+r9r0GYts7tQF9oF919uMWdNkw6deEqyDxazeLMHKjyPiML8YU6SVvmYgKitPCYBVxvpaAV1pVpjvIx8v3U9KTRR471EA0IFkihODkydPti984Qv2+OOPuycGbFxxoITDK2yd4SqHE4dIpffee2/fRkRihVSIE8NbyhMDAYA28IGHjSMtG5evfmsSLG+h8OUAp/XZbF6xXO53tLgjAKCyRzu7L/6OPCRhEVeZ0NtkuxNjx5iUAXSRjvmXnbTY42AOvAXPFlndGENc1VAu6vH8ffFY0n2iQKJAl6DAOwBY8Jom6zuon330G2dZRXW59es+yJpHNJls7Ok0oRwyi5Fh62q//Q8Qwyq3rWqw/izdKYGn5r7d7ItfO9zWSgSPIvyOY3axsmMnSsm9ypm4W1lW++g9AGYivCnu4nmAXIu95ChavIDM0rX6pI1yAT9mgJJqtIm+WbZ2Lw3WYLKh+xXxAHVxbek8RRIF3oMU4HccJ+pwdPzLX/7SpVAY28R3IWCDrTPszs2aOcuO/NCR9sUvfdHmzp1rSyTJxm3OCSec4GXQ1cIF1tHnnGN3Pf68lVePFiDqaCuvA4IJ+LFFSGiSTmfDn2+0hvPO9vuygWPMlm6iXexqKZT1bpV0oWqAThnhoyd/1OcKONxPluexr4cXCYDiNddc46eWXbLXwopyCKoQjSzXtcplewf6Ir9EcmSna6JAokAno8DbBlhgniZ9NVU0WvUAtvKUoJ228mqdrBGRKuQmwhmKmJjDFuklVFZJ+0LbD43N9VoRytms7NF079E3U2KX0jy+vWTsQbV1VEfmH5qaGwR4OKnDzgD30ouQpfgIjfQvhlglxtugFSw9Yr0awBQKpTA0H0cBiPECKecl4icUpYiqeCHLm8XcRCXgi0oKLtVSAYCV19V8GuobNBep+CsOQyadEFe/SV+JAu9BCuRBB0AJrwm4ygFU8Vwh3eF3vu022zpamDlrpoMQvDVwuvfll192zw1Ign4mW3VIgKZoy63i4kus7sc/sIpxOv038zVRhgXOZgSAFUH9NksBveFvd1vD6RcqPtscWGlBZguluF5YGnnZN33pYS4ArGbZ8IuDO7Gwovg+e+9jW4/Z2vXIampqHGSSzrxxBN0YyvlqSmTwT/YlMiA8EwsosAzVEi9i2BREYMZVIeMSHk1fiQKJAl2AAu8AYGHQMGOTZQJMxOQoxw/MOCNGHwKOgnoToaC3sGzxMustUFXVt8rrw4kwyaBzz15MhwgzHVEZEmwqlzEIAbVyJS5fvtLuv/9Rd6szcbed5PD5Fdmw6e0r6SeefMpefe01O1KKqLDtJr0AnnnmORs7dmvr21vOXxVgcQA0oNfDDz4oYFZmAwcMsRdfmmHv22dvPz20RCcX95y0k8aFjzS9SBwcMgnxSW0t/PnPf7Y999xTuiVD7Q/SI8O2Fyv5AFnMO4EsJ1f6eo9SgN8wkioCUpywZdfedMKtTuSHax2uF154oRsSZssR/3+cNSzvhguaVigS9dpcCwsWAEqZDBFzrb/nPmv43o+s+a5b9Gx2t7JtdzF76XVVk+QKnbEOm1SmzL9QpFomXypkYZ7QTfMEQBF4btki5ENgzBGGDh3q0apKlVVXLK5kfEZ8ilPObB1mPMILwb/UVnOZFofMQypn5W2svEer6ZookCjQ2SnwtgEWhKnH+jEMqqy37mBf2ae8qcyefOxpm/7sNNt95910IrCnPfbIY7aflGLvvvluMbaetvtBk6SrJX9dWlmukhuMlUtXSQdrjk3YZYLNWzTfGuXX8ODjD7Ju/TD1sNEZ9ZYjtrff/vpOqxJj/O5/fd0+dNixrvvxq+uvtQu/cJG9oa2D226904ZL3+s1OYe++54H7OCDD9ILo9qefPIJO/CA/e01AbHHnnjSzjjjdKts7mG33fC4VZVNs6EjBtkdf33BJuw83np0l4SqnBNEG+yWW2/xU1MYIwRcXXnFlfbpCz5tO+ywg1111VWuo4LrH0AWq/8EsvhlpPBepQDAAkftAA22x5A4IxWOEJLcuOf3jssq93soQMFChOeATzfxBrbgcOs8BEmYro1rpBLQobRJhSQh9qCxNPz9MWu49npr+tn/qJ5Yzfa7yuDoSoGreboREAy2k9Vo51uAR88ni6+l8hSxUM7me2peSNvQtXrppZf81CNz4cPY8wsl5lxZUSk+sFB2t8w2LNig551nnU8BXBUuDKAMwCfzDXWNmoequBgLXU/G6rPgmkKiQKJAZ6fA2wZYbME5E2KV5gwTBqKPbrV4s6fvnGxbyjl0/eINdtOdt1rPqm42v/9c617ew4aMGWQrli+z9QvX2uDRg+3Fx7XNsHGtjRleY8tffMNWr1kpJ6w9dDhosY2cOFLMrExGSHvZgnlL7JQzDrVttt/Szj3r0zZ269EuqTrl5JOsRoq211z7O+vbZ4D0Pjbo5VCvbYzt7LG/P2lDhg62JUuX24YNdTb1+ed1ovEYGyLL8DNmvGYj1MYHP7yfVqFNtmD+Ou1EdJNUa7otfX2FDdM2Bwq+SKk4PYX7nwk7T7Dn1cahhx5qTz/9tM2ePdt9JGKQEIe6vnoVk84z6M7+I0rz6zwUwH/gb37zG3t59suyzSm3Nnq+879lAEh7IX77kc+io0r1l3arttOlo7WvMhpeX6X2BEDabUYMZD5bfsOs+baHre7312fAasyOJoNaZtNfVZ4qO7hqt5EYQuEqILRsjWTSZi8/8ZRdXrfBFe6nSIm9l5zPswWIDSyAFYE5Fs8Znc1ntGAEMC15ZLmt0VDgfM79JMHKQJVX9/oAr76ZIFD90jNjzvLTd6JAokDXoMDbAlgwIJTQ3TeZGEcZInB4nTNjNBCarIe2FyYd8n7rM7CXPfjkgzao7wAbs32N1XUrsw2yRdNvWG97+aUXbebzM6z30N5WO05+B4/e26Y+NM2qG3pahcw5rFsvB68KVZXdbfJDU+3an91vX//+yW7w9JBDD7JqrUnfeH2ZTZ021fbZcx/tAlTbQq2UG7Ry7CHGuXr1Wuvdp5eNH7+tzZ71kj2sU1F9txggo6cv25a1W9t///fvbbe9trXFMoK4TNKvyZOfsgm7DrfhQ0fboH4Dbb2sP6PoyzYJzqUJ2AAiDRogDTvkkEM8nc1HQjDnuHpi+koUeI9QAKOh3/zmN+2AAw5waVSApgAc/K5LhXx+Ps6iq0x6kw0PPmQb//RHK8cNzsvyWVMwm1CqLU8DhK2WtGvUdlnZlwunBQPWtDOO0u1JKjWsv21c9YrtesGn7KojP+jSrF//Glc5Pe3DH/5wy1ypH+PPt8Wsf3rpz+3em++wmn1H2uKGBZLuVeujrcIAWIUKTdLXapDaxMByGUG9W8NHekWPLEBTSBRIFOgyFHhbACujjswwIL0SM2mSmN0xlnSXTNt+zZVVtt9xh1pFP5lskBmHE04/xRa+MMcqBvawCcN2sumPT7c+/XrZLh+aaOtWrbVhtSNUp17bgvU2fMfhUihdb1XdKgWsemYgTq4mampG2ue+cYS8Z6yyjRsGuB5EnbjeLhN3tQcfnmx/ve02O/DgAwSkXnZlWyzIvy6jgTvttKP0q9bapL0nWe2YWm0XdrNLL7tUEvwqO/f8Y23RoiUCV6u0hVBtRx63m6RQYoyDRmmKTb5Fsv/++/vJqZEjR9ovf/lL337kWPqPfvQjB1ojRozw1S9Mma0S+D/xYNJx7TK/qDTR9zQF8luAFdoW4xGP8E4WDWVSgJfQx8rwI9hDbGcNG4cdBAAUDp0XLM8KCcho9dJBhQ6yqqtMqyUvUDVu69YNSs2N+RLYKix+VgNMks4Cqqlpg1l/CdL6bLSGuhWSeKHXxfZjAKdsfM0aNj5aG21kdl4nhp0npveavhIFEgU6MwXeFsCC4cAr2E6Qyy3pGkhHQau4CleOrbcm6bxvOWakA46NOmIzWIZHh48dIkODzVYhhrbXcXuIA5kNLhuS0bbAgOp1arDfSFxf9BUTRFwv0CJGxfbdyC238A8VGgSe2H6A6XXv1t0+e8Fn7LWFC21A/342dC85pC6E7cbV+NqxXz8pw48c6nHeF5/51AW2dOkSGzumxibsUJMxfqVX7Lil12yUYj3MHCnYlr36eBp6Vu973/vcovV66WZ96EMfsq233toZdIvORjBSr5G+EgXevRQIiWupEQawcF+ikiRhoR3dLD5spaGb1UPK5xgRRiGe339PPSsEAAtl4A0rV2mrX4staZJbg57NHkcdL8fNfzIboROIawRWXBpFrRyK45ZAkp5zPfyFm6KHq0QVeEoWiFCAqxhULynKL16tlF7W3K+/8wFa5QRy61wzN0D1dfXWSwdjODWIhJ5Tk7gJorVyqSq4IEr6oU36eNvKaSYO+COJL5ijeFaDOJ4rnhUgHdm0k0KiQKJA16DA2wJYkMb5nk7RCDGJiUq5VSLxeTNft/59B1qPIZXWKORVpVUhRhuAQnivJ5YdEZQjZzGvjN3AcpQH99FpwUycLtbF1oIS/SSOisAMMxMOmXSosrKw4lSZnpJKbb31GK+DmQV4HM15+4jvFatXQjC3Lfr1MT71Usj1fjUZQCOGHlzcrzoZJ9VmZ0GszwoXq9ToWvUWA952W1mapzIdRcOKEopXwllq+k4UePdQIHsqSo8n//vFVc6DOnU7fvx4nbod6MZH5y+Y78CDRQcAZLm22P/lYx+TdHmD3XrbrXbW/zvLrbtfe+21dsQRR9jjjz5qCwTKju3f17ZWl3XShSwf2ldbhzqFt1pAS89PmSTWVh+SIBUCXG2QzEs8QYxE93o6V0vqxXNcrXukYP7cUVnl5du0WXqXZQMEpvT8NmMXSyYcyvrrfuRga378Yav4n0utYthQPcPqR6DQn3niCuhS3nnnnW63C2OpKPd3E1/BDRCmKo7UgsrHhBgOxXb65AQhYMonAC8IZgCvU7uFW3ExlSkM12PpK1EgUaArUODtAyxnKuKJa5ts0eJFNniLwfbYXU9osdjLPnjm4bZSFpuXzF1iI0bLfrMY3qtvKC6p1rLVS+Ucdp2x5ZatHsV84E1cxKwyxo9elxIwMKPMMhiZ2igeLKxNBb0MW4KZsVE15hnihxGJYpRXwH4WfVdgW4e+qaI6+RcL5bKxtKbH9gl1ibtSbKEvyqeQKPBeoED23JUeaT7vxhtvtHvuucdGjx7ttrBQBn/q6adcinv//ffb1772NT9Ni87WLAGUmq1q7I7b7rCzzzrbnnvuObfwzqJktLbUr//jH+2pffay8XvtaeWfOt+lxjzd8Uz79mGbIUk6PmCEnCVL7r0WpXfZnRsk/a2NWhStkWSoTicJXRaluF+rVUIqBUtmeyvVUpJvWjvP5GTCmhe+ZOXnf9qqT/sXz2OOPLY8wwBEwtVXX23HHHOMS6WJM+d7771H89vRzjj9DOcNDVrkeVcFXhGPvrMgtSg2Ugjk6J4J+sSykuRHnULBdEkUSBToxBQI/va2pqgdPXvktifs8f++3/Y4fx/baeKONuvFmc6E/nr1DdZ7cT8bctpgu09M+olfPm7/8tNTrWqojkXPmiGANVp9woEKIbhTngOxUtysoIPfLnXKwFC8JGB5GStt2whAKsBUxhwL+ZvggA6oCkWRaEU/bVtPd4kC734KtPfbBXRgG4ptsYcfftguuOACd/aMVXZsW+22225+6ANgMnGXifbAgw/Y2HFj3VzKxg0bbbfdsy36NTIKupVc5fDMzBT4ekOHQy6QXawlK1fZw088bh+Q7mS/+gZbIpMQFW+8YX16alvuRYEjpE8NUguY/ro1LpvjgCTkP81LlknSNdolWM0bC7pZho0qmXLR92o9zL0PP8bKxo6xhTLv0GOno6z/vu+XaYfxVrnLzqonkzKan7u8KfyJgg+wDTpk8BC3s0cWKgivvbbIdtxhJ98OLRTPLvAJ51ebYBiFSpvLxdr0kW4SBRIF3vMUeHsAK/iK9EZfuHuaDdh+C+s9qLvrHNSv0IpyfbONqx2rE9Uzba6Oe899aY5tfdg4P6lTM2pL22LgABEuuFTGfkJyla3xgiVhMSfib6a1r0TbIKSsTDDN9msWtdVOQR+hVrvxMsoDM1qIfopaS7eJAu86Cmzub5Vy2K4CZGHr7ec//7lvD3KYgzS8GLC4GDVylMyczLATjj/BLrzoQt9Ge0NA6dvf/rabM0EHi61DgNZHTjzBjjzqaHtJZhEmP/aYfeb1V+3a0Ufah2UY+I+//rXtqVO5ewq41S1b7uAH3S8hHFsgYNZH25CDhw2XRHyZXfcf37Vls2bbbh850Q45/sPu55Rt/UrpYb4qw8Pfvvjf7Ps//5mt1PhP+OQnbK/BA+yUCTva3rvu6lyErcHMnyBPNruEOVc5J33UrrjqCh2sqbJ99tnHQRUSupUrVtp111/X6irHa8Iw4uMJWWoLLxI38+1DJWs3MyThrSVTLFEgUaArUGCTAKskYxZvcdlQzzLb/9QP2OTb75f5g77WS4qsq1es8a3BXt1RJpWi+KAetucRk+yFJ6fqtOBwmyn/ZRj2O/74E1u25loInfG9ltt2cE9LfnuRAF6x9ddeuXx61CGtPUAV5Vu2ByMhXRMF3iUU4HmN3297Q+ooH/CEsVACrnLwVjBkyBBXcKcev33KYLqE+ynPTHFld6y+46dw1qxZhlNorJ//4he/cHB2//0PuG4TnhdO/shHZCD4MFeCnymDnyul37TjKafoFLG2AIcMdm2lYAOjClbVkU5VbdHfjvyP70i9YL33U65TifnQsHGDLevX1+qlbD9Q4O5PP/lv17HsrftmAa5mgSmtiDLFdkCZTkgylwh7y5vDVjVbuc5VbW1tptiu8t2qu8mGnuxkSTrnagsiDeoIzD2jY4w2WuKayc49h13FUkXyxVM8USBRoFNSoEOABYhqL7BCY3W23fu2tS3HjrSKnjKr0LO7nfL5j6lKs/Ua0se2kY2pbv2rrXb9GNtxoiykyzRDD5lq2EoMDCXQlgWfM6RspdfWq4RG4AlFUKuAnKjPGFtXiBnTgxE68yO/MAXuM4X5orYKE4wXk5eDGSuwLYKtK05NkY+vNYyOsvKlXEnwWWgvXRIF/hkU6OiZ3ZzxADqQPhHYEgzXN+3V7d9fdgtyAZ+EEb7whS/IzlQvf07wTRhhsAAbYZAcSO8g6VW4pSlmRmIvLaGnANhWBcDVkqhI9qSa9dEJxwGyt9VT12p9ttT25KZCj+49WtwCARrRu4oQLnS4D/c57kJImIwDNuUyIcERniy8madwChp3OjLW5zwqKwczenPZQiPpkiiQKNDJKBAcovS0xA8CROQBRYZZdKxZYnxO7XUb2tNF75wcrJQhUZBXgwBYPSYWZH0Zo6FVI+ROR5rsPculiCqWs4FtCICMtgNoD/+BnOPj5CAxBzxqijWmj8GRksqqcIWYGycSGxH5owyvNmBolPP7qKNr8LOYB/4IAVrMh5U6jJUAaMrql/m2xl133eUGF7Hang/f/e537RStuGHGtBEh2o/7dE0U+KdQoPUn+bYWAYCrKVOmuNkFzDAQ4rdd/HsnPaRA+TJwAJ5NAAnmDjZIuoTOFmX40A6fSEPfKep7h4Wvlv5oUPOKvuJZpRhlqrR1uUgLoXmvLrSHMCYsSZqbVij0V9w2dZjnizJ0DADEIwOmJaI92o9AWT6cKpwtdQdbJb37l2UHq6mHxkP/LSU90gJwVb5BJ6ztFTAWEyDENbtL34kCiQKdmwIdA6z25i6uAvBZryPM1bKH0yCMAuCRXMdPzjgDE5OqAvR0E3NSuptckALrskXLnXl37y0jfQ0qL3sx2hxQazAfffzkIFcdwBFwcuBVYHBaN4oRmz0/faZs1XSzMZIm6UwRrcveqZRztbJ8XD4HV8gx9JajtrenHp8qy+xjbcCALWzWzNm2y647WN++PZxhwnTzDP4vf/mLn45CMRedkquuvMouu+wy22+//VwfAzA2b948u+SSS+xLX/qSH13fd999XRk2GHhc2yNbSk8UeLdTAGnSQw/J6roABwDLf9OACD13bymofGZ4V3qUPLQlAoDJwUthcVOiSJYUICaa0X0AGeqz3bdMOlqvL37d7r/vPtcVoyKgqNS4vY4A3zRtUTI/dM74tBeiHQ7n2CIp089cLTXTBiur19xkBNmZkvqiHFqj3DeLj22o1v6gQhPGAhVi+H6TvhIFEgU6PQXeHsCCU4jJIS2CecJWkEPJx7PV6b6bItMfmyofg8/bjrvp9E6Panvh8WftAwceYH+94UbrL3s4e+27t1a5Yo59q+XseYUMf75hC2fPt912nGQLXn9Fbsc22r5HHGhlW4DeBN/EjO+8+35bv6bR1q2ts2kvTLMjjz5IR8GHy9/g47bLzhPccfStt91i5559nvXqPlBgr8xukXPpI4862H76H/fbf142yvoJYNEWTPZR2eeZKsVb3ILssccedr+Onv/4xz+2m2+5WT4Lp2r7YgdnvEi5KI9h0UmTJrni7wfkuHra9Gm2/fjt20jCOv0vJk2wU1MAUMXJQYzqvpfCIjl3Z0v/y1/+covR002NH5+LGEzFkfvmhMv+5zK7ufKvNuxA+TZtWG3lDbKzhS1A8T/+SYzvcST1GB/txRbiozJlUwBYm9NHKpMokCjQeSjQIcBidReGNuEfLaGwolS2BE4gLT7KFQhxdqMF21233GHbDB1rTUsa7Y6b/2KrVq6xwf2GWk/5GRw1aCtbLlC1eM5SGy7F96cfe8pWbVhvO43dzhY8t9AWrlwkG4Hd7Y15b9jwLYb7KvPhv/9dbm2UXt1PirQL5QJnnL0gSdbC+W/Y008970Dn2Wem2UECSyN14mn5stXWXLHazjznGBs2eKgdeeJE69lLDqcXzrNHJz9qY8eOdcOCI4aP8BX7Oeec49t+v5Q7HBw7A64IKPE++cSTvj1x8MEH23bbbWfnn3++l/nhf/3QLr30Ut9uAIClkCjwT6cAD2UhvF2JKttrBCRMtLE57cTvP8pS13UVxR+wYUegTOR7QuErtv7yaaXisXWXL08cSTQSKKTMWGKXOayWUNwn93xoy8sXJFdsU4a6AG3GOKMs1w3yTQqDa1B+fdNGRdUXU9OHCw6es4DMHjvug83eEB2VjsQfDgF/TCFRIFGga1CAJVfHAc5AEHdw5kQEpqsrInF0mpThGKtCjKSSW/3rPVCuZY7e38bvv5NV9W+2MTuMsppxNbbV2FpbI7DVvaKHLZo636bcONl6SEsBwLPPR/axLcb1tZoJW9nwCcNt1dqVLZuHWHJftnS5K503yOfhytVrxBDNthlXa7U1tXIG/Yhc5eDIebYP90+/m2xTn11na9Z3s5fmLre77n3Jpj//qvXpNcgm6Rj2gEEDZItrhOz67KpVrHRF1P7111+vFfAXbRfZzGloyBj2Hrvv4XkYRgVccZqIVe/nP/95u+qqq9wCtJMHOqSQKPBPogDPpoe46qYlrWhMAR6KkkveUnblypV+0INnBAnXYpljwG7UUjlI97x12SEQyuKhgXIAGCRKnPpbv269lycfMw/Uof6yZcu83QBO7Y2LeZAHiML0A+X5kBZ1uJIWW4dYYKePyG+ZXGAgJeTrA64Y66pVq7wdQBb6Y7THdikO5JvRqVKQVoPc5qBZhey+9Zs7/zAu/bOmbP0quCYFCkLiEU6G9JUo0EUo0KEECxoEwwomGHSBj1fLiWql7MbUC4xwqhDm4q4tBHwOPvZwa+pTaQ29zI7/xOm2aNor1n9Af9vifQPs2eemyKxDH5t0zCTbuHadDakZoePVcpIjvYXaCTXaHtRKUe4wuld28yPO4le2u4BOVWUP6923v7uqmTN7jtzVjJX0qNpWrxynI9ajddpnsP3wx4/YHXJ5sf9Bk2z4VnLkvGyDtgyq7WNnHigH072l1NpTW5Q9tQKts8MOP8x66Rj3iJHD7cUXp9sVV1xhd9xxuxgsbniYqWakCEfSB+vEE6GyKlPWBRASOGW4/fbbv5mRe276ShT4v6FAAIkAHvQaafl4pMW11OgCmHFF7xBr7lhp5xQtltyRJBNQEAckAXw++clPOqD561//6nGkYNdcc4377Lz99tslbX7BvnDhF2SmZab94Q9/cKvpHBRhm/7cc89tkQIX8xn6YRyAtt///vd6Tl+0gw46yLf1Y5yUIdAn0iyAHdbYAVkf/OAHbVfZwaIsc+ZfdjI5qxPSsFkyH3Ptr681bHkxHvpDHw3QNWfOXDv55JM0ECEr/Uef1MESTEL/1XLWWOHCDf356lUHJivKGqSPmiuXlU7fiQKJAp2cApsEWDDPWLk6gxJTgXnAyGC0C+VkeVdJgRq02iPAY9CtGjZ8mJ8iXLNxvfUbPtAGDRtkTQJiKH/ucfheWh3WW7/mPt5Ok0T7qM2v37BS7jEqrXuZdBvQZ1A/MDhvVzxtj9139nIwxdEjdxNj1wpTfU3aZ6JvZyCWP/fsczSu123kVtVyOM1JP19L2ja1vdVmk9XVr7T1dbLlo5OIo0aP0pjUhvp5ffFi78ePYqsXmHNFRZVvG2C3C+YNo4YeBF4E6GMtVj3qk881GDZlOnqJkZ9CosA/kgL83pC2hASJ32ME4jyz/E4J+bwoE+kBcm666Sa34o4dLEwVzJs/z6bL8jrA6D4pk+Mih8XH17/+dXtZJ+y23GpLB2Of+tSn7Nlnn/Vy5CP9RdrLiVwcQCPRGjVqlO28885+WIQ2J06c6GPj+Qo+A3/BDASmHxg3zyHP29y5c33IPGstz5imGvPGuOm0qdOkEtDTFixY4M9tfo4ZR8hoAE0IqAYcedSRVlNTY1dfdbXPBZ1MnvmTTz7ZJfWNkr45g5NKhPdbyoSM2nKcpb9Fa8jHW1NTLFEgUaBzU6BDgAUTgeHBsAAcsTqGOfeU5AdGd/1112tLbRdngDC8ABjNzevd43ylFM3XadXXUKHj1Lqi/NksS+8Zg9JWgr8DZHahqcpPFDbXLRfzlwTJtRXIrFYZsUStHtet5V6N+EcXmJj+q9eMq6leRUW1jd5ytK1eI2ev/oKBuenD6rO8TlVQTBV4K9tg65SvIauObOzoROLAQTKUqm2FurqNqr9a9nS6aTuwpxtaxHgiLy+2EDjizVbJ36UXhrVn4qQT8i+uFubvOekrUeB/jwL87ng++Y3yDKJflAcg5AMmYsHU3kiog+SGrbzJMnnw8Y9/3F3mAGwwHrrTTju1uMrB0jvudLANt+dee/qWWkiLeI4AUYQXXnjBnw9O5AKUxtSOsSuvvNL+8z//U5Lp3V1qRDmkYQA3+scO1a9+9Ss7+uij7YwzznAexDMIuMMuXcwtnjd0RYnzzLEo23a7bZ1HMQ4C6ZHvCYWvAJM87wMHDswk1bALtYW0DN7WXSoBSrDKarFL/UdWT3CgBnt5UyhAuAJ/CkAHG0ohUSBRoOtQoEOABRmCKaGjEICBNAIMG0kVIdL8Rl+cLoSf6Pwdh2rEjbTdBq4htUXTUxGtArFi1cS2nK6VzTLfQAGXYIlp0g4NqZEKXalPfjYCta36FSrrW5nNss6s49MbpOhaXiamiLIEiqj0wMke0nRlOJiVwCREzAmGfvxxH7HHH3/MDj74ID/6HXNfLhcebIdwD5gKcKlmfHUeLy3okXfF4UxdPWVjzq7UiXaJE5x2hbllKYVvJsnccyFfNx+PItDBaayEdtuNwvlroa+oX3xtU1R0CLrl09uLF48z2qY8cUKM2W9yX1G2uA2KRF6u+Cbb8+6KaBr1S/XRkkdF/S817xhHXKnjcS0Miv9+nsfzQ1Yhv6N+OxpvjC3aBCwEYGCcxGO89JG/z9fNxykPOGMrfEcZAf3JT37iLnMANtTnOYEXALZefPEFO+aoY+yzn/+sL7bQrfrOd75jJ554oi9CVq9a7fpWnND93Oc+ZzNemmHr5Ogd6daEnSZ4mekvTJdkeg8fApKqI+U+h8A42IYPQ6eALj48f2xVks8HoBWB8TFPpNBcAVqxlR9tRlmulOfZJZx00km+pUkaJ4QxQnrxxRd7+7+SdOvc886z8oruzruaxYiam7B2L55F97nfE79m30JEysUfT3uDLuhS+ub+LSmaQqJAosB7nwIdAiwYGIyKTwTiwdSII5YnRHpLWZiO8ht0goio3zojam2LeuRkkAlDf2KYZQyJMvp4eRRNyaIUTCvLJZK1RMQLeg6tVaisNbMVQonW/MyIqYwaKlWITrBL+frPar2nJFVHH3OUGPzRekGcYOPGbaPVdoO/DNbrhCMuQLCRBcNmFX755Zc7U+bFwz2MGXoRsnF5VH1laXElNcplJd58H+mFqi23RPJ18/Eo1FE/UabkNRvmm8abby/qleo38kpdi8vn28zHS9YN+hVomy9Tqm6ptHydUjSN/OJxRjpXb7dAo3x6S16UKWR2WD7mEjSP++KGs8ZLpb4prXjsxfdRgfT28iiTBx34Gdx///2tn7bpqrR4iGebMmz9cX1p5ksOevr07uNbeXPmzHFXOWwpXnHlFTZejpaRTCFJQvILOGPLsKamxhYuWOiK8uPHj/e2WaBQJgISMgKAj63C0047TeZclhp+EZkDvCfGBE+iPqCKZ/LMM850MEfZ4FfRLnUYB9eov+eee1ptba3PJZ5p2gessZVZpxOEzWwRiq2wJGwuV9+NWgiyelQ7/EKyUOBS4knNWuyZMFmjdLBSSBRIFOh6FOgQYEGOYMjBlOM+SNVeepbPayYYT9Ro75ovF3ExrogWYEsevEQfuUKtjXu9rHI0wbU1WSODOWp56S8V6YTBZD/1qU/ahAkTZYRwql4i2/oqnm0PVs7MFYZ8zdXX+GqXlTgMmJU7zD1C0CTu0zVR4L1CAUAFElpCn759/NPR2PFBmA9ssxGQPH3us5/T9lp3lwazvRcBCRQBHciLLrzIqrvJn4wCoKdUiGer2HVPvjwSZp5FroQhQzN3PKXaizQkYjFX+si784k+va2Ca5/uOngDG0IGLmt/klajul46ILWqZD9R68/6Mm3b6h/cJ3hR6VopNVEgUaAzUaAVFbQzq1jhlcomj9UlgXgAEO7/cSADSAVbykOruGdrMGNaUYq+86GlliLCRy2BaLZVqIwK6a5I74pV+pe//CXXF9lhhx3doCjbGzBtthI4MYjdK5R/7733Xrf8DrgCoMV84wo9giZ02l7c85ibjy83wKI6lCO0aadl9lleVkDfhWYoS4gxEc/W1237IT1CS/tUVbGW+yiga3Ha5rRJW6VeLz7GorxS7ZVKY0hvGgtzLmqvZejK8nbyP4SWzE1E2qlLe/yHxvmx5OPFLcdcokxcvZzaYvwtcSJxn6WW/G7ThkpwzydC3OfTIi9/RYL0xBNP+HYc0iCssVMnbFkxT37vBJ597mPu0QfAhzIAGAAbzw73kR/l2W4knXzSIsQYIy3uudIe6TEG0ugHHTE+DzzwgJtRCakVZYlH+egDMIZuGPNluzP8jVIu+uVKfwTm9NLMGVIUk7ecOattYwPqBQU7WIVGW2bgPwm5EiNhjlmP5l4OylxiXiibLokCiQKdnwIdAiyYF4wlGE4wKe6Jw7gAH8QpR3niXMnj+o5Dy/ZfC/sqNMn9m9vPpxTX0IHDNu+qbMMREb/mU1ahE4YNcsHTx5Vv0QX51rcu9lNT+Tl89atfte9973u+2kXxH+Ye9GG+xXPO37cXj/bz+Zub5i/4KBzXPBGUVtxuyTpRN1++0E5xfYoWp22qzQyHFA0s+lRycf3ie++zxN+71Fg67KvE2GMYm3MtnnfUifS4kp6PR7m4xvyiTFw9v5hMxffRSIkr7fAJ9y7xgyeNZxTAwKdNf7l2eH4feeQR/02jMM9v28sWHjdvW2VI5xnnGmWiTe4JAcBCGhT9Bo8I8BL51Im6xEsF+ojxANgZA0CNrcNXX33Vt/RjPPRDiHERD74EsJoxY4ZLnrFrx1yhT5ThSv2svLYfdXhm/pzXzZZql/Bl5a3vI/0qSaV0eIdx5E0/aBLqVMZIC3+3Sll8J6iUf/tN+koUSBTo9BTYJMCC+fSR89RYbQZFYEboJmADijyYZJ6RRTmum2Ka+bL/3DgMu9F69+otPayPyN7OwW6KAv0R5ovV96HDhnochgyTjrnBZPlP8HgWATm0pJPkoThN955UqB/F8nX1XnG+nU9rEy/VdK6fXLSl+TaR9gqUSi9OK75v07BuyCcU5pcv7vF8Qlbyzd+FMpssSgFCMS2z1A6/W2jcXqlNdl6oWBgDa4MOh7GJ9nw8NNlhI1mfPHsAAn6XABu2vjBhEnXJr5LNOk7LBZAojLbNBcfMeCrgxB8AKMBQFAJwkMbvnjjXeAboI8ZBeeKEfH7Uj7L5+lG25fnxBH2pmQCk3idtagzRBvPBHMOi1xb5qce+ffv62GOeMQ6aI868WBjhKodn+Pjjj3dJXUjponwrwBKI0jwvrb7U/nzXH23YpKG2bP0SK6tEgsVhGR+iX70P7tVPP3mtsFu0S1iedLCgSwqJAl2NAh0CLIgRzAZGFIE0GF2c8OEeZuZl4ekF1xhR/r10rdB2IfOACXOqiU8+MO9g0Pn04hdFPi/FEwX+ryjg0iC94P15zGygeNcBtvidBkAqOSY9v/zGCfzOicfiKdKpTwgAAwDC0jltUyb4AyCG+3g2XJ1AZcsrMzc13oi+okzcB5jye5WPEM8l7amS90/dGAf1fJ6qQHrM08srzfmTrjF+ykQadV3qlytHHh/KN0siVVe/AasxVtdjra3rtljbfhqc8ltArIal/x6apNi+oUn6aMM1FinEe8jNJUtI34kCiQKdmQKbBFjFzCnuYTowKAJpwahaOMx7mGrMB6Yd88tPhbygQVzz+SmeKPDPoADPH79HBw1IrhTyv882W1ibGGCAFJ4BPugnEZCKISHD5htSa07PAqIISLkJ9AkwIz/0mhgb4IoFGXEkwkiJ18rFDqAGg6DBP+JKW8Rpjw9xxhJx+A/jcBtVFFYgLRZ3lI36XDG10n+L/l6G8RG40h6B8syNDxIw1z0TgCIdXbQKSehNagRgKoz3lemUcrnb62OcAau8Kf9CCke+yU6yYq0ZKZYokCjQZSiwSYCVp0Qwo2BycZ8v05niMOxSAYadQqLAu4kC8SxyjXh+fJHGtaPfL5KccPBOOayn485mzJgxbn/q74/+3V597VUHVuhfAuiWr1huHz/v424MFFc5n/jEJ/xk7S9/eY0MhR7jBkunTJliZ599tgOYH/zgB3b66ae7IdK77rrLt/UAZLQV46RvwA2BdJ7F5557zh577DE314DLnRtuuMFqamrc0jr5nPSNgHsf7o866ii7++673aE7Rk1xnRPt0leArVdeecVd8aDHdeppp/rJx0oZIGZLlcMtxxx7bHYSEI7pAEs8gAMA3iEAK9Owym6JK41TysKmZQAtBcq+GYp5VvpKFEgU6IQUKI0gNmOiMKf2PptR/T1dJOb9np5EGnyXpUCHAKsg/YI4N998s/3Hf/yHn87DmwOWzac8M8XtXKEIv++++8qsyads7Zq17mMQNQJO2NI+JkxGjhxltbW1to+cq2MLi/pYh7/oootckR4TD+h4UpaAc+V6GQlGisTJQtzvoLweAWkZp3fJw0cipwCfeuopB3Y8ky69Kyx+AGy0Sxr9znl5jgM06kYgLxTsL7/85+7f8Mtf/rLde8+9Xuf7//V9e/LJJ93waDNlkUQJIeFZAimfgyj1K/Snj65IuPi4uXdJ0KQAL2sOqlKAVZRNIVEgUaDLUOAtSbC6DFXSRBMF3qMUANwEgOIK8HgrAdABUALkTH54sn35K1+2RyY/4gCJLb7ddttNRnjHueRnh+13cNc2uMrZa6+9vM773/9+3w7E4TKGeQk4Sj9YB0aQDgFwMEIKWGJsGBkFfBGQhOF+inTMKPzud7+zAw880D72sY95PgZAJ0yY4PPjBO9hhx7mQAtJFYAKKVbMfUeZWUH6tmH9Bh/PIYce4n5T6R9QFyGk1CtWrHRjpkMGZ/az2NKcP2++W5xna5QxAakK/3WvFhBJdRBaKb+Jgh20kbISBRIF3rsUSADrvfu3SyNPFHgTBVqkJcoJsPFWQBaAAxACyJqw8wS76sqr3Go71tdjGw+vB7WSTM2cNdP+9V//1bfo2GJbvny5b7N9+MMfdn2t119/3fWtrvv1dbZi5QqXeAF4LrzwQkmF9vMtxxtvvNH22XsfnwfW2g899NDCuMvcPhXgLALSJHwVHnHEETZ40GCXcHXr3k1grIcAX+Z7EZ0upEt33HmHS8lwe4OdK8aCsdOQWNFmzJX4GWeeYddee63P/YADDnAQ9u1vf9vHf/3119uZZ56ZASrUtwCurXIpqhcCQKoVVnnc1VTzaVE2XRMFEgU6OwU6BFis2IJJx/WtMOvOTrw0v0SBdx0Fcu9yntW3+rwCOtiqI2C+YO+993Zn54ArQmyr4UwZnnD77be7MjvgZYgsnqP7hKQLQHb5z39uGOo98qgjHbigx4VkaKuardydDRItFMi33TZrC92o6Ie2kVZFnwAafCNefc3V1kcK8rjvwRI824wDBw5wSRagMPTHAEmYmgC0bb311jZ79mwfE9IrAGRI0LwDfe25x5625egtfS6AR8rQZ1V1lQNH5u27f9oNdF4oQ6PN2hZ0SKUThoJrcEtvjnpCeVbWoHt8zkcn6ZookCjQpSjQIcDqUpRIk00U6CQUeCeLIeri3oaAEjvbgR0FyuQDJ/AIgKzPysEz22t5qRHxaHPY0GH2mQs+U9JVTh4YxjZeuNiJ/gBOEXDODGgCQHGSEB+E+bDddtu13FKOAJgLQMc9W5cRAGsRwlRLVbm2FoWlKsq0HalPmeta5RBtVHDU1aCTh4r0F8AqeHsuXKJUuiYKJAp0cgokgNXJ/8Bpel2MArn3PWApD1Q2hxIAi6lTp7o0Cj0nQrEkjPtoG8lOlOEa6YAiJFKc0kNqRZ0AStwT6IvymERA6LOpQNlon7L0zT2gipN+fJ5++mmXWmFCoqVP4ZyQbJFGoO+5c+f6mDiRiM4ZgfYYZ74fT9PW46IFi8xkzL3hRZ1wrBsoJfaCBIt6Xjv3JQOkTZVSeF9BpsReBEdYmzHRrHT6ThRIFHiPU6BDgOWi7vf4BNPwEwW6FAXe9KZ/a7NHwnTnnXc6WGH7DkASoCSum24REJHZvgJkoRcVAIe6ACNADFfAVWW12FBh3ICZUiH65kqZKMeVPrCtxcnCP/7xjw64wsZVlIs24x4pFqcMUabHnpZvCRbAV74s5b1PJT4lMxGYXViycImMiMqNkP+L0kVXgan1lRmQbJFcJWxVRKR0myjQuSnQIcDq3FNPs0sUSBQopgBSK5TQOQ0YQChARpQNkBL3XAMA5dPy9dqLCylROV+tTZwx0Hap9ikYY1y4cKH927/9m1188cVu9NTraauQfxFcR6qA32gP5XW2MI877rgWiVV+nNRrmavK/89/X2r3PHC7jdp3mC1umG+V2LfCZANz8HYLfZEm6+29TFuRN6oRnEJ7aB1LISFdEgUSBToxBRLA6sR/3DS1RIG3SgEkS7GFF6AmrtFW8X2kF1/z5dqLdwSuaC+2FYvbjvt8u4CqCKXqOdgSxgnQxDUMjRKnrXx7tJW/L5OfUkxh1VdstLrmZSaPhpk9rEK3zbEVqGuz/A9uKNMJSNS98FdIAIQljOWkSF+JAl2BAglgdYW/cppjosBmUgCgEUAFoMX2G0ZGuaK3VFdfZ6tXrbbuim+UnhNbbGwrIgkiUJ96bMFhJBQlcvKwVUV90gYOHOh1KFscAuhEOu52AEvRPm1zH8CHsTI2gFJ+7KtWrnJl9z69+wjXtM6JepSjDlc+BK70RTso6seWIXNDP4t6TZSluD5lgClJqsr0yQLXwkdboupFWEz32B1NqCojUfpOFOhiFEgAq4v9wdN0EwU6okAedABeXn75ZXczg1HRfv37uSV2dLPWr1tvvfv0bgFSp556qgORv/zlL5l1d4GVa665xj7ykY+4dXf0nc477zybPv0FgbJuLfauiiVNAZwYI9t+N9zwRwG2Rjvl5FPcXMLf7vqbnXP2Odardy8HRVGeK+ALQIc9LoyULl682D760Y/6aUjuTzvtNFfeD6mVg6aC1GvWrFmGmx/mhjsd8hgb9wsWLLATTzxR/UlUpf9BI4Bb1n8GstpsRwbe8gOLGYjriO4pL1EgUaDzUaBwvKXzTSzNKFEgUeCtUwDwkIGGzFXOT3/6U/criE8+LKPjngZJ1NNTnrb3ve99dsYZZ7iS+Jw5cxxsPfjQg97plKen2Pbbb++gC6vuABRsZu2xx+7u3gZdLwAMki0kR5z6AxjNmj2rZYsSswz/7/+d5UBpwcIF7hT6mWeesQYZFS0VkEoBsrCNha9DHFDjJgdTEpwUjFORzJEAgAyTDb/61a/swAMOtPPPP9/HOWPGDPvhD3/oluUxfgpNvF9VzapnoIp2Al55RDcALRXPQlwLt+mSKJAo0HUokCRYXedvnWaaKLBJCgToqG+od3BxwQUXuEX0xW8str59+rrxT2xKsW2G4U8Mi+IqZ9KkSQ6WJuw0wbfZcH+z7fhtHUSxjYgtKSRK2JrC4Cj5bPthEgIpGWUAQN///vdd+Zw+kEbhqJn2cdSM1AwbWoyREECJOACID2mAJnwUAtowOMqWX7jYoWypANBDKob9LgAkQA3r74DAFtc6eUEUwCm2B+nbGy2gKS+XjQedLVeuL9VpSksUSBTo1BRIEqxO/edNk0sUeGsUAFAALqoqq2znCTs74AH4DBo4yNBnAqwAOABJSIU++9nPOnCaP3++S7guueQSv7KdiLPmUaNG2aJFiwy3M8cee6wDK7bjwnjnTjvtZEcddZQddthhdtBBB9mll17qVt4Z9fTp0+3II490CdmsmbMcNAHAqF8qoDcFKFv02iI759xz3dQE4A2pF25waI8QEjqXSmmuBLYyr776avvKV75iu+yyi4/h3//93x1EXnnlla3SLmGoqF9AVV4fuVVLaBFfFVICmOWKtJRNkUSBRIFOS4Ekweq0f9o0sUSBt04BABZAhXDMscfY+/d9v4MqpDpIjsjHrlVtba3H7733Xpc8obiOuxy2CtmaGzlipP388p+7uYcAYTU1Nfbb3/7Wdtl5F5de0Q/SpgAstIHvQfrhAzh7deGrtmHjBm+zb7++DpZon3ykVTEmrmwRIlnbYsAW9jfZ8kIqhZQM0IV9LK7kM4dQcg8KISFjfOvWrnMXPNSlDJI1QCD3jU0CY1qSet/ePwpZaqHFgKgQFFItpTWXa3yKErTpGpE2OCxLTN+JAokCnZUCCWB11r9smleiwNugQJyioyrSKj4dBfSd8gGQFeFLX/qSgxoAVJTDEXRsuYX+U5QPoAUAIrBdx6ejAAgioGcFgKJtrsOHD29TLT+uyMC9Ds6iCZwWzLvKoY0IOIsmVPeUxrqwUqWke9WN/a2iYJYhBFRCip4PoGpqrreKRrU9CEyWjdGxWDSarokCiQKdngIJYHX6P3GaYKLA5lMAYDF58mSXYrE12NwkWCDcAOhBYhQgqGSLKooiuIMexXGUjLSHLUfqhkQIyVV7bVEeZ9P0h09ByhG48iHd8wAzCliIr6yo9O1AtinvuOMOB1sARcohTaIM9/RPGu0wzynPTHF9K0Ackq0IMUeulPV7SalefPEls9Vma+atsjpJs+QKWlUwyFAIKuNxrorUmSRe2s2skMQvhUSBRIGuR4EEsLre3zzNOFGgXQoAQjCpwDYc22IOUlS6DdhopzbwwgEJiEyhUYY52U6kLsApwA33DlraaYeyUSYADtdoI1+NdKRPnFTE5Q36WWwLhimGqMfVx1IAbUjP5s2bL4BVbdOmTbP6unr1qZYLY6P/qAtNmhqa7LXZckQ4W/Oq72ZV9TIiKmvtbA8CqjJgRf3ClmCz7HVlgisry3TyC6Uy2ugmhUSBRIFOToEEsDr5HzhNL1HgrVAAUHXmmWfavvvu+1aq/dPLckIRhXbMLMQW5KYG1b9/f5dg4Spnc0K1tgb/3PxnG/iBfrZiw5LMkKgqtupaZa00A84Eqvo0SMJ1tyRosvmeQqJAokDXo0ACWF3vb55mnCjQLgWQ1oSSO2YOkDrxQaKDBCkkRsUNIDEiLwLbgijGk0YeUqaQTHFF5ONSokz249UwduBSMG1Lep+SNoXUi/aIuzSJ+oVAW7SNLS3GzVYfiumEGDNX70tjiTHSFuVpj0D7tEOgzeiX8sTZZtzYuEHKXmYbuq+2VRVzBbAoz/ZfNh5kU1CAWTQ1N9oa6WmZVNgapfDuoZU82X36ThRIFOjUFEjKAZ36z5smlyjw1igAoACMEAAcfHCVg2SLdEAJ9qHYjnvjjTds9erVfooQoELZADJswa1cudLLE492sX9Fmcoqla3IABT3fNhe8zjAqiIDdRgfRRcsFOLpF8ATnwBI3FM3rpRj3Pn7yA+KeF/0W5grc4z2AVkBrgCaBMqDpcqbBPSau0l1vZuVN1cJYmWfMuJ8miqVJ/ClMTn2ChGXt5K+EgUSBboKBbIlW1eZbZpnokCiwCYpALAgcGXbDWOfY8eOdTczjz76qNu9QlLEyUAAF9KjT3/60w5ocDfDNh35l112mbvHwegnltHPOOMMu++++/xkINbREfcAgIoD0iTADErrP/rhj9zswtlnn21Tpkyxn/3sZ/bVr37VDZu6JEyVHfjoGlIoQN9PfvITH+dFF13kgPCb3/ymj/Hwww9vI6EKXS10t6666iq32cVcaJP2AVevvvqqHX/88dIpE7oSxnIpmxw4Z86dAWhFoinV9RS+3jw9JaaQKJAo0BUokB7/rvBXTnNMFNhMCoSkieL4FcTwJ4AF6Q42rnCXg8kDrhgHBcAApmbPnu1bgnfddZcDs+eee87Gjx9vuLsB+FCegG7XI4880qJAT7tIqLguXyZXOQI6AZyGDBli3/jmN/yU4IMPPuiudL73ve/Z/fff730CzgIMAoiQoFEXkw0XXnihbbPNNg4OUdrH7c2TTz7pzqYpR6BsSMYwMoouFu0DKHGx8+Mf/9iemfKMG0Bli1Cdeb2WL7TXWzXYHXw5AHOAlUnGuE8hUSBRoGtSIAGsrvl3T7NOFChJgQAdSG6zpH6bAABAAElEQVQeeughO1cW0bEPxXYfOlK4nMHS+f777+8A6sEHHrTa2lqXKGEkdLfddnPpD6AMQ6EEgA55gCHaQhpGewRO8CH1Apjdcecddsopp9jcuXM9j+0/JF41tTU2ceJEB1XYpELqFJInL5j7og+A1+OPPe6pBx54oPeF5Xh0worrhfQLp84AR4ydAgiZP1uguAzCpMMmcVKbAgJibe5zA0zRRIFEgS5DgQSwusyfOk00UWDTFACcADAAFXvuuadvyQGW/MSdjHJyQg+gAtBBKvUvp/2Lm0gAFOFXEIkX0ixMJbz22mveIRKrP/3pT0aZJUuWeD5SJgIOoT/4wQ/aIYcc4h/c0owYMcLzaB/DpLjaQcqF5IntwV133dXbz0vbAEpsVzJutvQOOPAA3yLEfAP+C3HVM3LkSJeohYSMuVKHcPLJJ7s7nW984xu22+67OWikL/wtIt1qEKijfOwGAjazEFIt3ZPkn4joPrILpdMlUSBRoOtQIOlgdZ2/dZpposAmKQBQAWAR2DLbb7/93CYWwAVAwweggzNmAMe0qdN8ew+7WUipkEhhuHPY0GF2xZVX2N577237S9q11157uf/B2267zfbYYw/X36IfAFuYVeD0H1uKACA++DvE/AJbkFiU33bbbX27LtzpMEbGQ2hqzE4TstXI1iL1kELRNiBut912l3RqgJ8aDEOmUZf6jGnrrbf2vrACT58E5o30LENKAKeszyYZGsVCOynNGBJlGFm2otnWpbefABYkSyFRoEtSoEOAhTJnCokCiQJdhwKAAqRPBK4RL6YAUixCgKPID9c2KMBfcMEFLu0KPSfKoGQe0qvQhYq6cXVJkW7y4CvykEKVCj16Zi5yGBftAsLyYdSo1nqcYCRQNuYBsGR7MEKYeuA+3OxUFXS3qiqrraqprwBm8McCspLR0SyUW6MMjVaUqR+ZwmpuSS9kp0uiQKJAl6BAhwCrS1AgTTJRIFGghQKAoccee8xBCttyhNBTaimUiwDI+AQoiu036lTJMCc6TORHG0iEkFzly+Waa5FIRRrl2rQvZfOKgol02iQPQIXpCLYS75cCPKAQ6RX58aEdyjFO+gfkheI9251sFdIWgTIR5x69rWrRZdaLMuO+SK5yZm6U5XcBzEptL+o0Yes6NKtfJsOizWqjTmYobJmKyKwDIXnMcTKkr0SBLkOBjgFWLMi6DDnSRBMFujYFAFgPP/ywAxMUvwM45QFHC4WEH1p1kYQzCkCKK58AUSGpIg2wEqCHdohHIL9UoEypvEinfexlAbAwCQGIo+/Ip82Ic2UMSKg4KYgiPdI2tgRjrvkx+Jjl8qe6sptMVixwgLXipVW2foPAJ0BM0il9Z1UK4+dgYVNFk/Xvk+l3WUM4jm6da76PFE8USBTonBToGGBpznkG2jlJkGaVKJAoEBRAaoUdK3SvABcAkndTKB5T3KPYvvj1xXbBpy+wPn37dDj2qPPb3/7Wuvfobscde5wDslIAKz/3Hj1+ajdV3GAjPjDQltSvUhbAKdO/yixfiV5UEN5qkmSrT7WkXA+Jh1ZmACz6pUgKiQKJAp2fApsEWJ2fBGmGiQKJAqUoACAgvB2Q9Y8GE9Fee2Mh3z8FaVKUj2vMj/sISLka6jOF/nx6xPN9qXX5F1RZedZpqmy0hnJJvMqQUOUAqLete3XRLIDVWKnycpVj5QVJVmvXMYR0TRRIFOjEFNgkwHIDe52YAGlqiQKJAm0pkAcYgIxwOVPdTfpTAiRIudhKZFuNK2U45QdgiS1Atu1Wrljp23UNjQ2u94SyOFt5fXr3cVc50U/0HvdtgI1ACzpTbPvRH1bjsWkVZZvltxCXO9yDXyKdNqnHOCizfMVy69e3n7vgYZxsDXLlQ+CeE4hsi6KoTzrjKJfi1Ma6bPuwUe1krm+EmZo5QVgAVy7lU5xbB1GALH3AVWtaIRjZKSQKJAp0HQpsEmDlmV3XIUuaaaJA16VAgBRABnpKuMfBLAMmFIgvWLDAgQy2sQA+2Ls677zz3KAnRkM/85nPOJC67rrrfPvtgQcfcFc5p556qptxwKQDrnLoJ78tF7yGdOIApN///vduc2t/mXqgbWxtYTcLsw8+zgJq8bqFevzl/va3v0lPar0de/SxbsB08sOTbdLek+yII45okchRJwDWjBkzZbn+z27pHdtbnC4EPC5butTekO0uXOWwG4gEK8NVICl1DrgKX4MtCCpLL9N4AFwtQEw1UkgUSBToOhTIjre0N98WhtFegZSeKJAo0JkokAc9N9xwg/3PT//HcNCMsVEMiOICB4CE+5kDDjjAPv7xj/sJvFfmvuIn8+655x4nx/PPP29bbbWV1dTWuBHPmpoaB2sHHnign1JEEgW42rhho0uNAFP0A6DjBCAB6RPSM2xaAeKwLA8wu/32270OAMlBlpcufLkEKbNfNX/efFu2fJn94Q9/sIMPOdjBYThzpjTgij4IV199ldvY+tKXv2TMASD3gx/8wJ7VfA8++GCVyLYgXYLlNfQFuHK0BRuVs2kHU0opXKNYuiYKJAp0TQp0CLDSyqtr/ijSrLsuBQAdSG4AOUirPvfZz9ngQYPdbQxU2Xnnnd0dDhIlfA1iOHTLrbZ06RBbgFh/B/QAoMJVzhNPPOESLQAZZTDoCWAjTH9hut16663uKge3OOecc47NmzfP8/jCkjqGQUePHm0nnHCC3XTTTQ7MkJwRXHLlsSwegGvHHXb0cmz3YY/r73//uwM15pYPUZ/xUJZtRLYLKffKK6/4tmFLX1TMc0zAXO7jAivu08IUSqWQKNDlKbDJLcIuT6FEgESBLkQBpErYhAJU7L777nb55Zc7yMGHINtmABjMGiCRwjHzd7/7XTvmmGNszstzbOmypQ642E7DDAJmE9DD+tbF37JJe01yCRjtAFzCIClW1gFqgBp0u8aO3dpd2kByQBpOnpFgHfHBI3xMjI3+Qocq/6cBHJZXZAjovvvvc4nXscce6+NGOoafQ+xfoSdG/ZgrbZx55pn2m9/8xucOEGT+zI0xcNrw9NNPy8BcprKlGqAo+srQVPadR1/KSiFRIFGgS1MgAawu/edPk08UaEsBJDoAEAKucvbZZx+3cM5WGnl8AFm4rSHceOONvo0HYBo0eJDdcvMt1qt3LwdJl112me2y8y72pxv+5P4KUYRnew8pGFbaAUvRLm2x9bizygOU6IO8/9/eeQDIVRx5v1a7qyyUsxAKJCFyBpFtwGfA9h3RNvbhcAZjcDiwfY44fNj47rvz3Tl8zjlgY5IJBiNsgsHkJKIEEiggQDlLq93VV7/qV2963s7MjhJI2u7dme7XXVVdXf3Cf6r7dZ933nkKYRoMsLGK+6c//WnbMBoagoEqBYXEDd2C7vCyzMQxRx8jffv1NW/URRddJGPHjs1lG7N+uQcLMMmQJiAPbxkT3gFhAC0m5reorlaneqiQb4E0MrLDkKnflhmisiHFnCAlkgWSBbqCBRLA6gq9nNqYLFCnBQAPvj0O3h72A6wVoOWtPg+AKA+f+tSnzHsEUPH8U0891YAUNMXhOufzie94zNgX0AOeMw9O4zF6QE8MaMJT5gHg5gF65/GJ7F4Wb6/jNqDM22fb5+gkd7ba6damc64amPEe5l4FGZl7q11BKAuQsnS77mldxF+BNn0nCyQL7OgWSABrR+/h1L5kgY2wAB4bJrDzhiBLFgC43HNVSYx7cwAtpJ2eGACFNwxPFSCLgFfKvU9Fee4dc68SMpzWy+BxWaQpR+d58+bZdjkPPfSQgTnqJMSy0JFjeABXM2bMMFlMrMdjRaBOB2CWkeUpmw6DviiyUGTFS6tkLctD6FpXqmHkwQoAC4/WBl3OfV03XQfrZTxcoe0uL8XJAskCXcMCCWB1jX5OrUwWqMsCgKI/3/pnfaNvkYKOdXXxQAQwiYMDGeIcfOHLychi4ON8nufHxLHcuNzTgCVA27Jly2z5CJZyAHB5gB9ap/d8eB555BEDWoAxPtBAH4M641Nw1aBLMTz75HQDWKsfbZG29j66mTMFgCmaVZqPpTWqLM3pEYBVN1vbITRdSVNIFkgW6CIWSACri3R0amayQD0WYFL3xz/xcTn66KPrId9maNgqB5D1uc9+zrbKqUexK6+80gAWc83qCd/9znfkhlv+KKOPGC4L1y6QJvCVgywFWIYdAWkGttpl4AYdH7xRN4uWDKh2mKxVT62JJlkgWWB7tUACWNtrzyW9kwW2ggUADL4OFZ4cjg1EdFKXe5qgtTXVFW04n5e1t4UV1CkvllUSb7Iyz5jTF+nQEQ8ZOjMcWc/OE+7Vgtfb6m8WIt/0wzVFOvOAkWvDjnrHXNtrnazttlA9WOqhUscVwCq0yTiy43ZZ3tKfDAVYYQF4taZBL8tMX8kCyQI7vAUSwNrhuzg1MFlg4ywQgxnSS5cutbf+mPvEdjV4ipjDBDjp1buXNDU22dIN1OJvIELL23cMOfLGIIE8A236th8yAC/M9YLHhxGNUL8o2wB4yuZuMUeKD+toIQN+JuH7cKCDMcoILChKHhPcnZc3HZ3OYyPWL3TjDUJAFHRxO2gn5dKmoAvxYK9GnX+lk9iRQ6ZFmiLoLC/90m14mrVsADn6Bqbl851CskCyQFexQAJYXaWnUzuTBeqwgAGPDKRAzurtbDvDgp+8ZXfHHXfIQt06xoEIAGqRbifzwQ9+UIHMGrnqqj/o4qQfl+UKhlhDi4VD/e0/1rP6yU9+Iueee67Nm/rxj38sn/jEJ/K3FgNYiZTMABmrvF977bXy8MMPy2mnnWYAiC10WE6Bta0AXfACigB+AMKf/vSnBvDOOussmTtnrky9fapMmTLF1tCKasjnWz3z9DPyh6v/IKtXrZbTzzjdZDFPi4n+rNv17ne/W/c8VE7FSMyvkm4gLXxXePhiiSGbEqPpjZML35WxkptCskCyQBexADMzU0gWSBZIFjALBA9TuC1cddVV8r3vfc9ABlvWzHxhpr15x56E06dPty1kLjj/AvMQzZkzR9eq6iWs2t6u3qdHH33U1soaPHiwsG0Oc6RY5mDWrFm2cCjLKIwaNUqee+45q5ctc1atXGVeJOaBPfXUUwaQ8GwphBGA0imnnGJgj8VJAWZ33nmngSkEsNo7gAiQ1bdPX9vCBz2feeYZecs/vMVWgQcoAtYcyNFWACLhl7/6pcn/9Gc+LVOnTrX2feMb37CJ8CwtAS2bVtcVOiCuurgSUbJAssAOZoHkwdrBOjQ1J1lgcywAkGDYjaFAtpe56CMX2YroCxYssOG8yZMny+S9JxuQIX371NsNKLH5MkNxgB9ADlvPsHAnctjbj4U8jzrqKIEHkEPYZ599bP9B0gsXLZT777vfFgvFC4UHCm/Ve9/7Xmnu3mzLMPzlL38xTxkA6cYbbxQ2jx43bhzstoI7w4rUzTpVDzz0oK3CzsbQ6H7LLbfIhR/5iLWN+gFjBAdbDCkylNm7V28brgTYrc6WqfChTXNY2Rqs5p8y/spfWo7LKji4IpIOGVFZSiYLJAvsaBZIHqwdrUdTe5IFNsMCAAuG/wA5rLj+5a98WVcxb7EFP5nPxKKb3Zu7G3hiHalPfuqTtncg2+bgdbr88svNK4Xn6sUXXzQ5F374QgNXM2fOlKuvvlqmPTHNNMSz5VvmDBk8RN56ylvlLW95i5xwwgnyxS9+0dIQMkz3ta9/zTxWeLxYioEhSdavmjt3bt5agBN64y2boivQs1UPOgHWrr/uenlKN3AG8Dm4oq0AMsL73/9++dWvfiUf1+HNgw46SMaPHy9f+PznDQT+/Oc/N9DV2EO9XT0CKNuwQdMbFKSBmRgt1HWx8liTDayT1aq3V103K4VkgWSBrmmB5MHqmv2eWp0sUNECeHTsbTktZR8/5i0BqgAueLcIAJPdd9/d0mx9AwBiHhSgCqBFjAzmazl/y7oWGTxosIKdn0kvHSqEbv78+TZ0B8hhD0GAj3uU8G4RKMOD9KXLvmQeKcpZFR5ghcfMV2n3oT8mqqMvC48CpliR/QMf+IC8853vtDcM4XcPFh4vDwceeKBt78PwJHO7GLJk6x2GNdFl7bq1yhfa36bvBbbr4lfdYNfJ7LxBGNAVyMpWwdJyBW761qToeqehnJqKk7XISyFZIFlgR7VAAlg7as+mdiULbIIFAB2+rQ1v+PGpFXiTLw6AKw9sleNv+ZHXvUd36T8gW7pAgdNnPvOZHFDZW3rOGMXk82GCfbyVDYAuDnjCGOIDcFEn87viEOvl+YAnf8ORvOHDh3tRPjeLDK+3R7POclfM1Ny9SZp1FfemNnVnmRcLYOWsCrjUe9WtW5s091R6VaPd178Ch6WQLJAs0GUskABWl+nq1NBkgc4tgKfqr3/9q3mLeKOOgHcJ4IUHC7ATe37IwyuEV4tAmZeb12uDTg5fX5oc7mXNTTrEpqAET5d7rTw2QYUv6jEPmoKUxqZyHQBUDAfytiDDh7m3DUCjdaAba3DhkWJ/QHQA7DEhH5Dlc86o39tD9bE+G7QdTz39pMh8XQLiUbbKadKVGlSeISutRHn1X2XrUhR4rjRe36wKzNX6dZkGk2eeLiVKIVkgWaBLWCABrC7RzamRyQL1W+DZZ56VoUOGyuq1qxU+BPAEKIkBR2fSoHewYqBGwYVBC1CIBsqgKQK2AFIMryhV2LomsJSASawLcngTkKUjlixdYvPBHGChL7QALOch5o95ZMzVgpe5YTHQo5x2E4xf5TAQ+Mr810SWiqyarwuNak5z++rSag1Gn+mow4dsn7O6Z1jBXX1wJov2pJAskCzQdSyQAFbX6evU0mSBTi3AvCbmLB1z7DGd0m5LBKyxNXv2bLnwwgvNK1WPbgyFMkTIXLN6AkN/13W7TkYeNVS6ta4QHFQNBtiAY4A5vHghrf426btB90S8jVHFMJEe0JUgVj2WTjTJAjuGBRLA2jH6MbUiWWCLWABvT0tL8Lz4NjIMoeEpIvhQoFeGh4fg5XE+k9bJZ6I63iR4+dhwnR4zZOdlzlct9nqZoJ7LUdnIpx6AIetUMbGdYT+fHA89XjLqZ60svFMEePBaERPgo53Qke/10T74kbNOJ7orWtK56ypHhwzXNxrCUjeXwiY+hCxW/520r1diZfE6A0H6ThZIFugqFkgAq6v0dGpnskAdFgBQNOg8JQLgA6DBGlGADAAIQIY37Rha87fxKPO3+QAnBPhYUR0ZeInw/lDGgqVMSF/D/C4FM/ABknw4z5ijL/IJ1AkIghf6xYsX25pVPXv1zKnNd5TRozN1I5+3HHm7kAn7bOsDPwHZLp9hReacASoHDAzb90CDDOplHpoFn06matn8KwdW2Ezx1gZkKiFrtwMgbXQwA6FBQPpOFkgW6CoWSACrq/R0ameyQB0WAHD4hsl4gVjr6p577pGJEycauLn77rttaxxAx5ChQ8wbxUKeH/vYxwwEXXPNNbaW1AoFON/69rflI7q4p22Vo9OQ7r/nfmFNqRN0natDDjlErr/+evnQhz5k5TbXSUFZMZCPHiwsygrrbI3DG4G/+c1vdGmIQTqc+X5hxXZo0Amwt2zpMvnBD35gC4wy3MkE+Ouuu87W4jrjjDNyUIVsB1usr8X2OwA3lnTADga6FJi9+uqrNoxouJN1sLQtDA0GbxVgDb2DZ6xBl2fQWV96HEBcNjpYbFY6ThZIFugCFuh4R+sCjU5NTBZIFqhsAQAHk9IJ7P/3rW99ywAVHiEmhbMv37Bhw+TFF1+Uk088WS655BIDNUwU79O3j4ExgMvjTzwh++y9j4Ef9jNkzasjjjhCPvnJT8pNN91ka06NGjnKttGhLsAR3i0+eKtYRBQPmHmYFLucfdbZBnxuvfVWmTRpkm1rc8edf9WhOrhD8KG8nfrvJP/6r/8qbMcDcDrmmGNk1113leeefc4AFfoRaCseKgL7IjIXiwVOeYvy+ednyH/913/Zlj/HH3+CrWvVriBO8GApv+IvxVUqB1PZRwcCWRNL8xosPxsYVJwFaQrJAskCXc8CCWB1vT5PLU4WqGoBQAdDgQyVPfjgA/LhD3/Y1oECYAF29t13X9l///3l6KOPlt12201uvvlmGbfLODlSV04fOGCgrf6OjGXLlsn4CeNtWBBAxQR0ts/Bw4XXinlSEyZMMECFMmwYDXhiv8A7dIHSL33pS8IipgS2vnlh5gu2kjsruAOkRo4cKbvtupvWo6/1QaNAiQ9Dk+j5t7/9zYYwjzvuOCtnVfqVq1bqAqJr8/lVFBiA0xjQhU542wIAa7A2BK+Y3iYVSzGviiE/oBNzsHy+lVVgspAHeAsALiErt0yKkwW6pgXSEGHX7PfU6mSBihZgrhFzpQBZ++63v20zA5AC0LB2FQuLUsZCntNnTJcvfuGL8p73vsc2ccbjxFAeQ2yspo7n6oADDrCNl+H50Y9+ZN6h8ePHm3fqmeeekcl7TTY9oGebHMATAZoRw0dYmvlT//7v/27Ah02l8Z49/fTTtuK6z/1i4jyeL/hZxf3sc86Wf/3Ev9oSDHjd+ADomrQNACiAFWDMJ/Kj869//WvLw9PGHLNLL73UbMHQ4Xnn/bPxolCDzrsyEFaPa0ppMrhlbUlfyQLJAl3HAglgdZ2+Ti1NFujUAoAOn4N1xumnywnHHy879dvJFuYEVNgQotKwqTO0U2+fapPIAV4MHeJ1YvkDVkXHi8T8LFZCZ47U2WefLW9/+9vN07Rk8RKbK7XnnnuaTAAN4AjgQz3IJ5CmDIAFGKIcTxNb9TBp3QEW3iLmTEFjQ4M6HEiaCfYAKzxq5OMNQxcfGrSJ6FoPW+WwOTU8gEkm81M3wJAym7zPVjlaT3ujTmFXL50S6EczVCfTFShlaCqsg2VJXeieie8pJAskC3Q9CySA1fX6PLU4WaCqBXgHzrePIR49enRVWgoAO3HwbXYAXGycDEAhAJ4AQw6IGIr78AUf1m1ndEV3DYA1Dz5sxzFpAJZvCu00NnHeDzRGV3Qhpq7iVjrxlj9eF7r1aNZZ61mIt9OJ2+V1N/fQ26U2p1G3zOnWpiu5s86VhQCyeFMyHPJ+YYM08RZhL3LCOlgBfSWwFYyUvpMFdnwLJIC14/dxamGyQN0WwLPz97//3QAPQ24EQE4R9LhAPFp4ehy0uIeLcmRR5mtXkeYDDeAGHjxDRdlen+fDg9eJ2MuQ4Wnq4U3Bl+e/LHfddZfJdm8XNF5nYzf1kAF6NLAJ9FNPPWWgbMTIETa8SD60ADRiD206/Njc1E2HPGeJzBZZ9twKWa2rUXRrV92NLAAsZQreLF1wlAnva7rpjHhd/N23ynF5KU4WSBboGhZIAKtr9HNqZbJAXRYA9Dz88MO2lcyatWty4FSN2QGMgx+nM1CjwMSG/RTUxIAFGo75ODBzPuR5uec5LcNvPnwZl+HhYhL+wgUL5aGHHjKPF3T+NmQsD/kAPgDe3LlzDbjhbWMyu9ftsonJA9wx/2zO7PmKrkRaZrepDPWUtenCqWAqWwtL53ShOvrrcQOLkPYK88m0JBaZ0skCyQJdxAIJYHWRjk7NTBaoxwIAjfPPP9/eEqyHvhYNwKgSaKnFU7VM8YoBrWjKuAMvPFgsIcGHdbd8mLKaLNeLyevwnq5zzTx4mR/HcXP3bnJN6zUy8jDdKqflZWlqaNKBQBSzJUcz0gCwNjS0Sb9uOnz6B5aDCIuvxrJSOlkgWWDHt0ACWDt+H6cWJgvUbQEABh4eQjwM15mAeGgQ2lpApSirHlqWRmB4jz+Tr/OdeOMRXgL142nqLDg9dN5O0vCat009ULE+3i6WaGhrU6Ck065auq/TbXIW62R3W3FUuaNlHFCHIUKlX9s2xJZ1KIHMoDv1pZAskCyw41sgAawdv49TC5MFNtkCgAPWrwJ8dO+h62Ota7FjJoGzBQ35DNH5JHJ7205rwzPE2la82UcaGUxM55jV0qFn+QXAjG9/UwIiQd0YDJHDm33IoW4my7PBM8N7fABCBI+RzRwy6mQ4kDlavOWILtCgN8Hr5NgXOR0+bLiBL+hoG1vo9OjZHYinFVAJH02zIKvOtSoNAWpeBrBMtqVJBRAY4gSysEgKyQJdwQIJYHWFXk5tTBbYCAs4sAFgTJs2TRccfdCWRWCtqjvuuMMAEh4fQFKvnr1k/ivzhQVAlyxZYqu/s1o7c6JY94qlGViMFDB2vC75sGL5CvnxT35s+Wy/w3Y5F198sU06jz1HqOvghzTepl/84hdW95ve9Cabu4Vc3vyjboAQAAmgRN3/+7//a0OFLIjKUhH333e/TNx1ovzTP/2TgTxkErytrPh+1e+vkiVLlxgNoAyZrO31yiuvyjnnnBVowWV40mx5BhOhigKgMnDl+CnLkvCSZEaYomSBZIGuZIE0+7Ir9XZqa7JAJxYAcPjEc1ZdZ+9AQAbghYVDX9RFPgFaAJKTTjpJLvjwBQY8WNyTpREee/Qx4weY7b333rb21J133mkeJ+ZGPaCrw3/hC1+QRx55xMAZ+wjyNh8B7xeeJzxVvAXIdjl4qQhtrW3CIqPQsE4V+egyffp0o4UGEIaHisCbkLwpyNpXzz//vLy24DVbTT4eRgRAOv1Pf/pTeespb5XLLrvMVoxnD8YrvnGFPPbYY3LqqadYG231dgNQ7pGyqip8KRHOLWjtDtsZfQURKStZIFlgu7dAAljbfRemBiQLbDkL+LAYIAeQcuGHLzQvEcN6lO2zzz628CaeoUl7TpI//vGPtqjooYceagBrz0l7Suv6VhvKAwj17NFTrrjiCgNlv/rVrwzQMMRnc56aGm0R0KXqNSIwpMhCpbfddpv85S9/kcsvv9y8X5QxB+uCCy6wTaKZnI637OSTTzYvFWk8V3id0JG1sL773e/a0OFVV11lgA+vF20CqMWeMU8Dznw402PeSmTSP4CzQYcDjVaxks8Dy0f+UFAD5eGT0QCwFO8ZJjOK9JUskCzQlSyQhgi7Um+ntiYLdGIBwAReIkDQYYcdJv/zv/8jgCe2xunRPcynAsBMnDBRnn3uWfn+D34gR02ZYt4hgA7g54wzzpB+ffuZh4mV2m+//XbzOAGI8FB9/vOfFwAPc6Lwkh111FGmFd6sU089NfMWbbANmplf5UAGwPeEbiJ9/HHHS6OCs/vvv9/mb+EZAzwBbgBazNMCqBEDBHm7EO8bK7WzkrsPRXpbqfzcd58rV//halvx/bS3nWYg7etf/7p57n73u9/LP//ze4JnLxv6A2QZ4DL4BITKYBTlPnzIBHyb6kVmCskCyQJdzQIJYHW1Hk/tTRaoYQFAg79dd8oppxi4YqubpsbgivG37fBeQfdLnRcFaALkMER49913G7ha17JOfvjDH9om0IAmANDYsWONh70Nx4weIzNnzbThvcmTJ5vnibcCmfcEAMITtevEXQ23MFwIcDr6qKNto2nkMLQ3btw4GwZkLhjDhYBC6kEP9jVEFsAQfjabxqOGdwq9KaMOD/vut6+MHjPa+BlWpJ3ogVdsv/2WmSfL7LJOhys3tEprQ0tpdasO+Cm8RajvHeq4JzV0IPBqU5wskCywA1sgAawduHNT05IFNtYCAA/fzibe2qaWHOZkefBtZTi+9JJLzWPkc7rIA7AAkAg777yzfOITnzDwZBnZl3uiPA8eAiuu8+cBj5SHvn362pAgk+7hB3x5AFQB6jwA1gh4xygjoCNA0gN28ODt69O7ny4BLzKk+3BpateV6NuLMyxKQIpU/24qb69ndDkJ31LHJaY4WSBZoCtYIAGsrtDLqY3JAnVagKUNpk6dat4bvEExOEIE4AXPjgcfbiOfgFfI04AUPEHxtjVOg1y8UNAyJMmxzW3KRtqgi+txPuQ16arq3fRNPuZTtbW3mReLVdmvvfZaOe2002zYEJnIRi5yTE+EZPoDrPC2EQOsmGuV0ymNtwEWAmV/u+s+katEblv+N10zQjPDcmFWXvZFG3CO9dXPgyJrVreUFaeDZIFkga5hgQSwukY/p1YmC1S1QAwmmLN0hy7FwCcMoQGmItRTVUrHAgdbDtIAKR6ok3Imr8db2nh5pdj1jOVAxzFg7rOf/aw8/vjjBupM5VJ1Js75OaBuPGnwMqk+EOh3gScv0PWuDjtib5ly9H/odj2Nip/CfoUsKFoKtMZWyzKw2NStWVacsEZ2mxC8Zw1h48ISeUolCyQL7NAWSABrh+7e1LhkgY2zwHHHHSd8AB4xINk4KTWoFcAYCFGAtSXC5urZgd8BVkE9gFSrTqhq1NcCAVc4rxhEVJgVNSNOs6q8eucMaum8Nl0Fns2mU0gWSBboOhZIAKvr9HVqabJApxYAcPCpFWJQEqer8ThNLNfTmwvikFMmC+BW0J9y6vE41tN5yYvTNlwZESJyg+492Kbb4BDwRmEl3bHHHHwFPKZl0OHNCnRNOu+rtOK7FqWQLJAssMNbIAGsHb6LUwOTBeq3AECkM9ATl8fparU4jcfV6DYlv6LMgnfMaTyO64nz4nRMQ5oyu1lmSAq4ZCGLAowKWaWCAKnAYAGHZWgsJkvpZIFkgR3WAuHn2A7bvNSwZIFkgWSB18MCRR9WqU4vCbOzSvkplSyQLLBjWyB5sHbs/k2tSxZIFnhdLKDeqQ06aT9bZDRMaAdaObyKU6+LQqmSZIFkgTfYAsmD9QZ3QKo+WSBZYPu3gM3v0mYwkb1buy4hoctEhKFBBg9JpZAskCzQ1SyQAFZX6/HU3mSBZIEtZgHAU7t6rhp1r8JWXb3+mpuulrnzZ+uyET2kXVeML4dW5UdbTIkkKFkgWWCbtEACWNtktySlkgWSBbYLC+jrhe1t7bp0Q5tcf8MNcvqpZ8hnPvVZmT1PQVZTd9mgi6Hi3Up+rO2iN5OSyQJb1AIJYG1RcyZhyQLJAl3FAqx01arrNHTXFekfeOhhOfPMd8oFd31QHjvibrnwgx+TOS/PVZBV2nKnq9gltTNZIFkgWCABrHQmJAskCyQL1GEBbpb+YVH2NvVcddf1rV58+SX5yMcvlqNv2UcWHjpd9nnvbvL8m26SD5/7EVmweKE06fpZYY5WacJ7HdUlkmSBZIHt3AIJYG3nHZjUTxZIFnj9LbBB511114XZV69fIv/3i1fIS+c+IMOP7y8vNd4la3svlzXNbTL5gD2lR0+di6V/KSQLJAt0PQskgNX1+jy1OFkgWWAzLIA3KmxO3S4/+/5P5Ds9vicnn/Nmea3haRnRdKA8c8fDMv6mY+WSz18iO/XeyTakZqHS9DbhZhg9sSYLbIcWSOtgbYedllROFkgW2PoWsGG9bFV43v8DIoW1rtp1Zfdm3ST6L3LRly6Vsx87QV4b8IL0kqGy7rl2ee5zIj//6Tdk4MBBsl73IOzWGH7HFrff2fotSDUkCyQLvJEWSB6sN9L6qe5kgWSBbdICgCuDVLwBCK6yPx3sa29V71WjTH/hKTn53f8gb7v9SFkzZqFu6rxGei8aJX/+5GNy079fL4dOPkjWry2BKxqJxBSSBZIFuo4FEsDqOn2dWposkCxQhwXa2/FQsSejQiyPFR61Aq4ae8jCBa/Kxe/7uOz7//pLz/1Elsg0Gbh6F7n2P/4q3zzxP+XEY4/XTaHbpHuPHmW1mQesLCcdJAskC+zIFkgAa0fu3dS2ZIFkgY2wgK5ppSCKd/3WrVsnP/z+D+WWW24x/rZW9V5taJV1rSvl/2n+n0+cKpPfcaDM23CvDG07VP5+7f3y/pffL//ywX+R5gYmtutGzwrO2BS6m37C5tDpLcKN6IxEmiyw3VsgzcHa7rswNSBZIFlg8y0QwBXDf2tbVst3vvV9ufRbl4rMFbnvwfvlsAMPlSYFSr/57a/li09cJmd+9yR5pfFpGSB7ydIHV0nTt4fKv/3+U9KnVz9pb1kpTc29lBpAFW/xHIYdXdcwDBm8ZHHay1OcLJAssH1bIAGs7bv/kvbJAskCW8ACABzeDFy5eol85zvfkX97/DL56N3/LM8//ryc/4nz5Zbrb5FX5rwq737XP8vbnj1OVgyZrV6pRun+ygC56RP3ys3/fZtM3HkPWb++XZqa+qi3iyHG0qwr5DOXy4cdUZnhRw9x2vM8DrwK1DJ6jsPQZYnfabd0TF0Er3tLy0/ykgV2ZAskgLUj925qW7JAskCdFgCsdJObb7xd/u1Tl8mHZr9TnhxzpwweMV5WznxQPv3+z8iiNQvl0NsmSMNua2WVzJTBaw+Ua//PvfKjj/5Q3nTYCbK+dYM06huDYJJuKq5BQZboYKEBom7q/8rwkAMk5nq16n6F3bt3txhFG3XhUg+AGmhsSQhn1sIc7Gg98dIPnu/yHRwhz7xpWr+XkeflzkcewfNJe5nn+TFlKSQLJAvUtkBNgBVfvLXFpNJkgWSBZIHt3wJTjjlc3nHmqfLI03+XkaOGyKLuz8j+5x0kv5n/U9lv0kgZc/RoWdDwoAzZsL9c99v75GM9L5JzzjxTuis4a1OPFTgIx5XjIQM0Cq4WLnhNbrrpT3LsscfKuPHjzFBPPPGELvVwm1x66aVy4403GrD5x3/8RwNVABl4AVfLly+Xu+++W5555hk7PuKII2S//faT3r17Z8OQwe5Wl/I5bxEMeTkxwcur5UOzcMFCWb1mtYwdO5bDFJIFkgU2wgI1J7mHOQQbIS2RJgskC7yxFsi8JKZEnH5jtdrmawcQtbe1yOgRY+Syyz4vD338RVkzo03nXQ2QpTvNkVO+erCMfudQWdo4XQbKfjLzb4/Job+eIp/69GekT1N/5W1V7xMT2hW45HfVEtK644475Lz3nadzuH6jW+ywi6GCl4WL5PbbbzeQNHPmTHnhhRcsPwZIq1atkk9/+tPyLx/6F11Xa6BNvj/yyCPl3nvvNVq+1q5dm/Ph8XLA5ARFQIV8PuvXr7cP6dKbkw3S0tKSe9TuuvsuueKKK3Kvlsty2SlOFkgWqG6BpuLFGJOmiym2RkonC2y7Fsiv4+CcCIqSTiCr7k5rsOG9Vtl/8iFyzdeuln/62unyjv+ZIssHzpcVzWsY7JOeMkLanm+WJy9ok3t+8X9l1NBRCkbWZ0OD8YR2BWy6VEM39V6tWLFMbrjxBvnoRz8qN998s5xz9jkyYeIEaW5uksGDB9swH8OEgBxCfN+9/vrr5Xvf+5688sorMnz4cCs/Uz1mffv2Nc/WD3/4Q5k6daocfvjh8oEPfEDGjBkj11xzjYEuePr16ycjRo6UpUuWyMqVK03ORRddJA8//LD86Ec/Uh2a5fzzz5fjjjtOAHPXXXed/P73v5cRI0YI3jSAIW9SnnfeeXL22WfLW9/61g4AzpRKX8kCyQIdLGBDhPEFDUV+s87SnkecQrJAssC2awGuXb+ebYg/A1x+TXt5TpMNF227LXo9NWtU2zE0J3LKaafKlx/5ilz2oy/K6ZceLgtlhs6r6iHdlw6SGy67T66/4jo58qDDdd6Vro2lLiv4GhqAYBoyYNuugnBmPTtjusx7eb58/evfkC996Uty3/33GcACUOEtamtvM49R3CfuYZp6+1QDWIArPF+MKuy6667Wx1/5ylfk0UcflW984xsC0Pryl78s3/7Wt+W+++6T//iP/5BvfvObRgvNJZdcIl/4whcMSN11113yhc9/QX7xy1/IEgVexx9/vMyePVvuv/9+Offcc+Xee+6V2XPnyNy5c21o8IADDpB3v/vdMn78+LwzXNc8IyWSBZIFyizANVJzDlYZdTpIFkgW2K4swMM4hY2zQIOBpQ3Svam7fOTSi+Sp85+Vh2+/TvZ68z7StK6bXPv9v8sXJn9WTjrlZAVGYZYqYKhDUJDFOliEhx96SAYNGiRrdC7TkCFDzEv0rne9y7xH8Dbq0hBMbncPVi4LoKafnj17WpaXs/XOgoUL5D//8z/lnnvukX322Uc+85nPyIknnqhAbp55t373u9/JWWedZXwzZsyQT37ykwIgI3z961+XIUOHyAMPPGBeLfKeffZZm+d1ww03yBFHHiH8EfCgzZs3T0466SQ7RoeK7bXS9JUskCwQW6Cb/xIhjj8QeVmcdppiHsfFYLThN50VOW8luRFZB9qYL+aF0I+NJhPi9B3KszaGCuxbObiLBTmkY3lZUSgvlDmdFcIfEZelI7s6ifGGaoPsWC9kxTxZBdXysuI8yvVS+c5DoeVneXZcpT3O43I6xBGfy3Uaax/t8rZlscuEnpDTZ+m4vFa6Gm+cH/NbviuTtd3K4zxPZ7rAUxZiPu0XI8/aBV1cH+k4Ly6rlB/Tx+UmRL9i/pi2Wtr5PHY6jj1djGNayvzjPEbv7c1ip4njohzn93w/LvLE10pMU4kP2xu/9xn6ZHk5vdNkfZGTRm1DBsFiS4Z2I4w8AARv9w3uP1A+d9mn5IXPrZamh/vJnNvmyNlPnSkfufhinWfVJC3t6402yIMXocjV4UEFIgwPLlm+VIfwbtfhvBVy+de+JtOfnyFXXXWVvPTSS/b2IF4pr9OU8i+V0dTUJCN1eA8QhVCG8/gQ1q5ZK0OHDjUZHJPPcCDzqpDndJTRFibEE/CYLV221IYU991vXzn44IMNaO25554ya9YsGdB/gNH5F/O7mGjvIbQVddxmocTz4/5QCmezuBKP5+X8UJoNI/mRGJfp9HGcp1UAafu4DpkMz7dqlKYYTEZUvx2jkssjzmSW5WWyLC+q3+U7Lcdx2ssRaZJdp0wHpzc61PV8j3MBoYxD5MchPva6Lc70zHkytpjGyzzPj10P8knngUPNq/RxmpinSAeNlWfEni7S5cdZ5U7n/NWOnc91rnac80c2cdmZaqGNhfqdz+XaHCxnqBQ7gwv3Xy+eX4w7yDD7xz0QKJzP5VpuR7IO4sros9JcVqEuz/fYheXHWX1+wcRGt3rIKOiU8ypBnM7ps0pymdlxXh7XWUO2sxXrMDnRBdRZeUzvOsU81dJlfFl99dC63rndojbW4o/rq5Z2fo+9Lj/2uAN/rkzGoTq5LSjK01ocy3D5cZzTRu2i3Pk8LuOJ+ivOr8ZXlOHHHsd8nqas0qdYX/E4lhmXxfnWZm+vxzGxpmN6ivzY4wK5HXpZbtOIyMuirFI/FfoMmor0bvcKOjt93LacXBMNus7C+tY22XfSZLnu8ivlHQefI30n9JFf3PIVGd5vhK7orpPa1fMU6kaB8Faey1Dnlq6SJTqE95hcfdXVMksB1ZAhgw3sNGghbw8y5LZo0SIDY2vWrDHQhDzusQAvvFrnnHOO7LuvAqGDDpaTTz5ZVq5aKVdeeaUcNeUoOeOMM2xoEO/V73/3e7PB8OEj5NVXX80nviOPVelXrFhhMpnrhayvfvWrOnH+Qwqo+stjjz0mo0aPsjcc//t//lvGTRgnL734ktHjPbvzzjtl2rRp5n1jqNJth+zO0vX2bVEWx4RcftSHLtPLPC6jN24E8J8xxzKyjop5SywRISK8U0sEJZmeF9NF7EXe+DhOmxhXM6rPaTz26rxNxfy8qZEMeDrQWWaQ5mUmM9K9El8ZbWAPtijwZUVlkfOaXBStwOM0HhttoS3lQkv9G/NU4ovLi20tHpfxZ3o6v8emhzUjEHi+x5RXnYNVVoEexEyUpZAskCywbVnAr1GP0c7TcUw6Pt62WrHtaIPfprW9QfcWfJv8z3/9t+yx1x6y+257SMt6NnzW4T+/8dtNFmOXdLehRj2cM3uOfOe735XRo0ZZYd/efeRDOqmceVF77bWXnPyWk/UNxHaZMGGCASHvG0AWXrDJkyfbG4M//vGP5Y83/NHmTB144IGy1+S9ZM9Je8rll18uTHofPXq0zdXq27ePTJo0SYYNG2b1IY8y3kB0zxxAbfHixfL+896n+yV2N+DEPC7mXzEx/uKLLrb5V8zpOuSQQ+SEE06QAw7YX9+A/K2cdeZZASSqfikkCyQLVLcA115DK6vjFa4VCnBP8wZJy7oWOenkk/LXed2DVV1sKkkWSBZ4IyzAtdmi3ooWHSbiLbMNuFGya9uvadZUYojqHe94h73BxvBRuqar9JaarxXUpHZtalNQqssw6ICemZT5bZi27NYZASx+Ebdt0Ens2heNOsTW2NgUlnBQWfQFdmcYD08VQ3CAKfLjoT208n6DHm8XC5kOGjTYeChjSHDBggU2x6tXr1527POkkOs0eMO4p1NGmrIli5fIupZ1xtuk+uG1Qx8mvqNHf/VutevxOh1WxAPGOeXzwapYLGUnCyQLZBawa5cbQa3JsJSnkCyQLLBtW4CLGaAUX62dXdvbdou2Ae0UPel7hQqU2qRdx/vAq6z2XhWQlqGtAMF69uhh91dYfSYTfcVQHSEGPeR7P1ph9sW8Kd5UxCtF3YCteO4WHiqOAVuUA6DsXFB5hBy06SH50CJjwIABBqpIc67gSaOcuV3oQX6rru8F/9AhQ+1tx0ylFCULJAvUYYF8DhYXlAdPE8dpyv3YL2CP9co0FzmRB2itXDPIdl7KySdwYVMasVk+2aEsHAb5QUfnpSSvA/1ViEuK83MdlT7mzSRbZLpZGzKdM91zmkyfSrLQ0+t1es+L2+z6daZbsRyZsRxvg9N5nU5n5ZH9cp2tE4INcv2CoU2E0xVj05vX182+BZtnlVv7tdz0jPrBdSI2vTSO9c7bhW4a2F7EdNO+8LIO+kAXlRtjIa9UF7SBIpbnPDSf9hFcL49DpuYbkR3lbQj09m0FlfQJHJmuepBVk7fLy/M4Ov/Ii/X1tNOW2lc6X6EpfpzePSReHh/HdTm9Kcsl5cbzgui8Iot+9/7i2PV0exT5vdx4i7LJ1ABNzOc8tWQ6Pd2pAvjOZeT9R3vQlxXXibN6rJyyXB89sJOdWLe/UWhktIhGMLS2KhayNA0Z+QQ9oPoNKkuhmKEys48WscoVdfDB/h6QDQ/Ve9oloqfRqzesXfc5JHAMHQE5zLEizz1W5Ju+CNQAjclQDYhDYI7Zeku6PKNRWgAYgWM8W8iC1sud3ogyOq/P9YIGo2Brgtvb0l5WslqkF7pDD3vpPDC5mmnbDyFaiVwPqwt6z7OKqSm0gTgvQ7iGIq9l6pfXE6mW0zoNbeHfaD1TY5epCQqtJNaNjJwmSxuRfkGtXLme5Mc6u5xa+ZQRnC8clR/HOue6WMWcZ4GjIk0mzHmsPyMj5fppQ+g3CyY3Y9TI7VbKCalK9bk8b0tM4/y5Lqq401HmtFaOLpk6wcCBu0w+BcW2mzHCfcJlxvXFeXHa9SDmYwDLFQpVlxR0IvL9Io0Vc8HGl51QWWRZcbm30QvK68y7xIs7xpHgct6SvsGWpZqczuNYn44VaE7ehiAj5nP6OK8snfeiU9KvJV0sVw89z3k9prxSOs5zyXFenK5UXiY3U8d5XJciX17uNne9LQ7UTpPz0tZMfkj6gVNUbl9empG7TrF8T3sMT5x2GXFeedopQhyXWU6kqpd5XM5ZuV5oqtHHZVE1RbHhuHD+OVEl2XGep7lGSXtM2ss8v1jm17XXlcfeH34O5AXliUr9BUVcbzlH6chpSjmlVKUyz/O4RF2qr9O87DytpHe5XDVA3mEhwTd8rHYV7seBxskM/vgBto+U8XR5HREBkp0o4iyXEuhdhsfkkqYv4xCXO00xz/Pj2GVAG9N72uOYrsif02RtituRl7kAjYt5boqyfM00OS4zM1hME6er6hTVV6Q3lbxyO6ikmymSlZaiXFapIzu2q1ZZhfpcpsdemx977PkeF/OLx9DledZe+tq5S3FOk2X5cdyfFHl+iZPMsqOyvisvKR25HI8pidMlylK+l3vsNMXjWJ+4LD6nnNeNEbfTeTyGtlLa84hzD1YuOGKCIP7ENCmdLJAssO1ZIL64PY2Wxeu4eLzttWTb1Cj7oRvfq3NFvcwzCs8Xz95qcdzfxUpqlRVpax1vKTm16khlyQI7ggW4Vpoq/YKlwH/p0tA4HTe8novNPV4xX0qXI99q9tgc223NvtmasqvZIs7f2vV3Jn9b7Bd0jidLc83G1zbl1T6xbVM6WSBZIFkgWWDzLcD9tqldx/ZtXDuSR4GDKt5Eim/MxYcLZbVCkb4WbVcrq2k7/Tlc7JeNsU9N2SqIfumMplZ9nfFuzX6vp+7OaN7ItnWm26bazkEV8vPrN7s+i3lOS7yp9dWyYSpLFkgWSBboyhbgntsUv8rtxqDAP9yAmfTIx27E+MHBVFkMXQjuII8KIfOZcxlVikoWCLZzg5JfsuHm2q3UL6X68k6jps3sl466u/7hfNhc+bHWxXQ45fy889Jy21F/ZRs4ffW4xBf3TYl+U9vmOpXkl2Ruib7hNXsHTlyvcT2k8XB5Psf8uIppYm3I90mpfkUXy7kPUKcHl1XNPugGDcsWsE8f8uHXpDXfJVnd2fkZ1w3dZp62rmqKkwWSBZIFtqoFuI+VhgijO9mGbHiBG2KT7vjeQ1819ptefPMkr7MQ03dG25XKt7bttqb8rSm7nnNga9ffmfzNOac7k037N0m+XosNClwAPYAoWwYgvqa52HUdJPJ9KJHX8rnGi/Xpzyt7A64d7zVv3AFWs44x/fWA9Zi66XIAvMZPntFEcd5OB0paBpKCrhWgpR9C4wZ910715oeegS5DWaW37Lxu5LG3H/v/Acx4e4/goCwcbaXvyI5bqYZysdXqq5bv3J2VO53HMX2cLpZTRoiNXSkvUG38d6W6O5NSD08lmjgvThfrq1XmtJ3RdFbucuJ4Y3iq0VbLj+upJx3LIU3gHIjzLbPGV7209dDVQ1NDFSvqTAblhPhc57gSX4087ld8coDFgd24VBJp91g9pBuVArBYi4WbHR+rT2ni2A7SV7JAssAbZgEDL7p2EaApB1hoo5esXewKsFgwkq1UCNAFgEU517Ze++26SjkgSIGPAH50/afW1jCNgJ1hWI+Jv2WLV+jCl4tl511GK9jJwJICLvauu++++2yPu959+th9hLrsvqFy2V5mxnOztD6RPfccr7LXS1uLbjujvIA29EFXVkqHp82AWDhuUT2amrrJ+vbVqryu9SRhXz7gH/cu/gnwE6zO6CZIvtFZYaBzGm15mQwTwJfyU0aIeS2Dr1CU121ZeT2hcpOtbbH6NbbGu7JZ38SyXU/nK+pQSZ+yNufKhYTLs6PMRi7T7ZbTeLkSW16mN7xmKxMSyiyPdngbaBsB++fpkOXfeZuMznOz2OsOZlM5mu95Tp9Xof2V6ZbrBX0UrC4XAJ+W57Yr8jpfVqfbk+y8HpWV6x/JMhrqyeogdv5Yt5jXq8t5gpDc5q4r/ZPzQZPVG58v5JkcyjV4v4Wj8uNcLxgyPU3HWAZpDXm9WZ3k5bbI+tfqymRRTsjrcBtreS4rkJS+Y9nI8UAy08OyPe3lHmcsZXpkMt32RX1gjcv8GiC/KMdVsvyoPeRXoo3pSBvAQnAxsLbKLrvsojvAr5Fly5YVi/NjVzTPiBJUkEJ1C2xt221N+bVk0+Kt3fe16t/suvXiyW9gFbpvc+VvTd2RzYfrlhDXxY8kdJ9y5BQDYL4xcNxE7lf33PU3mfb0dDn4gCNkwvhxcuutd+l2KgP100cBkEjvnn3lmWeel1tuuEsuvOQc2eeAvdSTFaYQcN944IEHZJ999pGevXtp/nr1dDXJ2lUt8udb/q6AS2+16/rLtCemy+HHzpFDj5gkjz08U+bNWSxvevOh8sKs6fLs07Pl6GMPk4GD+soN1/1ZJu46ToYNHykP3PeIHHjIJJm872jtH12B3vxs9BQPW1UcnEe8pW47lWR5PVrNVg2V6t6cCmvJK5YVjzurd2Ppa8mrR1ZnNNXK4/w4XUufamWbyx/L3RRZ9fLUSxfrs7XSW1sX5IffeqUWbK0665DLvbbJPVUljcLDkV+SQ4YMkeOPO15vkL4GcUxVStd64NQq9lNSFQAAL1dJREFUK0nomqn44VfJAptju60pG123tvxK9ojzatW/OXZ7PdpWS3fq3xz9i7KLx8jmmvfVwEs2td+Y0rquTR6491nZfa/dZdazr8rsx5fLsw/OkkHDX5U3v+0I+cPvbpI+/fvKW956giw8fJmMH48XSlcW16G7xsbgferdu7cN9zEE2YbXqblRHnrgSZk9Y7Gcde5Jcu/dzyuwmiCvzJ8njz+i3rAFveWOG1/R4cKXZNX6V2XosIlyx9Tn1Iu2WiZNniCjx4yTb172Jxk2sresXv6kTJg4Snr3YT4Z3rZwb6p9hyq1MqWSBZIFkgVeDwtwr63owfIbPDdO335hUxRyOZvCu6PwYIMyb4giX8vLPA3V2gmN0/kvch6BBHto+q90kLSHLM8elbXkK53Jgj5D4paMdPO6LTaiEi3VmQ5x3WRmIdcdPpMZCszLQNLrJen2QZbpFQi8jdX0yoFDJAtOQl4/FVJOyOWHoYWQmX27DI07sx2yY5lF/ZEYqgxCrc0hmfdnrnuZEuEg1t3q0my3hVHQDg+ZXKuQpmLLWv3ufBpX1oFtVNZLr959dWPj3eTJh56XBl09fOiIgTJp34nS2tJg+9M1NuswXds6WbF8kcx/db7s0mdnrTsMNzp48+HHDYAsBXR9+/aUlSvXymuvLZRlSxfIAYeMlT4D1sjMZ+fL6qWDZM+9B8raletl6Ji+stekMbJkwRLp09xTFip9/536yc4TBsioEYNk1PheNl/LPGHt7AxI1/qVETUwJZMFkgWSBd5AC9j9eN68ebqrg96ispsz+pDOH8AVFcyeVhXLUmZsgcoPspgiTm/Pdn29dd+69YWBJx7fr1/YUnWW5NS2kdEpCVQBqah3q7VNXp69QAYM3klWLl8tA/r1k+nPPa8eqW4yoP9OCrD66dYsa2RD0wZZvmK55rfJXpP3srlTTKJftWqV/PznP5d3vftdSjvAhg4VzSkoapCnHn9B54CtlhE63DdoaE9Zt36VzsjvLgteW6FgbZkOR+4iDU3rpHevPipnnfTp20seenCaeq4GyPCho3To8EUZNKy37LHnGJ0Yr33DHDH1YLEbS3ydxfeyWr0X08XpIo+BbtsTp1iydY6r6RLnm06h53Il4vI8s0Yipq8lDzpCTRtDYieSkVb+KtBY/c7UGW9lidl5W62wcr632+MyqljHKF2JtlKey6pV5jSV4pgvTlei3ZS8DjKjNhblFWn92GPo47TzV8rzsmpxvTzQEeJzkeNa/I5lijzwZb/QLFnry+V7bLQVbOflxJaePXt20LggnUIPvvu6H6NoXE6+5am2tpccbx7pDckuWqXtECoo1oFGM0zBAj9qFbKMtXiDqMRbqY48z3XyOC+onKimR0zNr3gbgtWbiHVyXJjSyQLboAUAXU06Eb1NPVL2tqHGzQqcCLzlF97+C9c05YSW9S0Wcw/A660/2mTkiBHSrG8s+pQIrtnuzbrBscbu3QIccYdjQnujprlW9FDLQx7XTJPytOnE+3b1VjEJHk+Zzx1jDpbCK6VCn6CTKZK+kgWSBZIF3mALGAaZOXOmebBiXShwgMJN9JVXXpGFCxcaCfkp1LYANsJuY8aMsSEVt2VtrlSaLLANWCADOBn2MdxSuuYVfimO8d8gfl77L0Onw5MF0PJymLhtAI5CCHJI291EvwwmIbwQXKZtGmz3HoVTem05JYAwhDQLq2C6dJgskCzwBlrA7n8zZsyoCLDQC8+VlsvLL78sw4cPD14qvcn5DfUN1H2brRqjAq54Y2vRokUyYcIE2Xnnne1X+zardFIsWSC2QI6gNNPxS1xeI835bzeWDCwZANpIGR3Fo5C/ItixNOQkgFXNMik/WSBZ4PW1gN8Hm/ilWQRMuOobmxpFhw/lueeekwMPPDAMF+iQF79OU6htAYwLON1pp51k2rRp9kr8wIEDw3Ch/ZovB6nQE7wf/AHlsefXrjWVJgtsGxZgaC+4pkrn9OZpxvURrpGOchy9edyRIuUkCyQLJAtsTQtUekbz/G5iUmv8K5VMFin01dsnT54s/XSiK+vbuBCPt6bCLttAhirITdvrJc+D5/lxHJeVwRLdg01enBEz1psuyDS2LI95JoMHD5aJE/XtKwWxvXr12ug3MtEfsOsg2NuNVyBYQG1SaEPcLnvQWbOD/bxZMY/TUBbkBplxvvOFGCN2pOlMJ5cR10FeeT1BM/KczvmIPS9QlXjjfJcX03h5URbHgT5Qx/XG/JX4Sryh1OvwOObxdK0ypyGuVneRJm5rnI7pPF0s92PKi/X5MWVldNmPA/KLIZwVIRd+HFh+eYRztchRqpcS6uF8D+d44HeOcLmH+VrBk+Ul1Or5yAt1lkpL10mc5+nQNrQttZKjOJRKyA01FGkq0ZdLDW21NpbVVuKMZcZ0RTkljsoy65FTLjNweDtDmbe043Xo8mN6dIp1Lurox5V4vMx18rg8P+hDnssg7bSxTp5HeQilPqvG67pD7+lKtJnArN5A7XnEHesOeYEyXAUdaVz7IMnrdx6n9zhQlb49P5YSy4jleLrEHVJFGXHbi7ShJzo/Lzryleryskr1uC7QeNpj56sWF+lqHVNGqGSrWH6RrqRzdl5l9yye0cXAvaxpva6k7MEf6ACqvn37yqhRo8wT07Nnz8pDXFqHK+AytmTsgCKWiY4MwfGhHAAS01G+LQR0QhfmYQFWsacDpXr1g5+VsXkzy9qrp8PG2NtPho3lgd5PPH9Ixjp7WZxXK12LflN07KwuyjemzS6vtp7h1uK0cVyNr1p+zEu6Gl21/CJ/PcfVZJXlG5LRbWqIs/PX1pnKLik7p9WyHjg/bSudKM/LOovL6lViv4YrXb/h3Mf+fjaiQ5zurLZSue29qqy2h2KpKSWCCimvqULRRmUV21yNuRpdtXyX01m50xFDS/DrpHhMmcvzmLw4VMuPabZ2upYOtcrQa2uWF2UXj6vZJaaL09XoX89818dj6o7Trku9eU5fT1xJZj18ndHUK7cSnT/jcabw4k0xUN5UXOeKTOYOsXo7w4Pc8AYNGrTR4MAq21J3pkxzGsLQG5PuX3rpJQMvo0frVh2qc3Nz2DYjRpLkF4M9FCrkF+m2xDHDqbxRhf2Yk8WHBxadVU9AV3/jKqa3h5CKsE5XGoLJzMRaOXlZO4tt9vJKfPBUoi/KqkRj8jJ+muj6xbxlNJGO5FvInp1F+ZR5HjEhllvUO6ZxPmPSr7iMvPg4po3TRV6OvX7SOW2mP3ke7CGm+UZfodzp4jiXp5lx2mksTy3M27qGbyJ7G03h2HWFj+DHpE0l8jlf9J/zli1t2GewTd/es6D5LDgMQEEGHxb6VORvsrTY5ATpJsaO4fU6Scf1Whl5+oGGa9umJ2jMeU+ev7kIXywHXgvG7LUHHXS5UywT2qVErhP0TXr98fZiq7UrUGFCazsEGqjH6yvqGwiQib0gJvLaEENmyLfycNSpzLhtcd2uSyamYhTTlMnJ9DJ5qqhfjwhxPWkH+R5MVsRH+7y4THbUTpPhxy6oEFfS0XVwUrMp9sz62mMvt+NIX5fpOqNnsT3OS+z0cdrrdDqvk9hDzGe8GCXT02ksPztvinkcu7wOsqJzDf2LfeT0xF5elO86x/WQNh6Nvdx1oCwOZXVoQUznZU7vxx57PjF5hJjfMqIv56tEW63vnCcSU5b0co+9sHjs+cSUEVxXq5v1XkrdbuUmIxi+7PyxQv3yOlyO5xOTZ3Ow4kzSBgT0xgnI4obHL0jirRHihlmjaSPLPOhfrLQpqzd+QN9nP/tZOe200+SrX/2qfO5zn5N9991XXnjhBXsw4HVzPo/dmOjvBtkabYllUjdDrUuWLDG9Vq9ebcOs7nnztsYXqusJr59s5AWdVXetIL4A7WQI50mpak6QQGixycouzjg/Z/ATKpPj9MU4pycR1eE3Z9c9L4vovD1WP+y0LzvBjR7aYvA2kO/pTEcnLZNb0CmX78Qal9Ub5edJl5FnZInMRmW2p6iQH8snTaAfc/1DRjmfFRppoMuSRLmMSraqZJNq+puwTHBmQ9NV6/Y2BXW1XxRtzHlpvixY8JqM2XmkDB46WNa3rJcmBVcrlqySnj17yTI9p9erS3yMvryxdvUa26+wsVuTLu2gCuinWbfGadugSyu06fING3TPQAU0ACbOfQdRaGN9lOncqguScq3013mLy5Ytl779+sraNWulp3p/d9K0edqzawE+TGJgz5qli5xqS7A1dGxC3dCgc0WzthoQ1ING7mm6DtfyZStk+Mhh+egi8twezmNiQxdmySA/L69ma+fx/jFu/UJftU3eZs+P40xfp/OY88z6CSFFufBneWU0sdxY1yyN7MAaZObHGDYLHeqvUlbWNuWN+UxUUWevIqgQavO8rG7anIcKZaXztmDTqK4ye2TtzuU6XSxbaWK51N/h+g2Zppq1Uykq1eNl1jdKXXZco2257agh1jnSs4ymEp3Lz9robYIUmZX0tbLsy+V77DwU59eKXYAFWRAUdDYZbqPo/IHUguvKQdTGanKgcZkxPaezic/kFdvstJV4gyLZt+vjunDsdWZtLpNVqU0uSpVqAkzZRR/VghLcCAncGPFybezwViRus5NmFG0I8aOPPiof+tCHZMqUKbL77rub7L///e8y9bapNjH/+OOPlwMOOOAN1TduMHZzGwJSSaeQLLDNWcBvTBrf+qe7dFFRXeTzvsflQL2Wdt9rnMxdsFDuvfN+6TegvwwcMEiefuppOeDg/WSPSRP0LeP5MuvFF5V2f1m8ZIXMnTtPdp04VkaOGaIgiB9mAVjpkjD2RjL7FPbT1dnbdRsdu5EqBdfGHbffIXvtvo/85fa75KgpR8h8lTtg4CB9nXm9jB83TtfVapaZL822+Yxtel2t1f0We/XUdbKUd5yWr1qjALBXT1mtoI+1uV6Y+YJMHD9e50FOUADGdddNpj02TR6+/1F53/nnSVMP9ZTp0hG+3c421ydJoWSBZIHt0gJgFf2v7MGiECAA+GIOEB8fegsINkOLr1PTHWDxCxivGvOa+LV71113yR577CGPPPKInHXWWeYpuvLKK21iOcMczrcpasK7OQF+hi15OQCAysc9g5sjN/EmC2wVCzjAUhzSvblJWtaJDNppmDz36ExdaZ3tbZbL+mUbpO+IPuqZbZI+vXrL3JlzZdEri3VF9xUKeprknj8/rIBFMVNTm/z1mXvlbeecKD379FQAFBYiZW4n95ErrrhC3vKWt8hhhx6m+IobEV6vRhk7amd55I4nZVTfsfLCI3Ok98BmaWhpkrtufFYWHb5SdhrQS2bpkPvOOi2Aurv3aZaW1etkoIKwhS+ukaY+bTJ27ATdiPoZXTF+mfTrM0gemDtN1ixtl3nz58v+B02S8RPGy9wX5+m2P+t1IXhglwIsmyi/VayahCYLJAt0UQtwX8vnYDmgcBcgAIubIaAAkEC66OnK7cbNWd1olUJVnkrENfJMWQVNvJV3zTXXyDve8Q4DW3369LEhwgceeMCGIHjrkTrR2wO8fCrpotman7kdNeF0xJsT4HeQiu3cC+hDhGYvs5tVHqoyRUiiVIhMOY4L6tAW0xEeCyaMhmToN+IxuZEA44mOPel0HudKZFUQeZnHUVFZ0su9HVaoB3ZMhaQ19rrLmENxhzKXhWxCsY+8TsqMRL/MHtCSGQWj5VgLYnmen1VRsQ4XE9ef1c2QAqChLLhMqytUmZdTT4E8mKaCnJxJE1l9eZbLMb39IJNdpDXjxJUqfdYW3flG52Au1A2Vx6uX+CBZtmip/Nt535JPXfFeWTl4pbQ0rJM1La0ydvwI6dunr24M/aQMHjRUBu7UX2bOnS99B/SUffabLPfcep96klZIc08Fa0rfrKCNlzVYsHjvvfdWUDQwXKNUDSrTKZTDdK29/7zq1/K5r10gt93yV5k0YDeZN3uODBu9k6xbtV5WqjfsgP330pXmdYV4vSf1HaBvN69aq96wnWT29NdExytlxooZOqTZIr31xZxhQwfJ4oULrLUjRwzR+0ODLFm6VGY+P1OWLl8qA5oH2Crx6l8LfeZ9qHG4/iM75obG9tiVLw1+DtuhfsXnBMX6Z+eD94HHxhx9OT9Zds5msqrRR6wdzwUTVi4nKB10Jx3rCbmfDlqfNcnyNLNYP8eEnD87dgGxLOiyYt/Zg6yy680ysi+j1S9rv+ahk9WnCdevjD6j9bZZGUIqEWeycr0zQdY+yqyyrG6Xm9GUyY/5CvUUbQVp0V4RTf48yqqGnPPO8z0d7vMmLOiXJd0+eX+R4SppE+zcK7YX3mJwnYq6Fum2xHFelwpzXWO53n2R/vmzLqbzNHR6LXKNmd3MBJlgr8tpi7HXVcyv59h5Y5t5fVlMvxnAKsqjgCFCBwaAlXgOljfYOl6Zif2kKMraUsfUAThhWBDdmOR+0kknyW677WYetqefftrKJ02alHuNYp1c1zJ9ok4kP6bnuCIPBXWGIsACZBXrqFNUIksWeF0sANg56NC9ZewuY9S/rT+yurXJIafsJYPHDJaB0l+eeuYpGdhvgAwcNFCBUbscecJ+sko3cZ4xY7ocfPwBslb3KZTmVpl8xK7STdfSW7eOe4dOWFftOf9ZeHeXXXYxbzPDeHY96P2Q+0vvnXrJx77xThkwso8c/bZDFCANlcWLlsgLM2bJhN12Ns9Zcy/1aukNdfi4wdKkQ4btrb1sztWeh+0ii5a+JvPnL5CJk8brHoYPyfylr8ghhxwooycM1XsGE9vbZZnueThuj3GyZNlSra+3zhNjMv3WmV/6unRYqiRZoE4LxNN+NvfZRpUur57qqY/n4bYWuP+AKzy4ntXyna6eGFkNf/jDH8JmzyBAuw0GYEGl06dPl5UrV8qAAfpLT2+AVGq/xvSGyBBcDLrqqbAeGnt9GhSqysXBlNX6qZfgBsC7RhlLIaAzx65rzF8tjRyXxQnAh2NCUYdqMqrlo+trr70mvOk4duxYe8DEnel83raqx2p1/gkl3Tgo9ZkV6pchee/HjMn7FZq43HkqxU7ncUxTKS8uL6Y3lr7IX+u4KJtjQtzmmL9IX28ZdNV4q+XHsuO003tcqczzKtF42ebGRdlmOeYksRehro/HDXThwiWycMEynWs1Xg3AD6lgh7xurlPNg4e3Di1oFue5ASst45zlHEceH4AW15ldC5TrH7rw301p27QMOuZHabGGcBNEhv1IUU9UE+UKBkttgIYP8lvlqaee0nlgE3WyfB/zlFldqAoNbxGiK/Up8OosmG6mRdCmM/pq5a6rx53RVSuvlt+Z3JivUptq8RfLah0Xy+J6t1R6a9fh8j2upPcml+l5zPno10Ul2XEe532tumLaYhpeAnUx1YdjXr7i+orLinwcd1bnGp0DWc+z1uvkGR0/XyvVafWqjuhr12w1oir5yC+GSu1AJ+pAfx/tIo9pPXyQ49gCedgL/Qkuz2PLzL48z2yrpq85yR2iFTq/onfv3ubNMuGaR0ehFHMqqJSbsQlWheNglcQZdaSRTQORiwfNA8agQ5cvX27DC5wkyPcbtRsJuvyGrcy1dMBo1AEvQJK1qhhyJA85tXhdL2I/EaB3HvgJ6EzgwRC3xzIrfDmfyzESFeWAgfyKNBVkpaxkgY21QDiHg2eJN/L69u2lb/H1kXVr1+g1Hq6n7NQ20X6e2vWigMd+IGV0fl24DlwD8flLvp/LpCkzj5KCIKus/Hai5UZlPOsbAEjF6w2CwLTHHrvZvWHVqpVKHx5mXoffBK3u5LzCLCm8jhbgvONasB8L8cVUQQdo/cFeobjTLAdyPFfZWYTn5lIdJudZhAOA56dfw50KiwgAHyNHjjQMUAnURKT2fMTRwPxp2lJPfQAfnp2dyfZ6sBPtYUHvegOyqYfpCvCDB5jbzVQGdMSx5A4d8sBCrAlaj/7oAF3FIUIKveI5c+ZYhyCYQOdMOXKK7DJuF5sLxZwKViz3k4Z4UwJ8dLqjR/Y/HDJkSA5KMPaIESPkiCOOEOZbsewBjacRleqsZATLQz2QpfIiA3DF3I+3v/3t8re//U1e1LehbN0v/RWc3aurNgd5nMDoxgkH4KSTCLRlvk6sBbRxYgMMuaCwIzyut5/gzoc+5Lm9XZZfjORDg3xOJtpeqa2mRPpKFtgUC2TXCKzh3CoBl1ri7FxsC9cjae4hZUHl2o8fvW5qhQ0qoxjiH03I9vO+pF/EYZNSOKYhgTYqTclkgTfMApy33Mu5x/MA9/MYhUgT/H7uzxaACU4OzzeiOr6QByigvv79+8sJJ5xgz6PHHntMbr31VnsuAXj4oE89AZ1WrV4lEydMlCOPPFIWL16c612JH7mAOqbu3Hjjjfas5FlXrS3ozH2DD896HB7Qum0q1eGyeEuZvZN5Dne49xQYrR0KmsaNG2d2AYCiJ7a57777ZKhOT2ClAmxDPmtv3nzzzfbsRpTXWRBbdghNVYAFJYJ5Sw+lQXYcAxpw3R900EEGeG677TbrLAzBCQPQ2JSA0QFrRx11lIGda6+91uQyXwNQwfpXhxxyiM27YqkG1r3yoctK9VUzAIYFxHFiAKTe9773yR//+Efzyr33ve+V3/72t/Z2IgZ2UFNNPsMLq1ettnlgoHk6B08YJwOdzAkIkOMkR1c2zKaj6Hx0cEAJDR1MfdTLMXaGBlpsCy+/7ufMnWOImwsG8EtdtU7YSrqnvGSBjbNADLDidOlGU+sGuHF1bSp1DMo8HQDWpkpMfMkCW9oCPH94HvCyFlNHACDk8bwizXUUX0s8T6c9Mc2cAc3NjNrUD4RwhgBSkNFfX0LhecIzhrUi99tvP/NAPfnkk/bjnx/r9YAsnjU883h2ggl++ctfGlCzKy7+4aQZPB95ruFkOOecc6x+HA08z2s9n3EgoOs4BT/YCoDJM7HIg53I4wMtDpPHH3/cHA88W2sF2kE98OIgueWWW8xz5Y4L9LzpppusfpZ+wkmCHd0DV9SlUl3Q5G8RViNA4J577mmL/rEBNAAAg9FRPPTPPfdcOeyww+TOO++UV1991SawIqseBeI6OcnoeGQj94Mf/KCdBLfffrsBDACKD1WiAwaq56SI9SDN4oUYCm/YO9/5Thk2bJgBlt/85jdy+umnWx7lAJtawAV9163VE1eBzn7772f2YPmIJx5/woZJWIsLQArds88+K+PHjzeaXXfd1YAY+Zw8vFFFB7Pi+8RdJ8qokaPMLJw85KEzcjn5cbNiB0AnvPwqePjhhzfp101s+5ROFqjfAtxKAS4h+PUVPxS87PWPHVh5zSU9PSfFyQJvlAUYmrb5f9nDf+26tbJk8RL7oQ2A4Ec5D32Go7ieeBbaA135yHdAUUt/rkeeWwAEnjUHH3ywPUPg5ZkN4AEc4c1CNsDh+uuvrwhgivUgmw9yeD7yTAIIOego0vOMI9A2aAEv/vH7RiUeB0fELMWEQ6W/rr+Hg6FSAFhdfPHFVgd2cv0q0Xoe+vCcxy48pwGjeOZ66/IzHrAVz1xoaaPLrqa783kMXU0PFoQQoUSPnj2s40CfGIxOREGMyIOeSdysR8XwHTQYHsXgzUN2/7NbdJytdSCHTqOxNIRjXHTjxo0TvGR4rJBJvncqtF6H65nXlSUsn2ECndcBKDnm2GPsTSbawBAkKBzv06mnnio/+clP7KQEMN5xxx029NlaaahQGwDYNKA2coR1zoMPPihvfvObbeiUqtENvZEFIGL7Iezzpje9yTqLDsVOfJ5//nk78YcMHqKLNM61TmV1erxhnCy0l3bQ4aB5Pvz6odPJc1sX256OkwWSBZIFkgW2HQvw/OL5xv18xfIV9kzgWcSzjwV4GbngoU7g2ccHoMEbt/DyvKsVkIs8QAcOCK+LZxVOEOQfe+yx9gyEJn62lD2rq1RC/cgipi7SPIMItIHnFXIoAyPgPMAJ4eXQ0w7KKwXKoPHAM44pSD7sV0lHnrUuE150cJDmcoox9ARGlJ544gmrk+3B4HXdsCM2nDVrlo2u0b4W1s+r04uInE4BlivmBsOYVMSxGxIjYkw6DtT8u9/9zjoY8NDZCeHyaTCy4w4CyeNpwkuGh8mRPTTQUn898qFDPicUnQ04QRadQRlABk8WS0AwjkudlPuEd9cxjpvamuzk8Y7EBtTB20ucFIA28ijHDugbI2B+YeCZoh7AFzSASDxdO+sWJLQRd6fNB1MZtJNhWVatx1PIel/Ih45PPXaI9U/pZIFKFuBXNoH7H0sb2Jt6HNgPIv0irYHrhuD3ATuANxRreZZjxwx7BFoImHQOH0FL9CtjCpUExvSdLLADWoBnhN+viTkGWPGcIM1zgh/k/Pj354UBF32wAwDquc8jF0DCnKE+ffvIEYcfYV6ge++910agGA47//zzDbT97Gc/s2d3rWeddwPXLIDMQRv5pNGd+wFOg3/4h3+w5xf5PAcBMMz3IjgAA7j49W8F0RfDiugPniAgm+d2AKE4bCLiLMmoFPL4wMsHvs4CdTDXmxEmnrPUEfMhhzbgGCENTQsrMNcZ0MfeIqyT3joXw3knu5EwLihywYIFwpiuA5e4Izqrg5Mrlk0d7plhuQjmG9FA6ow7ynXpTD7GRL4FvZ97B8JPGpnoz5wzR8HkxQb3OtCBD7wAJNb2wYsHLSc2bUEmw3+4YAFEgDYAHHbCawY/Q52gYzoPpDx79my7wJhr9qJOtuciI58hU9b9oi7AIQAMIAcdOqAv8lJIFthUC/jZs6Fdb/S6l6DCIAX+q/UG3VN6sN6UuufDtjJ641NAVNrfj5s+bxGHwDIL9iDQvQj5oddN9wS0DZt1BdPGRv1lq39tukUO1wdAi2tMN+TKbpxI4cZa4S4axKfvZIHt2gI8GxwA8NxkVIWHPPdwfpRTxvMCUMGUGJ4n5PHsgree5x1y+fE9btw4GT5suD2XeFOOa44REkaGoGnS65ypLEwzof7OZPtzz2k5Ri8+yAMcUg/PNWgAJ5TxXISWmHyATLW60BEeYnigc3tV4/HlYShHvtdZ60RBX+iJR44aad7EcC8qcVGGzoBPdMYR4x6/ElX1FPpXXKahEosRayUoj2L+wYgoBsqbOnWqgRRcepwMKIeS9QTo3TDIRi5enr/+9a9yzz33mOGYmOegJ+6EeuTDRx3IApyg4zHHHKN5jXZiMKEN1yyTD//0pz9Z+9wDFbeBtLcNsMTwHl4x+O6///4wrKjtfuihh8zjxMVDPhPeoWGyPgALoEQAYOG9oi5kc5GRx1ArAApaPFykAWCP6xyvo46aYuCNYUlOPk5GP1nqsUWiSRYoWgBowzWumEfW64ros+e8LK/NXy0HHbynzNW5gH30Zs8Nf8niZUAkGTJUV2Jf16rn5jI95wfpD4EAwlYsXyUrdWmEQYP7K0xq0DW0dMV0nTfYV4HavJcXKlCDd7Cs0f0CV+lDZNiQYXr+qkdL/xoaGP7gU989o9iGdJwssK1bgHs892w+/HjmRzReHh7clOFE4JnhAIn7Os9R6HnucI3WCpQjC2cBzxy8Ycji2XPeeeeZl8kW61ZZgIbDDz/cnlXQIL9W8LpjgMXCxOgIr8ek+fBcIjY+VZv9Q3lu1wIprJ0X03Cf4OU3ZBQBELpiM0AqZdSPbtgKm9UK6LZY578dfPBBwiT2X/3qVzmActwCBsGOZ599tvXT97/3fd0bdYCJdVvUqgOaplqKFIVw7MqjIACDkwFgxUQ00CsnDDTQ0ngPLivOi8uQh3EIyGW47Oqrr7YxYya/cxISvHO8EzAsMmP5ldJ0Ah/kgrQBUx/72MfkxDefKM88/Yws1XlNl132RQM3v/3NlQqARhm4sUqzL28TbQQUEaib5R3oXDpkoW4zwoMFvQBKtItfIbz6CT8nNRcWwAk+gtuLNMCKPoFn2rRpJh+78IYivNgGFy8nLsfoQXkluyIvhWSBeiyAl4lzqF2XSHj8kXCN9OjRW2Y8O09eWzxPejTrciO6AfT8uQv1GuymGzmvksUL1sucGatl4j7LZd8DJ+iNvEUevG+WdGtuUUC1XEaMGqgbK8/TCaoLdSmUfvZDYb2e20OGrJClC9vl1ZeXyiGHt8vYCfqGrHrBqF81qEfdRJMssN1ZgPs/923u76S5dzPK4fduYia2M3WEwDF0PFt43sFL2ukrGQB6nj14XXAm7LXXXuG6UlmALeZKU/6qPv8Ac/xI5wc8zzTq6Ew2dfK8oR6eWzNn6ZSaNSNMN+Qwn4mhwhal6aHtAx8AUtr0+mYBYergGVapHcjkmQaNP18HDxks49QTh13gqRTwmMEHP7yOUSrRkuf1rNOXDLAp+qD7izpqhIODupCD3jx3zzzzzOCN03lwyHYZlujkq9M5WBjcOxrFQLoohJGZ4c/4KiiWDsKIuDYrBYAGBqpkWOjJp+ORj9eKZRoc4VMXH1x0i9UQ1MFJSmPd6BgK/fi4vsglH08Y4ApPE8AFkMaw3k033az1rTVv0iWXXqKu2dfkBz/4obAhLPrGk9ls8EJlYXjAHh0BDcFPBtLUT6DD+RDQNaZBb9cVGd5p0KIvQA0eP9ljXvi4eDzEvJ6X4mSBjbUAZy3nG1vbrFq1RvciHC1zZi+S+fOWyoQ9xsii19ZqeqGMGjNIb0B9ZNbz82XlkiYZM6GvNOowIJM/1+uHa2vM2GEKzF7TN3Zf1kVK+8nqFevkxVWLZJfx4cfXy7OXS9u6XuG4lV/0YdIvOpd+km1sCxJ9ssC2bwHu7zzn8MrwfIufh/7s8OcXtDzreH4R/LlRTyvhBTSwjAJAgSksLJVAnWyG/s1vftPyGI7EM+2gqTPZ6IYePJ9wqLzttLfZC3DwoT/PWRwDBHSAlpe/eIbB4x9/bhth9IUMaLARH+Z1+5BmRFaWhAf5PJtdfj3PRbcn7WcFAeRgG+aqMS3nlFNOkbPOOsvmleOUQWd4sEE1/csU04NOARYKozhAgEbw8AelMteKsdvx48fbWO5aXIxKg1EIGBclUJr0awpeevXuZejQGxZATEDo8ADcaCDDa8xZohw0DD9zmagPTxl1OMiDjwAwg767rhXCmCw8GIIbPmXecei0YMFCA1q05zvf/o4cetih8tOf/Ex+f9UfdEx6f+nZA68QaD48dJSZhLTrnmXMK+HNQk5I96YFDTb+G/3cXhvPnTiSBba0BcKPkyHD+qlX93kZMWagjN5loDw/fa4MHDBQAdEwvbD1GtDrYPQug6RtVIO8onv/DeypP670xtPW2iJLlyzUh8ISmbCrrvGj865enr1Chg7rLkOHD5FZM17VpUcWyoGH7ar07TrvYbn9ym1VXvOgbenmJHnJAtugBXg2Ma+YKR+keTbxLCgFHAXh2ePAh+fdxj4r4GHuLvLZq5fJ3DxHeXmK5yAjLDzDeG7WKxs6AAkjLUxzOfqYo02W6++xt4W6kc9znfa6h4r8SgG8QeC5f+WVV9pzvhptzE+9AEl08+d9XF5M037nwXOFXQCfzPUGJII/8PCRh2PH7ejArR6dqLPhox/9aMWW0vGgZ1yIABHesmOojiUCADnMYRqv4IqhNspwq1Hmr2TCSwfjbUFp3n478cQTrSMxQnft2GV6g6WDaai/QYccOoGFQGkE4M4nz7Uo6OnZq6fRkzeg/wBbLsH1xFWIUZgMzibQ8Do/JwayeU2Vk2PKlKNsMuFa3QJkyJChCgAX2PyT7t172ET35ubgcsSgPTQPb1aLptGXDhg6dIjpWa+hix2cjpMFtj0LMBNKg26m3KZDhToH1uZGtbXpfAp+sHSjlB9NeuPQFNdt63oeDnhseb26RV6a9YoOQ4zSH1O6tIj+qXNKmrVstf7IeWaaDjX2bJLdJ42W5u54btuMjyqRQW1BMukUkgV2TAtw3RA6AzU8W3gOOwjbFGvwLEUOwAXQQp08k3kWogfHG/sMg4/nL7w4XDrjh55nNM9916dWW6BHJs/xko0cdAZOuwcpXRzcAdSZPs5DPYAxnufUwwe7MGcU3IAHECCGzrST0S/AYr3yqafhwgsvVF31xpbd25gFgQAEgdwYBmRMGODCMe5Krww63krw5QYohw5FAV6s5QQQc8SMAeAHFWJs3JOkURyEyHgxII6G4abjGEBDY6mTyeksegpS5bO3vt46Vt+o48TBqwYKhZZhCba/ievAmNTPiTb7pdnq5Wqz47E7j5WnFV1TzhuELNMwZMhgbcdgtUO7/kJ/RYEVE+dahfHgQeoWXbpkqU7ULQEsOyHUgNiuGPLO0CIvx96eht5oysrDY8bprH9cMA831dXzyuTQiVm5y7XyTC26mMBhR9lBErq4fHKK9dhxmQ5KhWAVWqSlLkKH9mV1WJlyhZqNNJfBUag/UMXHWXMCbaSL0atsdHGZ3s4gBUUJobSob7HtUAYaGpfxqu29fi20uryOUmzZxhtRI85CLNNsHdujkPa2uGyXQVzMy9QJJHqwQTsmrt/b57yuP4CKTqQfaabJ1Swd+Q8NcTkcZ3OkchtoDWaazC5MF2DTZSPNaifNtbS+JbwZ3K0xeK19Y3famBlSIz0wG2R58JLUb29LzXYbJRxODS/cpTznd3uEskBXxqcs2DCEkrycP9LJucO5HmgDZ/gmBztZ8zJdvE2uRy4jkwsnpjEJxhy0CxKDPUq6QKh5VJCFUlk5LcWIs/ozerdBqZWBJnSHEqvY8rLyPK8rSC19kyoLeq65iqaDqRtaFMuHh1xvTaAo0QU7ByJvs9OHtign9giK57K8DLlFu2tWiS5XLtjU+aBwPZ3fy0ymyrDryCRpWhsbyoPw+Hp3vam3WqAOrwcal4UOcXtdJ6Oh3d6v1o6gB0DNywEOHozWhWWZVo/mmb7UxD1CYztWmQ76eNZ7XS6vGCOruSmsixm3xelCXSo/u884DRhkYwJtcs+Uywj2ynTHZtiDqrJ0EcBS7jLcXq4D+UW5SI4DZvRzBNqqQ4QU2nij3izxFAF0AD7jxo0zQMMYsk9qByThGWJeE4ALtyZvKjjgATE76OJtBia+AYqYdEcALOF9AmhZnXpyMAYK6iW4lwsgx02ZunFP8lYCdQGcmCzob1+8pvJeUfDGW4egUdA2wAokyod0g55srMS+aPEirYG2tuobUotNnr8+3q5DjYAqtgqiDrYb4Fc6Q5DIIGCnFJIFdhgL6OnMI8SCvdXH+e23EdLh2G/o4fTXIyPB7a5zKXVelS23YKR8qQS9eeo9VkGb/vJdT7ne7NVL5vJKdUCdQrJAssA2bwG9jB2odKYrz+mNDT4ct7F82xJ91bcIQWuEnfrtZPvfMQwI6MFTRAy4AlhhBLw8rELOUg2+HhSo1sESSJDhQgAV86hYjBRPF4Ey0gwvMibM0B5gDACD+w4PGF4pxm8BWoA2H6r0NxapCwBE+fjx422LGeoDCC3QOSIAPNAwMpHNKuzojzftiScel/323U8fGxt0z6cnZOexO6usHgqkdCFTHiz6P0EnveviDPZmBI8E1gRKAMu6L33tcBYwVJThnvD7LzQRUMTlkJWHzPCdZ5HwA409aVRxGbJKv6CDkPSdLJAskCywY1mg4T3veQ93vrKQu8H056mDEoAQAIY3hQAo7j6Dtq1V51LonCXmSHXv0b2DLGigBwiBZN0j5d4f8gF0gB/KyAec4W2Cz8EeuuBqBPRQHstxWQ6kkAkv+QxdQg/QIt8DaTxXTVl7GDZkronLsoqUX5n0YaG/67UMHZmci2eLuqCNZbrs2nHZk6cGab101URsCn89PPXQVNOpUv62Lq+Szq9HntrFhu+2VF2xneN0LJ98QoBSIV3+XbqCnDYuz0rjohJDRlisu7PjWH5XSBftUanN9dBU4kt59VvgjbBxpTqLecXj+lu0/VNuats3lc8tVom/Up7Th7gJwFAtAB4AKT4WCtABSJHvoAdeABfHzbris8sDdDhQIU05xw6gvAx+yqABULlcp0OeAxjP45exp10uNHwAYU4PL/ozfwtgB9DyMuoljR4eOyDzPANYENpP8UAPIDMQqTp4W40kfSUL7KAW6Pw2soM2PDUrWSBZIFlgMyxQE2AFuTpMwB1WgwMRT1umfjkg8djzK8UxYIrL4SU4ALJj/eVrw3SaX6m8jLbImx17fUx4Z6iR4LLsIPvytrlMjzOtjAo+hg976DIOrPmVQrJAskCyQLJAskCyQLJAJQv8fxaH4z1sFjjFAAAAAElFTkSuQmCC\" width=\"800\">\n",
        "  </a>"
      ]
    },
    {
      "cell_type": "markdown",
      "metadata": {
        "id": "6YqPlYhP8PQz"
      },
      "source": [
        "## Tasks\n",
        "For each exercise below:\n",
        "1. Try to get a working solution without looking at the sample solution.\n",
        "2. Once you have it working, think how you could make your solution better (such as clearer, more elegant, or more efficient)\n",
        "3. Compare your solution with the sample solution. Is yours different? If so, is it better? Why is the sample solution coded that way? Why is yours different?\n",
        "\n",
        "## Exercises\n",
        "Please complete the following CodingBat exercises:\n",
        "\n",
        "1. [Warmup-1 – near_hundred](https://codingbat.com/prob/p124676)\n",
        "2. [Warmup-1 – missing_char](https://codingbat.com/prob/p149524)\n",
        "3. [Warmup-1 – monkey_trouble](https://codingbat.com/prob/p120546)\n",
        "4. [Warmup-1 – sum_double](https://codingbat.com/prob/p141905)\n",
        "5. [Warmup-2 – string_times](https://codingbat.com/prob/p193507)\n",
        "6. [Warmup-2 – front_times](https://codingbat.com/prob/p165097)\n",
        "7. [List-1 – reverse3](https://codingbat.com/prob/p192962)\n",
        "8. [Logic-1 – caught_speeding](https://codingbat.com/prob/p137202) \n",
        "\n",
        "## Extra\n",
        "If you have time and feel ambitious enough, please try more of the CodingBat challenges."
      ]
    }
  ],
  "metadata": {
    "colab": {
      "collapsed_sections": [],
      "name": "HTTLAP_to_Python.ipynb",
      "provenance": []
    },
    "kernelspec": {
      "display_name": "Python 3.9.13 ('base')",
      "language": "python",
      "name": "python3"
    },
    "language_info": {
      "codemirror_mode": {
        "name": "ipython",
        "version": 3
      },
      "file_extension": ".py",
      "mimetype": "text/x-python",
      "name": "python",
      "nbconvert_exporter": "python",
      "pygments_lexer": "ipython3",
      "version": "3.9.13"
    },
    "vscode": {
      "interpreter": {
        "hash": "29ba88fc74c30cfb08fb6ce3b25c2ccd724cd11e96a643650e6c772fb9859a2d"
      }
    }
  },
  "nbformat": 4,
  "nbformat_minor": 0
}
