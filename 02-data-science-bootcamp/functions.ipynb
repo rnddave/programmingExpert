{
  "nbformat": 4,
  "nbformat_minor": 0,
  "metadata": {
    "colab": {
      "name": "functions.ipynb",
      "provenance": [],
      "collapsed_sections": [
        "sgpJI1tJiwTJ",
        "y7rcpAKB19Ib",
        "KnvW3KWyEaqC"
      ]
    },
    "kernelspec": {
      "name": "python3",
      "display_name": "Python 3"
    },
    "language_info": {
      "name": "python"
    }
  },
  "cells": [
    {
      "cell_type": "markdown",
      "metadata": {
        "id": "sgpJI1tJiwTJ"
      },
      "source": [
        "# Functions\n",
        "The first task is to translate the HTTLAP pseudocode of a program that declares a function to calculate and return the cube of its argument and then uses that function to produce some output. In the notes we saw the following HTTLAP pseudocode algorithm for the program:\n",
        "\n",
        "````\n",
        "1.  PROGRAM Cubing a number\n",
        "// Function definitions\n",
        "2.  FUNCTION Cube (integer:number) RETURNS integer \n",
        "       2.1.  RETURN number × number × number ;\n",
        "    ENDFUNCTION\n",
        "// Here is the main program block\n",
        "3.  integer:myNumber,\n",
        "4.          myNumberCubed ;\n",
        "5.  myNumber ←  3 ;\n",
        "6.  myNumberCubed ←  Cube (myNumber) ; // Call the function\n",
        "7.  Display (myNumberCubed) ;\n",
        "//End of program\n",
        "````\n",
        "Let's begin with writing the function `Cube` in Python. Python function definitions take the following general form:\n",
        "````\n",
        "def identifier (parameters):\n",
        "   \"\"\"Docstring\"\"\"\n",
        "   function statements\n",
        "   ...\n",
        "   return [expression]\n",
        "````\n",
        "The keyword `def` denotes that we are defining a function. The name we wish to give our function comes next (its identifier) and that is followed by a list (enclosed in parentheses) of all the parameters (or arguments) that the function needs to do its work. Following the colon and on subsequent indented lines are all the statements that are required for the function to do what we want it to do. Finally comes an (optional) `return` statement which returns the value the function has computed. We say it is optional because it is possible to write functions that return no values but simply carry out a series of instructions. In this case the function is, in effect, a *procedure* (see chapter 10 of HTTLAP). The `print()` function is an example of this type of function. It simply displays its arguments on the screen and returns no values.\n",
        "\n",
        "The line `\"\"\"Docstring\"\"\"` is a special string that lets programmers get information on how functions work. Think of it as a comment that explains what the function's purpose is. If you would like to see how docstrings are used by programmers, see [this handy tutorial](https://www.programiz.com/python-programming/docstrings \"Docstring tutorial\").\n",
        "\n",
        "## Task 1 – Define the Cube function\n",
        "Given the template above translate the HTTLAP pseudocode definition of the Cube function into a Python function. As previously, a solution can be found below, but please don't look at it until you have finished or are completely stumped.\n",
        "\n",
        "Once you have written the function press the arrow next to the cell to run the code. You won't see any output (yet) but this will ensure that the Python environment now knows about this new function."
      ]
    },
    {
      "cell_type": "code",
      "metadata": {
        "id": "jLCPVl8thbKt"
      },
      "source": [
        "def Cube (number):\n",
        "  \"\"\"Takes an argument 'number' and returns its cube.\"\"\"\n",
        "  return (number * number * number)"
      ],
      "execution_count": null,
      "outputs": []
    },
    {
      "cell_type": "markdown",
      "metadata": {
        "id": "0RH47r0y2DZe"
      },
      "source": [
        "# Try it yourself"
      ]
    },
    {
      "cell_type": "code",
      "metadata": {
        "id": "MuBwrXEN2IhW"
      },
      "source": [
        "# Put your code here"
      ],
      "execution_count": null,
      "outputs": []
    },
    {
      "cell_type": "markdown",
      "metadata": {
        "id": "y7rcpAKB19Ib"
      },
      "source": [
        "# Task 2 – Use the function\n",
        "Now that the function `Cube()` has been defined it remains to use it in a program. Below you will find a near-complete translation of the rest of the HTTLAP pseudocode into Python. The second line needs to be completed to call the function. Again, only look at the solution below once you have finished."
      ]
    },
    {
      "cell_type": "code",
      "metadata": {
        "id": "oYPKsy9v3J98"
      },
      "source": [
        "myNumber = 3 \n",
        "myNumberCubed =  Cube(myNumber) # Complete this line by calling the function Cube\n",
        "display (myNumberCubed)"
      ],
      "execution_count": null,
      "outputs": []
    },
    {
      "cell_type": "markdown",
      "metadata": {
        "id": "IUlTQ-WW3O-O"
      },
      "source": [
        "# Try it yourself"
      ]
    },
    {
      "cell_type": "code",
      "metadata": {
        "id": "Wrd_bj6l2fZX"
      },
      "source": [
        "myNumber = 3 \n",
        "myNumberCubed =  # Complete this line by calling the function Cube\n",
        "display (myNumberCubed)"
      ],
      "execution_count": null,
      "outputs": []
    },
    {
      "cell_type": "markdown",
      "metadata": {
        "id": "7909ZKCU3Xg7"
      },
      "source": [
        "# Task 3 – Days in Month\n",
        "Write a function that returns the number of days in a month. It should take a single number as an argument. For example, if its argument were 1 it would return 31. If 2, it would return 28. (We will worry about leap years shortly).\n",
        "\n",
        "As an extra task, have the function return 0 if the supplied month is invalid (i.e., not between 1..12).\n",
        "\n",
        "In the code that uses the function, make sure it supplies the values 0..14 to check the function works as expected.\n",
        "\n",
        "As usual, a full solution can be found below, and the usual rules apply."
      ]
    },
    {
      "cell_type": "code",
      "metadata": {
        "id": "gWeqVIPF35L1"
      },
      "source": [
        "def daysInMonth (month):\n",
        "  \"\"\"Calculates the number of days for a given month. Returns 0 if month not in range.\"\"\"\n",
        "  if month in [1, 3, 5, 7, 8, 10, 12]:\n",
        "    return 31\n",
        "  elif month in [4, 6, 9, 11]:\n",
        "    return 30\n",
        "  elif month == 2:\n",
        "    return 28\n",
        "  else:\n",
        "    return 0\n",
        "\n",
        "print (daysInMonth.__doc__) # Display the docstring of the function\n",
        "months = [x for x in range(14)]\n",
        "for m in months:\n",
        "  print(m, daysInMonth(m))"
      ],
      "execution_count": null,
      "outputs": []
    },
    {
      "cell_type": "markdown",
      "metadata": {
        "id": "asMnfAgz33W5"
      },
      "source": [
        "# Try it yourself"
      ]
    },
    {
      "cell_type": "code",
      "metadata": {
        "id": "Dyo1rdt46bl4"
      },
      "source": [
        "# Put your code here"
      ],
      "execution_count": null,
      "outputs": []
    },
    {
      "cell_type": "markdown",
      "metadata": {
        "id": "bdbMrww66wzR"
      },
      "source": [
        "#Task 3 – Leap Years\n",
        "We know that February normally has 28 days, but it has 29 in any leap year. We can cater for this by adding an extra optional Boolean parameter to the function with a default value of False. Should we then call the function with this extra parameter set to True then that will indicate a leap year."
      ]
    },
    {
      "cell_type": "code",
      "metadata": {
        "id": "S6F7CrAL7SZ-"
      },
      "source": [
        "#Adding an optional parameter\n",
        "def daysInMonth (month, leapYear=False):\n",
        "  \"\"\"Calculates the number of days for a given month. Returns 0 if month not in range.\"\"\"\n",
        "  if month in [1, 3, 5, 7, 8, 10, 12]:\n",
        "    return 31\n",
        "  elif month in [4, 6, 9, 11]:\n",
        "    return 30\n",
        "  elif month == 2:\n",
        "    return 28\n",
        "  else:\n",
        "    return 0\n",
        "\n",
        "print (daysInMonth(2)) # leapYear defaults to False, so days should be 28\n",
        "print (daysInMonth(2, True)) # Passing True as second parameter is used to indicate a leap year"
      ],
      "execution_count": null,
      "outputs": []
    },
    {
      "cell_type": "markdown",
      "metadata": {
        "id": "8mFlP02D7uRo"
      },
      "source": [
        "In you run the code above you can see how we have added the second argument and have given it a default value of false. The two lines below the function that invoke (call) it show how we can omit or provide this extra argument according to our needs. Of course, the function is incomplete as it does not yet make use of extra argument to return a value of 29 for February when it's a leap year. "
      ]
    },
    {
      "cell_type": "markdown",
      "metadata": {
        "id": "Eck4gxql9BwW"
      },
      "source": [
        "# Do it!\n",
        "That's your next task. Complete the function so that the two calls to it above will give the correct results. Again, hidden solution is below if you get stuck or want to compare."
      ]
    },
    {
      "cell_type": "code",
      "metadata": {
        "id": "AuS1jWWK8TtU"
      },
      "source": [
        "#Adding an optional parameter\n",
        "def daysInMonth (month, leapYear=False):\n",
        "  \"\"\"Calculates the number of days for a given month. Returns 0 if month not in range.\"\"\"\n",
        "  if month in [1, 3, 5, 7, 8, 10, 12]:\n",
        "    return 31\n",
        "  elif month in [4, 6, 9, 11]:\n",
        "    return 30\n",
        "  elif month == 2:\n",
        "    if leapYear:\n",
        "      return 29\n",
        "    else:\n",
        "      return 28\n",
        "  else:\n",
        "    return 0"
      ],
      "execution_count": null,
      "outputs": []
    },
    {
      "cell_type": "markdown",
      "metadata": {
        "id": "KA3roAbT9Pq4"
      },
      "source": [
        "#Try it yourself"
      ]
    },
    {
      "cell_type": "code",
      "metadata": {
        "id": "V8qid8MZ8j5S"
      },
      "source": [
        "#Put your corrected function here."
      ],
      "execution_count": null,
      "outputs": []
    },
    {
      "cell_type": "markdown",
      "metadata": {
        "id": "7RjHhhGb8tw5"
      },
      "source": [
        "Test your new version by running the cell below. If you got it right, you should see output of 28 followed by 29."
      ]
    },
    {
      "cell_type": "code",
      "metadata": {
        "id": "KoHiEyZE8oTv"
      },
      "source": [
        "#Test your new version by running this cell\n",
        "print (daysInMonth(2)) # leapYear defaults to False, so days should be 28\n",
        "print (daysInMonth(2, True)) # Passing True as second parameter is used to indicate a leap year"
      ],
      "execution_count": null,
      "outputs": []
    },
    {
      "cell_type": "markdown",
      "metadata": {
        "id": "KnvW3KWyEaqC"
      },
      "source": [
        "#Task 3 – How do we know it's a leap year?\n",
        "The latest version of the function works fine, but it would be nice to know how to tell whether or not a particular year is a leap year or not. The rules for determining a leap year are pretty straightforward:\n",
        "\n",
        "A year is a leap year:\n",
        "1. If it is exactly divisible by 4, except...\n",
        "2. When it is also divisible by 100 when it is then *not* a leap year, unless...\n",
        "3. It can also be exactly divided by 400, in which case it *is* a leap year.\n",
        "\n",
        "Thus, the years 1896 and 1904 were leap years (divisible by 4) but 1900 was not as it was also divisible by 100 and not by 400.\n",
        "\n",
        "The years 1996 and 2004 were leap years but so was 2000 because whilst divisible by 100 it was also divisible by 400.\n",
        "\n",
        "Your task is to define a function isLeapYear() that accepts a number representing a year as a single argument and which returns a Boolean value of True or False depending on whether the year is a leap year or not.\n",
        "\n",
        "**Hint** You will need to use some nested if..elif statements and make use of the `%` operator which gives you the remainder after division."
      ]
    },
    {
      "cell_type": "code",
      "metadata": {
        "id": "4rwM50GqKgn8"
      },
      "source": [
        "def isLeapYear(year):\n",
        "  if year % 4 == 0:\n",
        "    if year % 100 !=0:\n",
        "      return True\n",
        "    elif year % 400 == 0:\n",
        "      return True\n",
        "    else: return False\n",
        "  else:\n",
        "    return False"
      ],
      "execution_count": null,
      "outputs": []
    },
    {
      "cell_type": "markdown",
      "metadata": {
        "id": "c484ytRyKhUb"
      },
      "source": [
        "#Try it yourself"
      ]
    },
    {
      "cell_type": "code",
      "metadata": {
        "id": "Sx0VCsJdLIqI"
      },
      "source": [
        ""
      ],
      "execution_count": null,
      "outputs": []
    },
    {
      "cell_type": "markdown",
      "metadata": {
        "id": "0tzBfEeWLJdP"
      },
      "source": [
        "# Test it\n",
        "Run the cell below to test your function. If your function works properly you should get the following output:\n",
        "````\n",
        "True\n",
        "False\n",
        "True\n",
        "True\n",
        "True\n",
        "True\n",
        "````\n",
        "If you see `None` appearing in any of your results it means the function hasn't determined a True or False value for that year and, thus, your function isn't correctly testing for all possible cases."
      ]
    },
    {
      "cell_type": "code",
      "metadata": {
        "id": "A15TVIbPLLwb"
      },
      "source": [
        "# Test your function with this cell\n",
        "years = [1896, 1900, 1904, 1996, 2000, 2004]\n",
        "\n",
        "for year in years:\n",
        "  print (isLeapYear(year)) # Should display True, False, True, True, True, True"
      ],
      "execution_count": null,
      "outputs": []
    },
    {
      "cell_type": "markdown",
      "metadata": {
        "id": "6NU52jwyNd3y"
      },
      "source": [
        "#Task 4 – Use both functions\n",
        "We now have two working functions, one to determine whether a year is a leap year and another to determine how many days there are in a month and that accounts for leap years. We can now use both functions together to see how many days February had in each of the test years above."
      ]
    },
    {
      "cell_type": "code",
      "metadata": {
        "id": "zDrhsEboN_Oe"
      },
      "source": [
        "for year in years:\n",
        "  print(daysInMonth(2, isLeapYear(year)))"
      ],
      "execution_count": null,
      "outputs": []
    },
    {
      "cell_type": "markdown",
      "metadata": {
        "id": "SYTowHYfOa9x"
      },
      "source": [
        "Try changing the daysInMonth function so that it makes a call to the isLeapYear function itself. What would you have to change?"
      ]
    }
  ]
}