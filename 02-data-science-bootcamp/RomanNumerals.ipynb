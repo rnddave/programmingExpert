{
  "nbformat": 4,
  "nbformat_minor": 0,
  "metadata": {
    "colab": {
      "name": "RomanNumerals.ipynb",
      "provenance": [],
      "collapsed_sections": [
        "BS1d8AKER8ZE"
      ]
    },
    "kernelspec": {
      "name": "python3",
      "display_name": "Python 3"
    },
    "language_info": {
      "name": "python"
    }
  },
  "cells": [
    {
      "cell_type": "markdown",
      "source": [
        "# Roman numerals\n",
        "The information we are given is in Table 2.1:\n",
        "\\begin{array}{ll}\n",
        "\\hline\n",
        "\\textbf{Roman Number}&\\textbf{Decimal Equivalent}\\\\\n",
        "\\hline\n",
        "\\text{III}&3\\\\\n",
        "\\text{IV}& 4\\\\\n",
        "\\text{CIX}&109\\\\\n",
        "\\text{LVIII}&58\\\\\n",
        "\\text{XCIX}&99\\\\\n",
        "\\text{D}&1000\\\\\n",
        "\\text{MCMC}&\\text{Invalid}\\\\\n",
        "\\hline\n",
        "\\end{array}"
      ],
      "metadata": {
        "id": "YFcQ6Hk2M75L"
      }
    },
    {
      "cell_type": "markdown",
      "source": [
        "There is some detective work needed here. Clearly the table isn't giving full information so I must infer some rules from it. What do I know for sure? Table 1.2 from Chapter 1 tells us:\n",
        "\\begin{array}{ll}\n",
        "\\hline\n",
        "\\textbf{Roman Number}&\\textbf{Decimal Equivalent}\\\\\n",
        "\\hline\n",
        "\\text{I}&1\\\\\n",
        "\\text{V}&5\\\\\n",
        "\\text{X}&10\\\\\n",
        "\\text{L}&50\\\\\n",
        "\\text{C}&100\\\\\n",
        "\\text{D}&500\\\\\n",
        "\\text{M}&1000\\\\\n",
        "\\hline\n",
        "\\end{array}\n",
        "\n",
        "I also know from the description of the project in Chapter 1 that the number 51 is written as LI, the number 1,500 is written as MD, and so on. Further, the numbers 4, 9, 40, 90, 400, and 900 are written as IV, IX, XL, XC, CD, and CM respectively. Thus, 14 is XIV, 99 is XCIX, etc. (What is common to the numbers 9, 40, 90, and 900?). In this system, the year 1999 would be written as MCMXCIX and the year 2007 as MMVII.\n",
        "\n",
        "I know that III=3. S, perhaps I can infer that II=2 and I=1. WE know from above that I=1, so this looks ok. But why does IV=4? Why not IIII? We know from above that V=5. There is another occurrence of V in the table: LVIII which equals 58. I can see the III again, so perhaps the III part contributes 3 to the value which would mean that LV = 55. It looks then as if roman numbers are sums of terms. III = I + I + I = 3. LVIII then might equal L + V + III. We know V is 5 and L is 50 (see table above), so this looks right too.\n",
        "\n",
        "What's different between IV and VIII? Why is the first one 4 and the second one 8? Perhaps it depends on the ordering. In IV we have a small number followed by a larger one, whereas in VIII we have a larger number V followed by a smaller number III. Perhaps roman numbers are summed when the sequence is large-small but subtracted when small-large? Lets look at row 3 of Table 2.1 which says CIX=109. We can get 9 by subtracting 1 from 10 and we know from above that IX=9. So, we have another example of a smaller number coming before a larger one to give a subtraction (as in IV) Apply this to row 5.\n",
        "\n",
        "In row 5 we see XCIX=99. We know the IX=9. We also know C=100 and X=10 which would make XC=90 -- it's a small number followed by a larger one, so we subtract the first from the second, which means take 10 (X) from 100 (C). So, XCIX = 90+9 (rather, 100-10 + 10-1 !). Why is 99 not simply IC, i.e, 100-1? Apparently it's invalid, so perhaps there is a rule about how big the difference can be."
      ],
      "metadata": {
        "id": "rODI71h6QPK-"
      }
    },
    {
      "cell_type": "markdown",
      "source": [
        "# Look at a number from right to left\n",
        "In a number like MCMLXXIX we can see that the number descends in value as we go from left to right. But occasionally, there is a larger digit following a smaller one. \n",
        "\n",
        "If we go from right to left and ADD when we get a larger digit or one of the same value and subtract when we get a smaller one, does that give us a key to the problem?\n",
        "\n",
        "Take MCMLXXIX. The right most digit is 'X'. Let's add that, so our running total is 10. The next digit is 'I' which is smaller, so subtract that to give us 9. Now add the 10, and the next one, which gives us 29. The 'L' is bigger, so add that too to give 79. Now add the 'M' to give 1079. Subract the 'C' as it's smaller, to give 979. Finally, add the last 'M' to give 1979. MCMLXXIX = 1979. Seems to work."
      ],
      "metadata": {
        "id": "Evo7HYdERTpK"
      }
    },
    {
      "cell_type": "markdown",
      "source": [
        "# Pseudo code for translating a valid Roman number"
      ],
      "metadata": {
        "id": "8zCU_T6pMXc8"
      }
    },
    {
      "cell_type": "markdown",
      "source": [
        "```\n",
        "total ← 0 ;\n",
        "previous ← 0 ;\n",
        "FOR counter GOES FROM length TO 1 // Work from right to left\n",
        "   current ← numeral at position counter ;\n",
        "   // Determine value of numeral \n",
        "   IF (current = 'I')\n",
        "      value ← 1 ;\n",
        "   ELSE IF (current = 'V')\n",
        "      value ← 5 ;\n",
        "   ELSE IF (current = 'X')\n",
        "      value ← 10 ;\n",
        "   ELSE IF (current = 'L')\n",
        "      value ← 50 ;\n",
        "   ELSE IF (current = 'C')\n",
        "      value ← 100 ;\n",
        "   ELSE IF (current = 'D')\n",
        "      value ← 500 ; \n",
        "   ELSE\n",
        "      value ← 1000 ; \n",
        "   ENDIF\n",
        "   IF (value < previous) \n",
        "      total ← total - value ;\n",
        "   ELSE\n",
        "      total ← total + value ;\n",
        "   ENDIF\n",
        "   previous ← value ; \n",
        "ENDFOR\n",
        "Display total ;\n",
        "```\n"
      ],
      "metadata": {
        "id": "03PnB2tpRu6H"
      }
    },
    {
      "cell_type": "markdown",
      "source": [
        "# Implement in Python\n",
        "Let's now put this into Python."
      ],
      "metadata": {
        "id": "MEACGhFoSrGm"
      }
    },
    {
      "cell_type": "markdown",
      "source": [
        "# Initialisations"
      ],
      "metadata": {
        "id": "KFfFiatiRzA_"
      }
    },
    {
      "cell_type": "code",
      "execution_count": null,
      "metadata": {
        "id": "5pvfS2ANBvMK"
      },
      "outputs": [],
      "source": [
        "roman_number = 'MCMLXXIX'\n",
        "reversed_number = roman_number [::-1]\n",
        "print(reversed_number) # I thought it easier to reverse the string and work through it left to right"
      ]
    },
    {
      "cell_type": "code",
      "source": [
        "previous = 0\n",
        "total = 0"
      ],
      "metadata": {
        "id": "gYtVMoIODL1P"
      },
      "execution_count": null,
      "outputs": []
    },
    {
      "cell_type": "markdown",
      "source": [
        "# Solution with if statements (based on pseudo code above)"
      ],
      "metadata": {
        "id": "BS1d8AKER8ZE"
      }
    },
    {
      "cell_type": "code",
      "source": [
        "for digit in reversed_number:\n",
        "  if digit == 'I':\n",
        "    value = 1\n",
        "  elif digit == 'V':\n",
        "    value = 5\n",
        "  elif digit == 'X':\n",
        "    value = 10\n",
        "  elif digit == 'L':\n",
        "    value = 50\n",
        "  elif digit == 'C':\n",
        "    value = 100\n",
        "  elif digit == 'D':\n",
        "    value = 500\n",
        "  elif digit == 'M':\n",
        "    value = 1000\n",
        "  if value < previous:\n",
        "    total -= value # total = total - value\n",
        "  else:\n",
        "    total += value # total = total + value\n",
        "  previous = value\n",
        "print (total)"
      ],
      "metadata": {
        "id": "dLzxPU0wE5lH"
      },
      "execution_count": null,
      "outputs": []
    },
    {
      "cell_type": "markdown",
      "source": [
        "# Solution with a dictionary (let's make use of Python features)\n",
        "See https://www.w3schools.com/python/ref_dictionary_get.asp"
      ],
      "metadata": {
        "id": "Q5Z8JfccSBeo"
      }
    },
    {
      "cell_type": "code",
      "source": [
        "previous = 0\n",
        "total = 0\n",
        "\n",
        "numerals={\n",
        "      'I':1,\n",
        "      'V':5,\n",
        "      'X': 10,\n",
        "      'L': 50,\n",
        "      'C': 100,\n",
        "      'D': 500,\n",
        "      'M': 1000\n",
        "      }\n",
        "for digit in reversed_number:\n",
        "  value = numerals.get(digit) \n",
        "  if value < previous:\n",
        "    total -= value\n",
        "  else:\n",
        "    total += value\n",
        "  previous = value\n",
        "print (total)"
      ],
      "metadata": {
        "id": "G6cZOmW1EzGz"
      },
      "execution_count": null,
      "outputs": []
    },
    {
      "cell_type": "markdown",
      "source": [
        "# Python 3.10\n",
        "\n",
        "Python 3.10 introduces the `match` statement, which is similar to the `switch` statement in other languages. See https://datagy.io/python-switch-case/"
      ],
      "metadata": {
        "id": "WKbwx9mzXrrP"
      }
    },
    {
      "cell_type": "markdown",
      "source": [
        "# Validating a Roman number\n",
        "We have not addressed the problem of checking whether the Roman number is valid or not. We'll leave that for another day – see my project solution document for pointers on how I would approach this."
      ],
      "metadata": {
        "id": "sDL3l0elQUdF"
      }
    },
    {
      "cell_type": "markdown",
      "source": [
        "# Decimal to Roman\n",
        "Converting decimal numbers to roman numerals is going to be a lot easier. We know what the various sequences are for certain numbers: I=1, IV=4, V=5, IX=9, X=10, XL=40, L=50, XC=90, C=100, D=500, M=1000. The outline process, therefore, must involve dividing the decimal number repeatedly into small units until we get down to the 1s. For example, 20 = XX. Why? X is the largest roman numeral we can fit into 20. But 1 X only gives us 10 with a left over of 10. The left over can also be represented by an X. The number 70 = LXX. 70 can be divided by 50 once, so that gives us one L. The left over is 20 which divides by 10 twice to give XX. Put it together and we get LXX. 39 = 3 × X + 1 × IX: 3 10s plus a leftover of 9. We have a symbol for 9 = IX, so 39 = XXXIX."
      ],
      "metadata": {
        "id": "1_aN4gfSYK9Y"
      }
    },
    {
      "cell_type": "markdown",
      "source": [
        "# Pseudo code"
      ],
      "metadata": {
        "id": "BeTLFVtqBmsP"
      }
    },
    {
      "cell_type": "markdown",
      "source": [
        "1. Number of 'M's needed = number ÷ 1000\n",
        "2. Leftover = remainder after dividing number by 1000\n",
        "3. Number of 'D's needed = leftover ÷ 500\n",
        "4. Leftover = remainder after dividing leftover by 500\n",
        "5. Number of 'C's needed = leftover ÷ 100\n",
        "6. Leftover = remainder after dividing leftover by 100\n",
        "7. Number of 'L's needed = leftover ÷ 50\n",
        "8. Leftover = remainder after dividing leftover by 50\n",
        "9. Number of 'X's needed = leftover ÷ 10\n",
        "10. Leftover = remainder after dividing leftover by 10\n",
        "11. Number of 'V's needed = leftover ÷ 5\n",
        "12. Number of 'I's needed = remainder after dividing leftover by 5"
      ],
      "metadata": {
        "id": "D5eG7FFeBqUI"
      }
    },
    {
      "cell_type": "code",
      "source": [
        "decimal_number = 3549"
      ],
      "metadata": {
        "id": "gMto-0UeYdY5"
      },
      "execution_count": null,
      "outputs": []
    },
    {
      "cell_type": "code",
      "source": [
        "number_Ms = decimal_number // 1000\n",
        "leftover = decimal_number % 1000\n",
        "number_Ds = leftover // 500\n",
        "leftover %= 500\n",
        "number_Cs = leftover // 100\n",
        "leftover %= 100\n",
        "number_Ls = leftover // 50\n",
        "leftover %= 50\n",
        "number_Xs = leftover // 10\n",
        "leftover %= 10\n",
        "number_Vs = leftover // 5\n",
        "number_Is = leftover % 5\n",
        "print (number_Ms, number_Ds, number_Cs, number_Ls, number_Xs, number_Vs, number_Is)"
      ],
      "metadata": {
        "id": "z05vdkgjYlLb"
      },
      "execution_count": null,
      "outputs": []
    },
    {
      "cell_type": "markdown",
      "source": [
        "# Translating those numbers into Roman numerals\n",
        "Now we need to use those counts of each Roman numeral to generate the whole number. For example:\n",
        "\n",
        "````\n",
        "1. roman = ''\n",
        "2. FOR counter GOES FROM 1 to number_Ms \n",
        "   2.1 Add 'M' to roman\n",
        "   ENDFOR\n",
        "...\n",
        "````\n",
        "and so on"
      ],
      "metadata": {
        "id": "u6z1wKw1FCcT"
      }
    },
    {
      "cell_type": "code",
      "source": [
        "roman = ''\n",
        "for x in range(number_Ms):\n",
        "  roman += 'M'\n",
        "for x in range(number_Ds):\n",
        "  roman += 'D'\n",
        "for x in range(number_Cs):\n",
        "    roman += 'C' \n",
        "for x in range(number_Ls):\n",
        "  roman += 'L'\n",
        "for x in range(number_Xs):\n",
        "    roman += 'X' \n",
        "for x in range(number_Vs):\n",
        "  roman += 'V'\n",
        "for x in range(number_Is):\n",
        "    roman += 'I' \n",
        "\n",
        "print (roman)"
      ],
      "metadata": {
        "id": "pRxJ3cLsZ-p6"
      },
      "execution_count": null,
      "outputs": []
    },
    {
      "cell_type": "markdown",
      "source": [
        "# Rethinking the algorithm\n",
        "That's a lot of FOR statements. Is there a neater, more Pythonic, way of doing it?\n",
        "\n",
        "I could take the counter variables and put them in a list which I could iterate over. I can add a second list to store the Roman numeral symbols. "
      ],
      "metadata": {
        "id": "jMV_hJywZZtR"
      }
    },
    {
      "cell_type": "code",
      "source": [
        "numerals = [number_Ms, number_Ds, number_Cs, number_Ls, number_Xs, number_Vs, number_Is]\n",
        "symbols = ['M', 'D', 'C', 'L', 'X', 'V', 'I']"
      ],
      "metadata": {
        "id": "dWBQ7oSpCSjV"
      },
      "execution_count": null,
      "outputs": []
    },
    {
      "cell_type": "code",
      "source": [
        "roman = ''\n",
        "for index, element in enumerate(numerals):\n",
        "  for i in range(element):\n",
        "     roman += symbols[index]\n",
        "print (roman)"
      ],
      "metadata": {
        "id": "0A6-s49yCisu"
      },
      "execution_count": null,
      "outputs": []
    },
    {
      "cell_type": "markdown",
      "source": [
        "# Not quite there\n",
        "It kind of works, but 'XXXX' should be 'LX' and 'VIIII' should be 'IX'. We can see that the Roman system doesn't just have single character 'digits', but also has pairs of characters for the numbers 4, 9, 40, 90, 400, and 900."
      ],
      "metadata": {
        "id": "pRJrQVb6Dotk"
      }
    },
    {
      "cell_type": "markdown",
      "source": [
        "\n",
        "\\begin{array}{ll}\n",
        "\\hline\n",
        "\\textbf{Roman Symbol}&\\textbf{Decimal Equivalent}\\\\\n",
        "\\hline\n",
        "\\text{I}&1\\\\\n",
        "\\text{IV}& 4\\\\\n",
        "\\text{V}&5\\\\\n",
        "\\text{IX}&9\\\\\n",
        "\\text{X}&10\\\\\n",
        "\\text{XL}&40\\\\\n",
        "\\text{L}&50\\\\\n",
        "\\text{XC}&90\\\\\n",
        "\\text{C}&100\\\\\n",
        "\\text{CD}&400\\\\\n",
        "\\text{D}&500\\\\\n",
        "\\text{CM}&900\\\\\n",
        "\\text{M}&1000\\\\\n",
        "\\hline\n",
        "\\end{array}"
      ],
      "metadata": {
        "id": "m77lRW_HdHxI"
      }
    },
    {
      "cell_type": "markdown",
      "source": [
        "We could extend the above solution to add these 'digits'."
      ],
      "metadata": {
        "id": "jCxUsfopE8SC"
      }
    },
    {
      "cell_type": "code",
      "source": [
        "number_Ms = decimal_number // 1000\n",
        "leftover = decimal_number % 1000\n",
        "number_CMs = leftover // 900\n",
        "leftover %= 900\n",
        "number_Ds = leftover // 500\n",
        "leftover %= 500\n",
        "number_CDs = leftover //400\n",
        "leftover %= 400\n",
        "number_Cs = leftover // 100\n",
        "leftover %= 100\n",
        "number_XCs = leftover //90\n",
        "leftover %= 90\n",
        "number_Ls = leftover // 50\n",
        "leftover %=50\n",
        "number_XLs = leftover // 40\n",
        "leftover %= 40\n",
        "number_Xs = leftover //10\n",
        "leftover %= 10\n",
        "number_IXs = leftover // 9\n",
        "leftover %= 9\n",
        "number_Vs = leftover // 5\n",
        "leftover %= 5\n",
        "number_IVs = leftover // 4\n",
        "number_Is = leftover % 4\n"
      ],
      "metadata": {
        "id": "jDsv5nYMcx_f"
      },
      "execution_count": null,
      "outputs": []
    },
    {
      "cell_type": "markdown",
      "source": [
        "# And now produce the Roman numeral string"
      ],
      "metadata": {
        "id": "fzQvCJlVcKZi"
      }
    },
    {
      "cell_type": "code",
      "source": [
        "roman = ''\n",
        "for x in range(number_Ms):\n",
        "  roman += 'M'\n",
        "if number_CMs > 0:\n",
        "  roman += 'CM'\n",
        "for x in range(number_Ds):\n",
        "  roman += 'D'\n",
        "if number_CDs > 0:\n",
        "  roman += 'CD'\n",
        "for x in range(number_Cs):\n",
        "  roman += 'C'\n",
        "if number_XCs >0:\n",
        "  roman += 'XC'\n",
        "for x in range(number_Ls):\n",
        "  roman += 'L'\n",
        "if number_XLs > 0:\n",
        "  roman += 'XL'\n",
        "for x in range(number_Xs):\n",
        "    roman += 'X' \n",
        "if number_IXs > 0:\n",
        "  roman += 'IX'\n",
        "for x in range(number_Vs):\n",
        "  roman += 'V'\n",
        "if number_IVs >0:\n",
        "  roman += 'IV'\n",
        "for x in range(number_Is):\n",
        "  roman += 'I'\n",
        "print (roman)"
      ],
      "metadata": {
        "id": "UDgyQ3ouesN8"
      },
      "execution_count": null,
      "outputs": []
    },
    {
      "cell_type": "markdown",
      "source": [
        "#Refining the algorithm\n",
        "That seems to give us the right answer. But, again, can we make the algorithm less cluttered? Let's create a list of tuples, where each tuple contains a Roman number and its decimal equivalent."
      ],
      "metadata": {
        "id": "UDWGQSZycpYP"
      }
    },
    {
      "cell_type": "code",
      "source": [
        "numbers = [(1000, 'M'), \n",
        "           (900, 'CM'),\n",
        "           (500, 'D'),\n",
        "           (400, 'CD'),\n",
        "           (100, 'C'),\n",
        "           (90, 'XC'),\n",
        "           (50, 'L'), \n",
        "           (40, 'XL'),\n",
        "           (10, 'X'),\n",
        "           (9, 'IX'),\n",
        "           (5, 'V'),\n",
        "           (1, 'I')]"
      ],
      "metadata": {
        "id": "0MRUq1EJhk58"
      },
      "execution_count": null,
      "outputs": []
    },
    {
      "cell_type": "markdown",
      "source": [
        "#Accessing the tuples\n",
        "The list is called 'digits'. Selecting `digits[0]` will give us the first tuple, `(1000, 'M')`. To access the elements of the tuple we add a further index. Thus, the 'M' is given by `digits[0][1]`. We can now use this data structure in a redesigned algortithm."
      ],
      "metadata": {
        "id": "U0NUpewsdB-c"
      }
    },
    {
      "cell_type": "code",
      "source": [
        "decimal_number = 2500\n",
        "leftover = decimal_number\n",
        "roman = ''"
      ],
      "metadata": {
        "id": "xDW1x66O-_SU"
      },
      "execution_count": null,
      "outputs": []
    },
    {
      "cell_type": "code",
      "source": [
        "for number in range(len(numbers)):\n",
        "  count = leftover // numbers[number][0]\n",
        "  for symbol in range(count):\n",
        "    roman+=numbers[number][1]\n",
        "  leftover %= numbers[number][0]\n",
        "  if leftover == 0:\n",
        "    break\n",
        "print (f\"Roman string is {roman} in {number+1} iterations.\")"
      ],
      "metadata": {
        "id": "jWDvA4iX36Z_"
      },
      "execution_count": null,
      "outputs": []
    }
  ]
}