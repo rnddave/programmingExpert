{
 "cells": [
  {
   "cell_type": "code",
   "execution_count": null,
   "metadata": {},
   "outputs": [],
   "source": []
  },
  {
   "cell_type": "markdown",
   "metadata": {
    "id": "6YqPlYhP8PQz"
   },
   "source": [
    "## Tasks\n",
    "For each exercise below:\n",
    "1. Try to get a working solution without looking at the sample solution.\n",
    "2. Once you have it working, think how you could make your solution better (such as clearer, more elegant, or more efficient)\n",
    "3. Compare your solution with the sample solution. Is yours different? If so, is it better? Why is the sample solution coded that way? Why is yours different?\n",
    "\n",
    "## Exercises\n",
    "Please complete the following CodingBat exercises:\n",
    "\n",
    "1. [Warmup-1 – near_hundred](https://codingbat.com/prob/p124676)\n",
    "2. [Warmup-1 – missing_char](https://codingbat.com/prob/p149524)\n",
    "3. [Warmup-1 – monkey_trouble](https://codingbat.com/prob/p120546)\n",
    "4. [Warmup-1 – sum_double](https://codingbat.com/prob/p141905)\n",
    "5. [Warmup-2 – string_times](https://codingbat.com/prob/p193507)\n",
    "6. [Warmup-2 – front_times](https://codingbat.com/prob/p165097)\n",
    "7. [List-1 – reverse3](https://codingbat.com/prob/p192962)\n",
    "8. [Logic-1 – caught_speeding](https://codingbat.com/prob/p137202) \n",
    "\n",
    "## Extra\n",
    "If you have time and feel ambitious enough, please try more of the CodingBat challenges."
   ]
  },
  {
   "cell_type": "markdown",
   "metadata": {},
   "source": [
    "1. [Warmup-1 – near_hundred](https://codingbat.com/prob/p124676)\n",
    "\n",
    "Given an int n, return True if it is within 10 of 100 or 200. Note: abs(num) computes the absolute value of a number.\n",
    "\n",
    "near_hundred(93) → True\n",
    "near_hundred(90) → True\n",
    "near_hundred(89) → False"
   ]
  },
  {
   "cell_type": "markdown",
   "metadata": {},
   "source": [
    "my solution..."
   ]
  },
  {
   "cell_type": "code",
   "execution_count": 1,
   "metadata": {},
   "outputs": [
    {
     "name": "stdout",
     "output_type": "stream",
     "text": [
      "False False True False True\n"
     ]
    }
   ],
   "source": [
    "def near_hundred(n):\n",
    "  if (((n > 89) and (n < 111)) or ((n > 189) and (n < 211))):\n",
    "    return True\n",
    "  else:\n",
    "    return False\n",
    "\n",
    "print(near_hundred(7), near_hundred(57), near_hundred(107), near_hundred(157), near_hundred(207))"
   ]
  },
  {
   "cell_type": "markdown",
   "metadata": {},
   "source": [
    "recommended solution..."
   ]
  },
  {
   "cell_type": "code",
   "execution_count": 3,
   "metadata": {},
   "outputs": [
    {
     "name": "stdout",
     "output_type": "stream",
     "text": [
      "False False True False True\n"
     ]
    }
   ],
   "source": [
    "def near_hundred(n):\n",
    "  return ((abs(100 - n) <= 10) or (abs(200 - n) <= 10))\n",
    "\n",
    "print(near_hundred(7), near_hundred(57), near_hundred(107), near_hundred(157), near_hundred(207))"
   ]
  },
  {
   "cell_type": "markdown",
   "metadata": {},
   "source": [
    "2. [Warmup-1 – missing_char](https://codingbat.com/prob/p149524)\n",
    "\n",
    "Given a non-empty string and an int n, return a new string where the char at index n has been removed. The value of n will be a valid index of a char in the original string (i.e. n will be in the range 0..len(str)-1 inclusive).\n",
    "\n",
    "missing_char('kitten', 1) → 'ktten'\n",
    "missing_char('kitten', 0) → 'itten'\n",
    "missing_char('kitten', 4) → 'kittn'\n",
    "\n",
    "Understand the problem - Take a string and a number, the number is the index of the character we should remove"
   ]
  },
  {
   "cell_type": "markdown",
   "metadata": {},
   "source": [
    "I looked on stack overflow for tips and the answer was identified immediately, so I didn't put too much effort into this one..."
   ]
  },
  {
   "cell_type": "code",
   "execution_count": 5,
   "metadata": {},
   "outputs": [
    {
     "name": "stdout",
     "output_type": "stream",
     "text": [
      "kittn\n"
     ]
    }
   ],
   "source": [
    "def missing_char(str, n):\n",
    "  # can we use n as a range? \n",
    "  str2 = str[:n] + str[n + 1:]\n",
    "  return str2\n",
    "\n",
    "print(missing_char('kitten', 4))"
   ]
  },
  {
   "cell_type": "markdown",
   "metadata": {},
   "source": [
    "recommended solution: (erm, wow, this is less good!)"
   ]
  },
  {
   "cell_type": "code",
   "execution_count": 7,
   "metadata": {},
   "outputs": [
    {
     "name": "stdout",
     "output_type": "stream",
     "text": [
      "kittn\n"
     ]
    }
   ],
   "source": [
    "def missing_char(str, n):\n",
    "  front = str[:n]   # up to but not including n\n",
    "  back = str[n+1:]  # n+1 through end of string\n",
    "  return front + back\n",
    "\n",
    "print(missing_char('kitten', 4))"
   ]
  },
  {
   "cell_type": "markdown",
   "metadata": {},
   "source": [
    "3. [Warmup-1 – monkey_trouble](https://codingbat.com/prob/p120546)\n",
    "\n",
    "We have two monkeys, a and b, and the parameters a_smile and b_smile indicate if each is smiling. We are in trouble if they are both smiling or if neither of them is smiling. Return True if we are in trouble.\n",
    "\n",
    "monkey_trouble(True, True) → True\n",
    "monkey_trouble(False, False) → True\n",
    "monkey_trouble(True, False) → False"
   ]
  },
  {
   "cell_type": "markdown",
   "metadata": {},
   "source": [
    "my solution"
   ]
  },
  {
   "cell_type": "code",
   "execution_count": 10,
   "metadata": {},
   "outputs": [
    {
     "name": "stdout",
     "output_type": "stream",
     "text": [
      "True False True False\n"
     ]
    }
   ],
   "source": [
    "def monkey_trouble(a_smile, b_smile):\n",
    "  if ((a_smile == True and b_smile == True) or (a_smile == False and b_smile == False)):\n",
    "    return True\n",
    "  else:\n",
    "    return False\n",
    "\n",
    "print(monkey_trouble(True, True), monkey_trouble(True, False), monkey_trouble(False, False), monkey_trouble(False, True))"
   ]
  },
  {
   "cell_type": "markdown",
   "metadata": {},
   "source": [
    "their solution"
   ]
  },
  {
   "cell_type": "code",
   "execution_count": null,
   "metadata": {},
   "outputs": [],
   "source": [
    "def monkey_trouble(a_smile, b_smile):\n",
    "  if a_smile and b_smile:\n",
    "    return True\n",
    "  if not a_smile and not b_smile:\n",
    "    return True\n",
    "  return False\n",
    "  ## The above can be shortened to:\n",
    "  ##   return ((a_smile and b_smile) or (not a_smile and not b_smile))\n",
    "  ## Or this very short version (think about how this is the same as the above)\n",
    "  ##   return (a_smile == b_smile)  <--- this one = WOW!!"
   ]
  },
  {
   "cell_type": "markdown",
   "metadata": {},
   "source": [
    "4. [Warmup-1 – sum_double](https://codingbat.com/prob/p141905)\n",
    "\n",
    "Given two int values, return their sum. Unless the two values are the same, then return double their sum.\n",
    "\n",
    "sum_double(1, 2) → 3\n",
    "sum_double(3, 2) → 5\n",
    "sum_double(2, 2) → 8\n",
    "\n",
    "plan: \n",
    "if a = b then (a+b)*2\n",
    "else a+b"
   ]
  },
  {
   "cell_type": "markdown",
   "metadata": {},
   "source": [
    "my solution"
   ]
  },
  {
   "cell_type": "code",
   "execution_count": 11,
   "metadata": {},
   "outputs": [
    {
     "name": "stdout",
     "output_type": "stream",
     "text": [
      "6 18 12\n"
     ]
    }
   ],
   "source": [
    "def sum_double(a, b):\n",
    "  if (a == b):\n",
    "    sum = ((a + b) * 2)\n",
    "  else:\n",
    "    sum = (a + b)\n",
    "    \n",
    "  return sum\n",
    "\n",
    "print(sum_double(1, 5), sum_double(5, 13), sum_double(3, 3))"
   ]
  },
  {
   "cell_type": "markdown",
   "metadata": {},
   "source": [
    "their solution"
   ]
  },
  {
   "cell_type": "code",
   "execution_count": 12,
   "metadata": {},
   "outputs": [
    {
     "name": "stdout",
     "output_type": "stream",
     "text": [
      "6 18 12\n"
     ]
    }
   ],
   "source": [
    "def sum_double(a, b):\n",
    "  # Store the sum in a local variable\n",
    "  sum = a + b\n",
    "  \n",
    "  # Double it if a and b are the same\n",
    "  if a == b:\n",
    "    sum = sum * 2\n",
    "  return sum\n",
    "\n",
    "print(sum_double(1, 5), sum_double(5, 13), sum_double(3, 3))"
   ]
  },
  {
   "cell_type": "markdown",
   "metadata": {},
   "source": [
    "5. [Warmup-2 – string_times](https://codingbat.com/prob/p193507)\n",
    "\n",
    "Given a string and a non-negative int n, return a larger string that is n copies of the original string.\n",
    "\n",
    "string_times('Hi', 2) → 'HiHi'\n",
    "string_times('Hi', 3) → 'HiHiHi'\n",
    "string_times('Hi', 1) → 'Hi'"
   ]
  },
  {
   "cell_type": "markdown",
   "metadata": {},
   "source": [
    "my solution"
   ]
  },
  {
   "cell_type": "code",
   "execution_count": 13,
   "metadata": {},
   "outputs": [
    {
     "name": "stdout",
     "output_type": "stream",
     "text": [
      "purplepurple purplepurplepurplepurplepurplepurplepurple\n"
     ]
    }
   ],
   "source": [
    "def string_times(str, n):\n",
    "  newstr = str*n\n",
    "  return newstr\n",
    "\n",
    "print(string_times('purple', 2), string_times('purple', 7))"
   ]
  },
  {
   "cell_type": "markdown",
   "metadata": {},
   "source": [
    "their solution (this is quite complicated in my opinion)"
   ]
  },
  {
   "cell_type": "code",
   "execution_count": 14,
   "metadata": {},
   "outputs": [
    {
     "name": "stdout",
     "output_type": "stream",
     "text": [
      "purplepurple purplepurplepurplepurplepurplepurplepurple\n"
     ]
    }
   ],
   "source": [
    "def string_times(str, n):\n",
    "  result = \"\"\n",
    "  for i in range(n):  # range(n) is [0, 1, 2, .... n-1]\n",
    "    result = result + str  # could use += here\n",
    "  return result\n",
    "\n",
    "print(string_times('purple', 2), string_times('purple', 7))"
   ]
  },
  {
   "cell_type": "markdown",
   "metadata": {},
   "source": [
    "6. [Warmup-2 – front_times](https://codingbat.com/prob/p165097)\n",
    "\n",
    "Given a string and a non-negative int n, we'll say that the front of the string is the first 3 chars, or whatever is there if the string is less than length 3. Return n copies of the front;\n",
    "\n",
    "front_times('Chocolate', 2) → 'ChoCho'\n",
    "front_times('Chocolate', 3) → 'ChoChoCho'\n",
    "front_times('Abc', 3) → 'AbcAbcAbc'"
   ]
  },
  {
   "cell_type": "markdown",
   "metadata": {},
   "source": [
    "my solution (took me several attempts)\n"
   ]
  },
  {
   "cell_type": "code",
   "execution_count": null,
   "metadata": {},
   "outputs": [],
   "source": [
    "def front_times(str, n):\n",
    "  newStr = '' \n",
    "  # if the string is <= 3 char then\n",
    "  if (len(str) < 4):\n",
    "    newStr = str*n\n",
    "    return newStr\n",
    "  else:\n",
    "    newStr = str[:3]\n",
    "    newStr = newStr*n\n",
    "    return newStr"
   ]
  },
  {
   "cell_type": "markdown",
   "metadata": {},
   "source": [
    "their solution (I barely understand what is going on here....)"
   ]
  },
  {
   "cell_type": "code",
   "execution_count": null,
   "metadata": {},
   "outputs": [],
   "source": [
    "def front_times(str, n):\n",
    "  front_len = 3\n",
    "  if front_len > len(str):\n",
    "    front_len = len(str)\n",
    "  front = str[:front_len]\n",
    "  \n",
    "  result = \"\"\n",
    "  for i in range(n):\n",
    "    result = result + front\n",
    "  return result"
   ]
  },
  {
   "cell_type": "markdown",
   "metadata": {},
   "source": [
    "\n",
    "7. [List-1 – reverse3](https://codingbat.com/prob/p192962)\n",
    "\n",
    "Given an array of ints length 3, return a new array with the elements in reverse order, so {1, 2, 3} becomes {3, 2, 1}.\n",
    "\n",
    "reverse3([1, 2, 3]) → [3, 2, 1]\n",
    "reverse3([5, 11, 9]) → [9, 11, 5]\n",
    "reverse3([7, 0, 0]) → [0, 0, 7]\n",
    "\n"
   ]
  },
  {
   "cell_type": "markdown",
   "metadata": {},
   "source": [
    "my solution\n",
    "\n",
    "I don't know this didn't work for me, it took me many attempts, using list.revers() and reversed(list) without success. StackOverflow took me to solution"
   ]
  },
  {
   "cell_type": "code",
   "execution_count": 38,
   "metadata": {},
   "outputs": [
    {
     "name": "stdout",
     "output_type": "stream",
     "text": [
      "<class 'list'> [1, 2, 3]\n",
      "[3, 2, 1]\n"
     ]
    }
   ],
   "source": [
    "def reverse3(nums):\n",
    "  print(type(nums), nums)\n",
    "\n",
    "  outList = nums[::-1]\n",
    "  return outList\n",
    "\n",
    "inList = [1, 2, 3]\n",
    "print(reverse3(inList))\n"
   ]
  },
  {
   "cell_type": "markdown",
   "metadata": {},
   "source": [
    "their solution  (NONE AVAILABLE ???) "
   ]
  },
  {
   "cell_type": "markdown",
   "metadata": {},
   "source": [
    "8. [Logic-1 – caught_speeding](https://codingbat.com/prob/p137202) \n",
    "\n",
    "You are driving a little too fast, and a police officer stops you. Write code to compute the result, encoded as an int value: 0=no ticket, 1=small ticket, 2=big ticket. If speed is 60 or less, the result is 0. If speed is between 61 and 80 inclusive, the result is 1. If speed is 81 or more, the result is 2. Unless it is your birthday -- on that day, your speed can be 5 higher in all cases.\n",
    "\n",
    "caught_speeding(60, False) → 0\n",
    "caught_speeding(65, False) → 1\n",
    "caught_speeding(65, True) → 0"
   ]
  },
  {
   "cell_type": "markdown",
   "metadata": {},
   "source": [
    "my solution (they do not offer a solution for this one)"
   ]
  },
  {
   "cell_type": "code",
   "execution_count": 41,
   "metadata": {},
   "outputs": [],
   "source": [
    "def caught_speeding(speed, is_birthday):\n",
    "  if ((speed <= 60) or (speed <= 65 and is_birthday == True)):\n",
    "    result = 0\n",
    "    return result\n",
    "  elif ((speed > 60 and speed < 81) or ((speed > 60 and speed < 86) and is_birthday == True)):\n",
    "    result = 1\n",
    "    return result\n",
    "  else:\n",
    "    result = 2\n",
    "    return result"
   ]
  }
 ],
 "metadata": {
  "kernelspec": {
   "display_name": "Python 3.9.13 ('base')",
   "language": "python",
   "name": "python3"
  },
  "language_info": {
   "codemirror_mode": {
    "name": "ipython",
    "version": 3
   },
   "file_extension": ".py",
   "mimetype": "text/x-python",
   "name": "python",
   "nbconvert_exporter": "python",
   "pygments_lexer": "ipython3",
   "version": "3.9.13"
  },
  "orig_nbformat": 4,
  "vscode": {
   "interpreter": {
    "hash": "29ba88fc74c30cfb08fb6ce3b25c2ccd724cd11e96a643650e6c772fb9859a2d"
   }
  }
 },
 "nbformat": 4,
 "nbformat_minor": 2
}
