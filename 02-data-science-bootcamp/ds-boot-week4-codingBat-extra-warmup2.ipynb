{
 "cells": [
  {
   "cell_type": "markdown",
   "metadata": {},
   "source": [
    "https://codingbat.com/prob/p118366\n",
    "\n",
    "String explosion\n",
    "\n",
    "Given a non-empty string like \"Code\" return a string like \"CCoCodCode\".\n",
    "\n",
    "string_splosion('Code') → 'CCoCodCode'\n",
    "string_splosion('abc') → 'aababc'\n",
    "string_splosion('ab') → 'aab'"
   ]
  },
  {
   "cell_type": "code",
   "execution_count": 4,
   "metadata": {},
   "outputs": [
    {
     "ename": "TypeError",
     "evalue": "'int' object is not subscriptable",
     "output_type": "error",
     "traceback": [
      "\u001b[0;31m---------------------------------------------------------------------------\u001b[0m",
      "\u001b[0;31mTypeError\u001b[0m                                 Traceback (most recent call last)",
      "\u001b[1;32m/Users/dickinsd/Github/ds-bootcamp-unn/ds-boot-week4-codingBat-extra-warmup2.ipynb Cell 2\u001b[0m in \u001b[0;36m<cell line: 9>\u001b[0;34m()\u001b[0m\n\u001b[1;32m      <a href='vscode-notebook-cell:/Users/dickinsd/Github/ds-bootcamp-unn/ds-boot-week4-codingBat-extra-warmup2.ipynb#ch0000000?line=4'>5</a>\u001b[0m         \u001b[39mfor\u001b[39;00m i \u001b[39min\u001b[39;00m strLen[:\u001b[39m-\u001b[39m\u001b[39m1\u001b[39m]:\n\u001b[1;32m      <a href='vscode-notebook-cell:/Users/dickinsd/Github/ds-bootcamp-unn/ds-boot-week4-codingBat-extra-warmup2.ipynb#ch0000000?line=5'>6</a>\u001b[0m             \u001b[39mprint\u001b[39m(i \u001b[39m+\u001b[39m i \u001b[39m+\u001b[39m \u001b[39mstr\u001b[39m)\n\u001b[0;32m----> <a href='vscode-notebook-cell:/Users/dickinsd/Github/ds-bootcamp-unn/ds-boot-week4-codingBat-extra-warmup2.ipynb#ch0000000?line=8'>9</a>\u001b[0m \u001b[39mprint\u001b[39m(string_splosion(\u001b[39m'\u001b[39;49m\u001b[39mcode\u001b[39;49m\u001b[39m'\u001b[39;49m))\n",
      "\u001b[1;32m/Users/dickinsd/Github/ds-bootcamp-unn/ds-boot-week4-codingBat-extra-warmup2.ipynb Cell 2\u001b[0m in \u001b[0;36mstring_splosion\u001b[0;34m(str)\u001b[0m\n\u001b[1;32m      <a href='vscode-notebook-cell:/Users/dickinsd/Github/ds-bootcamp-unn/ds-boot-week4-codingBat-extra-warmup2.ipynb#ch0000000?line=1'>2</a>\u001b[0m strLen \u001b[39m=\u001b[39m \u001b[39mlen\u001b[39m(\u001b[39mstr\u001b[39m)\n\u001b[1;32m      <a href='vscode-notebook-cell:/Users/dickinsd/Github/ds-bootcamp-unn/ds-boot-week4-codingBat-extra-warmup2.ipynb#ch0000000?line=3'>4</a>\u001b[0m \u001b[39mwhile\u001b[39;00m (strLen \u001b[39m>\u001b[39m \u001b[39m1\u001b[39m):\n\u001b[0;32m----> <a href='vscode-notebook-cell:/Users/dickinsd/Github/ds-bootcamp-unn/ds-boot-week4-codingBat-extra-warmup2.ipynb#ch0000000?line=4'>5</a>\u001b[0m     \u001b[39mfor\u001b[39;00m i \u001b[39min\u001b[39;00m strLen[:\u001b[39m-\u001b[39;49m\u001b[39m1\u001b[39;49m]:\n\u001b[1;32m      <a href='vscode-notebook-cell:/Users/dickinsd/Github/ds-bootcamp-unn/ds-boot-week4-codingBat-extra-warmup2.ipynb#ch0000000?line=5'>6</a>\u001b[0m         \u001b[39mprint\u001b[39m(i \u001b[39m+\u001b[39m i \u001b[39m+\u001b[39m \u001b[39mstr\u001b[39m)\n",
      "\u001b[0;31mTypeError\u001b[0m: 'int' object is not subscriptable"
     ]
    }
   ],
   "source": [
    "def string_splosion(str):\n",
    "    strLen = len(str)\n",
    "\n",
    "    while (strLen > 1):\n",
    "        for i in strLen[:-1]:\n",
    "            print(i + i + str)\n",
    "\n",
    "\n",
    "print(string_splosion('code'))"
   ]
  },
  {
   "cell_type": "code",
   "execution_count": 24,
   "metadata": {},
   "outputs": [
    {
     "name": "stdout",
     "output_type": "stream",
     "text": [
      "cccode\n",
      "cocode\n",
      "cdcode\n",
      "occode\n",
      "oocode\n",
      "odcode\n",
      "dccode\n",
      "docode\n",
      "ddcode\n",
      "None\n"
     ]
    }
   ],
   "source": [
    "def string_splosion(str):\n",
    "    strLst = list(str)\n",
    "    \n",
    "    for i in strLst[:-1]:\n",
    "        #print(i + str)\n",
    "        for j in strLst[:-1]:\n",
    "            print(i + j + str)\n",
    "\n",
    "\n",
    "\n",
    "\n",
    "print(string_splosion('code'))"
   ]
  },
  {
   "cell_type": "code",
   "execution_count": 33,
   "metadata": {},
   "outputs": [
    {
     "ename": "TypeError",
     "evalue": "'list' object cannot be interpreted as an integer",
     "output_type": "error",
     "traceback": [
      "\u001b[0;31m---------------------------------------------------------------------------\u001b[0m",
      "\u001b[0;31mTypeError\u001b[0m                                 Traceback (most recent call last)",
      "\u001b[1;32m/Users/dickinsd/Github/ds-bootcamp-unn/ds-boot-week4-codingBat-extra-warmup2.ipynb Cell 4\u001b[0m in \u001b[0;36m<cell line: 9>\u001b[0;34m()\u001b[0m\n\u001b[1;32m      <a href='vscode-notebook-cell:/Users/dickinsd/Github/ds-bootcamp-unn/ds-boot-week4-codingBat-extra-warmup2.ipynb#ch0000003?line=4'>5</a>\u001b[0m     \u001b[39mfor\u001b[39;00m i \u001b[39min\u001b[39;00m \u001b[39mrange\u001b[39m(strLst[(strLen):\u001b[39m-\u001b[39m\u001b[39m1\u001b[39m]):\n\u001b[1;32m      <a href='vscode-notebook-cell:/Users/dickinsd/Github/ds-bootcamp-unn/ds-boot-week4-codingBat-extra-warmup2.ipynb#ch0000003?line=5'>6</a>\u001b[0m         \u001b[39mprint\u001b[39m(i \u001b[39m+\u001b[39m \u001b[39mstr\u001b[39m)\n\u001b[0;32m----> <a href='vscode-notebook-cell:/Users/dickinsd/Github/ds-bootcamp-unn/ds-boot-week4-codingBat-extra-warmup2.ipynb#ch0000003?line=8'>9</a>\u001b[0m \u001b[39mprint\u001b[39m(string_splosion(\u001b[39m'\u001b[39;49m\u001b[39mcode\u001b[39;49m\u001b[39m'\u001b[39;49m))\n",
      "\u001b[1;32m/Users/dickinsd/Github/ds-bootcamp-unn/ds-boot-week4-codingBat-extra-warmup2.ipynb Cell 4\u001b[0m in \u001b[0;36mstring_splosion\u001b[0;34m(str)\u001b[0m\n\u001b[1;32m      <a href='vscode-notebook-cell:/Users/dickinsd/Github/ds-bootcamp-unn/ds-boot-week4-codingBat-extra-warmup2.ipynb#ch0000003?line=1'>2</a>\u001b[0m strLst \u001b[39m=\u001b[39m \u001b[39mlist\u001b[39m(\u001b[39mstr\u001b[39m)\n\u001b[1;32m      <a href='vscode-notebook-cell:/Users/dickinsd/Github/ds-bootcamp-unn/ds-boot-week4-codingBat-extra-warmup2.ipynb#ch0000003?line=2'>3</a>\u001b[0m strLen \u001b[39m=\u001b[39m \u001b[39mlen\u001b[39m(strLst)\n\u001b[0;32m----> <a href='vscode-notebook-cell:/Users/dickinsd/Github/ds-bootcamp-unn/ds-boot-week4-codingBat-extra-warmup2.ipynb#ch0000003?line=4'>5</a>\u001b[0m \u001b[39mfor\u001b[39;00m i \u001b[39min\u001b[39;00m \u001b[39mrange\u001b[39;49m(strLst[(strLen):\u001b[39m-\u001b[39;49m\u001b[39m1\u001b[39;49m]):\n\u001b[1;32m      <a href='vscode-notebook-cell:/Users/dickinsd/Github/ds-bootcamp-unn/ds-boot-week4-codingBat-extra-warmup2.ipynb#ch0000003?line=5'>6</a>\u001b[0m     \u001b[39mprint\u001b[39m(i \u001b[39m+\u001b[39m \u001b[39mstr\u001b[39m)\n",
      "\u001b[0;31mTypeError\u001b[0m: 'list' object cannot be interpreted as an integer"
     ]
    }
   ],
   "source": [
    "def string_splosion(str):\n",
    "    strLst = list(str)\n",
    "    strLen = len(strLst)\n",
    "\n",
    "    for i in range(strLst[(strLen):-1]):\n",
    "        print(i + str)\n",
    "\n",
    "\n",
    "print(string_splosion('code'))"
   ]
  },
  {
   "cell_type": "code",
   "execution_count": 38,
   "metadata": {},
   "outputs": [
    {
     "name": "stdout",
     "output_type": "stream",
     "text": [
      "['c', 'o', 'd']\n",
      "None\n"
     ]
    }
   ],
   "source": [
    "def string_splosion(str):\n",
    "    strLst = list(str)\n",
    "    newStr = strLst[:-1]\n",
    "    print(newStr)\n",
    "\n",
    "    while (not newStr[-1]):\n",
    "        for i in newStr:\n",
    "            print(i + str)\n",
    "\n",
    "\n",
    "\n",
    "print(string_splosion('code'))"
   ]
  },
  {
   "cell_type": "code",
   "execution_count": 43,
   "metadata": {},
   "outputs": [
    {
     "name": "stdout",
     "output_type": "stream",
     "text": [
      "cccode\n",
      "cocode\n",
      "cdcode\n",
      "occode\n",
      "oocode\n",
      "odcode\n",
      "dccode\n",
      "docode\n",
      "ddcode\n",
      "None\n"
     ]
    }
   ],
   "source": [
    "def string_splosion(str):\n",
    "    strLst = list(str)\n",
    "    newStr = strLst[:-1]\n",
    "    #print(newStr)\n",
    "\n",
    "    while (newStr):\n",
    "        for i in newStr:\n",
    "            #print(j + str)\n",
    "            for j in newStr:\n",
    "                print(i + j + str)\n",
    "        break\n",
    "\n",
    "\n",
    "\n",
    "print(string_splosion('code'))"
   ]
  },
  {
   "cell_type": "code",
   "execution_count": 57,
   "metadata": {},
   "outputs": [
    {
     "ename": "TypeError",
     "evalue": "unsupported operand type(s) for +: 'int' and 'str'",
     "output_type": "error",
     "traceback": [
      "\u001b[0;31m---------------------------------------------------------------------------\u001b[0m",
      "\u001b[0;31mTypeError\u001b[0m                                 Traceback (most recent call last)",
      "\u001b[1;32m/Users/dickinsd/Github/ds-bootcamp-unn/ds-boot-week4-codingBat-extra-warmup2.ipynb Cell 7\u001b[0m in \u001b[0;36m<cell line: 13>\u001b[0;34m()\u001b[0m\n\u001b[1;32m      <a href='vscode-notebook-cell:/Users/dickinsd/Github/ds-bootcamp-unn/ds-boot-week4-codingBat-extra-warmup2.ipynb#ch0000006?line=6'>7</a>\u001b[0m         i \u001b[39m=\u001b[39m \u001b[39m+\u001b[39m\u001b[39m+\u001b[39m\u001b[39m1\u001b[39m\n\u001b[1;32m      <a href='vscode-notebook-cell:/Users/dickinsd/Github/ds-bootcamp-unn/ds-boot-week4-codingBat-extra-warmup2.ipynb#ch0000006?line=7'>8</a>\u001b[0m         \u001b[39mprint\u001b[39m(i \u001b[39m+\u001b[39m \u001b[39mstr\u001b[39m)\n\u001b[0;32m---> <a href='vscode-notebook-cell:/Users/dickinsd/Github/ds-bootcamp-unn/ds-boot-week4-codingBat-extra-warmup2.ipynb#ch0000006?line=12'>13</a>\u001b[0m \u001b[39mprint\u001b[39m(string_splosion(\u001b[39m'\u001b[39;49m\u001b[39mcode\u001b[39;49m\u001b[39m'\u001b[39;49m))\n",
      "\u001b[1;32m/Users/dickinsd/Github/ds-bootcamp-unn/ds-boot-week4-codingBat-extra-warmup2.ipynb Cell 7\u001b[0m in \u001b[0;36mstring_splosion\u001b[0;34m(str)\u001b[0m\n\u001b[1;32m      <a href='vscode-notebook-cell:/Users/dickinsd/Github/ds-bootcamp-unn/ds-boot-week4-codingBat-extra-warmup2.ipynb#ch0000006?line=5'>6</a>\u001b[0m \u001b[39mfor\u001b[39;00m i \u001b[39min\u001b[39;00m newStr:\n\u001b[1;32m      <a href='vscode-notebook-cell:/Users/dickinsd/Github/ds-bootcamp-unn/ds-boot-week4-codingBat-extra-warmup2.ipynb#ch0000006?line=6'>7</a>\u001b[0m     i \u001b[39m=\u001b[39m \u001b[39m+\u001b[39m\u001b[39m+\u001b[39m\u001b[39m1\u001b[39m\n\u001b[0;32m----> <a href='vscode-notebook-cell:/Users/dickinsd/Github/ds-bootcamp-unn/ds-boot-week4-codingBat-extra-warmup2.ipynb#ch0000006?line=7'>8</a>\u001b[0m     \u001b[39mprint\u001b[39m(i \u001b[39m+\u001b[39;49m \u001b[39mstr\u001b[39;49m)\n",
      "\u001b[0;31mTypeError\u001b[0m: unsupported operand type(s) for +: 'int' and 'str'"
     ]
    }
   ],
   "source": [
    "def string_splosion(str):\n",
    "    strLst = list(str)\n",
    "    newStr = strLst[:-1]\n",
    "    #print(newStr)\n",
    "\n",
    "    for i in newStr:\n",
    "        i = ++1\n",
    "        print(i + str)\n",
    "    \n",
    "\n",
    "\n",
    "\n",
    "print(string_splosion('code'))"
   ]
  },
  {
   "cell_type": "markdown",
   "metadata": {},
   "source": [
    "I couldn't find the right answer to this, the solution is as follows:"
   ]
  },
  {
   "cell_type": "code",
   "execution_count": 58,
   "metadata": {},
   "outputs": [
    {
     "name": "stdout",
     "output_type": "stream",
     "text": [
      "ccocodcode\n"
     ]
    }
   ],
   "source": [
    "def string_splosion(str):\n",
    "  result = \"\"\n",
    "  # On each iteration, add the substring of the chars 0..i\n",
    "  for i in range(len(str)):\n",
    "    result = result + str[:i+1]\n",
    "  return result\n",
    "\n",
    "print(string_splosion('code'))"
   ]
  },
  {
   "cell_type": "markdown",
   "metadata": {},
   "source": [
    "https://codingbat.com/prob/p110166\n",
    "\n",
    "Array front 9\n",
    "\n",
    "Given an array of ints, return True if one of the first 4 elements in the array is a 9. The array length may be less than 4.\n",
    "\n",
    "array_front9([1, 2, 9, 3, 4]) → True\n",
    "array_front9([1, 2, 3, 4, 9]) → False\n",
    "array_front9([1, 2, 3, 4, 5]) → False"
   ]
  },
  {
   "cell_type": "code",
   "execution_count": 68,
   "metadata": {},
   "outputs": [
    {
     "name": "stdout",
     "output_type": "stream",
     "text": [
      "None\n"
     ]
    }
   ],
   "source": [
    "def array_front9(nums):\n",
    "    checkDig = 9\n",
    "    if (nums[0:5] == checkDig):\n",
    "        return True\n",
    "\n",
    "print(array_front9([1, 2, 4, 9, 9]))"
   ]
  },
  {
   "cell_type": "code",
   "execution_count": 72,
   "metadata": {},
   "outputs": [
    {
     "name": "stdout",
     "output_type": "stream",
     "text": [
      "True\n"
     ]
    }
   ],
   "source": [
    "def array_front9(nums):\n",
    "    checkDig = 9\n",
    "    if (checkDig in nums):\n",
    "        return True\n",
    "    \n",
    "\n",
    "print(array_front9([1, 2, 4, 6, 9]))\n",
    "\n",
    "# this is sort of working, but does not check if it falls within a defined range"
   ]
  },
  {
   "cell_type": "code",
   "execution_count": 75,
   "metadata": {},
   "outputs": [
    {
     "name": "stdout",
     "output_type": "stream",
     "text": [
      "True\n"
     ]
    }
   ],
   "source": [
    "def array_front9(nums):\n",
    "    checkDig = 9\n",
    "    if (checkDig in nums[0:4]):\n",
    "        return True\n",
    "    else: \n",
    "        return False\n",
    "    \n",
    "\n",
    "print(array_front9([1, 2, 4, 9, 9]))\n",
    "\n",
    "# this seems to work now"
   ]
  },
  {
   "cell_type": "markdown",
   "metadata": {},
   "source": [
    "their solution: (I like mine more so)\n",
    "\n",
    "def array_front9(nums):\n",
    "  # First figure the end for the loop\n",
    "  end = len(nums)\n",
    "  if end > 4:\n",
    "    end = 4\n",
    "  \n",
    "  for i in range(end):  # loop over index [0, 1, 2, 3]\n",
    "    if nums[i] == 9:\n",
    "      return True\n",
    "  return False"
   ]
  },
  {
   "cell_type": "markdown",
   "metadata": {},
   "source": [
    "https://codingbat.com/prob/p145834\n",
    "\n",
    "last2\n",
    "\n",
    "Given a string, return the count of the number of times that a substring length 2 appears in the string and also as the last 2 chars of the string, so \"hixxxhi\" yields 1 (we won't count the end substring).\n",
    "\n",
    "last2('hixxhi') → 1\n",
    "last2('xaxxaxaxx') → 1\n",
    "last2('axxxaaxx') → 2"
   ]
  },
  {
   "cell_type": "code",
   "execution_count": 88,
   "metadata": {},
   "outputs": [
    {
     "name": "stdout",
     "output_type": "stream",
     "text": [
      "bo hibobbobo\n",
      "0\n"
     ]
    }
   ],
   "source": [
    "# I'm not sure I even understand the question? \n",
    "\n",
    "def last2(str):\n",
    "    checkStr = str[-2:]\n",
    "    print(checkStr, str[0:-2])\n",
    "    countEm = 0\n",
    "    \n",
    "    if (checkStr in str[0:-2]):\n",
    "        \n",
    "        countEm ++ 1\n",
    "    return countEm\n",
    "\n",
    "print(last2('hibobbobobo'))"
   ]
  },
  {
   "cell_type": "code",
   "execution_count": 90,
   "metadata": {},
   "outputs": [
    {
     "name": "stdout",
     "output_type": "stream",
     "text": [
      "bo hibobbobo\n",
      "0\n"
     ]
    }
   ],
   "source": [
    "# I think I'm nearly there\n",
    "\n",
    "def last2(str):\n",
    "    checkStr = str[-2:]\n",
    "    print(checkStr, str[0:-2])\n",
    "    countEm = 0\n",
    "    \n",
    "    for i in str[0:-2]:\n",
    "\n",
    "        if (checkStr in str[0:-2]):\n",
    "            \n",
    "            countEm ++ 1\n",
    "        return countEm\n",
    "\n",
    "print(last2('hibobbobobo'))"
   ]
  },
  {
   "cell_type": "markdown",
   "metadata": {},
   "source": [
    "I didn't figure this out, but the solution is here: \n",
    "\n",
    "def last2(str):\n",
    "  # Screen out too-short string case.\n",
    "  if len(str) < 2:\n",
    "    return 0\n",
    "  \n",
    "  # last 2 chars, can be written as str[-2:]\n",
    "  last2 = str[len(str)-2:]\n",
    "  count = 0\n",
    "  \n",
    "  # Check each substring length 2 starting at i\n",
    "  for i in range(len(str)-2):\n",
    "    sub = str[i:i+2]\n",
    "    if sub == last2:\n",
    "      count = count + 1\n",
    "\n",
    "  return count"
   ]
  }
 ],
 "metadata": {
  "kernelspec": {
   "display_name": "Python 3.9.13 ('base')",
   "language": "python",
   "name": "python3"
  },
  "language_info": {
   "codemirror_mode": {
    "name": "ipython",
    "version": 3
   },
   "file_extension": ".py",
   "mimetype": "text/x-python",
   "name": "python",
   "nbconvert_exporter": "python",
   "pygments_lexer": "ipython3",
   "version": "3.9.13"
  },
  "orig_nbformat": 4,
  "vscode": {
   "interpreter": {
    "hash": "29ba88fc74c30cfb08fb6ce3b25c2ccd724cd11e96a643650e6c772fb9859a2d"
   }
  }
 },
 "nbformat": 4,
 "nbformat_minor": 2
}
