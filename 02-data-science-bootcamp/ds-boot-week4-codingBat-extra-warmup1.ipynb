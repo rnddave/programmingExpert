{
 "cells": [
  {
   "cell_type": "markdown",
   "metadata": {},
   "source": [
    "## Extra\n",
    "If you have time and feel ambitious enough, please try more of the CodingBat challenges.\n",
    "\n",
    "https://codingbat.com/python\n"
   ]
  },
  {
   "cell_type": "markdown",
   "metadata": {},
   "source": [
    "https://codingbat.com/prob/p173401\n",
    "\n",
    "sleep_in\n",
    "\n",
    "The parameter weekday is True if it is a weekday, and the parameter vacation is True if we are on vacation. We sleep in if it is not a weekday or we're on vacation. Return True if we sleep in.\n",
    "\n",
    "\n",
    "sleep_in(False, False) → True\n",
    "sleep_in(True, False) → False\n",
    "sleep_in(False, True) → True"
   ]
  },
  {
   "cell_type": "code",
   "execution_count": null,
   "metadata": {},
   "outputs": [],
   "source": [
    "def sleep_in(weekday, vacation):\n",
    "    if ((weekday == vacation) or (False, True)):\n",
    "        return True\n",
    "    else:\n",
    "        return False"
   ]
  },
  {
   "cell_type": "markdown",
   "metadata": {},
   "source": [
    "did not pass all tests\n",
    "\n",
    "Expected\tRun\t\t\n",
    "sleep_in(False, False) → True\tTrue\tOK\t\n",
    "sleep_in(True, False) → False\tTrue\tX\t\n",
    "sleep_in(False, True) → True\tTrue\tOK\t\n",
    "sleep_in(True, True) → True\t    True\tOK\t"
   ]
  },
  {
   "cell_type": "code",
   "execution_count": null,
   "metadata": {},
   "outputs": [],
   "source": [
    "def sleep_in(weekday, vacation):\n",
    "    if ((weekday == vacation) or (weekday == False and vacation == True)):\n",
    "        return True\n",
    "    else:\n",
    "        return False"
   ]
  },
  {
   "cell_type": "markdown",
   "metadata": {},
   "source": [
    "this time passes all tests. They also offer a solution:\n",
    "\n",
    "def sleep_in(weekday, vacation):\n",
    "  if not weekday or vacation:\n",
    "    return True\n",
    "  else:\n",
    "    return False\n",
    "  # This can be shortened to: return(not weekday or vacation)"
   ]
  },
  {
   "cell_type": "markdown",
   "metadata": {},
   "source": [
    "https://codingbat.com/prob/p197466\n",
    "\n",
    "diff21\n",
    "\n",
    "Given an int n, return the absolute difference between n and 21, except return double the absolute difference if n is over 21.\n",
    "\n",
    "diff21(19) → 2\n",
    "diff21(10) → 11\n",
    "diff21(21) → 0"
   ]
  },
  {
   "cell_type": "code",
   "execution_count": 1,
   "metadata": {},
   "outputs": [],
   "source": [
    "def diff21(n):\n",
    "    if (n > 21):\n",
    "        return abs((n - 21) * 2)\n",
    "    else: \n",
    "        return abs(21 - n)\n"
   ]
  },
  {
   "cell_type": "markdown",
   "metadata": {},
   "source": [
    "Expected\tRun\t\t\n",
    "diff21(19) → 2\t2\tOK\t\n",
    "diff21(10) → 11\t11\tOK\t\n",
    "diff21(21) → 0\t0\tOK\t\n",
    "diff21(22) → 2\t2\tOK\t\n",
    "diff21(25) → 8\t8\tOK\t\n",
    "diff21(30) → 18\t18\tOK\t\n",
    "diff21(0) → 21\t21\tOK\t\n",
    "diff21(1) → 20\t20\tOK\t\n",
    "diff21(2) → 19\t19\tOK\t\n",
    "diff21(-1) → 22\t22\tOK\t\n",
    "diff21(-2) → 23\t23\tOK\t\n",
    "diff21(50) → 58\t58\tOK\t\n",
    "\n",
    "passess all tests, their solution: \n",
    "\n",
    "def diff21(n):\n",
    "  if n <= 21:\n",
    "    return 21 - n\n",
    "  else:\n",
    "    return (n - 21) * 2"
   ]
  },
  {
   "cell_type": "markdown",
   "metadata": {},
   "source": [
    "https://codingbat.com/prob/p166884\n",
    "\n",
    "parrot_trouble\n",
    "\n",
    "We have a loud talking parrot. The \"hour\" parameter is the current hour time in the range 0..23. We are in trouble if the parrot is talking and the hour is before 7 or after 20. Return True if we are in trouble.\n",
    "\n",
    "parrot_trouble(True, 6) → True\n",
    "parrot_trouble(True, 7) → False\n",
    "parrot_trouble(False, 6) → False"
   ]
  },
  {
   "cell_type": "code",
   "execution_count": null,
   "metadata": {},
   "outputs": [],
   "source": [
    "def parrot_trouble(talking, hour):\n",
    "    \n",
    "    if (talking == False):\n",
    "      return False\n",
    "    \n",
    "    while (talking == True):\n",
    "        if ((hour >= 0 and hour < 7) or (hour > 20)):\n",
    "            return True\n",
    "        else:\n",
    "            return False"
   ]
  },
  {
   "cell_type": "markdown",
   "metadata": {},
   "source": [
    "Expected\tRun\t\t\n",
    "parrot_trouble(True, 6) → True\tTrue\tOK\t\n",
    "parrot_trouble(True, 7) → False\tFalse\tOK\t\n",
    "parrot_trouble(False, 6) → False\tFalse\tOK\t\n",
    "parrot_trouble(True, 21) → True\tTrue\tOK\t\n",
    "parrot_trouble(False, 21) → False\tFalse\tOK\t\n",
    "parrot_trouble(False, 20) → False\tFalse\tOK\t\n",
    "parrot_trouble(True, 23) → True\tTrue\tOK\t\n",
    "parrot_trouble(False, 23) → False\tFalse\tOK\t\n",
    "parrot_trouble(True, 20) → False\tFalse\tOK\t\n",
    "parrot_trouble(False, 12) → False\tFalse\tOK\t\n",
    "\n",
    "passed the tests, their solution: "
   ]
  },
  {
   "cell_type": "code",
   "execution_count": null,
   "metadata": {},
   "outputs": [],
   "source": [
    "def parrot_trouble(talking, hour):\n",
    "  return (talking and (hour < 7 or hour > 20))\n",
    "  # Need extra parenthesis around the or clause\n",
    "  # since and binds more tightly than or.\n",
    "  # and is like arithmetic *, or is like arithmetic +\n",
    "\n",
    "# okay, that's flipping impressive!"
   ]
  },
  {
   "cell_type": "markdown",
   "metadata": {},
   "source": [
    "https://codingbat.com/prob/p162058\n",
    "\n",
    "Pos_neg\n",
    "\n",
    "Given 2 int values, return True if one is negative and one is positive. Except if the parameter \"negative\" is True, then return True only if both are negative.\n",
    "\n",
    "pos_neg(1, -1, False) → True\n",
    "pos_neg(-1, 1, False) → True\n",
    "pos_neg(-4, -5, True) → True"
   ]
  },
  {
   "cell_type": "code",
   "execution_count": 6,
   "metadata": {},
   "outputs": [],
   "source": [
    "def pos_neg(a, b, negative):\n",
    "    if ((negative == True) and (a and b < 0)):\n",
    "        return True\n",
    "    elif ((negative == False or negative == False) and (a or b < 0) or (a and b < 0)):\n",
    "        return True\n",
    "    else:\n",
    "        return False"
   ]
  },
  {
   "cell_type": "code",
   "execution_count": null,
   "metadata": {},
   "outputs": [],
   "source": [
    "def pos_neg(a, b, negative):\n",
    "    if ((negative == True) and (a and b < 0)):\n",
    "        return True\n",
    "    elif ((negative == False or negative == True) and (a or b < 0)):\n",
    "        return True\n",
    "    elif ((negative == False or negative == True) and (a and b < 0)): \n",
    "        return True\n",
    "    else:\n",
    "        return False"
   ]
  },
  {
   "cell_type": "code",
   "execution_count": null,
   "metadata": {},
   "outputs": [],
   "source": [
    "def pos_neg(a, b, negative):\n",
    "    \n",
    "    if ((negative == True) and (a and b < 0)):\n",
    "        return True\n",
    "    elif (a or b < 0):\n",
    "      return True\n",
    "    else:\n",
    "        return False"
   ]
  },
  {
   "cell_type": "code",
   "execution_count": 9,
   "metadata": {},
   "outputs": [],
   "source": [
    "def pos_neg(a, b, negative):\n",
    "    while (negative == True): \n",
    "        if (a and b < 0):\n",
    "            return True\n",
    "    while (negative == False):\n",
    "        if (a or b < 0):\n",
    "            return True\n",
    "        else:\n",
    "            return False\n",
    "\n",
    "# grasping at straws here, this one failed EVERY TEST! "
   ]
  },
  {
   "cell_type": "code",
   "execution_count": 10,
   "metadata": {},
   "outputs": [],
   "source": [
    "def pos_neg(a, b, negative):\n",
    "    if (negative):\n",
    "        if (a and b < 0):\n",
    "            return True\n",
    "    elif (not negative):\n",
    "        if ((a or b < 0) or (a and b < 0)):\n",
    "            return True\n",
    "    else:\n",
    "        return False\n",
    "        # did not pass the tests"
   ]
  },
  {
   "cell_type": "code",
   "execution_count": null,
   "metadata": {},
   "outputs": [],
   "source": [
    "def pos_neg(a, b, negative):\n",
    "    if (negative):\n",
    "        return (a < 0 and b < 0)\n",
    "    else:\n",
    "        return ((a < 0 and b >= 0) or (a >= 0 and b < 0))\n",
    "\n",
    "# this does pass the tests!! "
   ]
  },
  {
   "cell_type": "markdown",
   "metadata": {},
   "source": [
    "I only really came up with this after seeing the solution: \n",
    "\n",
    "def pos_neg(a, b, negative):\n",
    "  if negative:\n",
    "    return (a < 0 and b < 0)\n",
    "  else:\n",
    "    return ((a < 0 and b > 0) or (a > 0 and b < 0))"
   ]
  },
  {
   "cell_type": "markdown",
   "metadata": {},
   "source": [
    "https://codingbat.com/prob/p153599\n",
    "\n",
    "Front Back\n",
    "\n",
    "Given a string, return a new string where the first and last chars have been exchanged.\n",
    "\n",
    "front_back('code') → 'eodc'\n",
    "front_back('a') → 'a'\n",
    "front_back('ab') → 'ba'"
   ]
  },
  {
   "cell_type": "code",
   "execution_count": 28,
   "metadata": {},
   "outputs": [
    {
     "name": "stdout",
     "output_type": "stream",
     "text": [
      "ylinky\n",
      "blinkb\n"
     ]
    }
   ],
   "source": [
    "def front_back(str):\n",
    "    firstChar = str[0]\n",
    "    lastChar = str[-1]\n",
    "\n",
    "    newStr = ''\n",
    "\n",
    "    newStr = str.replace(str[0], lastChar)\n",
    "    print(newStr)\n",
    "    newStr = str.replace(str[-1], firstChar)\n",
    "    return newStr\n",
    "\n",
    "print(front_back('blinky'))"
   ]
  },
  {
   "cell_type": "code",
   "execution_count": 32,
   "metadata": {},
   "outputs": [
    {
     "name": "stdout",
     "output_type": "stream",
     "text": [
      "ylinky\n",
      "blinkb\n"
     ]
    }
   ],
   "source": [
    "def front_back(str):\n",
    "    firstChar = str[0]\n",
    "    lastChar = str[-1]\n",
    "\n",
    "    newStr = ''\n",
    "\n",
    "    newStr = str.replace(str[0], lastChar)\n",
    "    print(newStr)\n",
    "    newStr = newStr.replace(newStr[-1], firstChar)\n",
    "    return newStr\n",
    "\n",
    "print(front_back('blinky'))\n",
    "\n",
    "# nope not working"
   ]
  },
  {
   "cell_type": "code",
   "execution_count": 41,
   "metadata": {},
   "outputs": [
    {
     "name": "stdout",
     "output_type": "stream",
     "text": [
      "ylinkb\n"
     ]
    }
   ],
   "source": [
    "def front_back(str):\n",
    "    firstChar = str[0]\n",
    "    lastChar = str[-1]\n",
    "\n",
    "    middleChar = str[1:-1]\n",
    "    newStr = lastChar + middleChar + firstChar\n",
    "    return newStr\n",
    "\n",
    "print(front_back('blinky'))"
   ]
  },
  {
   "cell_type": "markdown",
   "metadata": {},
   "source": [
    "this looks like it will work, but I am quite convinced there are much better ways to do this!\n",
    "\n",
    "this failed the test as does not allow for short strings!!!"
   ]
  },
  {
   "cell_type": "code",
   "execution_count": 49,
   "metadata": {},
   "outputs": [
    {
     "name": "stdout",
     "output_type": "stream",
     "text": [
      "ylinkb aa ba\n"
     ]
    }
   ],
   "source": [
    "def front_back(str):\n",
    "    firstChar = str[0]\n",
    "    lastChar = str[-1]\n",
    "\n",
    "    middleChar = str[1:-1]\n",
    "    newStr = lastChar + middleChar + firstChar\n",
    "    return newStr\n",
    "\n",
    "print(front_back('blinky'), front_back('a'), front_back('ab'))"
   ]
  },
  {
   "cell_type": "code",
   "execution_count": 57,
   "metadata": {},
   "outputs": [
    {
     "name": "stdout",
     "output_type": "stream",
     "text": [
      "ylinkb a ba\n"
     ]
    }
   ],
   "source": [
    "def front_back(str):\n",
    "    firstChar = str[0]\n",
    "    lastChar = str[-1]\n",
    "\n",
    "    if ((len(str)) < 2):\n",
    "        return firstChar\n",
    "\n",
    "    elif ((len(str) > 2)):\n",
    "        middleChar = str[1:-1]\n",
    "        newStr = lastChar + middleChar + firstChar\n",
    "        return newStr\n",
    "        \n",
    "    else: \n",
    "        newStr = lastChar + firstChar\n",
    "        return newStr\n",
    "\n",
    "print(front_back('blinky'), front_back('a'), front_back('ab'))"
   ]
  },
  {
   "cell_type": "markdown",
   "metadata": {},
   "source": [
    "this still doesn't work in the CodingBat website, their solution: \n",
    "\n",
    "def front_back(str):\n",
    "  if len(str) <= 1:\n",
    "    return str\n",
    "  \n",
    "  mid = str[1:len(str)-1]  # can be written as str[1:-1]\n",
    "  \n",
    "  # last + mid + first\n",
    "  return str[len(str)-1] + mid + str[0]"
   ]
  },
  {
   "cell_type": "markdown",
   "metadata": {},
   "source": [
    "https://codingbat.com/prob/p124984\n",
    "\n",
    "Makes 10\n",
    "\n",
    "Given 2 ints, a and b, return True if one if them is 10 or if their sum is 10.\n",
    "\n",
    "makes10(9, 10) → True\n",
    "makes10(9, 9) → False\n",
    "makes10(1, 9) → True"
   ]
  },
  {
   "cell_type": "code",
   "execution_count": 62,
   "metadata": {},
   "outputs": [
    {
     "name": "stdout",
     "output_type": "stream",
     "text": [
      "True True True True False\n"
     ]
    }
   ],
   "source": [
    "def makes10(a, b):\n",
    "    if ((a + b == 10) or (a == 10 or b == 10)):\n",
    "        return True\n",
    "    else:\n",
    "        return False\n",
    "\n",
    "print(makes10(1, 10), makes10(2, 8), makes10(10, 9), makes10(10, 10), makes10(1, 8))\n"
   ]
  },
  {
   "cell_type": "markdown",
   "metadata": {},
   "source": [
    "this worked;\n",
    "\n",
    "Expected\tRun\t\t\n",
    "makes10(9, 10) → True\tTrue\tOK\t\n",
    "makes10(9, 9) → False\tFalse\tOK\t\n",
    "makes10(1, 9) → True\tTrue\tOK\t\n",
    "makes10(10, 1) → True\tTrue\tOK\t\n",
    "makes10(10, 10) → True\tTrue\tOK\t\n",
    "makes10(8, 2) → True\tTrue\tOK\t\n",
    "makes10(8, 3) → False\tFalse\tOK\t\n",
    "makes10(10, 42) → True\tTrue\tOK\t\n",
    "makes10(12, -2) → True\tTrue\tOK\t\n",
    "\n",
    "their solution: \n",
    "\n",
    "def makes10(a, b):\n",
    "  return (a == 10 or b == 10 or a+b == 10)\n",
    "\n",
    "OMG that is so clean! "
   ]
  },
  {
   "cell_type": "markdown",
   "metadata": {},
   "source": [
    "https://codingbat.com/prob/p189441\n",
    "\n",
    "Not String\n",
    "\n",
    "Given a string, return a new string where \"not \" has been added to the front. However, if the string already begins with \"not\", return the string unchanged.\n",
    "\n",
    "not_string('candy') → 'not candy'\n",
    "not_string('x') → 'not x'\n",
    "not_string('not bad') → 'not bad'"
   ]
  },
  {
   "cell_type": "code",
   "execution_count": null,
   "metadata": {},
   "outputs": [],
   "source": [
    "def not_string(str):\n",
    "    if ('not' in str):\n",
    "        return str\n",
    "    else: \n",
    "        return 'not ' + str"
   ]
  },
  {
   "cell_type": "markdown",
   "metadata": {},
   "source": [
    "Expected\tRun\t\t\n",
    "not_string('candy') → 'not candy'\t'not candy'\tOK\t\n",
    "not_string('x') → 'not x'\t'not x'\tOK\t\n",
    "not_string('not bad') → 'not bad'\t'not bad'\tOK\t\n",
    "not_string('bad') → 'not bad'\t'not bad'\tOK\t\n",
    "not_string('not') → 'not'\t'not'\tOK\t\n",
    "not_string('is not') → 'not is not'\t'is not'\tX\t\n",
    "not_string('no') → 'not no'\t'not no'\tOK\t"
   ]
  },
  {
   "cell_type": "code",
   "execution_count": 63,
   "metadata": {},
   "outputs": [],
   "source": [
    "def not_string(str):\n",
    "    if (str.startswith('not ')):\n",
    "        return str\n",
    "    else: \n",
    "        return 'not ' + str"
   ]
  },
  {
   "cell_type": "markdown",
   "metadata": {},
   "source": [
    "failed:\n",
    "\n",
    "not_string('not') → 'not'\t'not'\tX"
   ]
  },
  {
   "cell_type": "code",
   "execution_count": 64,
   "metadata": {},
   "outputs": [],
   "source": [
    "def not_string(str):\n",
    "    if (str.startswith('not')): # I just removed the space after startsWith 'not'\n",
    "        return str\n",
    "    else: \n",
    "        return 'not ' + str"
   ]
  },
  {
   "cell_type": "markdown",
   "metadata": {},
   "source": [
    "passess all tests"
   ]
  },
  {
   "cell_type": "markdown",
   "metadata": {},
   "source": [
    "https://codingbat.com/prob/p147920\n",
    "\n",
    "Front 3\n",
    "\n",
    "Given a string, we'll say that the front is the first 3 chars of the string. If the string length is less than 3, the front is whatever is there. Return a new string which is 3 copies of the front.\n",
    "\n",
    "front3('Java') → 'JavJavJav'\n",
    "front3('Chocolate') → 'ChoChoCho'\n",
    "front3('abc') → 'abcabcabc'"
   ]
  },
  {
   "cell_type": "code",
   "execution_count": 68,
   "metadata": {},
   "outputs": [
    {
     "name": "stdout",
     "output_type": "stream",
     "text": [
      "boobooboo bo boobooboo\n"
     ]
    }
   ],
   "source": [
    "def front3(str):\n",
    "    if (len(str) < 3):\n",
    "        return str * 3\n",
    "    else:\n",
    "        return (str[0:3] * 3)\n",
    "\n",
    "print(front3('boo'), front3('bo'), front3('boobboob'))"
   ]
  },
  {
   "cell_type": "markdown",
   "metadata": {},
   "source": [
    "passess all tests. \n",
    "\n",
    "Their solution: "
   ]
  },
  {
   "cell_type": "code",
   "execution_count": null,
   "metadata": {},
   "outputs": [],
   "source": [
    "\n",
    "def front3(str):\n",
    "  # Figure the end of the front\n",
    "  front_end = 3\n",
    "  if len(str) < front_end:\n",
    "    front_end = len(str)\n",
    "  front = str[:front_end]\n",
    "  return front + front + front \n",
    "  \n",
    "  # Could omit the if logic, and write simply front = str[:3]\n",
    "  # since the slice is silent about out-of-bounds conditions."
   ]
  }
 ],
 "metadata": {
  "kernelspec": {
   "display_name": "Python 3.9.13 ('base')",
   "language": "python",
   "name": "python3"
  },
  "language_info": {
   "codemirror_mode": {
    "name": "ipython",
    "version": 3
   },
   "file_extension": ".py",
   "mimetype": "text/x-python",
   "name": "python",
   "nbconvert_exporter": "python",
   "pygments_lexer": "ipython3",
   "version": "3.9.13"
  },
  "orig_nbformat": 4,
  "vscode": {
   "interpreter": {
    "hash": "29ba88fc74c30cfb08fb6ce3b25c2ccd724cd11e96a643650e6c772fb9859a2d"
   }
  }
 },
 "nbformat": 4,
 "nbformat_minor": 2
}
