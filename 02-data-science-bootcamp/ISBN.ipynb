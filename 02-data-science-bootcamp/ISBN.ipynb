{
  "nbformat": 4,
  "nbformat_minor": 0,
  "metadata": {
    "colab": {
      "name": "ISBN.ipynb",
      "provenance": [],
      "collapsed_sections": [
        "KvOkl4LgW7YC",
        "BXzNcoCteT5u"
      ]
    },
    "kernelspec": {
      "name": "python3",
      "display_name": "Python 3"
    },
    "language_info": {
      "name": "python"
    }
  },
  "cells": [
    {
      "cell_type": "markdown",
      "metadata": {
        "id": "-zBApW5ITkds"
      },
      "source": [
        "#ISBNs – International Standard Book Numbers\n",
        "The check digit in an ISBN is calculated by a Modulus 11 technique using the weights 10 to 2. This means that each of the first nine digits is multiplied by a number in a sequence from 10 to 2. If you then add these products together and then add the value of the check digit, this total sum should be divisible by 11 without leaving a remainder. If it does give a remainder then the check digit does not match the rest of the number and we know the ISBN has been copied down incorrectly. The check digit is calculated in the following manner:\n",
        "\n",
        "Multiply the first nine digits by 10, 9, 8, 7, ..., 2 respectively and add up the results. Divide this sum by 11 and take the remainder. Finally, subtract this remainder from 11 to give the check digit. If the value is 10 the check digit becomes ‘X’. For example, we can validate the ISBN 0-14-012499-3 as follows:\n",
        "\n",
        "$$\\frac{(0\\times 10)+(1\\times 9)+(4\\times 8)+(0\\times 7)+(1\\times 6)+(2\\times 5)+(4\\times 4)+(9\\times 3)+(9\\times 2)}{11}$$\n",
        "\n",
        "$$=118\\div 11$$\n",
        "\n",
        "$$=10, \\text{remainder } 8$$\n",
        "\n",
        "Thus, the check digit = 11-8 = 3. As this is the same as the last number in 0-14-012499-3 we know that 0-14-012499-3 is a valid ISBN"
      ]
    },
    {
      "cell_type": "markdown",
      "metadata": {
        "id": "KvOkl4LgW7YC"
      },
      "source": [
        "# Task 1 – Validate an ISBN\n",
        "Write a function called `validate()` that takes a ten-digit ISBN as a string, calculates the check digit based on the first nine digits, compares the check digit with the supplied check digit and, if they match, returns True otherwise it should return False as the ISBN is invalid.\n",
        "\n",
        "**Hints**\n",
        "\n",
        "\n",
        "1. The ISBN is passed to the function as a string, e.g. \"0140124993\". You can treat a string much like you treat a list. That is, you can iterate over a string thus:\n",
        "\n",
        "```\n",
        "   for digit in ISBN:\n",
        "      print (digit)\n",
        "```\n",
        "2. The first nine characters of the string are numeric digits. Whilst Python treats them as characters rather than numbers, you can convert one to an integer like this#\n",
        "```\n",
        "number = int(ISBN[0])\n",
        "```\n",
        "This takes the first character of the ISBN string and turns it into an integer that is stored in `number`.\n",
        "3. We can use *slicing* to iterate over a subset of a string or list. To look at all but the last element of our ISBN string, we can specify a slice that starts at element 0 and ends at element -1, that is, one from the end:\n",
        "```\n",
        "for digit in ISBN[0:-1]:\n",
        "```\n",
        "4. Remember to use the modulus operator `%` to find the remainder after a division.\n",
        "4. Remember that a check digit of X standards for the integer value 10.\n",
        "\n",
        "A complete solution is below. The usual rules about peeking apply.\n"
      ]
    },
    {
      "cell_type": "code",
      "metadata": {
        "id": "PsMU2wAkX7KS"
      },
      "source": [
        "def validate (ISBN):\n",
        "  \"\"\"Validate a 10-digit ISBN (passed as a string)\"\"\"\n",
        "  # Sum the products of the first nine digits and the coefficients 10..2\n",
        "  sum = 0\n",
        "  coeff = 10\n",
        "  for digit in ISBN[0:-1]:\n",
        "    sum += int(digit)* coeff\n",
        "    coeff -= 1\n",
        "  # Add value of check digit to sum (X=10)\n",
        "  if ISBN[-1] == \"X\":\n",
        "    check = 10\n",
        "  else:\n",
        "    check = int(ISBN[-1])\n",
        "  sum+=check\n",
        "  # Return True if sum divides exactly by 11 otherwise return False\n",
        "  return sum % 11 == 0"
      ],
      "execution_count": null,
      "outputs": []
    },
    {
      "cell_type": "markdown",
      "metadata": {
        "id": "SJljhyC5X1st"
      },
      "source": [
        "#Try it yourself"
      ]
    },
    {
      "cell_type": "code",
      "metadata": {
        "id": "RN3qiB1nX49b"
      },
      "source": [
        "# Add your code for the validate() function here"
      ],
      "execution_count": null,
      "outputs": []
    },
    {
      "cell_type": "markdown",
      "metadata": {
        "id": "_pDnC9Erdo13"
      },
      "source": [
        "Test your function with the following code cell. If you wrote your function correctly you will get results of True, True, False."
      ]
    },
    {
      "cell_type": "code",
      "metadata": {
        "id": "cwWZzb6DTS5u"
      },
      "source": [
        "#Test your function here. You should get results of True, True, False\n",
        "ISBNS = [\"0140124993\", \"000322371X\", \"1844809035\"]\n",
        "for ISBN in ISBNS:\n",
        "  print (validate(ISBN))"
      ],
      "execution_count": null,
      "outputs": []
    },
    {
      "cell_type": "markdown",
      "metadata": {
        "id": "BXzNcoCteT5u"
      },
      "source": [
        "#Task 2 – The Hyphenation Problem\n",
        "When we look at an ISBN on the back of a book we see that the number is divided into groups of characters separated by hyphens. Our task now is to take an unformatted ISBN and produce a correctly hyphenated version.\n",
        "\n",
        "## The four groups in an ISBN\n",
        "For correct presentation, the ten digits of an ISBN should be divided into four parts separated by hyphens:\n",
        "* Part 1: The country or group of countries identifier \n",
        "* Part 2: The publisher identifier \n",
        "* Part 3: The title identifier \n",
        "* Part 4: The check digit \n",
        "\n",
        "To keep matters as simple as possible we will only deal with hyphenating ISBNs that have a group/country code of 0 (English language groups). The positions of the hyphens are determined by the publisher codes. To hyphenate correctly, knowledge of the prefix ranges for each country or group of countries is needed. The publisher code ranges in the English group (U.S., U.K, Canada, Australia, New Zealand, etc) are given in the following Table.\n",
        "\n",
        "|Group identifier ‘0’ publisher code ranges | If publisher ranges are between |Insert hyphens after|                  \n",
        "|-------------------------------------------|---------------------------------|--------------------|\n",
        "|`00-----------------19` | `00-19`          |1st,\t3rd,  & 9th digits          |\n",
        "|`200----------------99` | `20-69`          |1st,\t4th,  & 9th digits          |\n",
        "|`7000-------------8499` | `70-84`          |1st,\t5th,  & 9th digits          |\n",
        "|`85000-----------89999` | `85-89`          |1st,\t6th,  & 9th digits          |\n",
        "|`900000---------949999` | `90-94`          |1st,\t7th,  & 9th digits          |\n",
        "|`9500000-------9999999` | `95-99`          |1st,\t8th,  & 9th digits          |\n",
        "\n",
        "Your task is to write a function `hyphenate()` which takes a ten-digit ISBN as input and, if the ISBN is valid *and* it starts with a 0 it should return a string containing a correctly hyphenated version of that ISBN. If the ISBN is invalid it should return the string \"Invalid\". If the ISBN is valid but does not start with a 0 then it should return the string \"Wrong group code\".\n",
        "\n",
        "**Hint** You can see that the publisher code takes between two and seven digits. Every ISBN with group identifier of 0 or 1 has a hyphen after the first digit (the group code) and after the ninth digit (i.e. immediately before the check digit). The second hyphen is inserted after the publisher code. For an ISBN in group 0 you can tell from the first two digits of the publisher code how long the rest of the code is. For example, looking at the table above we see that publisher codes beginning with digits in the range 20..69 are three digits in length, whilst those beginning 95..99 are seven digits long.\n",
        "\n",
        "Also remember when slicing strings that the slice starts at the first position and ends at one less than the second position. For example\n",
        "```\n",
        "ISBN[1,3]\n",
        "```\n",
        "returns characters from index 1 (the second element) to index 2 (the third element) as 2 is one less than the second slice limit. For more on string slicing see [this tutorial](https://www.w3schools.com/python/gloss_python_string_slice.asp \"Python string slicing\").\n",
        "\n",
        "**No peeking at my solution yet!**\n",
        "\n",
        "\n",
        "\n",
        "\n",
        "\n",
        "\n",
        "\n",
        "\n"
      ]
    },
    {
      "cell_type": "code",
      "metadata": {
        "id": "vN-uo7W-h8Js"
      },
      "source": [
        "def hyphenate(ISBN):\n",
        "  # Check to see if ISBN is invalid\n",
        "  if not validate(ISBN):\n",
        "    return \"Invalid\"\n",
        "  # Check whether ISBN has the right group code\n",
        "  elif ISBN[0] != '0':\n",
        "    return ('Wrong group code')\n",
        "  # Valid ISBN in right group\n",
        "  else:\n",
        "    formatted = \"0-\" # We know the ISBN will start with '0-'\n",
        "    pub =int(ISBN[1:3]) #Take first two digits of pub code. \n",
        "    if pub <= 19:\n",
        "      position = 3\n",
        "    elif pub <= 69:\n",
        "      position = 4\n",
        "    elif pub <= 84:\n",
        "      position = 5\n",
        "    elif pub <=89:\n",
        "      position = 6\n",
        "    elif pub <= 94:\n",
        "      position = 7\n",
        "    else:\n",
        "      position = 8\n",
        "   \n",
        "  # Build the hyphenated ISBN using string slicing on the original\n",
        "  formatted = '0-'+ISBN[1:position]+\"-\"+ISBN[position:9]+'-'+ISBN[-1]\n",
        "  return formatted\n"
      ],
      "execution_count": null,
      "outputs": []
    },
    {
      "cell_type": "markdown",
      "metadata": {
        "id": "hQBo0R7Gh8qD"
      },
      "source": [
        "# Try it yourself"
      ]
    },
    {
      "cell_type": "code",
      "metadata": {
        "id": "8uxjIWBsh_ts"
      },
      "source": [
        "# Write your function here"
      ],
      "execution_count": null,
      "outputs": []
    },
    {
      "cell_type": "markdown",
      "metadata": {
        "id": "ysWBT1WyiChB"
      },
      "source": [
        "# Testing it\n",
        "Use the following code to test your `hyphenate()` function. If everything works, then you should get the following output:\n",
        "```\n",
        "0-14-012499-3\n",
        "0-00-322371-X\n",
        "0-8407-0105-5\n",
        "Invalid\n",
        "Wrong group code\n",
        "```"
      ]
    },
    {
      "cell_type": "code",
      "metadata": {
        "id": "L_o0eQbXoJy9"
      },
      "source": [
        "ISBNS = [\"0140124993\", \"000322371X\", \"0840701055\", \"1844809035\", \"184480903X\"]\n",
        "for ISBN in ISBNS:\n",
        "  print (hyphenate(ISBN))"
      ],
      "execution_count": null,
      "outputs": []
    },
    {
      "cell_type": "markdown",
      "metadata": {
        "id": "Kxur7IuYv0kT"
      },
      "source": [
        "# Filing it\n",
        "To round off the main task it makes sense to be able to extend our program so that it can read a list of ISBNs from a file, validate and hyphenate the valid ones, and save the results to a new file.\n",
        "\n",
        "1. Create either a CSV file or an Excel spreadsheet with a single column containing a number of ISBNs. Try a range of ISBNs with different group and publisher codes. I suggest browsing an online book seller and noting down the ISBNs of some of your favourite books. Once you have a decent list, make some of the ISBNs invalid either by altering the check digit, or altering one or more of the main digits and leaving the check digit alone.\n",
        "2. Add the file to your Google Colab workspace and then read it into a dataframe using either the `DataFrame.read_csv()` or `DataFrame.read_excel()` function as appropriate.\n",
        "3. Create a new list of the results of hyphenating (and validating) the ISBNs.\n",
        "4. Add this new list as a second column to the dataframe.\n",
        "5. Export this new dataframe to a CSV or Excel file using the `DataFrame.to_csv()`() or `DataFrame.to_excel()` function as appropriate. Remember to supply the  `index=False` argument to prevent writing out the column containing the index numbers.\n",
        "6. Open the new file in a spreadsheet program to see what it contains."
      ]
    },
    {
      "cell_type": "markdown",
      "metadata": {
        "id": "X5BYMudqsF1c"
      },
      "source": [
        "# More advanced exercises\n",
        "If you'd like to continue then try out the next two tasks.\n",
        "\n",
        "## Group 1 \n",
        "Now extend your hyphenation function to also allow ISBNs with a group code of 1 to be hyphenated. The rules for this group are slightly different than for group ‘0’ and are given in the following Table:\n",
        "\n",
        "|Group identifier ‘0’ publisher code ranges | If publisher ranges are between |Insert hyphens after|                  \n",
        "|-------------------------------------------|---------------------------------|--------------------|\n",
        "|`00-----------------09` | `00-09`          |1st,\t3rd,  & 9th digits          |\n",
        "|`100---------------399` | `10-39`          |1st,\t4th,  & 9th digits          |\n",
        "|`4000------------54499` | `40-54`          |1st,\t5th,  & 9th digits          |\n",
        "|`55000-----------86979` | `5500-8697`          |1st,\t6th,  & 9th digits          |\n",
        "|`869800---------998999` | `8698-9989`          |1st,\t7th,  & 9th digits          |\n",
        "|`9990000-------9999999` | `9990-9999`          |1st,\t8th,  & 9th digits          |\n",
        "\n",
        "This problem is slightly trickier than the group 0 hyphenation because you are not always just testing the first two digits of the publisher code. Use your solution to the group 0 hyphenation problem as a starting point and then work through the *HTTLAP* strategy to help you arrive at a solution to this problem.\n",
        "\n",
        "## ISBN-13\n",
        "\n",
        "1.   Write a new function `convert()` that takes a valid ISBN-10 and converts it to an ISBN-13. Recall that this mean stripping off the check digit, prefixing the whole thign with `978-` and then calculating a new check digit. The rules for calculating the check digit for an ISBN-13 can be [found here](https://isbn-information.com/check-digit-for-the-13-digit-isbn.html \"ISBN-13 Check Digits\").\n",
        "2.   Revise your hyphenation function to hyphenate both ISBN-10 and ISBN-13 numbers alike. You also then need to update your validation function.\n",
        "\n",
        "\n"
      ]
    }
  ]
}