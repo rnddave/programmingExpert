{
 "cells": [
  {
   "cell_type": "markdown",
   "metadata": {},
   "source": [
    "#Bicycle Gear Ratios\n",
    "This session focuses on *Bicycle Gear Ratios*. We will use some of the techniques covered in earlier sessions to create some data, calculate some results from that data, store the data in a dataframe, and then export the data to a spreadsheet file. \n",
    "\n",
    "You work for an engineering company that has been tasked with helping out a world-class cyclist with the selection of gear wheels on her new bicycle. She needs to know, for each of 10 gears on the bike, how many times she must make one full turn of the pedals in order to travel 1 km. A bicycle’s gear ratio is given as the ratio of the number of teeth on the chain wheel (the one the pedals are connected to) and the number of teeth on the gear wheel (the one attached to the rear wheel). The rear wheel has ten gear wheels all with a different number of teeth. The chain wheel has 36 teeth and the gear wheels have teeth as given in the following table.\n",
    "\n",
    "|Gear Wheel |Number of Teeth|\n",
    "|-----------|---------------|\n",
    "| 1 |\t36 |\n",
    "| 2\t| 34 | \n",
    "| 3\t| 32 | \n",
    "| 4\t| 30 | \n",
    "| 5\t| 28 |\n",
    "| 6\t| 26 |\n",
    "| 7\t| 24 |\n",
    "| 8\t| 22 |\n",
    "| 9\t| 20 |\n",
    "| 10| 18 | \n",
    "\n",
    "Thus, the gear ratio of gear 1 is 1 as the chain wheel $\\div$ gear wheel $=$ 36$\\div$36. The ratio of gear 5 is 1.2857, and so on. The diameter of the wheels on the bike is 27 inches.\n",
    "\n",
    "For more details on how bicycle gear ratios work, check out [this useful page](http://www.pedalsaddle.com/gears-ratios-bicycle/ \"Bike gear ratios\").\n",
    "\n",
    "1. Design an algorithm to calculate the gear ratios of all ten gears.\n",
    "2. Extend your solution to find out how pedal turns are needed to travel 1 km in each gear. You may assume that no freewheeling is allowed. Think about how far the bicycle will travel for each full turn of the pedals. Note, you will need to do some conversion between imperial measurements (the diameter of the wheel) and metric measurements (the distance travelled in km).\n",
    "\n",
    "For task 1 you should construct a list that holds all the tooth numbers and iterate over that list to calculate the required outputs.\n",
    "\n",
    "\n"
   ]
  },
  {
   "cell_type": "markdown",
   "metadata": {},
   "source": [
    "// inital variables\n",
    "list_gears = [1, 2, 3, 4, 5, 6, 7, 8, 9, 10]\n",
    "list_teeth = [36, 34, 32, 30, 28, 26, 24, 22, 20, 18]\n",
    "gear_ratios = [36 / i for i in list_teeth]\n",
    "\n",
    "// circumference of the wheel (84.82)\n",
    "rad = (27/2) \n",
    "circ = 2 * 3.14 * rad\n",
    "\n",
    "// convert the imperial to metric (33.39) \n",
    "met_circ = (circ / 2.54)\n",
    "\n",
    "// how many times does met_circ go into 1km? (29.95) \n",
    "\n",
    "list_1km = [29.95 / i for i in gear_ratios]\n"
   ]
  },
  {
   "cell_type": "code",
   "execution_count": 16,
   "metadata": {},
   "outputs": [
    {
     "name": "stdout",
     "output_type": "stream",
     "text": [
      "[1.0, 1.0588235294117647, 1.125, 1.2, 1.2857142857142858, 1.3846153846153846, 1.5, 1.6363636363636365, 1.8, 2.0]\n"
     ]
    }
   ],
   "source": [
    "list_gears = [1, 2, 3, 4, 5, 6, 7, 8, 9, 10]\n",
    "list_teeth = [36, 34, 32, 30, 28, 26, 24, 22, 20, 18]\n",
    "gear_ratios = [36 / i for i in list_teeth]\n",
    "print(gear_ratios)\n"
   ]
  },
  {
   "cell_type": "code",
   "execution_count": 24,
   "metadata": {},
   "outputs": [
    {
     "name": "stdout",
     "output_type": "stream",
     "text": [
      "[33.39, 35.35411764705882, 37.56375, 40.068, 42.93000000000001, 46.23230769230769, 50.085, 54.63818181818182, 60.102000000000004, 66.78]\n"
     ]
    }
   ],
   "source": [
    "per_rotation = [i * 33.39 for i in gear_ratios]\n",
    "print(per_rotation)"
   ]
  },
  {
   "cell_type": "code",
   "execution_count": 25,
   "metadata": {},
   "outputs": [
    {
     "name": "stdout",
     "output_type": "stream",
     "text": [
      "[29.949086552860138, 28.285248411034576, 26.62141026920901, 24.95757212738345, 23.293733985557882, 21.62989584373232, 19.96605770190676, 18.302219560081195, 16.63838141825563, 14.974543276430069]\n"
     ]
    }
   ],
   "source": [
    "rotations_per_km = [1000 / i for i in per_rotation]\n",
    "print(rotations_per_km)"
   ]
  },
  {
   "cell_type": "markdown",
   "metadata": {},
   "source": [
    "now we need to add it all to a dataframe\n",
    "\n",
    "> df['Column name'] = list where Column name is the name we want to give to the column, and list is the name of a list variable."
   ]
  },
  {
   "cell_type": "code",
   "execution_count": 29,
   "metadata": {},
   "outputs": [],
   "source": [
    "import pandas as pd \n",
    "\n",
    "df = pd.DataFrame()"
   ]
  },
  {
   "cell_type": "code",
   "execution_count": 30,
   "metadata": {},
   "outputs": [
    {
     "name": "stdout",
     "output_type": "stream",
     "text": [
      "   Gears  Teeth    Ratios  Per Rotation  Rotations per KM\n",
      "0      1     36  1.000000     33.390000         29.949087\n",
      "1      2     34  1.058824     35.354118         28.285248\n",
      "2      3     32  1.125000     37.563750         26.621410\n",
      "3      4     30  1.200000     40.068000         24.957572\n",
      "4      5     28  1.285714     42.930000         23.293734\n",
      "5      6     26  1.384615     46.232308         21.629896\n",
      "6      7     24  1.500000     50.085000         19.966058\n",
      "7      8     22  1.636364     54.638182         18.302220\n",
      "8      9     20  1.800000     60.102000         16.638381\n",
      "9     10     18  2.000000     66.780000         14.974543\n"
     ]
    }
   ],
   "source": [
    "df['Gears'] = list_gears\n",
    "df['Teeth'] = list_teeth\n",
    "df['Ratios'] = gear_ratios\n",
    "df['Per Rotation'] = per_rotation\n",
    "df['Rotations per KM'] = rotations_per_km\n",
    "\n",
    "print(df)"
   ]
  },
  {
   "cell_type": "markdown",
   "metadata": {},
   "source": [
    "save it to a csv"
   ]
  },
  {
   "cell_type": "code",
   "execution_count": 31,
   "metadata": {},
   "outputs": [],
   "source": [
    "df.to_csv('gears_to_km.csv')"
   ]
  },
  {
   "cell_type": "markdown",
   "metadata": {},
   "source": [
    "Removing the index column\n",
    "If you download the files you created and open them up in a spreadsheet program you will find that the index values (0..9) have been stored in the first column. If you don't want those values in your spreadsheet, you can add the argument index=False to the to_csv() and to_excel() function calls:\n",
    "\n",
    "df.to_excel(\"path\\file_name.xlsx\", index=False)"
   ]
  }
 ],
 "metadata": {
  "kernelspec": {
   "display_name": "Python 3.9.13 ('base')",
   "language": "python",
   "name": "python3"
  },
  "language_info": {
   "codemirror_mode": {
    "name": "ipython",
    "version": 3
   },
   "file_extension": ".py",
   "mimetype": "text/x-python",
   "name": "python",
   "nbconvert_exporter": "python",
   "pygments_lexer": "ipython3",
   "version": "3.9.13"
  },
  "orig_nbformat": 4,
  "vscode": {
   "interpreter": {
    "hash": "29ba88fc74c30cfb08fb6ce3b25c2ccd724cd11e96a643650e6c772fb9859a2d"
   }
  }
 },
 "nbformat": 4,
 "nbformat_minor": 2
}
