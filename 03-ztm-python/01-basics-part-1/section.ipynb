{
 "cells": [
  {
   "attachments": {},
   "cell_type": "markdown",
   "metadata": {},
   "source": [
    "# bin() and complex\n",
    "\n",
    "complex numbers = real numbers (very rare to need in real world python coding)\n",
    "\n",
    "bin() = binary representation of an integer\n",
    "\n",
    "```0b101011``` the *0b* = binary"
   ]
  },
  {
   "cell_type": "code",
   "execution_count": 1,
   "metadata": {},
   "outputs": [
    {
     "name": "stdout",
     "output_type": "stream",
     "text": [
      "0b101011\n"
     ]
    }
   ],
   "source": [
    "print(bin(43))"
   ]
  },
  {
   "attachments": {},
   "cell_type": "markdown",
   "metadata": {},
   "source": [
    "but converting the other way..."
   ]
  },
  {
   "cell_type": "code",
   "execution_count": 2,
   "metadata": {},
   "outputs": [
    {
     "name": "stdout",
     "output_type": "stream",
     "text": [
      "43\n"
     ]
    }
   ],
   "source": [
    "print(int(0b101011))"
   ]
  },
  {
   "attachments": {},
   "cell_type": "markdown",
   "metadata": {},
   "source": [
    "# Expression vs Statement\n",
    "\n",
    "**Statement** = a line of code\n",
    "\n",
    "*user_age = iq / 5*\n",
    "\n",
    "expression = the code that produces a value\n",
    "\n",
    "user_age = *iq / 5*"
   ]
  },
  {
   "cell_type": "code",
   "execution_count": null,
   "metadata": {},
   "outputs": [],
   "source": []
  },
  {
   "attachments": {},
   "cell_type": "markdown",
   "metadata": {},
   "source": [
    "# Augmented Assignment Operator\n",
    "\n",
    "instead of writing \n",
    "\n",
    "value = 5\n",
    "value = value + 2\n",
    "\n",
    "you could just write *value += 2* (also works for - and * etc)"
   ]
  },
  {
   "attachments": {},
   "cell_type": "markdown",
   "metadata": {},
   "source": [
    "# formatted strings\n",
    "\n",
    "The python 3 way"
   ]
  },
  {
   "cell_type": "code",
   "execution_count": 2,
   "metadata": {},
   "outputs": [
    {
     "name": "stdout",
     "output_type": "stream",
     "text": [
      "hello david, you are 43\n"
     ]
    }
   ],
   "source": [
    "name = 'david'\n",
    "age = 43\n",
    "\n",
    "print(f'hello {name}, you are {age}')"
   ]
  },
  {
   "attachments": {},
   "cell_type": "markdown",
   "metadata": {},
   "source": [
    "but there was a python 2 way as well, surprisningly... "
   ]
  },
  {
   "cell_type": "code",
   "execution_count": 4,
   "metadata": {},
   "outputs": [
    {
     "name": "stdout",
     "output_type": "stream",
     "text": [
      "hello david, you are 43\n"
     ]
    }
   ],
   "source": [
    "print('hello {}, you are {}'.format(name, age))"
   ]
  },
  {
   "attachments": {},
   "cell_type": "markdown",
   "metadata": {},
   "source": [
    "this automatically enters variables in correct order, but if you need to control the order, you can use number references, as follows (this example will put age in place of name)"
   ]
  },
  {
   "cell_type": "code",
   "execution_count": 3,
   "metadata": {},
   "outputs": [
    {
     "name": "stdout",
     "output_type": "stream",
     "text": [
      "hello 43, you are david\n"
     ]
    }
   ],
   "source": [
    "print('hello {1}, you are {0}'.format(name, age))\n",
    "\n",
    "# hello 43, you are david"
   ]
  },
  {
   "attachments": {},
   "cell_type": "markdown",
   "metadata": {},
   "source": [
    "# Strings\n",
    "\n",
    "Strings are like arrays or characters (ish) \n",
    "\n",
    "To go through a string, we can use its index\n",
    "\n",
    "string[1]\n",
    "\n",
    "when we have these square brackets we can slice the string like so\n",
    "\n",
    "string[start:stop:stepover]\n",
    "\n",
    "so every other letter would be\n",
    "\n",
    "print(string[:2:])"
   ]
  },
  {
   "cell_type": "code",
   "execution_count": 12,
   "metadata": {},
   "outputs": [
    {
     "name": "stdout",
     "output_type": "stream",
     "text": [
      "!gnirts ym si sihT\n"
     ]
    }
   ],
   "source": [
    "# lets go backwards through a string\n",
    "myString = 'This is my string!'\n",
    "\n",
    "print(myString[::-1]) # !gnirts ym si sihT"
   ]
  },
  {
   "cell_type": "code",
   "execution_count": 13,
   "metadata": {},
   "outputs": [
    {
     "name": "stdout",
     "output_type": "stream",
     "text": [
      "Ti sm tig\n"
     ]
    }
   ],
   "source": [
    "# every other character \n",
    "print(myString[::2]) # Ti sm tig\n"
   ]
  },
  {
   "attachments": {},
   "cell_type": "markdown",
   "metadata": {},
   "source": [
    "# Immutability \n",
    "\n",
    "strings are immutable - that is to say, we can change the whole string, but cannot replace single characters within the string. \n",
    "\n",
    "example \n",
    "```\n",
    "theString = 'dingDong' \n",
    "theString = 'DongDing' \n",
    "```\n",
    "this works,\n",
    "but we cannot update just the single character like so: \n",
    "\n",
    "``` \n",
    "theString = 'dingDong'\n",
    "theString[0] = 'D'\n",
    "```\n",
    "\n",
    "this would fail as cannot just replace a single character, you have to instead replace the entire string. "
   ]
  },
  {
   "attachments": {},
   "cell_type": "markdown",
   "metadata": {},
   "source": [
    "[https://docs.python.org/3/library/functions.html](python built-in functions)\n",
    "\n",
    "[https://www.w3schools.com/python/python_ref_string.asp](python built-in methods)"
   ]
  },
  {
   "attachments": {},
   "cell_type": "markdown",
   "metadata": {},
   "source": [
    "some string methods in action"
   ]
  },
  {
   "cell_type": "code",
   "execution_count": 15,
   "metadata": {},
   "outputs": [
    {
     "name": "stdout",
     "output_type": "stream",
     "text": [
      "TO BE OR. NOT TO BE\n",
      "To be or. not to be\n"
     ]
    }
   ],
   "source": [
    "shakespearQuote = 'to be or not to be'\n",
    "\n",
    "print(shakespearQuote.upper()) #TO BE OR NOT TO BE\n",
    "print(shakespearQuote.capitalize()) #TO BE OR NOT TO BE"
   ]
  },
  {
   "cell_type": "code",
   "execution_count": 17,
   "metadata": {},
   "outputs": [
    {
     "name": "stdout",
     "output_type": "stream",
     "text": [
      "3\n",
      "to me or. not to me\n",
      "to be or. not to be\n"
     ]
    }
   ],
   "source": [
    "print(shakespearQuote.find('b')) # 3\n",
    "\n",
    "# this is a tricky one... \n",
    "\n",
    "print(shakespearQuote.replace('be', 'me')) #to me or. not to me\n",
    "print(shakespearQuote) #to be or. not to be\n",
    "\n",
    "# remember strings are immutable, so the print is just a temp thing, the original string remains untouched"
   ]
  },
  {
   "attachments": {},
   "cell_type": "markdown",
   "metadata": {},
   "source": [
    "# boolean"
   ]
  },
  {
   "cell_type": "code",
   "execution_count": 20,
   "metadata": {},
   "outputs": [
    {
     "name": "stdout",
     "output_type": "stream",
     "text": [
      "False\n"
     ]
    }
   ],
   "source": [
    "areYouCool = False\n",
    "\n",
    "print(areYouCool) #false"
   ]
  },
  {
   "attachments": {},
   "cell_type": "markdown",
   "metadata": {},
   "source": [
    "# commenting\n",
    "\n",
    "best practices >> https://realpython.com/python-comments-guide/\n",
    "\n"
   ]
  },
  {
   "attachments": {},
   "cell_type": "markdown",
   "metadata": {},
   "source": []
  }
 ],
 "metadata": {
  "kernelspec": {
   "display_name": "Python 3",
   "language": "python",
   "name": "python3"
  },
  "language_info": {
   "codemirror_mode": {
    "name": "ipython",
    "version": 3
   },
   "file_extension": ".py",
   "mimetype": "text/x-python",
   "name": "python",
   "nbconvert_exporter": "python",
   "pygments_lexer": "ipython3",
   "version": "3.9.13"
  },
  "orig_nbformat": 4
 },
 "nbformat": 4,
 "nbformat_minor": 2
}
